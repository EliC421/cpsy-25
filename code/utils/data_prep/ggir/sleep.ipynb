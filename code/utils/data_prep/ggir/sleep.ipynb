{
 "cells": [
  {
   "cell_type": "code",
   "execution_count": 1,
   "metadata": {},
   "outputs": [],
   "source": [
    "import pandas as pd\n",
    "import matplotlib.pyplot as plt\n",
    "import seaborn as sns"
   ]
  },
  {
   "cell_type": "code",
   "execution_count": 2,
   "metadata": {},
   "outputs": [
    {
     "data": {
      "application/vnd.microsoft.datawrangler.viewer.v0+json": {
       "columns": [
        {
         "name": "index",
         "rawType": "int64",
         "type": "integer"
        },
        {
         "name": "subject_id",
         "rawType": "object",
         "type": "string"
        },
        {
         "name": "sleep_efficiency_pla",
         "rawType": "float64",
         "type": "float"
        },
        {
         "name": "sleep_efficiency_wei",
         "rawType": "float64",
         "type": "float"
        }
       ],
       "conversionMethod": "pd.DataFrame",
       "ref": "6bdf01bc-ebf3-4313-b24e-1569db9173e6",
       "rows": [
        [
         "0",
         "better_sub-GE120001",
         "0.846",
         "0.846"
        ],
        [
         "1",
         "better_sub-GE120002",
         "0.885",
         "0.885"
        ],
        [
         "2",
         "better_sub-GE120003",
         "0.859",
         "0.859"
        ],
        [
         "3",
         "better_sub-GE120004",
         "0.858",
         "0.858"
        ],
        [
         "4",
         "better_sub-GE120005",
         "0.891",
         "0.891"
        ],
        [
         "5",
         "better_sub-GE120006",
         "0.829",
         "0.829"
        ],
        [
         "6",
         "better_sub-GE120008",
         "0.843",
         "0.843"
        ],
        [
         "7",
         "better_sub-GE120010",
         "0.905",
         "0.905"
        ],
        [
         "8",
         "better_sub-GE120011",
         "0.921",
         "0.921"
        ],
        [
         "9",
         "better_sub-GE120012",
         "0.819",
         "0.819"
        ],
        [
         "10",
         "better_sub-GE120013",
         "0.91",
         "0.91"
        ],
        [
         "11",
         "better_sub-GE120014",
         "0.892",
         "0.892"
        ],
        [
         "12",
         "better_sub-GE120015",
         "0.789",
         "0.789"
        ],
        [
         "13",
         "better_sub-GE120017",
         "0.92",
         "0.92"
        ],
        [
         "14",
         "better_sub-GE120018",
         "0.875",
         "0.876"
        ],
        [
         "15",
         "better_sub-GE120019",
         "0.828",
         "0.815"
        ],
        [
         "16",
         "better_sub-GE120020",
         "0.817",
         "0.817"
        ],
        [
         "17",
         "better_sub-GE120021",
         "0.803",
         "0.803"
        ],
        [
         "18",
         "better_sub-GE120023",
         "0.876",
         "0.876"
        ],
        [
         "19",
         "better_sub-GE120024",
         "0.909",
         "0.909"
        ],
        [
         "20",
         "better_sub-GE120025",
         "0.855",
         "0.855"
        ],
        [
         "21",
         "better_sub-GE120026",
         "0.814",
         "0.814"
        ],
        [
         "22",
         "better_sub-GE120027",
         "0.604",
         "0.604"
        ],
        [
         "23",
         "better_sub-GE120028",
         "0.858",
         "0.858"
        ],
        [
         "24",
         "better_sub-GE120029",
         "0.821",
         "0.821"
        ],
        [
         "25",
         "better_sub-GE120030",
         "0.853",
         "0.853"
        ],
        [
         "26",
         "better_sub-GE120031",
         "0.715",
         "0.715"
        ],
        [
         "27",
         "better_sub-GE120032",
         "0.84",
         "0.84"
        ],
        [
         "28",
         "better_sub-GE120033",
         "0.0",
         "0.0"
        ],
        [
         "29",
         "better_sub-GE120034",
         "0.673",
         "0.673"
        ],
        [
         "30",
         "better_sub-GE120035",
         "0.911",
         "0.911"
        ],
        [
         "31",
         "better_sub-GE120036",
         "0.876",
         "0.876"
        ],
        [
         "32",
         "better_sub-GE120038",
         "0.818",
         "0.818"
        ],
        [
         "33",
         "better_sub-GE120039",
         "0.448",
         "0.472"
        ],
        [
         "34",
         "better_sub-GE120040",
         "0.777",
         "0.777"
        ],
        [
         "35",
         "better_sub-GE120041",
         "0.771",
         "0.76"
        ],
        [
         "36",
         "better_sub-GE120042",
         "0.916",
         "0.916"
        ],
        [
         "37",
         "better_sub-GE120043",
         "0.793",
         "0.793"
        ],
        [
         "38",
         "better_sub-GE120044",
         "0.916",
         "0.916"
        ],
        [
         "39",
         "better_sub-GE120045",
         "0.877",
         "0.877"
        ],
        [
         "40",
         "better_sub-GE120047",
         "0.895",
         "0.895"
        ],
        [
         "41",
         "better_sub-GE120050",
         "0.936",
         "0.935"
        ],
        [
         "42",
         "better_sub-GE120052",
         "0.862",
         "0.862"
        ],
        [
         "43",
         "better_sub-GE120053",
         "0.861",
         "0.861"
        ],
        [
         "44",
         "better_sub-GE120054",
         "0.898",
         "0.898"
        ],
        [
         "45",
         "better_sub-GE120055",
         "0.867",
         "0.867"
        ],
        [
         "46",
         "better_sub-GE120057",
         "0.888",
         "0.888"
        ],
        [
         "47",
         "better_sub-GE120058",
         "0.896",
         "0.896"
        ],
        [
         "48",
         "better_sub-GE120061",
         "0.71",
         "0.71"
        ],
        [
         "49",
         "better_sub-GE120062",
         "0.873",
         "0.875"
        ]
       ],
       "shape": {
        "columns": 3,
        "rows": 252
       }
      },
      "text/html": [
       "<div>\n",
       "<style scoped>\n",
       "    .dataframe tbody tr th:only-of-type {\n",
       "        vertical-align: middle;\n",
       "    }\n",
       "\n",
       "    .dataframe tbody tr th {\n",
       "        vertical-align: top;\n",
       "    }\n",
       "\n",
       "    .dataframe thead th {\n",
       "        text-align: right;\n",
       "    }\n",
       "</style>\n",
       "<table border=\"1\" class=\"dataframe\">\n",
       "  <thead>\n",
       "    <tr style=\"text-align: right;\">\n",
       "      <th></th>\n",
       "      <th>subject_id</th>\n",
       "      <th>sleep_efficiency_pla</th>\n",
       "      <th>sleep_efficiency_wei</th>\n",
       "    </tr>\n",
       "  </thead>\n",
       "  <tbody>\n",
       "    <tr>\n",
       "      <th>0</th>\n",
       "      <td>better_sub-GE120001</td>\n",
       "      <td>0.846</td>\n",
       "      <td>0.846</td>\n",
       "    </tr>\n",
       "    <tr>\n",
       "      <th>1</th>\n",
       "      <td>better_sub-GE120002</td>\n",
       "      <td>0.885</td>\n",
       "      <td>0.885</td>\n",
       "    </tr>\n",
       "    <tr>\n",
       "      <th>2</th>\n",
       "      <td>better_sub-GE120003</td>\n",
       "      <td>0.859</td>\n",
       "      <td>0.859</td>\n",
       "    </tr>\n",
       "    <tr>\n",
       "      <th>3</th>\n",
       "      <td>better_sub-GE120004</td>\n",
       "      <td>0.858</td>\n",
       "      <td>0.858</td>\n",
       "    </tr>\n",
       "    <tr>\n",
       "      <th>4</th>\n",
       "      <td>better_sub-GE120005</td>\n",
       "      <td>0.891</td>\n",
       "      <td>0.891</td>\n",
       "    </tr>\n",
       "    <tr>\n",
       "      <th>...</th>\n",
       "      <td>...</td>\n",
       "      <td>...</td>\n",
       "      <td>...</td>\n",
       "    </tr>\n",
       "    <tr>\n",
       "      <th>247</th>\n",
       "      <td>pacrd_sub-87</td>\n",
       "      <td>0.934</td>\n",
       "      <td>0.928</td>\n",
       "    </tr>\n",
       "    <tr>\n",
       "      <th>248</th>\n",
       "      <td>pacrd_sub-89</td>\n",
       "      <td>0.922</td>\n",
       "      <td>0.923</td>\n",
       "    </tr>\n",
       "    <tr>\n",
       "      <th>249</th>\n",
       "      <td>pacrd_sub-9</td>\n",
       "      <td>0.840</td>\n",
       "      <td>0.840</td>\n",
       "    </tr>\n",
       "    <tr>\n",
       "      <th>250</th>\n",
       "      <td>pacrd_sub-92</td>\n",
       "      <td>0.916</td>\n",
       "      <td>0.916</td>\n",
       "    </tr>\n",
       "    <tr>\n",
       "      <th>251</th>\n",
       "      <td>pacrd_sub-98</td>\n",
       "      <td>0.938</td>\n",
       "      <td>0.938</td>\n",
       "    </tr>\n",
       "  </tbody>\n",
       "</table>\n",
       "<p>252 rows × 3 columns</p>\n",
       "</div>"
      ],
      "text/plain": [
       "              subject_id  sleep_efficiency_pla  sleep_efficiency_wei\n",
       "0    better_sub-GE120001                 0.846                 0.846\n",
       "1    better_sub-GE120002                 0.885                 0.885\n",
       "2    better_sub-GE120003                 0.859                 0.859\n",
       "3    better_sub-GE120004                 0.858                 0.858\n",
       "4    better_sub-GE120005                 0.891                 0.891\n",
       "..                   ...                   ...                   ...\n",
       "247         pacrd_sub-87                 0.934                 0.928\n",
       "248         pacrd_sub-89                 0.922                 0.923\n",
       "249          pacrd_sub-9                 0.840                 0.840\n",
       "250         pacrd_sub-92                 0.916                 0.916\n",
       "251         pacrd_sub-98                 0.938                 0.938\n",
       "\n",
       "[252 rows x 3 columns]"
      ]
     },
     "execution_count": 2,
     "metadata": {},
     "output_type": "execute_result"
    }
   ],
   "source": [
    "df = pd.read_csv('sleep.csv')\n",
    "df"
   ]
  },
  {
   "cell_type": "code",
   "execution_count": 4,
   "metadata": {},
   "outputs": [
    {
     "data": {
      "image/png": "[encoded data removed]",
      "text/plain": [
       "<Figure size 720x432 with 1 Axes>"
      ]
     },
     "metadata": {
      "needs_background": "light"
     },
     "output_type": "display_data"
    },
    {
     "data": {
      "image/png": "[encoded data removed]",
      "text/plain": [
       "<Figure size 720x432 with 1 Axes>"
      ]
     },
     "metadata": {
      "needs_background": "light"
     },
     "output_type": "display_data"
    }
   ],
   "source": [
    "# plot histplot of each sleep metric\n",
    "metrics = ['sleep_efficiency_pla', 'sleep_efficiency_wei']\n",
    "for metric in metrics:\n",
    "    plt.figure(figsize=(10, 6))\n",
    "    sns.histplot(df[metric].dropna(), bins=30, kde=True)\n",
    "    plt.title(f'Histogram of {metric}')\n",
    "    plt.xlabel(metric)\n",
    "    plt.ylabel('Frequency')\n",
    "    plt.grid(True)\n",
    "    plt.show()\n",
    "\n"
   ]
  },
  {
   "cell_type": "code",
   "execution_count": null,
   "metadata": {},
   "outputs": [],
   "source": []
  }
 ],
 "metadata": {
  "kernelspec": {
   "display_name": "Python 3",
   "language": "python",
   "name": "python3"
  },
  "language_info": {
   "codemirror_mode": {
    "name": "ipython",
    "version": 3
   },
   "file_extension": ".py",
   "mimetype": "text/x-python",
   "name": "python",
   "nbconvert_exporter": "python",
   "pygments_lexer": "ipython3",
   "version": "3.8.13"
  }
 },
 "nbformat": 4,
 "nbformat_minor": 2
}
