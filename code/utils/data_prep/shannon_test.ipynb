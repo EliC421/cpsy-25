{
 "cells": [
  {
   "cell_type": "code",
   "execution_count": 22,
   "metadata": {},
   "outputs": [],
   "source": [
    "import os\n",
    "import glob\n",
    "import pandas as pd\n",
    "import numpy as np\n",
    "from scipy.stats import entropy\n",
    "import matplotlib.pyplot as plt\n"
   ]
  },
  {
   "cell_type": "code",
   "execution_count": 23,
   "metadata": {},
   "outputs": [],
   "source": [
    "def compute_shannon_entropy(values, bins=10, epsilon=1e-10):\n",
    "    \"\"\"\n",
    "    Compute Shannon entropy for a set of values by binning them.\n",
    "    Adds a tiny constant (epsilon) to every bin to preserve zeros (which may represent sleep).\n",
    "    \"\"\"\n",
    "    counts, _ = np.histogram(values, bins=bins)\n",
    "    # Add epsilon to each bin count so that 0's become epsilon\n",
    "    counts = counts + epsilon\n",
    "    total = counts.sum()\n",
    "    if total > 0:\n",
    "        probabilities = counts / total\n",
    "        # (No need to filter zeros since we replaced them)\n",
    "        return entropy(probabilities, base=2)\n",
    "    else:\n",
    "        return np.nan\n"
   ]
  },
  {
   "cell_type": "code",
   "execution_count": 24,
   "metadata": {},
   "outputs": [
    {
     "data": {
      "text/plain": [
       "'df = pd.read_csv(\"\\\\\\\\itf-rs-store24.hpc.uiowa.edu\\\\vosslabhpc\\\\symposia\\\\cpsy-25\\\\temp\\\\GGIR\\\\sub-11\\\\output_sub-207\\\\meta\\\\csv\\\\207_(2015-07-08)RAW.csv.RData.csv\")\\n\\n# Convert the \\'timestamp\\' column to datetime and create a \\'date\\' column (floored to midnight)\\ndf[\\'timestamp\\'] = pd.to_datetime(df[\\'timestamp\\'], utc=True)\\ndf[\\'date\\'] = df[\\'timestamp\\'].dt.floor(\\'D\\')\\n\\n# Optional: inspect the unique dates to ensure the splicing is correct.\\nprint(\"Unique dates in the data:\", df[\\'date\\'].unique())\\n\\n# Aggregate ENMO for each day by computing daily Shannon entropy\\ndaily_entropy = df.groupby(\\'date\\').apply(\\n    lambda group: pd.Series({\\n        \\'time_interval\\': f\"{group.name} to {group.name + pd.Timedelta(days=1)}\",\\n        \\'shannon_entropy\\': compute_shannon_entropy(group[\\'ENMO\\'], bins=10)\\n    })\\n).reset_index()\\n\\nprint(\"Daily summary:\")\\nprint(daily_entropy)\\n'"
      ]
     },
     "execution_count": 24,
     "metadata": {},
     "output_type": "execute_result"
    }
   ],
   "source": [
    "# Read one subject's CSV file (for testing)\n",
    "'''df = pd.read_csv(\"\\\\\\\\itf-rs-store24.hpc.uiowa.edu\\\\vosslabhpc\\\\symposia\\\\cpsy-25\\\\temp\\\\GGIR\\\\sub-11\\\\output_sub-207\\\\meta\\\\csv\\\\207_(2015-07-08)RAW.csv.RData.csv\")\n",
    "\n",
    "# Convert the 'timestamp' column to datetime and create a 'date' column (floored to midnight)\n",
    "df['timestamp'] = pd.to_datetime(df['timestamp'], utc=True)\n",
    "df['date'] = df['timestamp'].dt.floor('D')\n",
    "\n",
    "# Optional: inspect the unique dates to ensure the splicing is correct.\n",
    "print(\"Unique dates in the data:\", df['date'].unique())\n",
    "\n",
    "# Aggregate ENMO for each day by computing daily Shannon entropy\n",
    "daily_entropy = df.groupby('date').apply(\n",
    "    lambda group: pd.Series({\n",
    "        'time_interval': f\"{group.name} to {group.name + pd.Timedelta(days=1)}\",\n",
    "        'shannon_entropy': compute_shannon_entropy(group['ENMO'], bins=10)\n",
    "    })\n",
    ").reset_index()\n",
    "\n",
    "print(\"Daily summary:\")\n",
    "print(daily_entropy)\n",
    "'''"
   ]
  },
  {
   "cell_type": "code",
   "execution_count": 25,
   "metadata": {},
   "outputs": [
    {
     "data": {
      "text/plain": [
       "'# Use the daily entropy values to compute meta entropy for this subject\\nn_bins = min(10, len(daily_entropy))\\nsubject_meta_entropy = compute_shannon_entropy(daily_entropy[\\'shannon_entropy\\'], bins=n_bins)\\n\\nprint(\"Subject Meta Entropy:\", subject_meta_entropy)'"
      ]
     },
     "execution_count": 25,
     "metadata": {},
     "output_type": "execute_result"
    }
   ],
   "source": [
    "'''# Use the daily entropy values to compute meta entropy for this subject\n",
    "n_bins = min(10, len(daily_entropy))\n",
    "subject_meta_entropy = compute_shannon_entropy(daily_entropy['shannon_entropy'], bins=n_bins)\n",
    "\n",
    "print(\"Subject Meta Entropy:\", subject_meta_entropy)'''\n"
   ]
  },
  {
   "cell_type": "code",
   "execution_count": 26,
   "metadata": {},
   "outputs": [
    {
     "name": "stdout",
     "output_type": "stream",
     "text": [
      "EXTEND files found: 124\n",
      "Processing EXTEND file: /Volumes/vosslabhpc/Projects/BikeExtend/3-Experiment/2-Data/BIDS/derivatives/GGIR_2.8.2/sub-2450/ses-accel1/beh/output_beh/meta/csv/sub-2450_ses-accel1_accel.csv.RData.csv\n"
     ]
    },
    {
     "name": "stderr",
     "output_type": "stream",
     "text": [
      "/var/folders/1w/l9hx8l952r57k_qmjhw7qc500000gn/T/ipykernel_52453/2342787335.py:87: DeprecationWarning: DataFrameGroupBy.apply operated on the grouping columns. This behavior is deprecated, and in a future version of pandas the grouping columns will be excluded from the operation. Either pass `include_groups=False` to exclude the groupings or explicitly select the grouping columns after groupby to silence this warning.\n",
      "  daily_summary = df.groupby('date', group_keys=False).apply(\n"
     ]
    },
    {
     "name": "stdout",
     "output_type": "stream",
     "text": [
      "Processing EXTEND file: /Volumes/vosslabhpc/Projects/BikeExtend/3-Experiment/2-Data/BIDS/derivatives/GGIR_2.8.2/sub-2557/ses-accel1/beh/output_beh/meta/csv/sub-2557_ses-accel1_accel.csv.RData.csv\n"
     ]
    },
    {
     "name": "stderr",
     "output_type": "stream",
     "text": [
      "/var/folders/1w/l9hx8l952r57k_qmjhw7qc500000gn/T/ipykernel_52453/2342787335.py:87: DeprecationWarning: DataFrameGroupBy.apply operated on the grouping columns. This behavior is deprecated, and in a future version of pandas the grouping columns will be excluded from the operation. Either pass `include_groups=False` to exclude the groupings or explicitly select the grouping columns after groupby to silence this warning.\n",
      "  daily_summary = df.groupby('date', group_keys=False).apply(\n"
     ]
    },
    {
     "name": "stdout",
     "output_type": "stream",
     "text": [
      "Processing EXTEND file: /Volumes/vosslabhpc/Projects/BikeExtend/3-Experiment/2-Data/BIDS/derivatives/GGIR_2.8.2/sub-2167/ses-accel1/beh/output_beh/meta/csv/sub-2167_ses-accel1_accel.csv.RData.csv\n"
     ]
    },
    {
     "name": "stderr",
     "output_type": "stream",
     "text": [
      "/var/folders/1w/l9hx8l952r57k_qmjhw7qc500000gn/T/ipykernel_52453/2342787335.py:87: DeprecationWarning: DataFrameGroupBy.apply operated on the grouping columns. This behavior is deprecated, and in a future version of pandas the grouping columns will be excluded from the operation. Either pass `include_groups=False` to exclude the groupings or explicitly select the grouping columns after groupby to silence this warning.\n",
      "  daily_summary = df.groupby('date', group_keys=False).apply(\n"
     ]
    },
    {
     "name": "stdout",
     "output_type": "stream",
     "text": [
      "Processing EXTEND file: /Volumes/vosslabhpc/Projects/BikeExtend/3-Experiment/2-Data/BIDS/derivatives/GGIR_2.8.2/sub-2219/ses-accel1/beh/output_beh/meta/csv/sub-2219_ses-accel1_accel.csv.RData.csv\n"
     ]
    },
    {
     "name": "stderr",
     "output_type": "stream",
     "text": [
      "/var/folders/1w/l9hx8l952r57k_qmjhw7qc500000gn/T/ipykernel_52453/2342787335.py:87: DeprecationWarning: DataFrameGroupBy.apply operated on the grouping columns. This behavior is deprecated, and in a future version of pandas the grouping columns will be excluded from the operation. Either pass `include_groups=False` to exclude the groupings or explicitly select the grouping columns after groupby to silence this warning.\n",
      "  daily_summary = df.groupby('date', group_keys=False).apply(\n"
     ]
    },
    {
     "name": "stdout",
     "output_type": "stream",
     "text": [
      "Processing EXTEND file: /Volumes/vosslabhpc/Projects/BikeExtend/3-Experiment/2-Data/BIDS/derivatives/GGIR_2.8.2/sub-2314/ses-accel1/beh/output_beh/meta/csv/sub-2314_ses-accel1_accel.csv.RData.csv\n"
     ]
    },
    {
     "name": "stderr",
     "output_type": "stream",
     "text": [
      "/var/folders/1w/l9hx8l952r57k_qmjhw7qc500000gn/T/ipykernel_52453/2342787335.py:87: DeprecationWarning: DataFrameGroupBy.apply operated on the grouping columns. This behavior is deprecated, and in a future version of pandas the grouping columns will be excluded from the operation. Either pass `include_groups=False` to exclude the groupings or explicitly select the grouping columns after groupby to silence this warning.\n",
      "  daily_summary = df.groupby('date', group_keys=False).apply(\n"
     ]
    },
    {
     "name": "stdout",
     "output_type": "stream",
     "text": [
      "Processing EXTEND file: /Volumes/vosslabhpc/Projects/BikeExtend/3-Experiment/2-Data/BIDS/derivatives/GGIR_2.8.2/sub-2122/ses-accel1/beh/output_beh/meta/csv/sub-2122_ses-accel1_accel.csv.RData.csv\n"
     ]
    },
    {
     "name": "stderr",
     "output_type": "stream",
     "text": [
      "/var/folders/1w/l9hx8l952r57k_qmjhw7qc500000gn/T/ipykernel_52453/2342787335.py:87: DeprecationWarning: DataFrameGroupBy.apply operated on the grouping columns. This behavior is deprecated, and in a future version of pandas the grouping columns will be excluded from the operation. Either pass `include_groups=False` to exclude the groupings or explicitly select the grouping columns after groupby to silence this warning.\n",
      "  daily_summary = df.groupby('date', group_keys=False).apply(\n"
     ]
    },
    {
     "name": "stdout",
     "output_type": "stream",
     "text": [
      "Processing EXTEND file: /Volumes/vosslabhpc/Projects/BikeExtend/3-Experiment/2-Data/BIDS/derivatives/GGIR_2.8.2/sub-2103/ses-accel1/beh/output_beh/meta/csv/sub-2103_ses-accel1_accel.csv.RData.csv\n"
     ]
    },
    {
     "name": "stderr",
     "output_type": "stream",
     "text": [
      "/var/folders/1w/l9hx8l952r57k_qmjhw7qc500000gn/T/ipykernel_52453/2342787335.py:87: DeprecationWarning: DataFrameGroupBy.apply operated on the grouping columns. This behavior is deprecated, and in a future version of pandas the grouping columns will be excluded from the operation. Either pass `include_groups=False` to exclude the groupings or explicitly select the grouping columns after groupby to silence this warning.\n",
      "  daily_summary = df.groupby('date', group_keys=False).apply(\n"
     ]
    },
    {
     "name": "stdout",
     "output_type": "stream",
     "text": [
      "Processing EXTEND file: /Volumes/vosslabhpc/Projects/BikeExtend/3-Experiment/2-Data/BIDS/derivatives/GGIR_2.8.2/sub-2307/ses-accel1/beh/output_beh/meta/csv/sub-2307_ses-accel1_accel.csv.RData.csv\n"
     ]
    },
    {
     "name": "stderr",
     "output_type": "stream",
     "text": [
      "/var/folders/1w/l9hx8l952r57k_qmjhw7qc500000gn/T/ipykernel_52453/2342787335.py:87: DeprecationWarning: DataFrameGroupBy.apply operated on the grouping columns. This behavior is deprecated, and in a future version of pandas the grouping columns will be excluded from the operation. Either pass `include_groups=False` to exclude the groupings or explicitly select the grouping columns after groupby to silence this warning.\n",
      "  daily_summary = df.groupby('date', group_keys=False).apply(\n"
     ]
    },
    {
     "name": "stdout",
     "output_type": "stream",
     "text": [
      "Processing EXTEND file: /Volumes/vosslabhpc/Projects/BikeExtend/3-Experiment/2-Data/BIDS/derivatives/GGIR_2.8.2/sub-2277/ses-accel1/beh/output_beh/meta/csv/sub-2277_ses-accel1_accel.csv.RData.csv\n"
     ]
    },
    {
     "name": "stderr",
     "output_type": "stream",
     "text": [
      "/var/folders/1w/l9hx8l952r57k_qmjhw7qc500000gn/T/ipykernel_52453/2342787335.py:87: DeprecationWarning: DataFrameGroupBy.apply operated on the grouping columns. This behavior is deprecated, and in a future version of pandas the grouping columns will be excluded from the operation. Either pass `include_groups=False` to exclude the groupings or explicitly select the grouping columns after groupby to silence this warning.\n",
      "  daily_summary = df.groupby('date', group_keys=False).apply(\n"
     ]
    },
    {
     "name": "stdout",
     "output_type": "stream",
     "text": [
      "Processing EXTEND file: /Volumes/vosslabhpc/Projects/BikeExtend/3-Experiment/2-Data/BIDS/derivatives/GGIR_2.8.2/sub-2501/ses-accel1/beh/output_beh/meta/csv/sub-2501_ses-accel1_accel.csv.RData.csv\n"
     ]
    },
    {
     "name": "stderr",
     "output_type": "stream",
     "text": [
      "/var/folders/1w/l9hx8l952r57k_qmjhw7qc500000gn/T/ipykernel_52453/2342787335.py:87: DeprecationWarning: DataFrameGroupBy.apply operated on the grouping columns. This behavior is deprecated, and in a future version of pandas the grouping columns will be excluded from the operation. Either pass `include_groups=False` to exclude the groupings or explicitly select the grouping columns after groupby to silence this warning.\n",
      "  daily_summary = df.groupby('date', group_keys=False).apply(\n"
     ]
    },
    {
     "name": "stdout",
     "output_type": "stream",
     "text": [
      "Processing EXTEND file: /Volumes/vosslabhpc/Projects/BikeExtend/3-Experiment/2-Data/BIDS/derivatives/GGIR_2.8.2/sub-2131/ses-accel1/beh/output_beh/meta/csv/sub-2131_ses-accel1_accel.csv.RData.csv\n"
     ]
    },
    {
     "name": "stderr",
     "output_type": "stream",
     "text": [
      "/var/folders/1w/l9hx8l952r57k_qmjhw7qc500000gn/T/ipykernel_52453/2342787335.py:87: DeprecationWarning: DataFrameGroupBy.apply operated on the grouping columns. This behavior is deprecated, and in a future version of pandas the grouping columns will be excluded from the operation. Either pass `include_groups=False` to exclude the groupings or explicitly select the grouping columns after groupby to silence this warning.\n",
      "  daily_summary = df.groupby('date', group_keys=False).apply(\n"
     ]
    },
    {
     "name": "stdout",
     "output_type": "stream",
     "text": [
      "Processing EXTEND file: /Volumes/vosslabhpc/Projects/BikeExtend/3-Experiment/2-Data/BIDS/derivatives/GGIR_2.8.2/sub-2041/ses-accel1/beh/output_beh/meta/csv/sub-2041_ses-accel1_accel.csv.RData.csv\n"
     ]
    },
    {
     "name": "stderr",
     "output_type": "stream",
     "text": [
      "/var/folders/1w/l9hx8l952r57k_qmjhw7qc500000gn/T/ipykernel_52453/2342787335.py:87: DeprecationWarning: DataFrameGroupBy.apply operated on the grouping columns. This behavior is deprecated, and in a future version of pandas the grouping columns will be excluded from the operation. Either pass `include_groups=False` to exclude the groupings or explicitly select the grouping columns after groupby to silence this warning.\n",
      "  daily_summary = df.groupby('date', group_keys=False).apply(\n"
     ]
    },
    {
     "name": "stdout",
     "output_type": "stream",
     "text": [
      "Processing EXTEND file: /Volumes/vosslabhpc/Projects/BikeExtend/3-Experiment/2-Data/BIDS/derivatives/GGIR_2.8.2/sub-2406/ses-accel1/beh/output_beh/meta/csv/sub-2406_ses-accel1_accel.csv.RData.csv\n"
     ]
    },
    {
     "name": "stderr",
     "output_type": "stream",
     "text": [
      "/var/folders/1w/l9hx8l952r57k_qmjhw7qc500000gn/T/ipykernel_52453/2342787335.py:87: DeprecationWarning: DataFrameGroupBy.apply operated on the grouping columns. This behavior is deprecated, and in a future version of pandas the grouping columns will be excluded from the operation. Either pass `include_groups=False` to exclude the groupings or explicitly select the grouping columns after groupby to silence this warning.\n",
      "  daily_summary = df.groupby('date', group_keys=False).apply(\n"
     ]
    },
    {
     "name": "stdout",
     "output_type": "stream",
     "text": [
      "Processing EXTEND file: /Volumes/vosslabhpc/Projects/BikeExtend/3-Experiment/2-Data/BIDS/derivatives/GGIR_2.8.2/sub-2608/ses-accel1/beh/output_beh/meta/csv/sub-2608_ses-accel1_accel.csv.RData.csv\n"
     ]
    },
    {
     "name": "stderr",
     "output_type": "stream",
     "text": [
      "/var/folders/1w/l9hx8l952r57k_qmjhw7qc500000gn/T/ipykernel_52453/2342787335.py:87: DeprecationWarning: DataFrameGroupBy.apply operated on the grouping columns. This behavior is deprecated, and in a future version of pandas the grouping columns will be excluded from the operation. Either pass `include_groups=False` to exclude the groupings or explicitly select the grouping columns after groupby to silence this warning.\n",
      "  daily_summary = df.groupby('date', group_keys=False).apply(\n"
     ]
    },
    {
     "name": "stdout",
     "output_type": "stream",
     "text": [
      "Processing EXTEND file: /Volumes/vosslabhpc/Projects/BikeExtend/3-Experiment/2-Data/BIDS/derivatives/GGIR_2.8.2/sub-2332/ses-accel1/beh/output_beh/meta/csv/sub-2332_ses-accel1_accel.csv.RData.csv\n"
     ]
    },
    {
     "name": "stderr",
     "output_type": "stream",
     "text": [
      "/var/folders/1w/l9hx8l952r57k_qmjhw7qc500000gn/T/ipykernel_52453/2342787335.py:87: DeprecationWarning: DataFrameGroupBy.apply operated on the grouping columns. This behavior is deprecated, and in a future version of pandas the grouping columns will be excluded from the operation. Either pass `include_groups=False` to exclude the groupings or explicitly select the grouping columns after groupby to silence this warning.\n",
      "  daily_summary = df.groupby('date', group_keys=False).apply(\n"
     ]
    },
    {
     "name": "stdout",
     "output_type": "stream",
     "text": [
      "Processing EXTEND file: /Volumes/vosslabhpc/Projects/BikeExtend/3-Experiment/2-Data/BIDS/derivatives/GGIR_2.8.2/sub-2242/ses-accel1/beh/output_beh/meta/csv/sub-2242_ses-accel1_accel.csv.RData.csv\n"
     ]
    },
    {
     "name": "stderr",
     "output_type": "stream",
     "text": [
      "/var/folders/1w/l9hx8l952r57k_qmjhw7qc500000gn/T/ipykernel_52453/2342787335.py:87: DeprecationWarning: DataFrameGroupBy.apply operated on the grouping columns. This behavior is deprecated, and in a future version of pandas the grouping columns will be excluded from the operation. Either pass `include_groups=False` to exclude the groupings or explicitly select the grouping columns after groupby to silence this warning.\n",
      "  daily_summary = df.groupby('date', group_keys=False).apply(\n"
     ]
    },
    {
     "name": "stdout",
     "output_type": "stream",
     "text": [
      "Processing EXTEND file: /Volumes/vosslabhpc/Projects/BikeExtend/3-Experiment/2-Data/BIDS/derivatives/GGIR_2.8.2/sub-2009/ses-accel1/beh/output_beh/meta/csv/sub-2009_ses-accel1_accel.csv.RData.csv\n"
     ]
    },
    {
     "name": "stderr",
     "output_type": "stream",
     "text": [
      "/var/folders/1w/l9hx8l952r57k_qmjhw7qc500000gn/T/ipykernel_52453/2342787335.py:87: DeprecationWarning: DataFrameGroupBy.apply operated on the grouping columns. This behavior is deprecated, and in a future version of pandas the grouping columns will be excluded from the operation. Either pass `include_groups=False` to exclude the groupings or explicitly select the grouping columns after groupby to silence this warning.\n",
      "  daily_summary = df.groupby('date', group_keys=False).apply(\n"
     ]
    },
    {
     "name": "stdout",
     "output_type": "stream",
     "text": [
      "Processing EXTEND file: /Volumes/vosslabhpc/Projects/BikeExtend/3-Experiment/2-Data/BIDS/derivatives/GGIR_2.8.2/sub-2197/ses-accel1/beh/output_beh/meta/csv/sub-2197_ses-accel1_accel.csv.RData.csv\n"
     ]
    },
    {
     "name": "stderr",
     "output_type": "stream",
     "text": [
      "/var/folders/1w/l9hx8l952r57k_qmjhw7qc500000gn/T/ipykernel_52453/2342787335.py:87: DeprecationWarning: DataFrameGroupBy.apply operated on the grouping columns. This behavior is deprecated, and in a future version of pandas the grouping columns will be excluded from the operation. Either pass `include_groups=False` to exclude the groupings or explicitly select the grouping columns after groupby to silence this warning.\n",
      "  daily_summary = df.groupby('date', group_keys=False).apply(\n"
     ]
    },
    {
     "name": "stdout",
     "output_type": "stream",
     "text": [
      "Processing EXTEND file: /Volumes/vosslabhpc/Projects/BikeExtend/3-Experiment/2-Data/BIDS/derivatives/GGIR_2.8.2/sub-2568/ses-accel1/beh/output_beh/meta/csv/sub-2568_ses-accel1_accel.csv.RData.csv\n"
     ]
    },
    {
     "name": "stderr",
     "output_type": "stream",
     "text": [
      "/var/folders/1w/l9hx8l952r57k_qmjhw7qc500000gn/T/ipykernel_52453/2342787335.py:87: DeprecationWarning: DataFrameGroupBy.apply operated on the grouping columns. This behavior is deprecated, and in a future version of pandas the grouping columns will be excluded from the operation. Either pass `include_groups=False` to exclude the groupings or explicitly select the grouping columns after groupby to silence this warning.\n",
      "  daily_summary = df.groupby('date', group_keys=False).apply(\n"
     ]
    },
    {
     "name": "stdout",
     "output_type": "stream",
     "text": [
      "Processing EXTEND file: /Volumes/vosslabhpc/Projects/BikeExtend/3-Experiment/2-Data/BIDS/derivatives/GGIR_2.8.2/sub-2125/ses-accel1/beh/output_beh/meta/csv/sub-2125_ses-accel1_accel.csv.RData.csv\n"
     ]
    },
    {
     "name": "stderr",
     "output_type": "stream",
     "text": [
      "/var/folders/1w/l9hx8l952r57k_qmjhw7qc500000gn/T/ipykernel_52453/2342787335.py:87: DeprecationWarning: DataFrameGroupBy.apply operated on the grouping columns. This behavior is deprecated, and in a future version of pandas the grouping columns will be excluded from the operation. Either pass `include_groups=False` to exclude the groupings or explicitly select the grouping columns after groupby to silence this warning.\n",
      "  daily_summary = df.groupby('date', group_keys=False).apply(\n"
     ]
    },
    {
     "name": "stdout",
     "output_type": "stream",
     "text": [
      "Processing EXTEND file: /Volumes/vosslabhpc/Projects/BikeExtend/3-Experiment/2-Data/BIDS/derivatives/GGIR_2.8.2/sub-2287/ses-accel1/beh/output_beh/meta/csv/sub-2287_ses-accel1_accel.csv.RData.csv\n"
     ]
    },
    {
     "name": "stderr",
     "output_type": "stream",
     "text": [
      "/var/folders/1w/l9hx8l952r57k_qmjhw7qc500000gn/T/ipykernel_52453/2342787335.py:87: DeprecationWarning: DataFrameGroupBy.apply operated on the grouping columns. This behavior is deprecated, and in a future version of pandas the grouping columns will be excluded from the operation. Either pass `include_groups=False` to exclude the groupings or explicitly select the grouping columns after groupby to silence this warning.\n",
      "  daily_summary = df.groupby('date', group_keys=False).apply(\n"
     ]
    },
    {
     "name": "stdout",
     "output_type": "stream",
     "text": [
      "Processing EXTEND file: /Volumes/vosslabhpc/Projects/BikeExtend/3-Experiment/2-Data/BIDS/derivatives/GGIR_2.8.2/sub-2550/ses-accel1/beh/output_beh/meta/csv/sub-2550_ses-accel1_accel.csv.RData.csv\n"
     ]
    },
    {
     "name": "stderr",
     "output_type": "stream",
     "text": [
      "/var/folders/1w/l9hx8l952r57k_qmjhw7qc500000gn/T/ipykernel_52453/2342787335.py:87: DeprecationWarning: DataFrameGroupBy.apply operated on the grouping columns. This behavior is deprecated, and in a future version of pandas the grouping columns will be excluded from the operation. Either pass `include_groups=False` to exclude the groupings or explicitly select the grouping columns after groupby to silence this warning.\n",
      "  daily_summary = df.groupby('date', group_keys=False).apply(\n"
     ]
    },
    {
     "name": "stdout",
     "output_type": "stream",
     "text": [
      "Processing EXTEND file: /Volumes/vosslabhpc/Projects/BikeExtend/3-Experiment/2-Data/BIDS/derivatives/GGIR_2.8.2/sub-2117/ses-accel1/beh/output_beh/meta/csv/sub-2117_ses-accel1_accel.csv.RData.csv\n"
     ]
    },
    {
     "name": "stderr",
     "output_type": "stream",
     "text": [
      "/var/folders/1w/l9hx8l952r57k_qmjhw7qc500000gn/T/ipykernel_52453/2342787335.py:87: DeprecationWarning: DataFrameGroupBy.apply operated on the grouping columns. This behavior is deprecated, and in a future version of pandas the grouping columns will be excluded from the operation. Either pass `include_groups=False` to exclude the groupings or explicitly select the grouping columns after groupby to silence this warning.\n",
      "  daily_summary = df.groupby('date', group_keys=False).apply(\n"
     ]
    },
    {
     "name": "stdout",
     "output_type": "stream",
     "text": [
      "Processing EXTEND file: /Volumes/vosslabhpc/Projects/BikeExtend/3-Experiment/2-Data/BIDS/derivatives/GGIR_2.8.2/sub-2554/ses-accel1/beh/output_beh/meta/csv/sub-2554_ses-accel1_accel.csv.RData.csv\n"
     ]
    },
    {
     "name": "stderr",
     "output_type": "stream",
     "text": [
      "/var/folders/1w/l9hx8l952r57k_qmjhw7qc500000gn/T/ipykernel_52453/2342787335.py:87: DeprecationWarning: DataFrameGroupBy.apply operated on the grouping columns. This behavior is deprecated, and in a future version of pandas the grouping columns will be excluded from the operation. Either pass `include_groups=False` to exclude the groupings or explicitly select the grouping columns after groupby to silence this warning.\n",
      "  daily_summary = df.groupby('date', group_keys=False).apply(\n"
     ]
    },
    {
     "name": "stdout",
     "output_type": "stream",
     "text": [
      "Processing EXTEND file: /Volumes/vosslabhpc/Projects/BikeExtend/3-Experiment/2-Data/BIDS/derivatives/GGIR_2.8.2/sub-2874/ses-accel1/beh/output_beh/meta/csv/sub-2874_ses-accel1_accel.csv.RData.csv\n"
     ]
    },
    {
     "name": "stderr",
     "output_type": "stream",
     "text": [
      "/var/folders/1w/l9hx8l952r57k_qmjhw7qc500000gn/T/ipykernel_52453/2342787335.py:87: DeprecationWarning: DataFrameGroupBy.apply operated on the grouping columns. This behavior is deprecated, and in a future version of pandas the grouping columns will be excluded from the operation. Either pass `include_groups=False` to exclude the groupings or explicitly select the grouping columns after groupby to silence this warning.\n",
      "  daily_summary = df.groupby('date', group_keys=False).apply(\n"
     ]
    },
    {
     "name": "stdout",
     "output_type": "stream",
     "text": [
      "Processing EXTEND file: /Volumes/vosslabhpc/Projects/BikeExtend/3-Experiment/2-Data/BIDS/derivatives/GGIR_2.8.2/sub-2762/ses-accel1/beh/output_beh/meta/csv/sub-2762_ses-accel1_accel.csv.RData.csv\n"
     ]
    },
    {
     "name": "stderr",
     "output_type": "stream",
     "text": [
      "/var/folders/1w/l9hx8l952r57k_qmjhw7qc500000gn/T/ipykernel_52453/2342787335.py:87: DeprecationWarning: DataFrameGroupBy.apply operated on the grouping columns. This behavior is deprecated, and in a future version of pandas the grouping columns will be excluded from the operation. Either pass `include_groups=False` to exclude the groupings or explicitly select the grouping columns after groupby to silence this warning.\n",
      "  daily_summary = df.groupby('date', group_keys=False).apply(\n"
     ]
    },
    {
     "name": "stdout",
     "output_type": "stream",
     "text": [
      "Processing EXTEND file: /Volumes/vosslabhpc/Projects/BikeExtend/3-Experiment/2-Data/BIDS/derivatives/GGIR_2.8.2/sub-2156/ses-accel1/beh/output_beh/meta/csv/sub-2156_ses-accel1_accel.csv.RData.csv\n"
     ]
    },
    {
     "name": "stderr",
     "output_type": "stream",
     "text": [
      "/var/folders/1w/l9hx8l952r57k_qmjhw7qc500000gn/T/ipykernel_52453/2342787335.py:87: DeprecationWarning: DataFrameGroupBy.apply operated on the grouping columns. This behavior is deprecated, and in a future version of pandas the grouping columns will be excluded from the operation. Either pass `include_groups=False` to exclude the groupings or explicitly select the grouping columns after groupby to silence this warning.\n",
      "  daily_summary = df.groupby('date', group_keys=False).apply(\n"
     ]
    },
    {
     "name": "stdout",
     "output_type": "stream",
     "text": [
      "Processing EXTEND file: /Volumes/vosslabhpc/Projects/BikeExtend/3-Experiment/2-Data/BIDS/derivatives/GGIR_2.8.2/sub-2121/ses-accel1/beh/output_beh/meta/csv/sub-2121_ses-accel1_accel.csv.RData.csv\n"
     ]
    },
    {
     "name": "stderr",
     "output_type": "stream",
     "text": [
      "/var/folders/1w/l9hx8l952r57k_qmjhw7qc500000gn/T/ipykernel_52453/2342787335.py:87: DeprecationWarning: DataFrameGroupBy.apply operated on the grouping columns. This behavior is deprecated, and in a future version of pandas the grouping columns will be excluded from the operation. Either pass `include_groups=False` to exclude the groupings or explicitly select the grouping columns after groupby to silence this warning.\n",
      "  daily_summary = df.groupby('date', group_keys=False).apply(\n"
     ]
    },
    {
     "name": "stdout",
     "output_type": "stream",
     "text": [
      "Processing EXTEND file: /Volumes/vosslabhpc/Projects/BikeExtend/3-Experiment/2-Data/BIDS/derivatives/GGIR_2.8.2/sub-2397/ses-accel1/beh/output_beh/meta/csv/sub-2397_ses-accel1_accel.csv.RData.csv\n"
     ]
    },
    {
     "name": "stderr",
     "output_type": "stream",
     "text": [
      "/var/folders/1w/l9hx8l952r57k_qmjhw7qc500000gn/T/ipykernel_52453/2342787335.py:87: DeprecationWarning: DataFrameGroupBy.apply operated on the grouping columns. This behavior is deprecated, and in a future version of pandas the grouping columns will be excluded from the operation. Either pass `include_groups=False` to exclude the groupings or explicitly select the grouping columns after groupby to silence this warning.\n",
      "  daily_summary = df.groupby('date', group_keys=False).apply(\n"
     ]
    },
    {
     "name": "stdout",
     "output_type": "stream",
     "text": [
      "Processing EXTEND file: /Volumes/vosslabhpc/Projects/BikeExtend/3-Experiment/2-Data/BIDS/derivatives/GGIR_2.8.2/sub-2199/ses-accel1/beh/output_beh/meta/csv/sub-2199_ses-accel1_accel.csv.RData.csv\n"
     ]
    },
    {
     "name": "stderr",
     "output_type": "stream",
     "text": [
      "/var/folders/1w/l9hx8l952r57k_qmjhw7qc500000gn/T/ipykernel_52453/2342787335.py:87: DeprecationWarning: DataFrameGroupBy.apply operated on the grouping columns. This behavior is deprecated, and in a future version of pandas the grouping columns will be excluded from the operation. Either pass `include_groups=False` to exclude the groupings or explicitly select the grouping columns after groupby to silence this warning.\n",
      "  daily_summary = df.groupby('date', group_keys=False).apply(\n"
     ]
    },
    {
     "name": "stdout",
     "output_type": "stream",
     "text": [
      "Processing EXTEND file: /Volumes/vosslabhpc/Projects/BikeExtend/3-Experiment/2-Data/BIDS/derivatives/GGIR_2.8.2/sub-2100/ses-accel1/beh/output_beh/meta/csv/sub-2100_ses-accel1_accel.csv.RData.csv\n"
     ]
    },
    {
     "name": "stderr",
     "output_type": "stream",
     "text": [
      "/var/folders/1w/l9hx8l952r57k_qmjhw7qc500000gn/T/ipykernel_52453/2342787335.py:87: DeprecationWarning: DataFrameGroupBy.apply operated on the grouping columns. This behavior is deprecated, and in a future version of pandas the grouping columns will be excluded from the operation. Either pass `include_groups=False` to exclude the groupings or explicitly select the grouping columns after groupby to silence this warning.\n",
      "  daily_summary = df.groupby('date', group_keys=False).apply(\n"
     ]
    },
    {
     "name": "stdout",
     "output_type": "stream",
     "text": [
      "Processing EXTEND file: /Volumes/vosslabhpc/Projects/BikeExtend/3-Experiment/2-Data/BIDS/derivatives/GGIR_2.8.2/sub-2042/ses-accel1/beh/output_beh/meta/csv/sub-2042_ses-accel1_accel.csv.RData.csv\n"
     ]
    },
    {
     "name": "stderr",
     "output_type": "stream",
     "text": [
      "/var/folders/1w/l9hx8l952r57k_qmjhw7qc500000gn/T/ipykernel_52453/2342787335.py:87: DeprecationWarning: DataFrameGroupBy.apply operated on the grouping columns. This behavior is deprecated, and in a future version of pandas the grouping columns will be excluded from the operation. Either pass `include_groups=False` to exclude the groupings or explicitly select the grouping columns after groupby to silence this warning.\n",
      "  daily_summary = df.groupby('date', group_keys=False).apply(\n"
     ]
    },
    {
     "name": "stdout",
     "output_type": "stream",
     "text": [
      "Processing EXTEND file: /Volumes/vosslabhpc/Projects/BikeExtend/3-Experiment/2-Data/BIDS/derivatives/GGIR_2.8.2/sub-2145/ses-accel1/beh/output_beh/meta/csv/sub-2145_ses-accel1_accel.csv.RData.csv\n"
     ]
    },
    {
     "name": "stderr",
     "output_type": "stream",
     "text": [
      "/var/folders/1w/l9hx8l952r57k_qmjhw7qc500000gn/T/ipykernel_52453/2342787335.py:87: DeprecationWarning: DataFrameGroupBy.apply operated on the grouping columns. This behavior is deprecated, and in a future version of pandas the grouping columns will be excluded from the operation. Either pass `include_groups=False` to exclude the groupings or explicitly select the grouping columns after groupby to silence this warning.\n",
      "  daily_summary = df.groupby('date', group_keys=False).apply(\n"
     ]
    },
    {
     "name": "stdout",
     "output_type": "stream",
     "text": [
      "Processing EXTEND file: /Volumes/vosslabhpc/Projects/BikeExtend/3-Experiment/2-Data/BIDS/derivatives/GGIR_2.8.2/sub-2148/ses-accel1/beh/output_beh/meta/csv/sub-2148_ses-accel1_accel.csv.RData.csv\n"
     ]
    },
    {
     "name": "stderr",
     "output_type": "stream",
     "text": [
      "/var/folders/1w/l9hx8l952r57k_qmjhw7qc500000gn/T/ipykernel_52453/2342787335.py:87: DeprecationWarning: DataFrameGroupBy.apply operated on the grouping columns. This behavior is deprecated, and in a future version of pandas the grouping columns will be excluded from the operation. Either pass `include_groups=False` to exclude the groupings or explicitly select the grouping columns after groupby to silence this warning.\n",
      "  daily_summary = df.groupby('date', group_keys=False).apply(\n"
     ]
    },
    {
     "name": "stdout",
     "output_type": "stream",
     "text": [
      "Processing EXTEND file: /Volumes/vosslabhpc/Projects/BikeExtend/3-Experiment/2-Data/BIDS/derivatives/GGIR_2.8.2/sub-2572/ses-accel1/beh/output_beh/meta/csv/sub-2572_ses-accel1_accel.csv.RData.csv\n"
     ]
    },
    {
     "name": "stderr",
     "output_type": "stream",
     "text": [
      "/var/folders/1w/l9hx8l952r57k_qmjhw7qc500000gn/T/ipykernel_52453/2342787335.py:87: DeprecationWarning: DataFrameGroupBy.apply operated on the grouping columns. This behavior is deprecated, and in a future version of pandas the grouping columns will be excluded from the operation. Either pass `include_groups=False` to exclude the groupings or explicitly select the grouping columns after groupby to silence this warning.\n",
      "  daily_summary = df.groupby('date', group_keys=False).apply(\n"
     ]
    },
    {
     "name": "stdout",
     "output_type": "stream",
     "text": [
      "Processing EXTEND file: /Volumes/vosslabhpc/Projects/BikeExtend/3-Experiment/2-Data/BIDS/derivatives/GGIR_2.8.2/sub-2241/ses-accel1/beh/output_beh/meta/csv/sub-2241_ses-accel1_accel.csv.RData.csv\n"
     ]
    },
    {
     "name": "stderr",
     "output_type": "stream",
     "text": [
      "/var/folders/1w/l9hx8l952r57k_qmjhw7qc500000gn/T/ipykernel_52453/2342787335.py:87: DeprecationWarning: DataFrameGroupBy.apply operated on the grouping columns. This behavior is deprecated, and in a future version of pandas the grouping columns will be excluded from the operation. Either pass `include_groups=False` to exclude the groupings or explicitly select the grouping columns after groupby to silence this warning.\n",
      "  daily_summary = df.groupby('date', group_keys=False).apply(\n"
     ]
    },
    {
     "name": "stdout",
     "output_type": "stream",
     "text": [
      "Processing EXTEND file: /Volumes/vosslabhpc/Projects/BikeExtend/3-Experiment/2-Data/BIDS/derivatives/GGIR_2.8.2/sub-2798/ses-accel1/beh/output_beh/meta/csv/sub-2798_ses-accel1_accel.csv.RData.csv\n"
     ]
    },
    {
     "name": "stderr",
     "output_type": "stream",
     "text": [
      "/var/folders/1w/l9hx8l952r57k_qmjhw7qc500000gn/T/ipykernel_52453/2342787335.py:87: DeprecationWarning: DataFrameGroupBy.apply operated on the grouping columns. This behavior is deprecated, and in a future version of pandas the grouping columns will be excluded from the operation. Either pass `include_groups=False` to exclude the groupings or explicitly select the grouping columns after groupby to silence this warning.\n",
      "  daily_summary = df.groupby('date', group_keys=False).apply(\n"
     ]
    },
    {
     "name": "stdout",
     "output_type": "stream",
     "text": [
      "Processing EXTEND file: /Volumes/vosslabhpc/Projects/BikeExtend/3-Experiment/2-Data/BIDS/derivatives/GGIR_2.8.2/sub-2273/ses-accel1/beh/output_beh/meta/csv/sub-2273_ses-accel1_accel.csv.RData.csv\n"
     ]
    },
    {
     "name": "stderr",
     "output_type": "stream",
     "text": [
      "/var/folders/1w/l9hx8l952r57k_qmjhw7qc500000gn/T/ipykernel_52453/2342787335.py:87: DeprecationWarning: DataFrameGroupBy.apply operated on the grouping columns. This behavior is deprecated, and in a future version of pandas the grouping columns will be excluded from the operation. Either pass `include_groups=False` to exclude the groupings or explicitly select the grouping columns after groupby to silence this warning.\n",
      "  daily_summary = df.groupby('date', group_keys=False).apply(\n"
     ]
    },
    {
     "name": "stdout",
     "output_type": "stream",
     "text": [
      "Processing EXTEND file: /Volumes/vosslabhpc/Projects/BikeExtend/3-Experiment/2-Data/BIDS/derivatives/GGIR_2.8.2/sub-2056/ses-accel1/beh/output_beh/meta/csv/sub-2056_ses-accel1_accel.csv.RData.csv\n"
     ]
    },
    {
     "name": "stderr",
     "output_type": "stream",
     "text": [
      "/var/folders/1w/l9hx8l952r57k_qmjhw7qc500000gn/T/ipykernel_52453/2342787335.py:87: DeprecationWarning: DataFrameGroupBy.apply operated on the grouping columns. This behavior is deprecated, and in a future version of pandas the grouping columns will be excluded from the operation. Either pass `include_groups=False` to exclude the groupings or explicitly select the grouping columns after groupby to silence this warning.\n",
      "  daily_summary = df.groupby('date', group_keys=False).apply(\n"
     ]
    },
    {
     "name": "stdout",
     "output_type": "stream",
     "text": [
      "Processing EXTEND file: /Volumes/vosslabhpc/Projects/BikeExtend/3-Experiment/2-Data/BIDS/derivatives/GGIR_2.8.2/sub-2488/ses-accel1/beh/output_beh/meta/csv/sub-2488_ses-accel1_accel.csv.RData.csv\n"
     ]
    },
    {
     "name": "stderr",
     "output_type": "stream",
     "text": [
      "/var/folders/1w/l9hx8l952r57k_qmjhw7qc500000gn/T/ipykernel_52453/2342787335.py:87: DeprecationWarning: DataFrameGroupBy.apply operated on the grouping columns. This behavior is deprecated, and in a future version of pandas the grouping columns will be excluded from the operation. Either pass `include_groups=False` to exclude the groupings or explicitly select the grouping columns after groupby to silence this warning.\n",
      "  daily_summary = df.groupby('date', group_keys=False).apply(\n"
     ]
    },
    {
     "name": "stdout",
     "output_type": "stream",
     "text": [
      "Processing EXTEND file: /Volumes/vosslabhpc/Projects/BikeExtend/3-Experiment/2-Data/BIDS/derivatives/GGIR_2.8.2/sub-2328/ses-accel1/beh/output_beh/meta/csv/sub-2328_ses-accel1_accel.csv.RData.csv\n"
     ]
    },
    {
     "name": "stderr",
     "output_type": "stream",
     "text": [
      "/var/folders/1w/l9hx8l952r57k_qmjhw7qc500000gn/T/ipykernel_52453/2342787335.py:87: DeprecationWarning: DataFrameGroupBy.apply operated on the grouping columns. This behavior is deprecated, and in a future version of pandas the grouping columns will be excluded from the operation. Either pass `include_groups=False` to exclude the groupings or explicitly select the grouping columns after groupby to silence this warning.\n",
      "  daily_summary = df.groupby('date', group_keys=False).apply(\n"
     ]
    },
    {
     "name": "stdout",
     "output_type": "stream",
     "text": [
      "Processing EXTEND file: /Volumes/vosslabhpc/Projects/BikeExtend/3-Experiment/2-Data/BIDS/derivatives/GGIR_2.8.2/sub-2553/ses-accel1/beh/output_beh/meta/csv/sub-2553_ses-accel1_accel.csv.RData.csv\n"
     ]
    },
    {
     "name": "stderr",
     "output_type": "stream",
     "text": [
      "/var/folders/1w/l9hx8l952r57k_qmjhw7qc500000gn/T/ipykernel_52453/2342787335.py:87: DeprecationWarning: DataFrameGroupBy.apply operated on the grouping columns. This behavior is deprecated, and in a future version of pandas the grouping columns will be excluded from the operation. Either pass `include_groups=False` to exclude the groupings or explicitly select the grouping columns after groupby to silence this warning.\n",
      "  daily_summary = df.groupby('date', group_keys=False).apply(\n"
     ]
    },
    {
     "name": "stdout",
     "output_type": "stream",
     "text": [
      "Processing EXTEND file: /Volumes/vosslabhpc/Projects/BikeExtend/3-Experiment/2-Data/BIDS/derivatives/GGIR_2.8.2/sub-2064/ses-accel1/beh/output_beh/meta/csv/sub-2064_ses-accel1_accel.csv.RData.csv\n"
     ]
    },
    {
     "name": "stderr",
     "output_type": "stream",
     "text": [
      "/var/folders/1w/l9hx8l952r57k_qmjhw7qc500000gn/T/ipykernel_52453/2342787335.py:87: DeprecationWarning: DataFrameGroupBy.apply operated on the grouping columns. This behavior is deprecated, and in a future version of pandas the grouping columns will be excluded from the operation. Either pass `include_groups=False` to exclude the groupings or explicitly select the grouping columns after groupby to silence this warning.\n",
      "  daily_summary = df.groupby('date', group_keys=False).apply(\n"
     ]
    },
    {
     "name": "stdout",
     "output_type": "stream",
     "text": [
      "Processing EXTEND file: /Volumes/vosslabhpc/Projects/BikeExtend/3-Experiment/2-Data/BIDS/derivatives/GGIR_2.8.2/sub-2480/ses-accel1/beh/output_beh/meta/csv/sub-2480_ses-accel1_accel.csv.RData.csv\n"
     ]
    },
    {
     "name": "stderr",
     "output_type": "stream",
     "text": [
      "/var/folders/1w/l9hx8l952r57k_qmjhw7qc500000gn/T/ipykernel_52453/2342787335.py:87: DeprecationWarning: DataFrameGroupBy.apply operated on the grouping columns. This behavior is deprecated, and in a future version of pandas the grouping columns will be excluded from the operation. Either pass `include_groups=False` to exclude the groupings or explicitly select the grouping columns after groupby to silence this warning.\n",
      "  daily_summary = df.groupby('date', group_keys=False).apply(\n"
     ]
    },
    {
     "name": "stdout",
     "output_type": "stream",
     "text": [
      "Processing EXTEND file: /Volumes/vosslabhpc/Projects/BikeExtend/3-Experiment/2-Data/BIDS/derivatives/GGIR_2.8.2/sub-2563/ses-accel1/beh/output_beh/meta/csv/sub-2563_ses-accel1_accel.csv.RData.csv\n"
     ]
    },
    {
     "name": "stderr",
     "output_type": "stream",
     "text": [
      "/var/folders/1w/l9hx8l952r57k_qmjhw7qc500000gn/T/ipykernel_52453/2342787335.py:87: DeprecationWarning: DataFrameGroupBy.apply operated on the grouping columns. This behavior is deprecated, and in a future version of pandas the grouping columns will be excluded from the operation. Either pass `include_groups=False` to exclude the groupings or explicitly select the grouping columns after groupby to silence this warning.\n",
      "  daily_summary = df.groupby('date', group_keys=False).apply(\n"
     ]
    },
    {
     "name": "stdout",
     "output_type": "stream",
     "text": [
      "Processing EXTEND file: /Volumes/vosslabhpc/Projects/BikeExtend/3-Experiment/2-Data/BIDS/derivatives/GGIR_2.8.2/sub-2185/ses-accel1/beh/output_beh/meta/csv/sub-2185_ses-accel1_accel.csv.RData.csv\n"
     ]
    },
    {
     "name": "stderr",
     "output_type": "stream",
     "text": [
      "/var/folders/1w/l9hx8l952r57k_qmjhw7qc500000gn/T/ipykernel_52453/2342787335.py:87: DeprecationWarning: DataFrameGroupBy.apply operated on the grouping columns. This behavior is deprecated, and in a future version of pandas the grouping columns will be excluded from the operation. Either pass `include_groups=False` to exclude the groupings or explicitly select the grouping columns after groupby to silence this warning.\n",
      "  daily_summary = df.groupby('date', group_keys=False).apply(\n"
     ]
    },
    {
     "name": "stdout",
     "output_type": "stream",
     "text": [
      "Processing EXTEND file: /Volumes/vosslabhpc/Projects/BikeExtend/3-Experiment/2-Data/BIDS/derivatives/GGIR_2.8.2/sub-2774/ses-accel1/beh/output_beh/meta/csv/sub-2774_ses-accel1_accel.csv.RData.csv\n"
     ]
    },
    {
     "name": "stderr",
     "output_type": "stream",
     "text": [
      "/var/folders/1w/l9hx8l952r57k_qmjhw7qc500000gn/T/ipykernel_52453/2342787335.py:87: DeprecationWarning: DataFrameGroupBy.apply operated on the grouping columns. This behavior is deprecated, and in a future version of pandas the grouping columns will be excluded from the operation. Either pass `include_groups=False` to exclude the groupings or explicitly select the grouping columns after groupby to silence this warning.\n",
      "  daily_summary = df.groupby('date', group_keys=False).apply(\n"
     ]
    },
    {
     "name": "stdout",
     "output_type": "stream",
     "text": [
      "Processing EXTEND file: /Volumes/vosslabhpc/Projects/BikeExtend/3-Experiment/2-Data/BIDS/derivatives/GGIR_2.8.2/sub-2594/ses-accel1/beh/output_beh/meta/csv/sub-2594_ses-accel1_accel.csv.RData.csv\n"
     ]
    },
    {
     "name": "stderr",
     "output_type": "stream",
     "text": [
      "/var/folders/1w/l9hx8l952r57k_qmjhw7qc500000gn/T/ipykernel_52453/2342787335.py:87: DeprecationWarning: DataFrameGroupBy.apply operated on the grouping columns. This behavior is deprecated, and in a future version of pandas the grouping columns will be excluded from the operation. Either pass `include_groups=False` to exclude the groupings or explicitly select the grouping columns after groupby to silence this warning.\n",
      "  daily_summary = df.groupby('date', group_keys=False).apply(\n"
     ]
    },
    {
     "name": "stdout",
     "output_type": "stream",
     "text": [
      "Processing EXTEND file: /Volumes/vosslabhpc/Projects/BikeExtend/3-Experiment/2-Data/BIDS/derivatives/GGIR_2.8.2/sub-2137/ses-accel1/beh/output_beh/meta/csv/sub-2137_ses-accel1_accel.csv.RData.csv\n"
     ]
    },
    {
     "name": "stderr",
     "output_type": "stream",
     "text": [
      "/var/folders/1w/l9hx8l952r57k_qmjhw7qc500000gn/T/ipykernel_52453/2342787335.py:87: DeprecationWarning: DataFrameGroupBy.apply operated on the grouping columns. This behavior is deprecated, and in a future version of pandas the grouping columns will be excluded from the operation. Either pass `include_groups=False` to exclude the groupings or explicitly select the grouping columns after groupby to silence this warning.\n",
      "  daily_summary = df.groupby('date', group_keys=False).apply(\n"
     ]
    },
    {
     "name": "stdout",
     "output_type": "stream",
     "text": [
      "Processing EXTEND file: /Volumes/vosslabhpc/Projects/BikeExtend/3-Experiment/2-Data/BIDS/derivatives/GGIR_2.8.2/sub-2206/ses-accel1/beh/output_beh/meta/csv/sub-2206_ses-accel1_accel.csv.RData.csv\n"
     ]
    },
    {
     "name": "stderr",
     "output_type": "stream",
     "text": [
      "/var/folders/1w/l9hx8l952r57k_qmjhw7qc500000gn/T/ipykernel_52453/2342787335.py:87: DeprecationWarning: DataFrameGroupBy.apply operated on the grouping columns. This behavior is deprecated, and in a future version of pandas the grouping columns will be excluded from the operation. Either pass `include_groups=False` to exclude the groupings or explicitly select the grouping columns after groupby to silence this warning.\n",
      "  daily_summary = df.groupby('date', group_keys=False).apply(\n"
     ]
    },
    {
     "name": "stdout",
     "output_type": "stream",
     "text": [
      "Processing EXTEND file: /Volumes/vosslabhpc/Projects/BikeExtend/3-Experiment/2-Data/BIDS/derivatives/GGIR_2.8.2/sub-2295/ses-accel1/beh/output_beh/meta/csv/sub-2295_ses-accel1_accel.csv.RData.csv\n"
     ]
    },
    {
     "name": "stderr",
     "output_type": "stream",
     "text": [
      "/var/folders/1w/l9hx8l952r57k_qmjhw7qc500000gn/T/ipykernel_52453/2342787335.py:87: DeprecationWarning: DataFrameGroupBy.apply operated on the grouping columns. This behavior is deprecated, and in a future version of pandas the grouping columns will be excluded from the operation. Either pass `include_groups=False` to exclude the groupings or explicitly select the grouping columns after groupby to silence this warning.\n",
      "  daily_summary = df.groupby('date', group_keys=False).apply(\n"
     ]
    },
    {
     "name": "stdout",
     "output_type": "stream",
     "text": [
      "Processing EXTEND file: /Volumes/vosslabhpc/Projects/BikeExtend/3-Experiment/2-Data/BIDS/derivatives/GGIR_2.8.2/sub-2002/ses-accel1/beh/output_beh/meta/csv/sub-2002_ses-accel1_accel.csv.RData.csv\n"
     ]
    },
    {
     "name": "stderr",
     "output_type": "stream",
     "text": [
      "/var/folders/1w/l9hx8l952r57k_qmjhw7qc500000gn/T/ipykernel_52453/2342787335.py:87: DeprecationWarning: DataFrameGroupBy.apply operated on the grouping columns. This behavior is deprecated, and in a future version of pandas the grouping columns will be excluded from the operation. Either pass `include_groups=False` to exclude the groupings or explicitly select the grouping columns after groupby to silence this warning.\n",
      "  daily_summary = df.groupby('date', group_keys=False).apply(\n"
     ]
    },
    {
     "name": "stdout",
     "output_type": "stream",
     "text": [
      "Processing EXTEND file: /Volumes/vosslabhpc/Projects/BikeExtend/3-Experiment/2-Data/BIDS/derivatives/GGIR_2.8.2/sub-2105/ses-accel1/beh/output_beh/meta/csv/sub-2105_ses-accel1_accel.csv.RData.csv\n"
     ]
    },
    {
     "name": "stderr",
     "output_type": "stream",
     "text": [
      "/var/folders/1w/l9hx8l952r57k_qmjhw7qc500000gn/T/ipykernel_52453/2342787335.py:87: DeprecationWarning: DataFrameGroupBy.apply operated on the grouping columns. This behavior is deprecated, and in a future version of pandas the grouping columns will be excluded from the operation. Either pass `include_groups=False` to exclude the groupings or explicitly select the grouping columns after groupby to silence this warning.\n",
      "  daily_summary = df.groupby('date', group_keys=False).apply(\n"
     ]
    },
    {
     "name": "stdout",
     "output_type": "stream",
     "text": [
      "Processing EXTEND file: /Volumes/vosslabhpc/Projects/BikeExtend/3-Experiment/2-Data/BIDS/derivatives/GGIR_2.8.2/sub-2102/ses-accel1/beh/output_beh/meta/csv/sub-2102_ses-accel1_accel.csv.RData.csv\n"
     ]
    },
    {
     "name": "stderr",
     "output_type": "stream",
     "text": [
      "/var/folders/1w/l9hx8l952r57k_qmjhw7qc500000gn/T/ipykernel_52453/2342787335.py:87: DeprecationWarning: DataFrameGroupBy.apply operated on the grouping columns. This behavior is deprecated, and in a future version of pandas the grouping columns will be excluded from the operation. Either pass `include_groups=False` to exclude the groupings or explicitly select the grouping columns after groupby to silence this warning.\n",
      "  daily_summary = df.groupby('date', group_keys=False).apply(\n"
     ]
    },
    {
     "name": "stdout",
     "output_type": "stream",
     "text": [
      "Processing EXTEND file: /Volumes/vosslabhpc/Projects/BikeExtend/3-Experiment/2-Data/BIDS/derivatives/GGIR_2.8.2/sub-2175/ses-accel1/beh/output_beh/meta/csv/sub-2175_ses-accel1_accel.csv.RData.csv\n"
     ]
    },
    {
     "name": "stderr",
     "output_type": "stream",
     "text": [
      "/var/folders/1w/l9hx8l952r57k_qmjhw7qc500000gn/T/ipykernel_52453/2342787335.py:87: DeprecationWarning: DataFrameGroupBy.apply operated on the grouping columns. This behavior is deprecated, and in a future version of pandas the grouping columns will be excluded from the operation. Either pass `include_groups=False` to exclude the groupings or explicitly select the grouping columns after groupby to silence this warning.\n",
      "  daily_summary = df.groupby('date', group_keys=False).apply(\n"
     ]
    },
    {
     "name": "stdout",
     "output_type": "stream",
     "text": [
      "Processing EXTEND file: /Volumes/vosslabhpc/Projects/BikeExtend/3-Experiment/2-Data/BIDS/derivatives/GGIR_2.8.2/sub-2201/ses-accel1/beh/output_beh/meta/csv/sub-2201_ses-accel1_accel.csv.RData.csv\n"
     ]
    },
    {
     "name": "stderr",
     "output_type": "stream",
     "text": [
      "/var/folders/1w/l9hx8l952r57k_qmjhw7qc500000gn/T/ipykernel_52453/2342787335.py:87: DeprecationWarning: DataFrameGroupBy.apply operated on the grouping columns. This behavior is deprecated, and in a future version of pandas the grouping columns will be excluded from the operation. Either pass `include_groups=False` to exclude the groupings or explicitly select the grouping columns after groupby to silence this warning.\n",
      "  daily_summary = df.groupby('date', group_keys=False).apply(\n"
     ]
    },
    {
     "name": "stdout",
     "output_type": "stream",
     "text": [
      "Processing EXTEND file: /Volumes/vosslabhpc/Projects/BikeExtend/3-Experiment/2-Data/BIDS/derivatives/GGIR_2.8.2/sub-2470/ses-accel1/beh/output_beh/meta/csv/sub-2470_ses-accel1_accel.csv.RData.csv\n"
     ]
    },
    {
     "name": "stderr",
     "output_type": "stream",
     "text": [
      "/var/folders/1w/l9hx8l952r57k_qmjhw7qc500000gn/T/ipykernel_52453/2342787335.py:87: DeprecationWarning: DataFrameGroupBy.apply operated on the grouping columns. This behavior is deprecated, and in a future version of pandas the grouping columns will be excluded from the operation. Either pass `include_groups=False` to exclude the groupings or explicitly select the grouping columns after groupby to silence this warning.\n",
      "  daily_summary = df.groupby('date', group_keys=False).apply(\n"
     ]
    },
    {
     "name": "stdout",
     "output_type": "stream",
     "text": [
      "Processing EXTEND file: /Volumes/vosslabhpc/Projects/BikeExtend/3-Experiment/2-Data/BIDS/derivatives/GGIR_2.8.2/sub-2085/ses-accel1/beh/output_beh/meta/csv/sub-2085_ses-accel1_accel.csv.RData.csv\n"
     ]
    },
    {
     "name": "stderr",
     "output_type": "stream",
     "text": [
      "/var/folders/1w/l9hx8l952r57k_qmjhw7qc500000gn/T/ipykernel_52453/2342787335.py:87: DeprecationWarning: DataFrameGroupBy.apply operated on the grouping columns. This behavior is deprecated, and in a future version of pandas the grouping columns will be excluded from the operation. Either pass `include_groups=False` to exclude the groupings or explicitly select the grouping columns after groupby to silence this warning.\n",
      "  daily_summary = df.groupby('date', group_keys=False).apply(\n"
     ]
    },
    {
     "name": "stdout",
     "output_type": "stream",
     "text": [
      "Processing EXTEND file: /Volumes/vosslabhpc/Projects/BikeExtend/3-Experiment/2-Data/BIDS/derivatives/GGIR_2.8.2/sub-2521/ses-accel1/beh/output_beh/meta/csv/sub-2521_ses-accel1_accel.csv.RData.csv\n"
     ]
    },
    {
     "name": "stderr",
     "output_type": "stream",
     "text": [
      "/var/folders/1w/l9hx8l952r57k_qmjhw7qc500000gn/T/ipykernel_52453/2342787335.py:87: DeprecationWarning: DataFrameGroupBy.apply operated on the grouping columns. This behavior is deprecated, and in a future version of pandas the grouping columns will be excluded from the operation. Either pass `include_groups=False` to exclude the groupings or explicitly select the grouping columns after groupby to silence this warning.\n",
      "  daily_summary = df.groupby('date', group_keys=False).apply(\n"
     ]
    },
    {
     "name": "stdout",
     "output_type": "stream",
     "text": [
      "Processing EXTEND file: /Volumes/vosslabhpc/Projects/BikeExtend/3-Experiment/2-Data/BIDS/derivatives/GGIR_2.8.2/sub-2801/ses-accel1/beh/output_beh/meta/csv/sub-2801_ses-accel1_accel.csv.RData.csv\n"
     ]
    },
    {
     "name": "stderr",
     "output_type": "stream",
     "text": [
      "/var/folders/1w/l9hx8l952r57k_qmjhw7qc500000gn/T/ipykernel_52453/2342787335.py:87: DeprecationWarning: DataFrameGroupBy.apply operated on the grouping columns. This behavior is deprecated, and in a future version of pandas the grouping columns will be excluded from the operation. Either pass `include_groups=False` to exclude the groupings or explicitly select the grouping columns after groupby to silence this warning.\n",
      "  daily_summary = df.groupby('date', group_keys=False).apply(\n"
     ]
    },
    {
     "name": "stdout",
     "output_type": "stream",
     "text": [
      "Processing EXTEND file: /Volumes/vosslabhpc/Projects/BikeExtend/3-Experiment/2-Data/BIDS/derivatives/GGIR_2.8.2/sub-2218/ses-accel1/beh/output_beh/meta/csv/sub-2218_ses-accel1_accel.csv.RData.csv\n"
     ]
    },
    {
     "name": "stderr",
     "output_type": "stream",
     "text": [
      "/var/folders/1w/l9hx8l952r57k_qmjhw7qc500000gn/T/ipykernel_52453/2342787335.py:87: DeprecationWarning: DataFrameGroupBy.apply operated on the grouping columns. This behavior is deprecated, and in a future version of pandas the grouping columns will be excluded from the operation. Either pass `include_groups=False` to exclude the groupings or explicitly select the grouping columns after groupby to silence this warning.\n",
      "  daily_summary = df.groupby('date', group_keys=False).apply(\n"
     ]
    },
    {
     "name": "stdout",
     "output_type": "stream",
     "text": [
      "Processing EXTEND file: /Volumes/vosslabhpc/Projects/BikeExtend/3-Experiment/2-Data/BIDS/derivatives/GGIR_2.8.2/sub-2129/ses-accel1/beh/output_beh/meta/csv/sub-2129_ses-accel1_accel.csv.RData.csv\n"
     ]
    },
    {
     "name": "stderr",
     "output_type": "stream",
     "text": [
      "/var/folders/1w/l9hx8l952r57k_qmjhw7qc500000gn/T/ipykernel_52453/2342787335.py:87: DeprecationWarning: DataFrameGroupBy.apply operated on the grouping columns. This behavior is deprecated, and in a future version of pandas the grouping columns will be excluded from the operation. Either pass `include_groups=False` to exclude the groupings or explicitly select the grouping columns after groupby to silence this warning.\n",
      "  daily_summary = df.groupby('date', group_keys=False).apply(\n"
     ]
    },
    {
     "name": "stdout",
     "output_type": "stream",
     "text": [
      "Processing EXTEND file: /Volumes/vosslabhpc/Projects/BikeExtend/3-Experiment/2-Data/BIDS/derivatives/GGIR_2.8.2/sub-2053/ses-accel1/beh/output_beh/meta/csv/sub-2053_ses-accel1_accel.csv.RData.csv\n"
     ]
    },
    {
     "name": "stderr",
     "output_type": "stream",
     "text": [
      "/var/folders/1w/l9hx8l952r57k_qmjhw7qc500000gn/T/ipykernel_52453/2342787335.py:87: DeprecationWarning: DataFrameGroupBy.apply operated on the grouping columns. This behavior is deprecated, and in a future version of pandas the grouping columns will be excluded from the operation. Either pass `include_groups=False` to exclude the groupings or explicitly select the grouping columns after groupby to silence this warning.\n",
      "  daily_summary = df.groupby('date', group_keys=False).apply(\n"
     ]
    },
    {
     "name": "stdout",
     "output_type": "stream",
     "text": [
      "Processing EXTEND file: /Volumes/vosslabhpc/Projects/BikeExtend/3-Experiment/2-Data/BIDS/derivatives/GGIR_2.8.2/sub-2580/ses-accel1/beh/output_beh/meta/csv/sub-2580_ses-accel1_accel.csv.RData.csv\n"
     ]
    },
    {
     "name": "stderr",
     "output_type": "stream",
     "text": [
      "/var/folders/1w/l9hx8l952r57k_qmjhw7qc500000gn/T/ipykernel_52453/2342787335.py:87: DeprecationWarning: DataFrameGroupBy.apply operated on the grouping columns. This behavior is deprecated, and in a future version of pandas the grouping columns will be excluded from the operation. Either pass `include_groups=False` to exclude the groupings or explicitly select the grouping columns after groupby to silence this warning.\n",
      "  daily_summary = df.groupby('date', group_keys=False).apply(\n"
     ]
    },
    {
     "name": "stdout",
     "output_type": "stream",
     "text": [
      "Processing EXTEND file: /Volumes/vosslabhpc/Projects/BikeExtend/3-Experiment/2-Data/BIDS/derivatives/GGIR_2.8.2/sub-2584/ses-accel1/beh/output_beh/meta/csv/sub-2584_ses-accel1_accel.csv.RData.csv\n"
     ]
    },
    {
     "name": "stderr",
     "output_type": "stream",
     "text": [
      "/var/folders/1w/l9hx8l952r57k_qmjhw7qc500000gn/T/ipykernel_52453/2342787335.py:87: DeprecationWarning: DataFrameGroupBy.apply operated on the grouping columns. This behavior is deprecated, and in a future version of pandas the grouping columns will be excluded from the operation. Either pass `include_groups=False` to exclude the groupings or explicitly select the grouping columns after groupby to silence this warning.\n",
      "  daily_summary = df.groupby('date', group_keys=False).apply(\n"
     ]
    },
    {
     "name": "stdout",
     "output_type": "stream",
     "text": [
      "Processing EXTEND file: /Volumes/vosslabhpc/Projects/BikeExtend/3-Experiment/2-Data/BIDS/derivatives/GGIR_2.8.2/sub-2020/ses-accel1/beh/output_beh/meta/csv/sub-2020_ses-accel1_accel.csv.RData.csv\n"
     ]
    },
    {
     "name": "stderr",
     "output_type": "stream",
     "text": [
      "/var/folders/1w/l9hx8l952r57k_qmjhw7qc500000gn/T/ipykernel_52453/2342787335.py:87: DeprecationWarning: DataFrameGroupBy.apply operated on the grouping columns. This behavior is deprecated, and in a future version of pandas the grouping columns will be excluded from the operation. Either pass `include_groups=False` to exclude the groupings or explicitly select the grouping columns after groupby to silence this warning.\n",
      "  daily_summary = df.groupby('date', group_keys=False).apply(\n"
     ]
    },
    {
     "name": "stdout",
     "output_type": "stream",
     "text": [
      "Processing EXTEND file: /Volumes/vosslabhpc/Projects/BikeExtend/3-Experiment/2-Data/BIDS/derivatives/GGIR_2.8.2/sub-2057/ses-accel1/beh/output_beh/meta/csv/sub-2057_ses-accel1_accel.csv.RData.csv\n"
     ]
    },
    {
     "name": "stderr",
     "output_type": "stream",
     "text": [
      "/var/folders/1w/l9hx8l952r57k_qmjhw7qc500000gn/T/ipykernel_52453/2342787335.py:87: DeprecationWarning: DataFrameGroupBy.apply operated on the grouping columns. This behavior is deprecated, and in a future version of pandas the grouping columns will be excluded from the operation. Either pass `include_groups=False` to exclude the groupings or explicitly select the grouping columns after groupby to silence this warning.\n",
      "  daily_summary = df.groupby('date', group_keys=False).apply(\n"
     ]
    },
    {
     "name": "stdout",
     "output_type": "stream",
     "text": [
      "Processing EXTEND file: /Volumes/vosslabhpc/Projects/BikeExtend/3-Experiment/2-Data/BIDS/derivatives/GGIR_2.8.2/sub-2127/ses-accel1/beh/output_beh/meta/csv/sub-2127_ses-accel1_accel.csv.RData.csv\n"
     ]
    },
    {
     "name": "stderr",
     "output_type": "stream",
     "text": [
      "/var/folders/1w/l9hx8l952r57k_qmjhw7qc500000gn/T/ipykernel_52453/2342787335.py:87: DeprecationWarning: DataFrameGroupBy.apply operated on the grouping columns. This behavior is deprecated, and in a future version of pandas the grouping columns will be excluded from the operation. Either pass `include_groups=False` to exclude the groupings or explicitly select the grouping columns after groupby to silence this warning.\n",
      "  daily_summary = df.groupby('date', group_keys=False).apply(\n"
     ]
    },
    {
     "name": "stdout",
     "output_type": "stream",
     "text": [
      "Processing EXTEND file: /Volumes/vosslabhpc/Projects/BikeExtend/3-Experiment/2-Data/BIDS/derivatives/GGIR_2.8.2/sub-2224/ses-accel1/beh/output_beh/meta/csv/sub-2224_ses-accel1_accel.csv.RData.csv\n"
     ]
    },
    {
     "name": "stderr",
     "output_type": "stream",
     "text": [
      "/var/folders/1w/l9hx8l952r57k_qmjhw7qc500000gn/T/ipykernel_52453/2342787335.py:87: DeprecationWarning: DataFrameGroupBy.apply operated on the grouping columns. This behavior is deprecated, and in a future version of pandas the grouping columns will be excluded from the operation. Either pass `include_groups=False` to exclude the groupings or explicitly select the grouping columns after groupby to silence this warning.\n",
      "  daily_summary = df.groupby('date', group_keys=False).apply(\n"
     ]
    },
    {
     "name": "stdout",
     "output_type": "stream",
     "text": [
      "Processing EXTEND file: /Volumes/vosslabhpc/Projects/BikeExtend/3-Experiment/2-Data/BIDS/derivatives/GGIR_2.8.2/sub-2780/ses-accel1/beh/output_beh/meta/csv/sub-2780_ses-accel1_accel.csv.RData.csv\n"
     ]
    },
    {
     "name": "stderr",
     "output_type": "stream",
     "text": [
      "/var/folders/1w/l9hx8l952r57k_qmjhw7qc500000gn/T/ipykernel_52453/2342787335.py:87: DeprecationWarning: DataFrameGroupBy.apply operated on the grouping columns. This behavior is deprecated, and in a future version of pandas the grouping columns will be excluded from the operation. Either pass `include_groups=False` to exclude the groupings or explicitly select the grouping columns after groupby to silence this warning.\n",
      "  daily_summary = df.groupby('date', group_keys=False).apply(\n"
     ]
    },
    {
     "name": "stdout",
     "output_type": "stream",
     "text": [
      "Processing EXTEND file: /Volumes/vosslabhpc/Projects/BikeExtend/3-Experiment/2-Data/BIDS/derivatives/GGIR_2.8.2/sub-2259/ses-accel1/beh/output_beh/meta/csv/sub-2259_ses-accel1_accel.csv.RData.csv\n"
     ]
    },
    {
     "name": "stderr",
     "output_type": "stream",
     "text": [
      "/var/folders/1w/l9hx8l952r57k_qmjhw7qc500000gn/T/ipykernel_52453/2342787335.py:87: DeprecationWarning: DataFrameGroupBy.apply operated on the grouping columns. This behavior is deprecated, and in a future version of pandas the grouping columns will be excluded from the operation. Either pass `include_groups=False` to exclude the groupings or explicitly select the grouping columns after groupby to silence this warning.\n",
      "  daily_summary = df.groupby('date', group_keys=False).apply(\n"
     ]
    },
    {
     "name": "stdout",
     "output_type": "stream",
     "text": [
      "Processing EXTEND file: /Volumes/vosslabhpc/Projects/BikeExtend/3-Experiment/2-Data/BIDS/derivatives/GGIR_2.8.2/sub-2065/ses-accel1/beh/output_beh/meta/csv/sub-2065_ses-accel1_accel.csv.RData.csv\n"
     ]
    },
    {
     "name": "stderr",
     "output_type": "stream",
     "text": [
      "/var/folders/1w/l9hx8l952r57k_qmjhw7qc500000gn/T/ipykernel_52453/2342787335.py:87: DeprecationWarning: DataFrameGroupBy.apply operated on the grouping columns. This behavior is deprecated, and in a future version of pandas the grouping columns will be excluded from the operation. Either pass `include_groups=False` to exclude the groupings or explicitly select the grouping columns after groupby to silence this warning.\n",
      "  daily_summary = df.groupby('date', group_keys=False).apply(\n"
     ]
    },
    {
     "name": "stdout",
     "output_type": "stream",
     "text": [
      "Processing EXTEND file: /Volumes/vosslabhpc/Projects/BikeExtend/3-Experiment/2-Data/BIDS/derivatives/GGIR_2.8.2/sub-2186/ses-accel1/beh/output_beh/meta/csv/sub-2186_ses-accel1_accel.csv.RData.csv\n"
     ]
    },
    {
     "name": "stderr",
     "output_type": "stream",
     "text": [
      "/var/folders/1w/l9hx8l952r57k_qmjhw7qc500000gn/T/ipykernel_52453/2342787335.py:87: DeprecationWarning: DataFrameGroupBy.apply operated on the grouping columns. This behavior is deprecated, and in a future version of pandas the grouping columns will be excluded from the operation. Either pass `include_groups=False` to exclude the groupings or explicitly select the grouping columns after groupby to silence this warning.\n",
      "  daily_summary = df.groupby('date', group_keys=False).apply(\n"
     ]
    },
    {
     "name": "stdout",
     "output_type": "stream",
     "text": [
      "Processing EXTEND file: /Volumes/vosslabhpc/Projects/BikeExtend/3-Experiment/2-Data/BIDS/derivatives/GGIR_2.8.2/sub-2422/ses-accel1/beh/output_beh/meta/csv/sub-2422_ses-accel1_accel.csv.RData.csv\n"
     ]
    },
    {
     "name": "stderr",
     "output_type": "stream",
     "text": [
      "/var/folders/1w/l9hx8l952r57k_qmjhw7qc500000gn/T/ipykernel_52453/2342787335.py:87: DeprecationWarning: DataFrameGroupBy.apply operated on the grouping columns. This behavior is deprecated, and in a future version of pandas the grouping columns will be excluded from the operation. Either pass `include_groups=False` to exclude the groupings or explicitly select the grouping columns after groupby to silence this warning.\n",
      "  daily_summary = df.groupby('date', group_keys=False).apply(\n"
     ]
    },
    {
     "name": "stdout",
     "output_type": "stream",
     "text": [
      "Processing EXTEND file: /Volumes/vosslabhpc/Projects/BikeExtend/3-Experiment/2-Data/BIDS/derivatives/GGIR_2.8.2/sub-2388/ses-accel1/beh/output_beh/meta/csv/sub-2388_ses-accel1_accel.csv.RData.csv\n"
     ]
    },
    {
     "name": "stderr",
     "output_type": "stream",
     "text": [
      "/var/folders/1w/l9hx8l952r57k_qmjhw7qc500000gn/T/ipykernel_52453/2342787335.py:87: DeprecationWarning: DataFrameGroupBy.apply operated on the grouping columns. This behavior is deprecated, and in a future version of pandas the grouping columns will be excluded from the operation. Either pass `include_groups=False` to exclude the groupings or explicitly select the grouping columns after groupby to silence this warning.\n",
      "  daily_summary = df.groupby('date', group_keys=False).apply(\n"
     ]
    },
    {
     "name": "stdout",
     "output_type": "stream",
     "text": [
      "Processing EXTEND file: /Volumes/vosslabhpc/Projects/BikeExtend/3-Experiment/2-Data/BIDS/derivatives/GGIR_2.8.2/sub-2143/ses-accel1/beh/output_beh/meta/csv/sub-2143_ses-accel1_accel.csv.RData.csv\n"
     ]
    },
    {
     "name": "stderr",
     "output_type": "stream",
     "text": [
      "/var/folders/1w/l9hx8l952r57k_qmjhw7qc500000gn/T/ipykernel_52453/2342787335.py:87: DeprecationWarning: DataFrameGroupBy.apply operated on the grouping columns. This behavior is deprecated, and in a future version of pandas the grouping columns will be excluded from the operation. Either pass `include_groups=False` to exclude the groupings or explicitly select the grouping columns after groupby to silence this warning.\n",
      "  daily_summary = df.groupby('date', group_keys=False).apply(\n"
     ]
    },
    {
     "name": "stdout",
     "output_type": "stream",
     "text": [
      "Processing EXTEND file: /Volumes/vosslabhpc/Projects/BikeExtend/3-Experiment/2-Data/BIDS/derivatives/GGIR_2.8.2/sub-2149/ses-accel1/beh/output_beh/meta/csv/sub-2149_ses-accel1_accel.csv.RData.csv\n"
     ]
    },
    {
     "name": "stderr",
     "output_type": "stream",
     "text": [
      "/var/folders/1w/l9hx8l952r57k_qmjhw7qc500000gn/T/ipykernel_52453/2342787335.py:87: DeprecationWarning: DataFrameGroupBy.apply operated on the grouping columns. This behavior is deprecated, and in a future version of pandas the grouping columns will be excluded from the operation. Either pass `include_groups=False` to exclude the groupings or explicitly select the grouping columns after groupby to silence this warning.\n",
      "  daily_summary = df.groupby('date', group_keys=False).apply(\n"
     ]
    },
    {
     "name": "stdout",
     "output_type": "stream",
     "text": [
      "Processing EXTEND file: /Volumes/vosslabhpc/Projects/BikeExtend/3-Experiment/2-Data/BIDS/derivatives/GGIR_2.8.2/sub-2579/ses-accel1/beh/output_beh/meta/csv/sub-2579_ses-accel1_accel.csv.RData.csv\n"
     ]
    },
    {
     "name": "stderr",
     "output_type": "stream",
     "text": [
      "/var/folders/1w/l9hx8l952r57k_qmjhw7qc500000gn/T/ipykernel_52453/2342787335.py:87: DeprecationWarning: DataFrameGroupBy.apply operated on the grouping columns. This behavior is deprecated, and in a future version of pandas the grouping columns will be excluded from the operation. Either pass `include_groups=False` to exclude the groupings or explicitly select the grouping columns after groupby to silence this warning.\n",
      "  daily_summary = df.groupby('date', group_keys=False).apply(\n"
     ]
    },
    {
     "name": "stdout",
     "output_type": "stream",
     "text": [
      "Processing EXTEND file: /Volumes/vosslabhpc/Projects/BikeExtend/3-Experiment/2-Data/BIDS/derivatives/GGIR_2.8.2/sub-2859/ses-accel1/beh/output_beh/meta/csv/sub-2859_ses-accel1_accel.csv.RData.csv\n"
     ]
    },
    {
     "name": "stderr",
     "output_type": "stream",
     "text": [
      "/var/folders/1w/l9hx8l952r57k_qmjhw7qc500000gn/T/ipykernel_52453/2342787335.py:87: DeprecationWarning: DataFrameGroupBy.apply operated on the grouping columns. This behavior is deprecated, and in a future version of pandas the grouping columns will be excluded from the operation. Either pass `include_groups=False` to exclude the groupings or explicitly select the grouping columns after groupby to silence this warning.\n",
      "  daily_summary = df.groupby('date', group_keys=False).apply(\n"
     ]
    },
    {
     "name": "stdout",
     "output_type": "stream",
     "text": [
      "Processing EXTEND file: /Volumes/vosslabhpc/Projects/BikeExtend/3-Experiment/2-Data/BIDS/derivatives/GGIR_2.8.2/sub-2106/ses-accel1/beh/output_beh/meta/csv/sub-2106_ses-accel1_accel.csv.RData.csv\n"
     ]
    },
    {
     "name": "stderr",
     "output_type": "stream",
     "text": [
      "/var/folders/1w/l9hx8l952r57k_qmjhw7qc500000gn/T/ipykernel_52453/2342787335.py:87: DeprecationWarning: DataFrameGroupBy.apply operated on the grouping columns. This behavior is deprecated, and in a future version of pandas the grouping columns will be excluded from the operation. Either pass `include_groups=False` to exclude the groupings or explicitly select the grouping columns after groupby to silence this warning.\n",
      "  daily_summary = df.groupby('date', group_keys=False).apply(\n"
     ]
    },
    {
     "name": "stdout",
     "output_type": "stream",
     "text": [
      "Processing EXTEND file: /Volumes/vosslabhpc/Projects/BikeExtend/3-Experiment/2-Data/BIDS/derivatives/GGIR_2.8.2/sub-2861/ses-accel1/beh/output_beh/meta/csv/sub-2861_ses-accel1_accel.csv.RData.csv\n"
     ]
    },
    {
     "name": "stderr",
     "output_type": "stream",
     "text": [
      "/var/folders/1w/l9hx8l952r57k_qmjhw7qc500000gn/T/ipykernel_52453/2342787335.py:87: DeprecationWarning: DataFrameGroupBy.apply operated on the grouping columns. This behavior is deprecated, and in a future version of pandas the grouping columns will be excluded from the operation. Either pass `include_groups=False` to exclude the groupings or explicitly select the grouping columns after groupby to silence this warning.\n",
      "  daily_summary = df.groupby('date', group_keys=False).apply(\n"
     ]
    },
    {
     "name": "stdout",
     "output_type": "stream",
     "text": [
      "Processing EXTEND file: /Volumes/vosslabhpc/Projects/BikeExtend/3-Experiment/2-Data/BIDS/derivatives/GGIR_2.8.2/sub-2648/ses-accel1/beh/output_beh/meta/csv/sub-2648_ses-accel1_accel.csv.RData.csv\n"
     ]
    },
    {
     "name": "stderr",
     "output_type": "stream",
     "text": [
      "/var/folders/1w/l9hx8l952r57k_qmjhw7qc500000gn/T/ipykernel_52453/2342787335.py:87: DeprecationWarning: DataFrameGroupBy.apply operated on the grouping columns. This behavior is deprecated, and in a future version of pandas the grouping columns will be excluded from the operation. Either pass `include_groups=False` to exclude the groupings or explicitly select the grouping columns after groupby to silence this warning.\n",
      "  daily_summary = df.groupby('date', group_keys=False).apply(\n"
     ]
    },
    {
     "name": "stdout",
     "output_type": "stream",
     "text": [
      "Processing EXTEND file: /Volumes/vosslabhpc/Projects/BikeExtend/3-Experiment/2-Data/BIDS/derivatives/GGIR_2.8.2/sub-2745/ses-accel1/beh/output_beh/meta/csv/sub-2745_ses-accel1_accel.csv.RData.csv\n"
     ]
    },
    {
     "name": "stderr",
     "output_type": "stream",
     "text": [
      "/var/folders/1w/l9hx8l952r57k_qmjhw7qc500000gn/T/ipykernel_52453/2342787335.py:87: DeprecationWarning: DataFrameGroupBy.apply operated on the grouping columns. This behavior is deprecated, and in a future version of pandas the grouping columns will be excluded from the operation. Either pass `include_groups=False` to exclude the groupings or explicitly select the grouping columns after groupby to silence this warning.\n",
      "  daily_summary = df.groupby('date', group_keys=False).apply(\n"
     ]
    },
    {
     "name": "stdout",
     "output_type": "stream",
     "text": [
      "Processing EXTEND file: /Volumes/vosslabhpc/Projects/BikeExtend/3-Experiment/2-Data/BIDS/derivatives/GGIR_2.8.2/sub-2302/ses-accel1/beh/output_beh/meta/csv/sub-2302_ses-accel1_accel.csv.RData.csv\n"
     ]
    },
    {
     "name": "stderr",
     "output_type": "stream",
     "text": [
      "/var/folders/1w/l9hx8l952r57k_qmjhw7qc500000gn/T/ipykernel_52453/2342787335.py:87: DeprecationWarning: DataFrameGroupBy.apply operated on the grouping columns. This behavior is deprecated, and in a future version of pandas the grouping columns will be excluded from the operation. Either pass `include_groups=False` to exclude the groupings or explicitly select the grouping columns after groupby to silence this warning.\n",
      "  daily_summary = df.groupby('date', group_keys=False).apply(\n"
     ]
    },
    {
     "name": "stdout",
     "output_type": "stream",
     "text": [
      "Processing EXTEND file: /Volumes/vosslabhpc/Projects/BikeExtend/3-Experiment/2-Data/BIDS/derivatives/GGIR_2.8.2/sub-2095/ses-accel1/beh/output_beh/meta/csv/sub-2095_ses-accel1_accel.csv.RData.csv\n"
     ]
    },
    {
     "name": "stderr",
     "output_type": "stream",
     "text": [
      "/var/folders/1w/l9hx8l952r57k_qmjhw7qc500000gn/T/ipykernel_52453/2342787335.py:87: DeprecationWarning: DataFrameGroupBy.apply operated on the grouping columns. This behavior is deprecated, and in a future version of pandas the grouping columns will be excluded from the operation. Either pass `include_groups=False` to exclude the groupings or explicitly select the grouping columns after groupby to silence this warning.\n",
      "  daily_summary = df.groupby('date', group_keys=False).apply(\n"
     ]
    },
    {
     "name": "stdout",
     "output_type": "stream",
     "text": [
      "Processing EXTEND file: /Volumes/vosslabhpc/Projects/BikeExtend/3-Experiment/2-Data/BIDS/derivatives/GGIR_2.8.2/sub-2770/ses-accel1/beh/output_beh/meta/csv/sub-2770_ses-accel1_accel.csv.RData.csv\n"
     ]
    },
    {
     "name": "stderr",
     "output_type": "stream",
     "text": [
      "/var/folders/1w/l9hx8l952r57k_qmjhw7qc500000gn/T/ipykernel_52453/2342787335.py:87: DeprecationWarning: DataFrameGroupBy.apply operated on the grouping columns. This behavior is deprecated, and in a future version of pandas the grouping columns will be excluded from the operation. Either pass `include_groups=False` to exclude the groupings or explicitly select the grouping columns after groupby to silence this warning.\n",
      "  daily_summary = df.groupby('date', group_keys=False).apply(\n"
     ]
    },
    {
     "name": "stdout",
     "output_type": "stream",
     "text": [
      "Processing EXTEND file: /Volumes/vosslabhpc/Projects/BikeExtend/3-Experiment/2-Data/BIDS/derivatives/GGIR_2.8.2/sub-2385/ses-accel1/beh/output_beh/meta/csv/sub-2385_ses-accel1_accel.csv.RData.csv\n"
     ]
    },
    {
     "name": "stderr",
     "output_type": "stream",
     "text": [
      "/var/folders/1w/l9hx8l952r57k_qmjhw7qc500000gn/T/ipykernel_52453/2342787335.py:87: DeprecationWarning: DataFrameGroupBy.apply operated on the grouping columns. This behavior is deprecated, and in a future version of pandas the grouping columns will be excluded from the operation. Either pass `include_groups=False` to exclude the groupings or explicitly select the grouping columns after groupby to silence this warning.\n",
      "  daily_summary = df.groupby('date', group_keys=False).apply(\n"
     ]
    },
    {
     "name": "stdout",
     "output_type": "stream",
     "text": [
      "Processing EXTEND file: /Volumes/vosslabhpc/Projects/BikeExtend/3-Experiment/2-Data/BIDS/derivatives/GGIR_2.8.2/sub-2211/ses-accel1/beh/output_beh/meta/csv/sub-2211_ses-accel1_accel.csv.RData.csv\n"
     ]
    },
    {
     "name": "stderr",
     "output_type": "stream",
     "text": [
      "/var/folders/1w/l9hx8l952r57k_qmjhw7qc500000gn/T/ipykernel_52453/2342787335.py:87: DeprecationWarning: DataFrameGroupBy.apply operated on the grouping columns. This behavior is deprecated, and in a future version of pandas the grouping columns will be excluded from the operation. Either pass `include_groups=False` to exclude the groupings or explicitly select the grouping columns after groupby to silence this warning.\n",
      "  daily_summary = df.groupby('date', group_keys=False).apply(\n"
     ]
    },
    {
     "name": "stdout",
     "output_type": "stream",
     "text": [
      "Processing EXTEND file: /Volumes/vosslabhpc/Projects/BikeExtend/3-Experiment/2-Data/BIDS/derivatives/GGIR_2.8.2/sub-2316/ses-accel1/beh/output_beh/meta/csv/sub-2316_ses-accel1_accel.csv.RData.csv\n"
     ]
    },
    {
     "name": "stderr",
     "output_type": "stream",
     "text": [
      "/var/folders/1w/l9hx8l952r57k_qmjhw7qc500000gn/T/ipykernel_52453/2342787335.py:87: DeprecationWarning: DataFrameGroupBy.apply operated on the grouping columns. This behavior is deprecated, and in a future version of pandas the grouping columns will be excluded from the operation. Either pass `include_groups=False` to exclude the groupings or explicitly select the grouping columns after groupby to silence this warning.\n",
      "  daily_summary = df.groupby('date', group_keys=False).apply(\n"
     ]
    },
    {
     "name": "stdout",
     "output_type": "stream",
     "text": [
      "Processing EXTEND file: /Volumes/vosslabhpc/Projects/BikeExtend/3-Experiment/2-Data/BIDS/derivatives/GGIR_2.8.2/sub-2118/ses-accel1/beh/output_beh/meta/csv/sub-2118_ses-accel1_accel.csv.RData.csv\n"
     ]
    },
    {
     "name": "stderr",
     "output_type": "stream",
     "text": [
      "/var/folders/1w/l9hx8l952r57k_qmjhw7qc500000gn/T/ipykernel_52453/2342787335.py:87: DeprecationWarning: DataFrameGroupBy.apply operated on the grouping columns. This behavior is deprecated, and in a future version of pandas the grouping columns will be excluded from the operation. Either pass `include_groups=False` to exclude the groupings or explicitly select the grouping columns after groupby to silence this warning.\n",
      "  daily_summary = df.groupby('date', group_keys=False).apply(\n"
     ]
    },
    {
     "name": "stdout",
     "output_type": "stream",
     "text": [
      "Processing EXTEND file: /Volumes/vosslabhpc/Projects/BikeExtend/3-Experiment/2-Data/BIDS/derivatives/GGIR_2.8.2/sub-2452/ses-accel1/beh/output_beh/meta/csv/sub-2452_ses-accel1_accel.csv.RData.csv\n"
     ]
    },
    {
     "name": "stderr",
     "output_type": "stream",
     "text": [
      "/var/folders/1w/l9hx8l952r57k_qmjhw7qc500000gn/T/ipykernel_52453/2342787335.py:87: DeprecationWarning: DataFrameGroupBy.apply operated on the grouping columns. This behavior is deprecated, and in a future version of pandas the grouping columns will be excluded from the operation. Either pass `include_groups=False` to exclude the groupings or explicitly select the grouping columns after groupby to silence this warning.\n",
      "  daily_summary = df.groupby('date', group_keys=False).apply(\n"
     ]
    },
    {
     "name": "stdout",
     "output_type": "stream",
     "text": [
      "Processing EXTEND file: /Volumes/vosslabhpc/Projects/BikeExtend/3-Experiment/2-Data/BIDS/derivatives/GGIR_2.8.2/sub-2112/ses-accel1/beh/output_beh/meta/csv/sub-2112_ses-accel1_accel.csv.RData.csv\n"
     ]
    },
    {
     "name": "stderr",
     "output_type": "stream",
     "text": [
      "/var/folders/1w/l9hx8l952r57k_qmjhw7qc500000gn/T/ipykernel_52453/2342787335.py:87: DeprecationWarning: DataFrameGroupBy.apply operated on the grouping columns. This behavior is deprecated, and in a future version of pandas the grouping columns will be excluded from the operation. Either pass `include_groups=False` to exclude the groupings or explicitly select the grouping columns after groupby to silence this warning.\n",
      "  daily_summary = df.groupby('date', group_keys=False).apply(\n"
     ]
    },
    {
     "name": "stdout",
     "output_type": "stream",
     "text": [
      "Processing EXTEND file: /Volumes/vosslabhpc/Projects/BikeExtend/3-Experiment/2-Data/BIDS/derivatives/GGIR_2.8.2/sub-2353/ses-accel1/beh/output_beh/meta/csv/sub-2353_ses-accel1_accel.csv.RData.csv\n"
     ]
    },
    {
     "name": "stderr",
     "output_type": "stream",
     "text": [
      "/var/folders/1w/l9hx8l952r57k_qmjhw7qc500000gn/T/ipykernel_52453/2342787335.py:87: DeprecationWarning: DataFrameGroupBy.apply operated on the grouping columns. This behavior is deprecated, and in a future version of pandas the grouping columns will be excluded from the operation. Either pass `include_groups=False` to exclude the groupings or explicitly select the grouping columns after groupby to silence this warning.\n",
      "  daily_summary = df.groupby('date', group_keys=False).apply(\n"
     ]
    },
    {
     "name": "stdout",
     "output_type": "stream",
     "text": [
      "Processing EXTEND file: /Volumes/vosslabhpc/Projects/BikeExtend/3-Experiment/2-Data/BIDS/derivatives/GGIR_2.8.2/sub-2417/ses-accel1/beh/output_beh/meta/csv/sub-2417_ses-accel1_accel.csv.RData.csv\n"
     ]
    },
    {
     "name": "stderr",
     "output_type": "stream",
     "text": [
      "/var/folders/1w/l9hx8l952r57k_qmjhw7qc500000gn/T/ipykernel_52453/2342787335.py:87: DeprecationWarning: DataFrameGroupBy.apply operated on the grouping columns. This behavior is deprecated, and in a future version of pandas the grouping columns will be excluded from the operation. Either pass `include_groups=False` to exclude the groupings or explicitly select the grouping columns after groupby to silence this warning.\n",
      "  daily_summary = df.groupby('date', group_keys=False).apply(\n"
     ]
    },
    {
     "name": "stdout",
     "output_type": "stream",
     "text": [
      "Processing EXTEND file: /Volumes/vosslabhpc/Projects/BikeExtend/3-Experiment/2-Data/BIDS/derivatives/GGIR_2.8.2/sub-2120/ses-accel1/beh/output_beh/meta/csv/sub-2120_ses-accel1_accel.csv.RData.csv\n"
     ]
    },
    {
     "name": "stderr",
     "output_type": "stream",
     "text": [
      "/var/folders/1w/l9hx8l952r57k_qmjhw7qc500000gn/T/ipykernel_52453/2342787335.py:87: DeprecationWarning: DataFrameGroupBy.apply operated on the grouping columns. This behavior is deprecated, and in a future version of pandas the grouping columns will be excluded from the operation. Either pass `include_groups=False` to exclude the groupings or explicitly select the grouping columns after groupby to silence this warning.\n",
      "  daily_summary = df.groupby('date', group_keys=False).apply(\n"
     ]
    },
    {
     "name": "stdout",
     "output_type": "stream",
     "text": [
      "Processing EXTEND file: /Volumes/vosslabhpc/Projects/BikeExtend/3-Experiment/2-Data/BIDS/derivatives/GGIR_2.8.2/sub-2629/ses-accel2/beh/output_beh/meta/csv/sub-2629_ses-accel2_accel.csv.RData.csv\n"
     ]
    },
    {
     "name": "stderr",
     "output_type": "stream",
     "text": [
      "/var/folders/1w/l9hx8l952r57k_qmjhw7qc500000gn/T/ipykernel_52453/2342787335.py:87: DeprecationWarning: DataFrameGroupBy.apply operated on the grouping columns. This behavior is deprecated, and in a future version of pandas the grouping columns will be excluded from the operation. Either pass `include_groups=False` to exclude the groupings or explicitly select the grouping columns after groupby to silence this warning.\n",
      "  daily_summary = df.groupby('date', group_keys=False).apply(\n"
     ]
    },
    {
     "name": "stdout",
     "output_type": "stream",
     "text": [
      "Processing EXTEND file: /Volumes/vosslabhpc/Projects/BikeExtend/3-Experiment/2-Data/BIDS/derivatives/GGIR_2.8.2/sub-2221/ses-accel2/beh/output_beh/meta/csv/sub-2221_ses-accel2_accel.csv.RData.csv\n"
     ]
    },
    {
     "name": "stderr",
     "output_type": "stream",
     "text": [
      "/var/folders/1w/l9hx8l952r57k_qmjhw7qc500000gn/T/ipykernel_52453/2342787335.py:87: DeprecationWarning: DataFrameGroupBy.apply operated on the grouping columns. This behavior is deprecated, and in a future version of pandas the grouping columns will be excluded from the operation. Either pass `include_groups=False` to exclude the groupings or explicitly select the grouping columns after groupby to silence this warning.\n",
      "  daily_summary = df.groupby('date', group_keys=False).apply(\n"
     ]
    },
    {
     "name": "stdout",
     "output_type": "stream",
     "text": [
      "Processing EXTEND file: /Volumes/vosslabhpc/Projects/BikeExtend/3-Experiment/2-Data/BIDS/derivatives/GGIR_2.8.2/sub-2813/ses-accel2/beh/output_beh/meta/csv/sub-2813_ses-accel2_accel.csv.RData.csv\n"
     ]
    },
    {
     "name": "stderr",
     "output_type": "stream",
     "text": [
      "/var/folders/1w/l9hx8l952r57k_qmjhw7qc500000gn/T/ipykernel_52453/2342787335.py:87: DeprecationWarning: DataFrameGroupBy.apply operated on the grouping columns. This behavior is deprecated, and in a future version of pandas the grouping columns will be excluded from the operation. Either pass `include_groups=False` to exclude the groupings or explicitly select the grouping columns after groupby to silence this warning.\n",
      "  daily_summary = df.groupby('date', group_keys=False).apply(\n"
     ]
    },
    {
     "name": "stdout",
     "output_type": "stream",
     "text": [
      "Processing EXTEND file: /Volumes/vosslabhpc/Projects/BikeExtend/3-Experiment/2-Data/BIDS/derivatives/GGIR_2.8.2/sub-2826/ses-accel2/beh/output_beh/meta/csv/sub-2826_ses-accel2_accel.csv.RData.csv\n"
     ]
    },
    {
     "name": "stderr",
     "output_type": "stream",
     "text": [
      "/var/folders/1w/l9hx8l952r57k_qmjhw7qc500000gn/T/ipykernel_52453/2342787335.py:87: DeprecationWarning: DataFrameGroupBy.apply operated on the grouping columns. This behavior is deprecated, and in a future version of pandas the grouping columns will be excluded from the operation. Either pass `include_groups=False` to exclude the groupings or explicitly select the grouping columns after groupby to silence this warning.\n",
      "  daily_summary = df.groupby('date', group_keys=False).apply(\n"
     ]
    },
    {
     "name": "stdout",
     "output_type": "stream",
     "text": [
      "Processing EXTEND file: /Volumes/vosslabhpc/Projects/BikeExtend/3-Experiment/2-Data/BIDS/derivatives/GGIR_2.8.2/sub-2637/ses-accel2/beh/output_beh/meta/csv/sub-2637_ses-accel2_accel.csv.RData.csv\n"
     ]
    },
    {
     "name": "stderr",
     "output_type": "stream",
     "text": [
      "/var/folders/1w/l9hx8l952r57k_qmjhw7qc500000gn/T/ipykernel_52453/2342787335.py:87: DeprecationWarning: DataFrameGroupBy.apply operated on the grouping columns. This behavior is deprecated, and in a future version of pandas the grouping columns will be excluded from the operation. Either pass `include_groups=False` to exclude the groupings or explicitly select the grouping columns after groupby to silence this warning.\n",
      "  daily_summary = df.groupby('date', group_keys=False).apply(\n"
     ]
    },
    {
     "name": "stdout",
     "output_type": "stream",
     "text": [
      "Processing EXTEND file: /Volumes/vosslabhpc/Projects/BikeExtend/3-Experiment/2-Data/BIDS/derivatives/GGIR_2.8.2/sub-2616/ses-accel2/beh/output_beh/meta/csv/sub-2616_ses-accel2_accel.csv.RData.csv\n"
     ]
    },
    {
     "name": "stderr",
     "output_type": "stream",
     "text": [
      "/var/folders/1w/l9hx8l952r57k_qmjhw7qc500000gn/T/ipykernel_52453/2342787335.py:87: DeprecationWarning: DataFrameGroupBy.apply operated on the grouping columns. This behavior is deprecated, and in a future version of pandas the grouping columns will be excluded from the operation. Either pass `include_groups=False` to exclude the groupings or explicitly select the grouping columns after groupby to silence this warning.\n",
      "  daily_summary = df.groupby('date', group_keys=False).apply(\n"
     ]
    },
    {
     "name": "stdout",
     "output_type": "stream",
     "text": [
      "Processing EXTEND file: /Volumes/vosslabhpc/Projects/BikeExtend/3-Experiment/2-Data/BIDS/derivatives/GGIR_2.8.2/sub-2842/ses-accel2/beh/output_beh/meta/csv/sub-2842_ses-accel2_accel.csv.RData.csv\n"
     ]
    },
    {
     "name": "stderr",
     "output_type": "stream",
     "text": [
      "/var/folders/1w/l9hx8l952r57k_qmjhw7qc500000gn/T/ipykernel_52453/2342787335.py:87: DeprecationWarning: DataFrameGroupBy.apply operated on the grouping columns. This behavior is deprecated, and in a future version of pandas the grouping columns will be excluded from the operation. Either pass `include_groups=False` to exclude the groupings or explicitly select the grouping columns after groupby to silence this warning.\n",
      "  daily_summary = df.groupby('date', group_keys=False).apply(\n"
     ]
    },
    {
     "name": "stdout",
     "output_type": "stream",
     "text": [
      "Processing EXTEND file: /Volumes/vosslabhpc/Projects/BikeExtend/3-Experiment/2-Data/BIDS/derivatives/GGIR_2.8.2/sub-2653/ses-accel2/beh/output_beh/meta/csv/sub-2653_ses-accel2_accel.csv.RData.csv\n"
     ]
    },
    {
     "name": "stderr",
     "output_type": "stream",
     "text": [
      "/var/folders/1w/l9hx8l952r57k_qmjhw7qc500000gn/T/ipykernel_52453/2342787335.py:87: DeprecationWarning: DataFrameGroupBy.apply operated on the grouping columns. This behavior is deprecated, and in a future version of pandas the grouping columns will be excluded from the operation. Either pass `include_groups=False` to exclude the groupings or explicitly select the grouping columns after groupby to silence this warning.\n",
      "  daily_summary = df.groupby('date', group_keys=False).apply(\n"
     ]
    },
    {
     "name": "stdout",
     "output_type": "stream",
     "text": [
      "Processing EXTEND file: /Volumes/vosslabhpc/Projects/BikeExtend/3-Experiment/2-Data/BIDS/derivatives/GGIR_2.8.2/sub-2846/ses-accel2/beh/output_beh/meta/csv/sub-2846_ses-accel2_accel.csv.RData.csv\n"
     ]
    },
    {
     "name": "stderr",
     "output_type": "stream",
     "text": [
      "/var/folders/1w/l9hx8l952r57k_qmjhw7qc500000gn/T/ipykernel_52453/2342787335.py:87: DeprecationWarning: DataFrameGroupBy.apply operated on the grouping columns. This behavior is deprecated, and in a future version of pandas the grouping columns will be excluded from the operation. Either pass `include_groups=False` to exclude the groupings or explicitly select the grouping columns after groupby to silence this warning.\n",
      "  daily_summary = df.groupby('date', group_keys=False).apply(\n"
     ]
    },
    {
     "name": "stdout",
     "output_type": "stream",
     "text": [
      "Processing EXTEND file: /Volumes/vosslabhpc/Projects/BikeExtend/3-Experiment/2-Data/BIDS/derivatives/GGIR_2.8.2/sub-2643/ses-accel2/beh/output_beh/meta/csv/sub-2643_ses-accel2_accel.csv.RData.csv\n"
     ]
    },
    {
     "name": "stderr",
     "output_type": "stream",
     "text": [
      "/var/folders/1w/l9hx8l952r57k_qmjhw7qc500000gn/T/ipykernel_52453/2342787335.py:87: DeprecationWarning: DataFrameGroupBy.apply operated on the grouping columns. This behavior is deprecated, and in a future version of pandas the grouping columns will be excluded from the operation. Either pass `include_groups=False` to exclude the groupings or explicitly select the grouping columns after groupby to silence this warning.\n",
      "  daily_summary = df.groupby('date', group_keys=False).apply(\n"
     ]
    },
    {
     "name": "stdout",
     "output_type": "stream",
     "text": [
      "Processing EXTEND file: /Volumes/vosslabhpc/Projects/BikeExtend/3-Experiment/2-Data/BIDS/derivatives/GGIR_2.8.2/sub-2739/ses-accel2/beh/output_beh/meta/csv/sub-2739_ses-accel2_accel.csv.RData.csv\n"
     ]
    },
    {
     "name": "stderr",
     "output_type": "stream",
     "text": [
      "/var/folders/1w/l9hx8l952r57k_qmjhw7qc500000gn/T/ipykernel_52453/2342787335.py:87: DeprecationWarning: DataFrameGroupBy.apply operated on the grouping columns. This behavior is deprecated, and in a future version of pandas the grouping columns will be excluded from the operation. Either pass `include_groups=False` to exclude the groupings or explicitly select the grouping columns after groupby to silence this warning.\n",
      "  daily_summary = df.groupby('date', group_keys=False).apply(\n"
     ]
    },
    {
     "name": "stdout",
     "output_type": "stream",
     "text": [
      "Processing EXTEND file: /Volumes/vosslabhpc/Projects/BikeExtend/3-Experiment/2-Data/BIDS/derivatives/GGIR_2.8.2/sub-2841/ses-accel2/beh/output_beh/meta/csv/sub-2841_ses-accel2_accel.csv.RData.csv\n"
     ]
    },
    {
     "name": "stderr",
     "output_type": "stream",
     "text": [
      "/var/folders/1w/l9hx8l952r57k_qmjhw7qc500000gn/T/ipykernel_52453/2342787335.py:87: DeprecationWarning: DataFrameGroupBy.apply operated on the grouping columns. This behavior is deprecated, and in a future version of pandas the grouping columns will be excluded from the operation. Either pass `include_groups=False` to exclude the groupings or explicitly select the grouping columns after groupby to silence this warning.\n",
      "  daily_summary = df.groupby('date', group_keys=False).apply(\n"
     ]
    },
    {
     "name": "stdout",
     "output_type": "stream",
     "text": [
      "Processing EXTEND file: /Volumes/vosslabhpc/Projects/BikeExtend/3-Experiment/2-Data/BIDS/derivatives/GGIR_2.8.2/sub-2718/ses-accel2/beh/output_beh/meta/csv/sub-2718_ses-accel2_accel.csv.RData.csv\n"
     ]
    },
    {
     "name": "stderr",
     "output_type": "stream",
     "text": [
      "/var/folders/1w/l9hx8l952r57k_qmjhw7qc500000gn/T/ipykernel_52453/2342787335.py:87: DeprecationWarning: DataFrameGroupBy.apply operated on the grouping columns. This behavior is deprecated, and in a future version of pandas the grouping columns will be excluded from the operation. Either pass `include_groups=False` to exclude the groupings or explicitly select the grouping columns after groupby to silence this warning.\n",
      "  daily_summary = df.groupby('date', group_keys=False).apply(\n"
     ]
    },
    {
     "name": "stdout",
     "output_type": "stream",
     "text": [
      "Processing EXTEND file: /Volumes/vosslabhpc/Projects/BikeExtend/3-Experiment/2-Data/BIDS/derivatives/GGIR_2.8.2/sub-2646/ses-accel2/beh/output_beh/meta/csv/sub-2646_ses-accel2_accel.csv.RData.csv\n"
     ]
    },
    {
     "name": "stderr",
     "output_type": "stream",
     "text": [
      "/var/folders/1w/l9hx8l952r57k_qmjhw7qc500000gn/T/ipykernel_52453/2342787335.py:87: DeprecationWarning: DataFrameGroupBy.apply operated on the grouping columns. This behavior is deprecated, and in a future version of pandas the grouping columns will be excluded from the operation. Either pass `include_groups=False` to exclude the groupings or explicitly select the grouping columns after groupby to silence this warning.\n",
      "  daily_summary = df.groupby('date', group_keys=False).apply(\n"
     ]
    },
    {
     "name": "stdout",
     "output_type": "stream",
     "text": [
      "Processing EXTEND file: /Volumes/vosslabhpc/Projects/BikeExtend/3-Experiment/2-Data/BIDS/derivatives/GGIR_2.8.2/sub-2820/ses-accel2/beh/output_beh/meta/csv/sub-2820_ses-accel2_accel.csv.RData.csv\n"
     ]
    },
    {
     "name": "stderr",
     "output_type": "stream",
     "text": [
      "/var/folders/1w/l9hx8l952r57k_qmjhw7qc500000gn/T/ipykernel_52453/2342787335.py:87: DeprecationWarning: DataFrameGroupBy.apply operated on the grouping columns. This behavior is deprecated, and in a future version of pandas the grouping columns will be excluded from the operation. Either pass `include_groups=False` to exclude the groupings or explicitly select the grouping columns after groupby to silence this warning.\n",
      "  daily_summary = df.groupby('date', group_keys=False).apply(\n"
     ]
    },
    {
     "name": "stdout",
     "output_type": "stream",
     "text": [
      "Processing EXTEND file: /Volumes/vosslabhpc/Projects/BikeExtend/3-Experiment/2-Data/BIDS/derivatives/GGIR_2.8.2/sub-2603/ses-accel2/beh/output_beh/meta/csv/sub-2603_ses-accel2_accel.csv.RData.csv\n"
     ]
    },
    {
     "name": "stderr",
     "output_type": "stream",
     "text": [
      "/var/folders/1w/l9hx8l952r57k_qmjhw7qc500000gn/T/ipykernel_52453/2342787335.py:87: DeprecationWarning: DataFrameGroupBy.apply operated on the grouping columns. This behavior is deprecated, and in a future version of pandas the grouping columns will be excluded from the operation. Either pass `include_groups=False` to exclude the groupings or explicitly select the grouping columns after groupby to silence this warning.\n",
      "  daily_summary = df.groupby('date', group_keys=False).apply(\n"
     ]
    },
    {
     "name": "stdout",
     "output_type": "stream",
     "text": [
      "Processing EXTEND file: /Volumes/vosslabhpc/Projects/BikeExtend/3-Experiment/2-Data/BIDS/derivatives/GGIR_2.8.2/sub-2609/ses-accel2/beh/output_beh/meta/csv/sub-2609_ses-accel2_accel.csv.RData.csv\n"
     ]
    },
    {
     "name": "stderr",
     "output_type": "stream",
     "text": [
      "/var/folders/1w/l9hx8l952r57k_qmjhw7qc500000gn/T/ipykernel_52453/2342787335.py:87: DeprecationWarning: DataFrameGroupBy.apply operated on the grouping columns. This behavior is deprecated, and in a future version of pandas the grouping columns will be excluded from the operation. Either pass `include_groups=False` to exclude the groupings or explicitly select the grouping columns after groupby to silence this warning.\n",
      "  daily_summary = df.groupby('date', group_keys=False).apply(\n"
     ]
    },
    {
     "name": "stdout",
     "output_type": "stream",
     "text": [
      "Processing EXTEND file: /Volumes/vosslabhpc/Projects/BikeExtend/3-Experiment/2-Data/BIDS/derivatives/GGIR_2.8.2/sub-2833/ses-accel2/beh/output_beh/meta/csv/sub-2833_ses-accel2_accel.csv.RData.csv\n"
     ]
    },
    {
     "name": "stderr",
     "output_type": "stream",
     "text": [
      "/var/folders/1w/l9hx8l952r57k_qmjhw7qc500000gn/T/ipykernel_52453/2342787335.py:87: DeprecationWarning: DataFrameGroupBy.apply operated on the grouping columns. This behavior is deprecated, and in a future version of pandas the grouping columns will be excluded from the operation. Either pass `include_groups=False` to exclude the groupings or explicitly select the grouping columns after groupby to silence this warning.\n",
      "  daily_summary = df.groupby('date', group_keys=False).apply(\n"
     ]
    },
    {
     "name": "stdout",
     "output_type": "stream",
     "text": [
      "Processing EXTEND file: /Volumes/vosslabhpc/Projects/BikeExtend/3-Experiment/2-Data/BIDS/derivatives/GGIR_2.8.2/sub-2717/ses-accel2/beh/output_beh/meta/csv/sub-2717_ses-accel2_accel.csv.RData.csv\n"
     ]
    },
    {
     "name": "stderr",
     "output_type": "stream",
     "text": [
      "/var/folders/1w/l9hx8l952r57k_qmjhw7qc500000gn/T/ipykernel_52453/2342787335.py:87: DeprecationWarning: DataFrameGroupBy.apply operated on the grouping columns. This behavior is deprecated, and in a future version of pandas the grouping columns will be excluded from the operation. Either pass `include_groups=False` to exclude the groupings or explicitly select the grouping columns after groupby to silence this warning.\n",
      "  daily_summary = df.groupby('date', group_keys=False).apply(\n"
     ]
    },
    {
     "name": "stdout",
     "output_type": "stream",
     "text": [
      "Processing EXTEND file: /Volumes/vosslabhpc/Projects/BikeExtend/3-Experiment/2-Data/BIDS/derivatives/GGIR_2.8.2/sub-2700/ses-accel2/beh/output_beh/meta/csv/sub-2700_ses-accel2_accel.csv.RData.csv\n"
     ]
    },
    {
     "name": "stderr",
     "output_type": "stream",
     "text": [
      "/var/folders/1w/l9hx8l952r57k_qmjhw7qc500000gn/T/ipykernel_52453/2342787335.py:87: DeprecationWarning: DataFrameGroupBy.apply operated on the grouping columns. This behavior is deprecated, and in a future version of pandas the grouping columns will be excluded from the operation. Either pass `include_groups=False` to exclude the groupings or explicitly select the grouping columns after groupby to silence this warning.\n",
      "  daily_summary = df.groupby('date', group_keys=False).apply(\n"
     ]
    },
    {
     "name": "stdout",
     "output_type": "stream",
     "text": [
      "Processing EXTEND file: /Volumes/vosslabhpc/Projects/BikeExtend/3-Experiment/2-Data/BIDS/derivatives/GGIR_2.8.2/sub-2738/ses-accel2/beh/output_beh/meta/csv/sub-2738_ses-accel2_accel.csv.RData.csv\n"
     ]
    },
    {
     "name": "stderr",
     "output_type": "stream",
     "text": [
      "/var/folders/1w/l9hx8l952r57k_qmjhw7qc500000gn/T/ipykernel_52453/2342787335.py:87: DeprecationWarning: DataFrameGroupBy.apply operated on the grouping columns. This behavior is deprecated, and in a future version of pandas the grouping columns will be excluded from the operation. Either pass `include_groups=False` to exclude the groupings or explicitly select the grouping columns after groupby to silence this warning.\n",
      "  daily_summary = df.groupby('date', group_keys=False).apply(\n"
     ]
    },
    {
     "name": "stdout",
     "output_type": "stream",
     "text": [
      "Processing EXTEND file: /Volumes/vosslabhpc/Projects/BikeExtend/3-Experiment/2-Data/BIDS/derivatives/GGIR_2.8.2/sub-2742/ses-accel2/beh/output_beh/meta/csv/sub-2742_ses-accel2_accel.csv.RData.csv\n"
     ]
    },
    {
     "name": "stderr",
     "output_type": "stream",
     "text": [
      "/var/folders/1w/l9hx8l952r57k_qmjhw7qc500000gn/T/ipykernel_52453/2342787335.py:87: DeprecationWarning: DataFrameGroupBy.apply operated on the grouping columns. This behavior is deprecated, and in a future version of pandas the grouping columns will be excluded from the operation. Either pass `include_groups=False` to exclude the groupings or explicitly select the grouping columns after groupby to silence this warning.\n",
      "  daily_summary = df.groupby('date', group_keys=False).apply(\n"
     ]
    },
    {
     "name": "stdout",
     "output_type": "stream",
     "text": [
      "Processing EXTEND file: /Volumes/vosslabhpc/Projects/BikeExtend/3-Experiment/2-Data/BIDS/derivatives/GGIR_2.8.2/sub-2638/ses-accel2/beh/output_beh/meta/csv/sub-2638_ses-accel2_accel.csv.RData.csv\n"
     ]
    },
    {
     "name": "stderr",
     "output_type": "stream",
     "text": [
      "/var/folders/1w/l9hx8l952r57k_qmjhw7qc500000gn/T/ipykernel_52453/2342787335.py:87: DeprecationWarning: DataFrameGroupBy.apply operated on the grouping columns. This behavior is deprecated, and in a future version of pandas the grouping columns will be excluded from the operation. Either pass `include_groups=False` to exclude the groupings or explicitly select the grouping columns after groupby to silence this warning.\n",
      "  daily_summary = df.groupby('date', group_keys=False).apply(\n"
     ]
    },
    {
     "name": "stdout",
     "output_type": "stream",
     "text": [
      "Processing EXTEND file: /Volumes/vosslabhpc/Projects/BikeExtend/3-Experiment/2-Data/BIDS/derivatives/GGIR_2.8.2/sub-2707/ses-accel2/beh/output_beh/meta/csv/sub-2707_ses-accel2_accel.csv.RData.csv\n"
     ]
    },
    {
     "name": "stderr",
     "output_type": "stream",
     "text": [
      "/var/folders/1w/l9hx8l952r57k_qmjhw7qc500000gn/T/ipykernel_52453/2342787335.py:87: DeprecationWarning: DataFrameGroupBy.apply operated on the grouping columns. This behavior is deprecated, and in a future version of pandas the grouping columns will be excluded from the operation. Either pass `include_groups=False` to exclude the groupings or explicitly select the grouping columns after groupby to silence this warning.\n",
      "  daily_summary = df.groupby('date', group_keys=False).apply(\n"
     ]
    },
    {
     "name": "stdout",
     "output_type": "stream",
     "text": [
      "Processing EXTEND file: /Volumes/vosslabhpc/Projects/BikeExtend/3-Experiment/2-Data/BIDS/derivatives/GGIR_2.8.2/sub-2823/ses-accel2/beh/output_beh/meta/csv/sub-2823_ses-accel2_accel.csv.RData.csv\n"
     ]
    },
    {
     "name": "stderr",
     "output_type": "stream",
     "text": [
      "/var/folders/1w/l9hx8l952r57k_qmjhw7qc500000gn/T/ipykernel_52453/2342787335.py:87: DeprecationWarning: DataFrameGroupBy.apply operated on the grouping columns. This behavior is deprecated, and in a future version of pandas the grouping columns will be excluded from the operation. Either pass `include_groups=False` to exclude the groupings or explicitly select the grouping columns after groupby to silence this warning.\n",
      "  daily_summary = df.groupby('date', group_keys=False).apply(\n"
     ]
    },
    {
     "name": "stdout",
     "output_type": "stream",
     "text": [
      "Processing EXTEND file: /Volumes/vosslabhpc/Projects/BikeExtend/3-Experiment/2-Data/BIDS/derivatives/GGIR_2.8.2/sub-2808/ses-accel2/beh/output_beh/meta/csv/sub-2808_ses-accel2_accel.csv.RData.csv\n"
     ]
    },
    {
     "name": "stderr",
     "output_type": "stream",
     "text": [
      "/var/folders/1w/l9hx8l952r57k_qmjhw7qc500000gn/T/ipykernel_52453/2342787335.py:87: DeprecationWarning: DataFrameGroupBy.apply operated on the grouping columns. This behavior is deprecated, and in a future version of pandas the grouping columns will be excluded from the operation. Either pass `include_groups=False` to exclude the groupings or explicitly select the grouping columns after groupby to silence this warning.\n",
      "  daily_summary = df.groupby('date', group_keys=False).apply(\n"
     ]
    },
    {
     "name": "stdout",
     "output_type": "stream",
     "text": [
      "Processing EXTEND file: /Volumes/vosslabhpc/Projects/BikeExtend/3-Experiment/2-Data/BIDS/derivatives/GGIR_2.8.2/sub-2583/ses-accel2/beh/output_beh/meta/csv/sub-2583_ses-accel2_accel.csv.RData.csv\n"
     ]
    },
    {
     "name": "stderr",
     "output_type": "stream",
     "text": [
      "/var/folders/1w/l9hx8l952r57k_qmjhw7qc500000gn/T/ipykernel_52453/2342787335.py:87: DeprecationWarning: DataFrameGroupBy.apply operated on the grouping columns. This behavior is deprecated, and in a future version of pandas the grouping columns will be excluded from the operation. Either pass `include_groups=False` to exclude the groupings or explicitly select the grouping columns after groupby to silence this warning.\n",
      "  daily_summary = df.groupby('date', group_keys=False).apply(\n"
     ]
    },
    {
     "name": "stdout",
     "output_type": "stream",
     "text": [
      "Processing EXTEND file: /Volumes/vosslabhpc/Projects/BikeExtend/3-Experiment/2-Data/BIDS/derivatives/GGIR_2.8.2/sub-2743/ses-accel3/beh/output_beh/meta/csv/sub-2743_ses-accel3_accel.csv.RData.csv\n"
     ]
    },
    {
     "name": "stderr",
     "output_type": "stream",
     "text": [
      "/var/folders/1w/l9hx8l952r57k_qmjhw7qc500000gn/T/ipykernel_52453/2342787335.py:87: DeprecationWarning: DataFrameGroupBy.apply operated on the grouping columns. This behavior is deprecated, and in a future version of pandas the grouping columns will be excluded from the operation. Either pass `include_groups=False` to exclude the groupings or explicitly select the grouping columns after groupby to silence this warning.\n",
      "  daily_summary = df.groupby('date', group_keys=False).apply(\n"
     ]
    },
    {
     "name": "stdout",
     "output_type": "stream",
     "text": [
      "Processing EXTEND file: /Volumes/vosslabhpc/Projects/BikeExtend/3-Experiment/2-Data/BIDS/derivatives/GGIR_2.8.2/sub-2525/ses-accel8/beh/output_beh/meta/csv/sub-2525_ses-accel8_accel.csv.RData.csv\n",
      "Meta entropies per study:\n",
      "{'EXTEND': [2.797356642856003, 2.967971533785175, 2.9057597440928147, 2.939360729856092, 2.9210205288717974, 2.9565284866647747, 2.9900387894784064, 2.9168933442554095, 2.668396648253281, 2.949725948102597, 2.62058730992586, 2.9412152895537953, 2.7996360689959072, 2.9566987884600393, 2.96407442832351, 2.953379525992465, 2.7876029716629556, 2.849625290440816, 2.8127206429338707, 2.8876845639251587, 2.926408786975034, 2.80281160107486, 2.5542962289597653, 2.496673094921823, 2.9163400400289996, 2.8100431082824646, 2.5874995059299346, 2.923338271570488, 2.9240600470597893, 2.94120385377717, 2.956048938717159, 2.8103443663112544, 2.9829923152406197, 2.9154134311521704, 2.8675067752864467, 2.828109366959575, 2.9049697913019363, 2.8517520634643563, 2.847496371280389, 2.9757599113230837, 2.974354404878191, 2.9427537656265845, 2.934065856994562, 2.733035600522866, 2.955759010448839, 2.8446727545546056, 2.824438066801038, 2.8320290721369763, 2.692725513355695, 2.921612218659737, 2.8803407944674166, 2.908677752746182, 2.8719639865146966, 2.7767324144668604, 2.8774856921754335, 2.868501704765467, 2.682663917828265, 2.831691884168129, 2.884380710387428, 2.972679326294944, 2.9467407045440015, 2.9778214360812414, 2.8253005459226226, 2.8619732405627514, 2.6200449042338856, 2.947534398753615, 2.9135703630267566, 2.46309861129675, 2.861558718161519, 2.172497161722298, 2.779994163600397, 2.397563051523969, 2.8962487607239, 2.911009372335237, 2.893434957911606, 2.870391051269011, 2.9235769957651554, 2.875102997902127, 2.9911247816021618, 2.9734479816560047, 2.838032187827605, 2.834073451144275, 2.7292224276156203, 2.9426242913294143, 2.9597215370663643, 2.985423450422187, 2.9175830832256406, 2.7643540574139616, 2.7077772941954628, 2.93261998819377, 2.8430891775522595, 2.851743955208753, 2.8987848302374153, 2.8188215940715264, 2.9794825416532147, 2.9601719977428385, 2.948431344327247, 2.863754430216122, 2.8522917205528873, 2.6035090795840103, 2.9269021404120847, 2.735239844671792, 2.908256526860993, 2.8817185886738828, 2.840803782936513, 2.776076451401647, 2.9258996606589918, 2.90050699160685, 2.788441758954691, 2.7298575067793167, 2.9198000305706837, 2.965845057936237, 2.92322631230551, 2.8619401825491417, 2.840907919303381, 2.9335783398125224, 2.9613376404195053, 2.872451107653361, 2.893766985321247, 2.8851045456902784, 2.8537032623712753, 2.5569975251076635, 2.605890455687377, 2.564497064711768]}\n"
     ]
    },
    {
     "name": "stderr",
     "output_type": "stream",
     "text": [
      "/var/folders/1w/l9hx8l952r57k_qmjhw7qc500000gn/T/ipykernel_52453/2342787335.py:87: DeprecationWarning: DataFrameGroupBy.apply operated on the grouping columns. This behavior is deprecated, and in a future version of pandas the grouping columns will be excluded from the operation. Either pass `include_groups=False` to exclude the groupings or explicitly select the grouping columns after groupby to silence this warning.\n",
      "  daily_summary = df.groupby('date', group_keys=False).apply(\n"
     ]
    }
   ],
   "source": [
    "import os\n",
    "import glob\n",
    "import pandas as pd\n",
    "import numpy as np\n",
    "from scipy.stats import entropy\n",
    "\n",
    "import glob\n",
    "import os\n",
    "from collections import defaultdict\n",
    "\n",
    "# Base path and pattern with placeholder for session\n",
    "base_pattern = \"/Volumes/vosslabhpc/Projects/BikeExtend/3-Experiment/2-Data/BIDS/derivatives/GGIR_2.8.2/sub-*/{}/beh/output_beh/meta/csv/*.csv.RData.csv\"\n",
    "\n",
    "# Maximum number of ses-accel folders to check\n",
    "max_sessions = 9  # adjust as needed\n",
    "\n",
    "# Dictionary to store the first found file for each subject\n",
    "found_files = {}\n",
    "subject_files = defaultdict(list)\n",
    "\n",
    "# Check each session in order\n",
    "for i in range(1, max_sessions + 1):\n",
    "    session = f\"ses-accel{i}\"\n",
    "    pattern = base_pattern.format(session)\n",
    "    for filepath in glob.glob(pattern):\n",
    "        subject = filepath.split(\"/\")[10]  # assuming sub-XXX is in this position\n",
    "        if subject not in found_files:\n",
    "            found_files[subject] = filepath\n",
    "            subject_files[subject].append(filepath)  # collect for debugging or checks\n",
    "\n",
    "# Final list of files, only lowest ses-accel per subject\n",
    "extend_files = list(found_files.values())\n",
    "\n",
    "print(\"EXTEND files found:\", len(extend_files))\n",
    "\n",
    "\n",
    "def compute_shannon_entropy(values, bins=10, epsilon=1e-10):\n",
    "    \"\"\"\n",
    "    Compute Shannon entropy for a set of values by binning them.\n",
    "    Adds a tiny constant (epsilon) to each bin so that 0's are replaced by a very small number.\n",
    "    \"\"\"\n",
    "    counts, _ = np.histogram(values, bins=bins)\n",
    "    counts = counts + epsilon\n",
    "    total = counts.sum()\n",
    "    if total > 0:\n",
    "        probabilities = counts / total\n",
    "        return entropy(probabilities, base=2)\n",
    "    else:\n",
    "        return np.nan\n",
    "\n",
    "\n",
    "def process_subject(csv_path, bins=10):\n",
    "    \"\"\"\n",
    "    Process a subject's CSV file and return the daily summary and meta entropy.\n",
    "    Meta entropy is computed as the Shannon entropy of the normalized daily entropy values.\n",
    "    \"\"\"\n",
    "    try:\n",
    "        df = pd.read_csv(csv_path)\n",
    "    except Exception as e:\n",
    "        print(f\"Error reading {csv_path}: {e}\")\n",
    "        return None, None\n",
    "\n",
    "    # Check if the 'timestamp' column exists\n",
    "    if 'timestamp' not in df.columns:\n",
    "        print(f\"'timestamp' column not found in {csv_path}, skipping.\")\n",
    "        return None, None\n",
    "\n",
    "    # Force parse timestamps; unparseable dates become NaT\n",
    "    df['timestamp'] = pd.to_datetime(df['timestamp'], errors='coerce', utc=True)\n",
    "    \n",
    "    # If all timestamps failed to parse, skip this file.\n",
    "    if df['timestamp'].isna().all():\n",
    "        print(f\"All timestamps in {csv_path} could not be parsed, skipping.\")\n",
    "        return None, None\n",
    "    \n",
    "    # Drop rows where timestamp could not be parsed\n",
    "    df = df.dropna(subset=['timestamp'])\n",
    "    \n",
    "    # Floor the timestamp to create a 'date' column (grouping by day)\n",
    "    if pd.api.types.is_datetime64_any_dtype(df['timestamp']):\n",
    "        df['date'] = df['timestamp'].dt.floor('D')\n",
    "    else:\n",
    "        print(f\"Timestamp column in {csv_path} is not datetime after parsing, skipping.\")\n",
    "        return None, None\n",
    "\n",
    "    # Group by the floored date and compute daily Shannon entropy of the ENMO values\n",
    "    daily_summary = df.groupby('date', group_keys=False).apply(\n",
    "        lambda group: pd.Series({\n",
    "            'time_interval': f\"{group.name} to {group.name + pd.Timedelta(days=1)}\",\n",
    "            'shannon_entropy': compute_shannon_entropy(group['ENMO'], bins=bins)\n",
    "        })\n",
    "    ).reset_index()\n",
    "\n",
    "    # Calculate meta entropy using the normalized daily entropy values:\n",
    "    daily_entropy_values = daily_summary['shannon_entropy'].values\n",
    "    if daily_entropy_values.sum() > 0:\n",
    "        meta_ent = entropy(daily_entropy_values / daily_entropy_values.sum(), base=2)\n",
    "    else:\n",
    "        meta_ent = np.nan\n",
    "\n",
    "    return daily_summary, meta_ent\n",
    "\n",
    "\n",
    "# Dictionary to collect meta entropy for each study\n",
    "meta_entropies = {\"EXTEND\": []}\n",
    "\n",
    "\n",
    "# Process EXTEND study subjects\n",
    "for file in extend_files:\n",
    "    print(f\"Processing EXTEND file: {file}\")\n",
    "    _, meta_ent = process_subject(file)\n",
    "    if meta_ent is not None:\n",
    "        meta_entropies[\"EXTEND\"].append(meta_ent)\n",
    "\n",
    "print(\"Meta entropies per study:\")\n",
    "print(meta_entropies)\n"
   ]
  },
  {
   "cell_type": "code",
   "execution_count": 27,
   "metadata": {},
   "outputs": [
    {
     "data": {
      "image/png": "[encoded data removed]",
      "text/plain": [
       "<Figure size 800x500 with 1 Axes>"
      ]
     },
     "metadata": {},
     "output_type": "display_data"
    }
   ],
   "source": [
    "for study, metas in meta_entropies.items():\n",
    "    if metas:  # if list is not empty\n",
    "        plt.figure(figsize=(8, 5))\n",
    "        plt.hist(metas, bins=10, alpha=0.75)\n",
    "        plt.title(f\"{study} Study Meta Entropy Distribution\")\n",
    "        plt.xlabel(\"Meta Entropy\")\n",
    "        plt.ylabel(\"Number of Subjects\")\n",
    "        plt.grid(True)\n",
    "        plt.show()\n",
    "    else:\n",
    "        print(f\"No meta entropy data for {study}.\")\n"
   ]
  },
  {
   "cell_type": "code",
   "execution_count": 28,
   "metadata": {},
   "outputs": [
    {
     "name": "stderr",
     "output_type": "stream",
     "text": [
      "/var/folders/1w/l9hx8l952r57k_qmjhw7qc500000gn/T/ipykernel_52453/2342787335.py:87: DeprecationWarning: DataFrameGroupBy.apply operated on the grouping columns. This behavior is deprecated, and in a future version of pandas the grouping columns will be excluded from the operation. Either pass `include_groups=False` to exclude the groupings or explicitly select the grouping columns after groupby to silence this warning.\n",
      "  daily_summary = df.groupby('date', group_keys=False).apply(\n",
      "/var/folders/1w/l9hx8l952r57k_qmjhw7qc500000gn/T/ipykernel_52453/2342787335.py:87: DeprecationWarning: DataFrameGroupBy.apply operated on the grouping columns. This behavior is deprecated, and in a future version of pandas the grouping columns will be excluded from the operation. Either pass `include_groups=False` to exclude the groupings or explicitly select the grouping columns after groupby to silence this warning.\n",
      "  daily_summary = df.groupby('date', group_keys=False).apply(\n",
      "/var/folders/1w/l9hx8l952r57k_qmjhw7qc500000gn/T/ipykernel_52453/2342787335.py:87: DeprecationWarning: DataFrameGroupBy.apply operated on the grouping columns. This behavior is deprecated, and in a future version of pandas the grouping columns will be excluded from the operation. Either pass `include_groups=False` to exclude the groupings or explicitly select the grouping columns after groupby to silence this warning.\n",
      "  daily_summary = df.groupby('date', group_keys=False).apply(\n",
      "/var/folders/1w/l9hx8l952r57k_qmjhw7qc500000gn/T/ipykernel_52453/2342787335.py:87: DeprecationWarning: DataFrameGroupBy.apply operated on the grouping columns. This behavior is deprecated, and in a future version of pandas the grouping columns will be excluded from the operation. Either pass `include_groups=False` to exclude the groupings or explicitly select the grouping columns after groupby to silence this warning.\n",
      "  daily_summary = df.groupby('date', group_keys=False).apply(\n",
      "/var/folders/1w/l9hx8l952r57k_qmjhw7qc500000gn/T/ipykernel_52453/2342787335.py:87: DeprecationWarning: DataFrameGroupBy.apply operated on the grouping columns. This behavior is deprecated, and in a future version of pandas the grouping columns will be excluded from the operation. Either pass `include_groups=False` to exclude the groupings or explicitly select the grouping columns after groupby to silence this warning.\n",
      "  daily_summary = df.groupby('date', group_keys=False).apply(\n",
      "/var/folders/1w/l9hx8l952r57k_qmjhw7qc500000gn/T/ipykernel_52453/2342787335.py:87: DeprecationWarning: DataFrameGroupBy.apply operated on the grouping columns. This behavior is deprecated, and in a future version of pandas the grouping columns will be excluded from the operation. Either pass `include_groups=False` to exclude the groupings or explicitly select the grouping columns after groupby to silence this warning.\n",
      "  daily_summary = df.groupby('date', group_keys=False).apply(\n",
      "/var/folders/1w/l9hx8l952r57k_qmjhw7qc500000gn/T/ipykernel_52453/2342787335.py:87: DeprecationWarning: DataFrameGroupBy.apply operated on the grouping columns. This behavior is deprecated, and in a future version of pandas the grouping columns will be excluded from the operation. Either pass `include_groups=False` to exclude the groupings or explicitly select the grouping columns after groupby to silence this warning.\n",
      "  daily_summary = df.groupby('date', group_keys=False).apply(\n",
      "/var/folders/1w/l9hx8l952r57k_qmjhw7qc500000gn/T/ipykernel_52453/2342787335.py:87: DeprecationWarning: DataFrameGroupBy.apply operated on the grouping columns. This behavior is deprecated, and in a future version of pandas the grouping columns will be excluded from the operation. Either pass `include_groups=False` to exclude the groupings or explicitly select the grouping columns after groupby to silence this warning.\n",
      "  daily_summary = df.groupby('date', group_keys=False).apply(\n",
      "/var/folders/1w/l9hx8l952r57k_qmjhw7qc500000gn/T/ipykernel_52453/2342787335.py:87: DeprecationWarning: DataFrameGroupBy.apply operated on the grouping columns. This behavior is deprecated, and in a future version of pandas the grouping columns will be excluded from the operation. Either pass `include_groups=False` to exclude the groupings or explicitly select the grouping columns after groupby to silence this warning.\n",
      "  daily_summary = df.groupby('date', group_keys=False).apply(\n",
      "/var/folders/1w/l9hx8l952r57k_qmjhw7qc500000gn/T/ipykernel_52453/2342787335.py:87: DeprecationWarning: DataFrameGroupBy.apply operated on the grouping columns. This behavior is deprecated, and in a future version of pandas the grouping columns will be excluded from the operation. Either pass `include_groups=False` to exclude the groupings or explicitly select the grouping columns after groupby to silence this warning.\n",
      "  daily_summary = df.groupby('date', group_keys=False).apply(\n",
      "/var/folders/1w/l9hx8l952r57k_qmjhw7qc500000gn/T/ipykernel_52453/2342787335.py:87: DeprecationWarning: DataFrameGroupBy.apply operated on the grouping columns. This behavior is deprecated, and in a future version of pandas the grouping columns will be excluded from the operation. Either pass `include_groups=False` to exclude the groupings or explicitly select the grouping columns after groupby to silence this warning.\n",
      "  daily_summary = df.groupby('date', group_keys=False).apply(\n",
      "/var/folders/1w/l9hx8l952r57k_qmjhw7qc500000gn/T/ipykernel_52453/2342787335.py:87: DeprecationWarning: DataFrameGroupBy.apply operated on the grouping columns. This behavior is deprecated, and in a future version of pandas the grouping columns will be excluded from the operation. Either pass `include_groups=False` to exclude the groupings or explicitly select the grouping columns after groupby to silence this warning.\n",
      "  daily_summary = df.groupby('date', group_keys=False).apply(\n",
      "/var/folders/1w/l9hx8l952r57k_qmjhw7qc500000gn/T/ipykernel_52453/2342787335.py:87: DeprecationWarning: DataFrameGroupBy.apply operated on the grouping columns. This behavior is deprecated, and in a future version of pandas the grouping columns will be excluded from the operation. Either pass `include_groups=False` to exclude the groupings or explicitly select the grouping columns after groupby to silence this warning.\n",
      "  daily_summary = df.groupby('date', group_keys=False).apply(\n",
      "/var/folders/1w/l9hx8l952r57k_qmjhw7qc500000gn/T/ipykernel_52453/2342787335.py:87: DeprecationWarning: DataFrameGroupBy.apply operated on the grouping columns. This behavior is deprecated, and in a future version of pandas the grouping columns will be excluded from the operation. Either pass `include_groups=False` to exclude the groupings or explicitly select the grouping columns after groupby to silence this warning.\n",
      "  daily_summary = df.groupby('date', group_keys=False).apply(\n",
      "/var/folders/1w/l9hx8l952r57k_qmjhw7qc500000gn/T/ipykernel_52453/2342787335.py:87: DeprecationWarning: DataFrameGroupBy.apply operated on the grouping columns. This behavior is deprecated, and in a future version of pandas the grouping columns will be excluded from the operation. Either pass `include_groups=False` to exclude the groupings or explicitly select the grouping columns after groupby to silence this warning.\n",
      "  daily_summary = df.groupby('date', group_keys=False).apply(\n",
      "/var/folders/1w/l9hx8l952r57k_qmjhw7qc500000gn/T/ipykernel_52453/2342787335.py:87: DeprecationWarning: DataFrameGroupBy.apply operated on the grouping columns. This behavior is deprecated, and in a future version of pandas the grouping columns will be excluded from the operation. Either pass `include_groups=False` to exclude the groupings or explicitly select the grouping columns after groupby to silence this warning.\n",
      "  daily_summary = df.groupby('date', group_keys=False).apply(\n",
      "/var/folders/1w/l9hx8l952r57k_qmjhw7qc500000gn/T/ipykernel_52453/2342787335.py:87: DeprecationWarning: DataFrameGroupBy.apply operated on the grouping columns. This behavior is deprecated, and in a future version of pandas the grouping columns will be excluded from the operation. Either pass `include_groups=False` to exclude the groupings or explicitly select the grouping columns after groupby to silence this warning.\n",
      "  daily_summary = df.groupby('date', group_keys=False).apply(\n",
      "/var/folders/1w/l9hx8l952r57k_qmjhw7qc500000gn/T/ipykernel_52453/2342787335.py:87: DeprecationWarning: DataFrameGroupBy.apply operated on the grouping columns. This behavior is deprecated, and in a future version of pandas the grouping columns will be excluded from the operation. Either pass `include_groups=False` to exclude the groupings or explicitly select the grouping columns after groupby to silence this warning.\n",
      "  daily_summary = df.groupby('date', group_keys=False).apply(\n",
      "/var/folders/1w/l9hx8l952r57k_qmjhw7qc500000gn/T/ipykernel_52453/2342787335.py:87: DeprecationWarning: DataFrameGroupBy.apply operated on the grouping columns. This behavior is deprecated, and in a future version of pandas the grouping columns will be excluded from the operation. Either pass `include_groups=False` to exclude the groupings or explicitly select the grouping columns after groupby to silence this warning.\n",
      "  daily_summary = df.groupby('date', group_keys=False).apply(\n",
      "/var/folders/1w/l9hx8l952r57k_qmjhw7qc500000gn/T/ipykernel_52453/2342787335.py:87: DeprecationWarning: DataFrameGroupBy.apply operated on the grouping columns. This behavior is deprecated, and in a future version of pandas the grouping columns will be excluded from the operation. Either pass `include_groups=False` to exclude the groupings or explicitly select the grouping columns after groupby to silence this warning.\n",
      "  daily_summary = df.groupby('date', group_keys=False).apply(\n",
      "/var/folders/1w/l9hx8l952r57k_qmjhw7qc500000gn/T/ipykernel_52453/2342787335.py:87: DeprecationWarning: DataFrameGroupBy.apply operated on the grouping columns. This behavior is deprecated, and in a future version of pandas the grouping columns will be excluded from the operation. Either pass `include_groups=False` to exclude the groupings or explicitly select the grouping columns after groupby to silence this warning.\n",
      "  daily_summary = df.groupby('date', group_keys=False).apply(\n",
      "/var/folders/1w/l9hx8l952r57k_qmjhw7qc500000gn/T/ipykernel_52453/2342787335.py:87: DeprecationWarning: DataFrameGroupBy.apply operated on the grouping columns. This behavior is deprecated, and in a future version of pandas the grouping columns will be excluded from the operation. Either pass `include_groups=False` to exclude the groupings or explicitly select the grouping columns after groupby to silence this warning.\n",
      "  daily_summary = df.groupby('date', group_keys=False).apply(\n",
      "/var/folders/1w/l9hx8l952r57k_qmjhw7qc500000gn/T/ipykernel_52453/2342787335.py:87: DeprecationWarning: DataFrameGroupBy.apply operated on the grouping columns. This behavior is deprecated, and in a future version of pandas the grouping columns will be excluded from the operation. Either pass `include_groups=False` to exclude the groupings or explicitly select the grouping columns after groupby to silence this warning.\n",
      "  daily_summary = df.groupby('date', group_keys=False).apply(\n",
      "/var/folders/1w/l9hx8l952r57k_qmjhw7qc500000gn/T/ipykernel_52453/2342787335.py:87: DeprecationWarning: DataFrameGroupBy.apply operated on the grouping columns. This behavior is deprecated, and in a future version of pandas the grouping columns will be excluded from the operation. Either pass `include_groups=False` to exclude the groupings or explicitly select the grouping columns after groupby to silence this warning.\n",
      "  daily_summary = df.groupby('date', group_keys=False).apply(\n",
      "/var/folders/1w/l9hx8l952r57k_qmjhw7qc500000gn/T/ipykernel_52453/2342787335.py:87: DeprecationWarning: DataFrameGroupBy.apply operated on the grouping columns. This behavior is deprecated, and in a future version of pandas the grouping columns will be excluded from the operation. Either pass `include_groups=False` to exclude the groupings or explicitly select the grouping columns after groupby to silence this warning.\n",
      "  daily_summary = df.groupby('date', group_keys=False).apply(\n",
      "/var/folders/1w/l9hx8l952r57k_qmjhw7qc500000gn/T/ipykernel_52453/2342787335.py:87: DeprecationWarning: DataFrameGroupBy.apply operated on the grouping columns. This behavior is deprecated, and in a future version of pandas the grouping columns will be excluded from the operation. Either pass `include_groups=False` to exclude the groupings or explicitly select the grouping columns after groupby to silence this warning.\n",
      "  daily_summary = df.groupby('date', group_keys=False).apply(\n",
      "/var/folders/1w/l9hx8l952r57k_qmjhw7qc500000gn/T/ipykernel_52453/2342787335.py:87: DeprecationWarning: DataFrameGroupBy.apply operated on the grouping columns. This behavior is deprecated, and in a future version of pandas the grouping columns will be excluded from the operation. Either pass `include_groups=False` to exclude the groupings or explicitly select the grouping columns after groupby to silence this warning.\n",
      "  daily_summary = df.groupby('date', group_keys=False).apply(\n",
      "/var/folders/1w/l9hx8l952r57k_qmjhw7qc500000gn/T/ipykernel_52453/2342787335.py:87: DeprecationWarning: DataFrameGroupBy.apply operated on the grouping columns. This behavior is deprecated, and in a future version of pandas the grouping columns will be excluded from the operation. Either pass `include_groups=False` to exclude the groupings or explicitly select the grouping columns after groupby to silence this warning.\n",
      "  daily_summary = df.groupby('date', group_keys=False).apply(\n",
      "/var/folders/1w/l9hx8l952r57k_qmjhw7qc500000gn/T/ipykernel_52453/2342787335.py:87: DeprecationWarning: DataFrameGroupBy.apply operated on the grouping columns. This behavior is deprecated, and in a future version of pandas the grouping columns will be excluded from the operation. Either pass `include_groups=False` to exclude the groupings or explicitly select the grouping columns after groupby to silence this warning.\n",
      "  daily_summary = df.groupby('date', group_keys=False).apply(\n",
      "/var/folders/1w/l9hx8l952r57k_qmjhw7qc500000gn/T/ipykernel_52453/2342787335.py:87: DeprecationWarning: DataFrameGroupBy.apply operated on the grouping columns. This behavior is deprecated, and in a future version of pandas the grouping columns will be excluded from the operation. Either pass `include_groups=False` to exclude the groupings or explicitly select the grouping columns after groupby to silence this warning.\n",
      "  daily_summary = df.groupby('date', group_keys=False).apply(\n",
      "/var/folders/1w/l9hx8l952r57k_qmjhw7qc500000gn/T/ipykernel_52453/2342787335.py:87: DeprecationWarning: DataFrameGroupBy.apply operated on the grouping columns. This behavior is deprecated, and in a future version of pandas the grouping columns will be excluded from the operation. Either pass `include_groups=False` to exclude the groupings or explicitly select the grouping columns after groupby to silence this warning.\n",
      "  daily_summary = df.groupby('date', group_keys=False).apply(\n",
      "/var/folders/1w/l9hx8l952r57k_qmjhw7qc500000gn/T/ipykernel_52453/2342787335.py:87: DeprecationWarning: DataFrameGroupBy.apply operated on the grouping columns. This behavior is deprecated, and in a future version of pandas the grouping columns will be excluded from the operation. Either pass `include_groups=False` to exclude the groupings or explicitly select the grouping columns after groupby to silence this warning.\n",
      "  daily_summary = df.groupby('date', group_keys=False).apply(\n",
      "/var/folders/1w/l9hx8l952r57k_qmjhw7qc500000gn/T/ipykernel_52453/2342787335.py:87: DeprecationWarning: DataFrameGroupBy.apply operated on the grouping columns. This behavior is deprecated, and in a future version of pandas the grouping columns will be excluded from the operation. Either pass `include_groups=False` to exclude the groupings or explicitly select the grouping columns after groupby to silence this warning.\n",
      "  daily_summary = df.groupby('date', group_keys=False).apply(\n",
      "/var/folders/1w/l9hx8l952r57k_qmjhw7qc500000gn/T/ipykernel_52453/2342787335.py:87: DeprecationWarning: DataFrameGroupBy.apply operated on the grouping columns. This behavior is deprecated, and in a future version of pandas the grouping columns will be excluded from the operation. Either pass `include_groups=False` to exclude the groupings or explicitly select the grouping columns after groupby to silence this warning.\n",
      "  daily_summary = df.groupby('date', group_keys=False).apply(\n",
      "/var/folders/1w/l9hx8l952r57k_qmjhw7qc500000gn/T/ipykernel_52453/2342787335.py:87: DeprecationWarning: DataFrameGroupBy.apply operated on the grouping columns. This behavior is deprecated, and in a future version of pandas the grouping columns will be excluded from the operation. Either pass `include_groups=False` to exclude the groupings or explicitly select the grouping columns after groupby to silence this warning.\n",
      "  daily_summary = df.groupby('date', group_keys=False).apply(\n",
      "/var/folders/1w/l9hx8l952r57k_qmjhw7qc500000gn/T/ipykernel_52453/2342787335.py:87: DeprecationWarning: DataFrameGroupBy.apply operated on the grouping columns. This behavior is deprecated, and in a future version of pandas the grouping columns will be excluded from the operation. Either pass `include_groups=False` to exclude the groupings or explicitly select the grouping columns after groupby to silence this warning.\n",
      "  daily_summary = df.groupby('date', group_keys=False).apply(\n",
      "/var/folders/1w/l9hx8l952r57k_qmjhw7qc500000gn/T/ipykernel_52453/2342787335.py:87: DeprecationWarning: DataFrameGroupBy.apply operated on the grouping columns. This behavior is deprecated, and in a future version of pandas the grouping columns will be excluded from the operation. Either pass `include_groups=False` to exclude the groupings or explicitly select the grouping columns after groupby to silence this warning.\n",
      "  daily_summary = df.groupby('date', group_keys=False).apply(\n",
      "/var/folders/1w/l9hx8l952r57k_qmjhw7qc500000gn/T/ipykernel_52453/2342787335.py:87: DeprecationWarning: DataFrameGroupBy.apply operated on the grouping columns. This behavior is deprecated, and in a future version of pandas the grouping columns will be excluded from the operation. Either pass `include_groups=False` to exclude the groupings or explicitly select the grouping columns after groupby to silence this warning.\n",
      "  daily_summary = df.groupby('date', group_keys=False).apply(\n",
      "/var/folders/1w/l9hx8l952r57k_qmjhw7qc500000gn/T/ipykernel_52453/2342787335.py:87: DeprecationWarning: DataFrameGroupBy.apply operated on the grouping columns. This behavior is deprecated, and in a future version of pandas the grouping columns will be excluded from the operation. Either pass `include_groups=False` to exclude the groupings or explicitly select the grouping columns after groupby to silence this warning.\n",
      "  daily_summary = df.groupby('date', group_keys=False).apply(\n",
      "/var/folders/1w/l9hx8l952r57k_qmjhw7qc500000gn/T/ipykernel_52453/2342787335.py:87: DeprecationWarning: DataFrameGroupBy.apply operated on the grouping columns. This behavior is deprecated, and in a future version of pandas the grouping columns will be excluded from the operation. Either pass `include_groups=False` to exclude the groupings or explicitly select the grouping columns after groupby to silence this warning.\n",
      "  daily_summary = df.groupby('date', group_keys=False).apply(\n",
      "/var/folders/1w/l9hx8l952r57k_qmjhw7qc500000gn/T/ipykernel_52453/2342787335.py:87: DeprecationWarning: DataFrameGroupBy.apply operated on the grouping columns. This behavior is deprecated, and in a future version of pandas the grouping columns will be excluded from the operation. Either pass `include_groups=False` to exclude the groupings or explicitly select the grouping columns after groupby to silence this warning.\n",
      "  daily_summary = df.groupby('date', group_keys=False).apply(\n",
      "/var/folders/1w/l9hx8l952r57k_qmjhw7qc500000gn/T/ipykernel_52453/2342787335.py:87: DeprecationWarning: DataFrameGroupBy.apply operated on the grouping columns. This behavior is deprecated, and in a future version of pandas the grouping columns will be excluded from the operation. Either pass `include_groups=False` to exclude the groupings or explicitly select the grouping columns after groupby to silence this warning.\n",
      "  daily_summary = df.groupby('date', group_keys=False).apply(\n",
      "/var/folders/1w/l9hx8l952r57k_qmjhw7qc500000gn/T/ipykernel_52453/2342787335.py:87: DeprecationWarning: DataFrameGroupBy.apply operated on the grouping columns. This behavior is deprecated, and in a future version of pandas the grouping columns will be excluded from the operation. Either pass `include_groups=False` to exclude the groupings or explicitly select the grouping columns after groupby to silence this warning.\n",
      "  daily_summary = df.groupby('date', group_keys=False).apply(\n",
      "/var/folders/1w/l9hx8l952r57k_qmjhw7qc500000gn/T/ipykernel_52453/2342787335.py:87: DeprecationWarning: DataFrameGroupBy.apply operated on the grouping columns. This behavior is deprecated, and in a future version of pandas the grouping columns will be excluded from the operation. Either pass `include_groups=False` to exclude the groupings or explicitly select the grouping columns after groupby to silence this warning.\n",
      "  daily_summary = df.groupby('date', group_keys=False).apply(\n",
      "/var/folders/1w/l9hx8l952r57k_qmjhw7qc500000gn/T/ipykernel_52453/2342787335.py:87: DeprecationWarning: DataFrameGroupBy.apply operated on the grouping columns. This behavior is deprecated, and in a future version of pandas the grouping columns will be excluded from the operation. Either pass `include_groups=False` to exclude the groupings or explicitly select the grouping columns after groupby to silence this warning.\n",
      "  daily_summary = df.groupby('date', group_keys=False).apply(\n",
      "/var/folders/1w/l9hx8l952r57k_qmjhw7qc500000gn/T/ipykernel_52453/2342787335.py:87: DeprecationWarning: DataFrameGroupBy.apply operated on the grouping columns. This behavior is deprecated, and in a future version of pandas the grouping columns will be excluded from the operation. Either pass `include_groups=False` to exclude the groupings or explicitly select the grouping columns after groupby to silence this warning.\n",
      "  daily_summary = df.groupby('date', group_keys=False).apply(\n",
      "/var/folders/1w/l9hx8l952r57k_qmjhw7qc500000gn/T/ipykernel_52453/2342787335.py:87: DeprecationWarning: DataFrameGroupBy.apply operated on the grouping columns. This behavior is deprecated, and in a future version of pandas the grouping columns will be excluded from the operation. Either pass `include_groups=False` to exclude the groupings or explicitly select the grouping columns after groupby to silence this warning.\n",
      "  daily_summary = df.groupby('date', group_keys=False).apply(\n",
      "/var/folders/1w/l9hx8l952r57k_qmjhw7qc500000gn/T/ipykernel_52453/2342787335.py:87: DeprecationWarning: DataFrameGroupBy.apply operated on the grouping columns. This behavior is deprecated, and in a future version of pandas the grouping columns will be excluded from the operation. Either pass `include_groups=False` to exclude the groupings or explicitly select the grouping columns after groupby to silence this warning.\n",
      "  daily_summary = df.groupby('date', group_keys=False).apply(\n",
      "/var/folders/1w/l9hx8l952r57k_qmjhw7qc500000gn/T/ipykernel_52453/2342787335.py:87: DeprecationWarning: DataFrameGroupBy.apply operated on the grouping columns. This behavior is deprecated, and in a future version of pandas the grouping columns will be excluded from the operation. Either pass `include_groups=False` to exclude the groupings or explicitly select the grouping columns after groupby to silence this warning.\n",
      "  daily_summary = df.groupby('date', group_keys=False).apply(\n",
      "/var/folders/1w/l9hx8l952r57k_qmjhw7qc500000gn/T/ipykernel_52453/2342787335.py:87: DeprecationWarning: DataFrameGroupBy.apply operated on the grouping columns. This behavior is deprecated, and in a future version of pandas the grouping columns will be excluded from the operation. Either pass `include_groups=False` to exclude the groupings or explicitly select the grouping columns after groupby to silence this warning.\n",
      "  daily_summary = df.groupby('date', group_keys=False).apply(\n",
      "/var/folders/1w/l9hx8l952r57k_qmjhw7qc500000gn/T/ipykernel_52453/2342787335.py:87: DeprecationWarning: DataFrameGroupBy.apply operated on the grouping columns. This behavior is deprecated, and in a future version of pandas the grouping columns will be excluded from the operation. Either pass `include_groups=False` to exclude the groupings or explicitly select the grouping columns after groupby to silence this warning.\n",
      "  daily_summary = df.groupby('date', group_keys=False).apply(\n",
      "/var/folders/1w/l9hx8l952r57k_qmjhw7qc500000gn/T/ipykernel_52453/2342787335.py:87: DeprecationWarning: DataFrameGroupBy.apply operated on the grouping columns. This behavior is deprecated, and in a future version of pandas the grouping columns will be excluded from the operation. Either pass `include_groups=False` to exclude the groupings or explicitly select the grouping columns after groupby to silence this warning.\n",
      "  daily_summary = df.groupby('date', group_keys=False).apply(\n",
      "/var/folders/1w/l9hx8l952r57k_qmjhw7qc500000gn/T/ipykernel_52453/2342787335.py:87: DeprecationWarning: DataFrameGroupBy.apply operated on the grouping columns. This behavior is deprecated, and in a future version of pandas the grouping columns will be excluded from the operation. Either pass `include_groups=False` to exclude the groupings or explicitly select the grouping columns after groupby to silence this warning.\n",
      "  daily_summary = df.groupby('date', group_keys=False).apply(\n",
      "/var/folders/1w/l9hx8l952r57k_qmjhw7qc500000gn/T/ipykernel_52453/2342787335.py:87: DeprecationWarning: DataFrameGroupBy.apply operated on the grouping columns. This behavior is deprecated, and in a future version of pandas the grouping columns will be excluded from the operation. Either pass `include_groups=False` to exclude the groupings or explicitly select the grouping columns after groupby to silence this warning.\n",
      "  daily_summary = df.groupby('date', group_keys=False).apply(\n",
      "/var/folders/1w/l9hx8l952r57k_qmjhw7qc500000gn/T/ipykernel_52453/2342787335.py:87: DeprecationWarning: DataFrameGroupBy.apply operated on the grouping columns. This behavior is deprecated, and in a future version of pandas the grouping columns will be excluded from the operation. Either pass `include_groups=False` to exclude the groupings or explicitly select the grouping columns after groupby to silence this warning.\n",
      "  daily_summary = df.groupby('date', group_keys=False).apply(\n",
      "/var/folders/1w/l9hx8l952r57k_qmjhw7qc500000gn/T/ipykernel_52453/2342787335.py:87: DeprecationWarning: DataFrameGroupBy.apply operated on the grouping columns. This behavior is deprecated, and in a future version of pandas the grouping columns will be excluded from the operation. Either pass `include_groups=False` to exclude the groupings or explicitly select the grouping columns after groupby to silence this warning.\n",
      "  daily_summary = df.groupby('date', group_keys=False).apply(\n",
      "/var/folders/1w/l9hx8l952r57k_qmjhw7qc500000gn/T/ipykernel_52453/2342787335.py:87: DeprecationWarning: DataFrameGroupBy.apply operated on the grouping columns. This behavior is deprecated, and in a future version of pandas the grouping columns will be excluded from the operation. Either pass `include_groups=False` to exclude the groupings or explicitly select the grouping columns after groupby to silence this warning.\n",
      "  daily_summary = df.groupby('date', group_keys=False).apply(\n",
      "/var/folders/1w/l9hx8l952r57k_qmjhw7qc500000gn/T/ipykernel_52453/2342787335.py:87: DeprecationWarning: DataFrameGroupBy.apply operated on the grouping columns. This behavior is deprecated, and in a future version of pandas the grouping columns will be excluded from the operation. Either pass `include_groups=False` to exclude the groupings or explicitly select the grouping columns after groupby to silence this warning.\n",
      "  daily_summary = df.groupby('date', group_keys=False).apply(\n",
      "/var/folders/1w/l9hx8l952r57k_qmjhw7qc500000gn/T/ipykernel_52453/2342787335.py:87: DeprecationWarning: DataFrameGroupBy.apply operated on the grouping columns. This behavior is deprecated, and in a future version of pandas the grouping columns will be excluded from the operation. Either pass `include_groups=False` to exclude the groupings or explicitly select the grouping columns after groupby to silence this warning.\n",
      "  daily_summary = df.groupby('date', group_keys=False).apply(\n",
      "/var/folders/1w/l9hx8l952r57k_qmjhw7qc500000gn/T/ipykernel_52453/2342787335.py:87: DeprecationWarning: DataFrameGroupBy.apply operated on the grouping columns. This behavior is deprecated, and in a future version of pandas the grouping columns will be excluded from the operation. Either pass `include_groups=False` to exclude the groupings or explicitly select the grouping columns after groupby to silence this warning.\n",
      "  daily_summary = df.groupby('date', group_keys=False).apply(\n",
      "/var/folders/1w/l9hx8l952r57k_qmjhw7qc500000gn/T/ipykernel_52453/2342787335.py:87: DeprecationWarning: DataFrameGroupBy.apply operated on the grouping columns. This behavior is deprecated, and in a future version of pandas the grouping columns will be excluded from the operation. Either pass `include_groups=False` to exclude the groupings or explicitly select the grouping columns after groupby to silence this warning.\n",
      "  daily_summary = df.groupby('date', group_keys=False).apply(\n",
      "/var/folders/1w/l9hx8l952r57k_qmjhw7qc500000gn/T/ipykernel_52453/2342787335.py:87: DeprecationWarning: DataFrameGroupBy.apply operated on the grouping columns. This behavior is deprecated, and in a future version of pandas the grouping columns will be excluded from the operation. Either pass `include_groups=False` to exclude the groupings or explicitly select the grouping columns after groupby to silence this warning.\n",
      "  daily_summary = df.groupby('date', group_keys=False).apply(\n",
      "/var/folders/1w/l9hx8l952r57k_qmjhw7qc500000gn/T/ipykernel_52453/2342787335.py:87: DeprecationWarning: DataFrameGroupBy.apply operated on the grouping columns. This behavior is deprecated, and in a future version of pandas the grouping columns will be excluded from the operation. Either pass `include_groups=False` to exclude the groupings or explicitly select the grouping columns after groupby to silence this warning.\n",
      "  daily_summary = df.groupby('date', group_keys=False).apply(\n",
      "/var/folders/1w/l9hx8l952r57k_qmjhw7qc500000gn/T/ipykernel_52453/2342787335.py:87: DeprecationWarning: DataFrameGroupBy.apply operated on the grouping columns. This behavior is deprecated, and in a future version of pandas the grouping columns will be excluded from the operation. Either pass `include_groups=False` to exclude the groupings or explicitly select the grouping columns after groupby to silence this warning.\n",
      "  daily_summary = df.groupby('date', group_keys=False).apply(\n",
      "/var/folders/1w/l9hx8l952r57k_qmjhw7qc500000gn/T/ipykernel_52453/2342787335.py:87: DeprecationWarning: DataFrameGroupBy.apply operated on the grouping columns. This behavior is deprecated, and in a future version of pandas the grouping columns will be excluded from the operation. Either pass `include_groups=False` to exclude the groupings or explicitly select the grouping columns after groupby to silence this warning.\n",
      "  daily_summary = df.groupby('date', group_keys=False).apply(\n",
      "/var/folders/1w/l9hx8l952r57k_qmjhw7qc500000gn/T/ipykernel_52453/2342787335.py:87: DeprecationWarning: DataFrameGroupBy.apply operated on the grouping columns. This behavior is deprecated, and in a future version of pandas the grouping columns will be excluded from the operation. Either pass `include_groups=False` to exclude the groupings or explicitly select the grouping columns after groupby to silence this warning.\n",
      "  daily_summary = df.groupby('date', group_keys=False).apply(\n",
      "/var/folders/1w/l9hx8l952r57k_qmjhw7qc500000gn/T/ipykernel_52453/2342787335.py:87: DeprecationWarning: DataFrameGroupBy.apply operated on the grouping columns. This behavior is deprecated, and in a future version of pandas the grouping columns will be excluded from the operation. Either pass `include_groups=False` to exclude the groupings or explicitly select the grouping columns after groupby to silence this warning.\n",
      "  daily_summary = df.groupby('date', group_keys=False).apply(\n",
      "/var/folders/1w/l9hx8l952r57k_qmjhw7qc500000gn/T/ipykernel_52453/2342787335.py:87: DeprecationWarning: DataFrameGroupBy.apply operated on the grouping columns. This behavior is deprecated, and in a future version of pandas the grouping columns will be excluded from the operation. Either pass `include_groups=False` to exclude the groupings or explicitly select the grouping columns after groupby to silence this warning.\n",
      "  daily_summary = df.groupby('date', group_keys=False).apply(\n",
      "/var/folders/1w/l9hx8l952r57k_qmjhw7qc500000gn/T/ipykernel_52453/2342787335.py:87: DeprecationWarning: DataFrameGroupBy.apply operated on the grouping columns. This behavior is deprecated, and in a future version of pandas the grouping columns will be excluded from the operation. Either pass `include_groups=False` to exclude the groupings or explicitly select the grouping columns after groupby to silence this warning.\n",
      "  daily_summary = df.groupby('date', group_keys=False).apply(\n",
      "/var/folders/1w/l9hx8l952r57k_qmjhw7qc500000gn/T/ipykernel_52453/2342787335.py:87: DeprecationWarning: DataFrameGroupBy.apply operated on the grouping columns. This behavior is deprecated, and in a future version of pandas the grouping columns will be excluded from the operation. Either pass `include_groups=False` to exclude the groupings or explicitly select the grouping columns after groupby to silence this warning.\n",
      "  daily_summary = df.groupby('date', group_keys=False).apply(\n",
      "/var/folders/1w/l9hx8l952r57k_qmjhw7qc500000gn/T/ipykernel_52453/2342787335.py:87: DeprecationWarning: DataFrameGroupBy.apply operated on the grouping columns. This behavior is deprecated, and in a future version of pandas the grouping columns will be excluded from the operation. Either pass `include_groups=False` to exclude the groupings or explicitly select the grouping columns after groupby to silence this warning.\n",
      "  daily_summary = df.groupby('date', group_keys=False).apply(\n",
      "/var/folders/1w/l9hx8l952r57k_qmjhw7qc500000gn/T/ipykernel_52453/2342787335.py:87: DeprecationWarning: DataFrameGroupBy.apply operated on the grouping columns. This behavior is deprecated, and in a future version of pandas the grouping columns will be excluded from the operation. Either pass `include_groups=False` to exclude the groupings or explicitly select the grouping columns after groupby to silence this warning.\n",
      "  daily_summary = df.groupby('date', group_keys=False).apply(\n",
      "/var/folders/1w/l9hx8l952r57k_qmjhw7qc500000gn/T/ipykernel_52453/2342787335.py:87: DeprecationWarning: DataFrameGroupBy.apply operated on the grouping columns. This behavior is deprecated, and in a future version of pandas the grouping columns will be excluded from the operation. Either pass `include_groups=False` to exclude the groupings or explicitly select the grouping columns after groupby to silence this warning.\n",
      "  daily_summary = df.groupby('date', group_keys=False).apply(\n",
      "/var/folders/1w/l9hx8l952r57k_qmjhw7qc500000gn/T/ipykernel_52453/2342787335.py:87: DeprecationWarning: DataFrameGroupBy.apply operated on the grouping columns. This behavior is deprecated, and in a future version of pandas the grouping columns will be excluded from the operation. Either pass `include_groups=False` to exclude the groupings or explicitly select the grouping columns after groupby to silence this warning.\n",
      "  daily_summary = df.groupby('date', group_keys=False).apply(\n",
      "/var/folders/1w/l9hx8l952r57k_qmjhw7qc500000gn/T/ipykernel_52453/2342787335.py:87: DeprecationWarning: DataFrameGroupBy.apply operated on the grouping columns. This behavior is deprecated, and in a future version of pandas the grouping columns will be excluded from the operation. Either pass `include_groups=False` to exclude the groupings or explicitly select the grouping columns after groupby to silence this warning.\n",
      "  daily_summary = df.groupby('date', group_keys=False).apply(\n",
      "/var/folders/1w/l9hx8l952r57k_qmjhw7qc500000gn/T/ipykernel_52453/2342787335.py:87: DeprecationWarning: DataFrameGroupBy.apply operated on the grouping columns. This behavior is deprecated, and in a future version of pandas the grouping columns will be excluded from the operation. Either pass `include_groups=False` to exclude the groupings or explicitly select the grouping columns after groupby to silence this warning.\n",
      "  daily_summary = df.groupby('date', group_keys=False).apply(\n",
      "/var/folders/1w/l9hx8l952r57k_qmjhw7qc500000gn/T/ipykernel_52453/2342787335.py:87: DeprecationWarning: DataFrameGroupBy.apply operated on the grouping columns. This behavior is deprecated, and in a future version of pandas the grouping columns will be excluded from the operation. Either pass `include_groups=False` to exclude the groupings or explicitly select the grouping columns after groupby to silence this warning.\n",
      "  daily_summary = df.groupby('date', group_keys=False).apply(\n",
      "/var/folders/1w/l9hx8l952r57k_qmjhw7qc500000gn/T/ipykernel_52453/2342787335.py:87: DeprecationWarning: DataFrameGroupBy.apply operated on the grouping columns. This behavior is deprecated, and in a future version of pandas the grouping columns will be excluded from the operation. Either pass `include_groups=False` to exclude the groupings or explicitly select the grouping columns after groupby to silence this warning.\n",
      "  daily_summary = df.groupby('date', group_keys=False).apply(\n",
      "/var/folders/1w/l9hx8l952r57k_qmjhw7qc500000gn/T/ipykernel_52453/2342787335.py:87: DeprecationWarning: DataFrameGroupBy.apply operated on the grouping columns. This behavior is deprecated, and in a future version of pandas the grouping columns will be excluded from the operation. Either pass `include_groups=False` to exclude the groupings or explicitly select the grouping columns after groupby to silence this warning.\n",
      "  daily_summary = df.groupby('date', group_keys=False).apply(\n",
      "/var/folders/1w/l9hx8l952r57k_qmjhw7qc500000gn/T/ipykernel_52453/2342787335.py:87: DeprecationWarning: DataFrameGroupBy.apply operated on the grouping columns. This behavior is deprecated, and in a future version of pandas the grouping columns will be excluded from the operation. Either pass `include_groups=False` to exclude the groupings or explicitly select the grouping columns after groupby to silence this warning.\n",
      "  daily_summary = df.groupby('date', group_keys=False).apply(\n",
      "/var/folders/1w/l9hx8l952r57k_qmjhw7qc500000gn/T/ipykernel_52453/2342787335.py:87: DeprecationWarning: DataFrameGroupBy.apply operated on the grouping columns. This behavior is deprecated, and in a future version of pandas the grouping columns will be excluded from the operation. Either pass `include_groups=False` to exclude the groupings or explicitly select the grouping columns after groupby to silence this warning.\n",
      "  daily_summary = df.groupby('date', group_keys=False).apply(\n",
      "/var/folders/1w/l9hx8l952r57k_qmjhw7qc500000gn/T/ipykernel_52453/2342787335.py:87: DeprecationWarning: DataFrameGroupBy.apply operated on the grouping columns. This behavior is deprecated, and in a future version of pandas the grouping columns will be excluded from the operation. Either pass `include_groups=False` to exclude the groupings or explicitly select the grouping columns after groupby to silence this warning.\n",
      "  daily_summary = df.groupby('date', group_keys=False).apply(\n",
      "/var/folders/1w/l9hx8l952r57k_qmjhw7qc500000gn/T/ipykernel_52453/2342787335.py:87: DeprecationWarning: DataFrameGroupBy.apply operated on the grouping columns. This behavior is deprecated, and in a future version of pandas the grouping columns will be excluded from the operation. Either pass `include_groups=False` to exclude the groupings or explicitly select the grouping columns after groupby to silence this warning.\n",
      "  daily_summary = df.groupby('date', group_keys=False).apply(\n",
      "/var/folders/1w/l9hx8l952r57k_qmjhw7qc500000gn/T/ipykernel_52453/2342787335.py:87: DeprecationWarning: DataFrameGroupBy.apply operated on the grouping columns. This behavior is deprecated, and in a future version of pandas the grouping columns will be excluded from the operation. Either pass `include_groups=False` to exclude the groupings or explicitly select the grouping columns after groupby to silence this warning.\n",
      "  daily_summary = df.groupby('date', group_keys=False).apply(\n",
      "/var/folders/1w/l9hx8l952r57k_qmjhw7qc500000gn/T/ipykernel_52453/2342787335.py:87: DeprecationWarning: DataFrameGroupBy.apply operated on the grouping columns. This behavior is deprecated, and in a future version of pandas the grouping columns will be excluded from the operation. Either pass `include_groups=False` to exclude the groupings or explicitly select the grouping columns after groupby to silence this warning.\n",
      "  daily_summary = df.groupby('date', group_keys=False).apply(\n",
      "/var/folders/1w/l9hx8l952r57k_qmjhw7qc500000gn/T/ipykernel_52453/2342787335.py:87: DeprecationWarning: DataFrameGroupBy.apply operated on the grouping columns. This behavior is deprecated, and in a future version of pandas the grouping columns will be excluded from the operation. Either pass `include_groups=False` to exclude the groupings or explicitly select the grouping columns after groupby to silence this warning.\n",
      "  daily_summary = df.groupby('date', group_keys=False).apply(\n",
      "/var/folders/1w/l9hx8l952r57k_qmjhw7qc500000gn/T/ipykernel_52453/2342787335.py:87: DeprecationWarning: DataFrameGroupBy.apply operated on the grouping columns. This behavior is deprecated, and in a future version of pandas the grouping columns will be excluded from the operation. Either pass `include_groups=False` to exclude the groupings or explicitly select the grouping columns after groupby to silence this warning.\n",
      "  daily_summary = df.groupby('date', group_keys=False).apply(\n",
      "/var/folders/1w/l9hx8l952r57k_qmjhw7qc500000gn/T/ipykernel_52453/2342787335.py:87: DeprecationWarning: DataFrameGroupBy.apply operated on the grouping columns. This behavior is deprecated, and in a future version of pandas the grouping columns will be excluded from the operation. Either pass `include_groups=False` to exclude the groupings or explicitly select the grouping columns after groupby to silence this warning.\n",
      "  daily_summary = df.groupby('date', group_keys=False).apply(\n",
      "/var/folders/1w/l9hx8l952r57k_qmjhw7qc500000gn/T/ipykernel_52453/2342787335.py:87: DeprecationWarning: DataFrameGroupBy.apply operated on the grouping columns. This behavior is deprecated, and in a future version of pandas the grouping columns will be excluded from the operation. Either pass `include_groups=False` to exclude the groupings or explicitly select the grouping columns after groupby to silence this warning.\n",
      "  daily_summary = df.groupby('date', group_keys=False).apply(\n",
      "/var/folders/1w/l9hx8l952r57k_qmjhw7qc500000gn/T/ipykernel_52453/2342787335.py:87: DeprecationWarning: DataFrameGroupBy.apply operated on the grouping columns. This behavior is deprecated, and in a future version of pandas the grouping columns will be excluded from the operation. Either pass `include_groups=False` to exclude the groupings or explicitly select the grouping columns after groupby to silence this warning.\n",
      "  daily_summary = df.groupby('date', group_keys=False).apply(\n",
      "/var/folders/1w/l9hx8l952r57k_qmjhw7qc500000gn/T/ipykernel_52453/2342787335.py:87: DeprecationWarning: DataFrameGroupBy.apply operated on the grouping columns. This behavior is deprecated, and in a future version of pandas the grouping columns will be excluded from the operation. Either pass `include_groups=False` to exclude the groupings or explicitly select the grouping columns after groupby to silence this warning.\n",
      "  daily_summary = df.groupby('date', group_keys=False).apply(\n",
      "/var/folders/1w/l9hx8l952r57k_qmjhw7qc500000gn/T/ipykernel_52453/2342787335.py:87: DeprecationWarning: DataFrameGroupBy.apply operated on the grouping columns. This behavior is deprecated, and in a future version of pandas the grouping columns will be excluded from the operation. Either pass `include_groups=False` to exclude the groupings or explicitly select the grouping columns after groupby to silence this warning.\n",
      "  daily_summary = df.groupby('date', group_keys=False).apply(\n",
      "/var/folders/1w/l9hx8l952r57k_qmjhw7qc500000gn/T/ipykernel_52453/2342787335.py:87: DeprecationWarning: DataFrameGroupBy.apply operated on the grouping columns. This behavior is deprecated, and in a future version of pandas the grouping columns will be excluded from the operation. Either pass `include_groups=False` to exclude the groupings or explicitly select the grouping columns after groupby to silence this warning.\n",
      "  daily_summary = df.groupby('date', group_keys=False).apply(\n",
      "/var/folders/1w/l9hx8l952r57k_qmjhw7qc500000gn/T/ipykernel_52453/2342787335.py:87: DeprecationWarning: DataFrameGroupBy.apply operated on the grouping columns. This behavior is deprecated, and in a future version of pandas the grouping columns will be excluded from the operation. Either pass `include_groups=False` to exclude the groupings or explicitly select the grouping columns after groupby to silence this warning.\n",
      "  daily_summary = df.groupby('date', group_keys=False).apply(\n",
      "/var/folders/1w/l9hx8l952r57k_qmjhw7qc500000gn/T/ipykernel_52453/2342787335.py:87: DeprecationWarning: DataFrameGroupBy.apply operated on the grouping columns. This behavior is deprecated, and in a future version of pandas the grouping columns will be excluded from the operation. Either pass `include_groups=False` to exclude the groupings or explicitly select the grouping columns after groupby to silence this warning.\n",
      "  daily_summary = df.groupby('date', group_keys=False).apply(\n",
      "/var/folders/1w/l9hx8l952r57k_qmjhw7qc500000gn/T/ipykernel_52453/2342787335.py:87: DeprecationWarning: DataFrameGroupBy.apply operated on the grouping columns. This behavior is deprecated, and in a future version of pandas the grouping columns will be excluded from the operation. Either pass `include_groups=False` to exclude the groupings or explicitly select the grouping columns after groupby to silence this warning.\n",
      "  daily_summary = df.groupby('date', group_keys=False).apply(\n",
      "/var/folders/1w/l9hx8l952r57k_qmjhw7qc500000gn/T/ipykernel_52453/2342787335.py:87: DeprecationWarning: DataFrameGroupBy.apply operated on the grouping columns. This behavior is deprecated, and in a future version of pandas the grouping columns will be excluded from the operation. Either pass `include_groups=False` to exclude the groupings or explicitly select the grouping columns after groupby to silence this warning.\n",
      "  daily_summary = df.groupby('date', group_keys=False).apply(\n",
      "/var/folders/1w/l9hx8l952r57k_qmjhw7qc500000gn/T/ipykernel_52453/2342787335.py:87: DeprecationWarning: DataFrameGroupBy.apply operated on the grouping columns. This behavior is deprecated, and in a future version of pandas the grouping columns will be excluded from the operation. Either pass `include_groups=False` to exclude the groupings or explicitly select the grouping columns after groupby to silence this warning.\n",
      "  daily_summary = df.groupby('date', group_keys=False).apply(\n",
      "/var/folders/1w/l9hx8l952r57k_qmjhw7qc500000gn/T/ipykernel_52453/2342787335.py:87: DeprecationWarning: DataFrameGroupBy.apply operated on the grouping columns. This behavior is deprecated, and in a future version of pandas the grouping columns will be excluded from the operation. Either pass `include_groups=False` to exclude the groupings or explicitly select the grouping columns after groupby to silence this warning.\n",
      "  daily_summary = df.groupby('date', group_keys=False).apply(\n",
      "/var/folders/1w/l9hx8l952r57k_qmjhw7qc500000gn/T/ipykernel_52453/2342787335.py:87: DeprecationWarning: DataFrameGroupBy.apply operated on the grouping columns. This behavior is deprecated, and in a future version of pandas the grouping columns will be excluded from the operation. Either pass `include_groups=False` to exclude the groupings or explicitly select the grouping columns after groupby to silence this warning.\n",
      "  daily_summary = df.groupby('date', group_keys=False).apply(\n",
      "/var/folders/1w/l9hx8l952r57k_qmjhw7qc500000gn/T/ipykernel_52453/2342787335.py:87: DeprecationWarning: DataFrameGroupBy.apply operated on the grouping columns. This behavior is deprecated, and in a future version of pandas the grouping columns will be excluded from the operation. Either pass `include_groups=False` to exclude the groupings or explicitly select the grouping columns after groupby to silence this warning.\n",
      "  daily_summary = df.groupby('date', group_keys=False).apply(\n",
      "/var/folders/1w/l9hx8l952r57k_qmjhw7qc500000gn/T/ipykernel_52453/2342787335.py:87: DeprecationWarning: DataFrameGroupBy.apply operated on the grouping columns. This behavior is deprecated, and in a future version of pandas the grouping columns will be excluded from the operation. Either pass `include_groups=False` to exclude the groupings or explicitly select the grouping columns after groupby to silence this warning.\n",
      "  daily_summary = df.groupby('date', group_keys=False).apply(\n",
      "/var/folders/1w/l9hx8l952r57k_qmjhw7qc500000gn/T/ipykernel_52453/2342787335.py:87: DeprecationWarning: DataFrameGroupBy.apply operated on the grouping columns. This behavior is deprecated, and in a future version of pandas the grouping columns will be excluded from the operation. Either pass `include_groups=False` to exclude the groupings or explicitly select the grouping columns after groupby to silence this warning.\n",
      "  daily_summary = df.groupby('date', group_keys=False).apply(\n",
      "/var/folders/1w/l9hx8l952r57k_qmjhw7qc500000gn/T/ipykernel_52453/2342787335.py:87: DeprecationWarning: DataFrameGroupBy.apply operated on the grouping columns. This behavior is deprecated, and in a future version of pandas the grouping columns will be excluded from the operation. Either pass `include_groups=False` to exclude the groupings or explicitly select the grouping columns after groupby to silence this warning.\n",
      "  daily_summary = df.groupby('date', group_keys=False).apply(\n",
      "/var/folders/1w/l9hx8l952r57k_qmjhw7qc500000gn/T/ipykernel_52453/2342787335.py:87: DeprecationWarning: DataFrameGroupBy.apply operated on the grouping columns. This behavior is deprecated, and in a future version of pandas the grouping columns will be excluded from the operation. Either pass `include_groups=False` to exclude the groupings or explicitly select the grouping columns after groupby to silence this warning.\n",
      "  daily_summary = df.groupby('date', group_keys=False).apply(\n",
      "/var/folders/1w/l9hx8l952r57k_qmjhw7qc500000gn/T/ipykernel_52453/2342787335.py:87: DeprecationWarning: DataFrameGroupBy.apply operated on the grouping columns. This behavior is deprecated, and in a future version of pandas the grouping columns will be excluded from the operation. Either pass `include_groups=False` to exclude the groupings or explicitly select the grouping columns after groupby to silence this warning.\n",
      "  daily_summary = df.groupby('date', group_keys=False).apply(\n",
      "/var/folders/1w/l9hx8l952r57k_qmjhw7qc500000gn/T/ipykernel_52453/2342787335.py:87: DeprecationWarning: DataFrameGroupBy.apply operated on the grouping columns. This behavior is deprecated, and in a future version of pandas the grouping columns will be excluded from the operation. Either pass `include_groups=False` to exclude the groupings or explicitly select the grouping columns after groupby to silence this warning.\n",
      "  daily_summary = df.groupby('date', group_keys=False).apply(\n",
      "/var/folders/1w/l9hx8l952r57k_qmjhw7qc500000gn/T/ipykernel_52453/2342787335.py:87: DeprecationWarning: DataFrameGroupBy.apply operated on the grouping columns. This behavior is deprecated, and in a future version of pandas the grouping columns will be excluded from the operation. Either pass `include_groups=False` to exclude the groupings or explicitly select the grouping columns after groupby to silence this warning.\n",
      "  daily_summary = df.groupby('date', group_keys=False).apply(\n",
      "/var/folders/1w/l9hx8l952r57k_qmjhw7qc500000gn/T/ipykernel_52453/2342787335.py:87: DeprecationWarning: DataFrameGroupBy.apply operated on the grouping columns. This behavior is deprecated, and in a future version of pandas the grouping columns will be excluded from the operation. Either pass `include_groups=False` to exclude the groupings or explicitly select the grouping columns after groupby to silence this warning.\n",
      "  daily_summary = df.groupby('date', group_keys=False).apply(\n",
      "/var/folders/1w/l9hx8l952r57k_qmjhw7qc500000gn/T/ipykernel_52453/2342787335.py:87: DeprecationWarning: DataFrameGroupBy.apply operated on the grouping columns. This behavior is deprecated, and in a future version of pandas the grouping columns will be excluded from the operation. Either pass `include_groups=False` to exclude the groupings or explicitly select the grouping columns after groupby to silence this warning.\n",
      "  daily_summary = df.groupby('date', group_keys=False).apply(\n",
      "/var/folders/1w/l9hx8l952r57k_qmjhw7qc500000gn/T/ipykernel_52453/2342787335.py:87: DeprecationWarning: DataFrameGroupBy.apply operated on the grouping columns. This behavior is deprecated, and in a future version of pandas the grouping columns will be excluded from the operation. Either pass `include_groups=False` to exclude the groupings or explicitly select the grouping columns after groupby to silence this warning.\n",
      "  daily_summary = df.groupby('date', group_keys=False).apply(\n",
      "/var/folders/1w/l9hx8l952r57k_qmjhw7qc500000gn/T/ipykernel_52453/2342787335.py:87: DeprecationWarning: DataFrameGroupBy.apply operated on the grouping columns. This behavior is deprecated, and in a future version of pandas the grouping columns will be excluded from the operation. Either pass `include_groups=False` to exclude the groupings or explicitly select the grouping columns after groupby to silence this warning.\n",
      "  daily_summary = df.groupby('date', group_keys=False).apply(\n",
      "/var/folders/1w/l9hx8l952r57k_qmjhw7qc500000gn/T/ipykernel_52453/2342787335.py:87: DeprecationWarning: DataFrameGroupBy.apply operated on the grouping columns. This behavior is deprecated, and in a future version of pandas the grouping columns will be excluded from the operation. Either pass `include_groups=False` to exclude the groupings or explicitly select the grouping columns after groupby to silence this warning.\n",
      "  daily_summary = df.groupby('date', group_keys=False).apply(\n",
      "/var/folders/1w/l9hx8l952r57k_qmjhw7qc500000gn/T/ipykernel_52453/2342787335.py:87: DeprecationWarning: DataFrameGroupBy.apply operated on the grouping columns. This behavior is deprecated, and in a future version of pandas the grouping columns will be excluded from the operation. Either pass `include_groups=False` to exclude the groupings or explicitly select the grouping columns after groupby to silence this warning.\n",
      "  daily_summary = df.groupby('date', group_keys=False).apply(\n",
      "/var/folders/1w/l9hx8l952r57k_qmjhw7qc500000gn/T/ipykernel_52453/2342787335.py:87: DeprecationWarning: DataFrameGroupBy.apply operated on the grouping columns. This behavior is deprecated, and in a future version of pandas the grouping columns will be excluded from the operation. Either pass `include_groups=False` to exclude the groupings or explicitly select the grouping columns after groupby to silence this warning.\n",
      "  daily_summary = df.groupby('date', group_keys=False).apply(\n",
      "/var/folders/1w/l9hx8l952r57k_qmjhw7qc500000gn/T/ipykernel_52453/2342787335.py:87: DeprecationWarning: DataFrameGroupBy.apply operated on the grouping columns. This behavior is deprecated, and in a future version of pandas the grouping columns will be excluded from the operation. Either pass `include_groups=False` to exclude the groupings or explicitly select the grouping columns after groupby to silence this warning.\n",
      "  daily_summary = df.groupby('date', group_keys=False).apply(\n",
      "/var/folders/1w/l9hx8l952r57k_qmjhw7qc500000gn/T/ipykernel_52453/2342787335.py:87: DeprecationWarning: DataFrameGroupBy.apply operated on the grouping columns. This behavior is deprecated, and in a future version of pandas the grouping columns will be excluded from the operation. Either pass `include_groups=False` to exclude the groupings or explicitly select the grouping columns after groupby to silence this warning.\n",
      "  daily_summary = df.groupby('date', group_keys=False).apply(\n",
      "/var/folders/1w/l9hx8l952r57k_qmjhw7qc500000gn/T/ipykernel_52453/2342787335.py:87: DeprecationWarning: DataFrameGroupBy.apply operated on the grouping columns. This behavior is deprecated, and in a future version of pandas the grouping columns will be excluded from the operation. Either pass `include_groups=False` to exclude the groupings or explicitly select the grouping columns after groupby to silence this warning.\n",
      "  daily_summary = df.groupby('date', group_keys=False).apply(\n",
      "/var/folders/1w/l9hx8l952r57k_qmjhw7qc500000gn/T/ipykernel_52453/2342787335.py:87: DeprecationWarning: DataFrameGroupBy.apply operated on the grouping columns. This behavior is deprecated, and in a future version of pandas the grouping columns will be excluded from the operation. Either pass `include_groups=False` to exclude the groupings or explicitly select the grouping columns after groupby to silence this warning.\n",
      "  daily_summary = df.groupby('date', group_keys=False).apply(\n",
      "/var/folders/1w/l9hx8l952r57k_qmjhw7qc500000gn/T/ipykernel_52453/2342787335.py:87: DeprecationWarning: DataFrameGroupBy.apply operated on the grouping columns. This behavior is deprecated, and in a future version of pandas the grouping columns will be excluded from the operation. Either pass `include_groups=False` to exclude the groupings or explicitly select the grouping columns after groupby to silence this warning.\n",
      "  daily_summary = df.groupby('date', group_keys=False).apply(\n",
      "/var/folders/1w/l9hx8l952r57k_qmjhw7qc500000gn/T/ipykernel_52453/2342787335.py:87: DeprecationWarning: DataFrameGroupBy.apply operated on the grouping columns. This behavior is deprecated, and in a future version of pandas the grouping columns will be excluded from the operation. Either pass `include_groups=False` to exclude the groupings or explicitly select the grouping columns after groupby to silence this warning.\n",
      "  daily_summary = df.groupby('date', group_keys=False).apply(\n",
      "/var/folders/1w/l9hx8l952r57k_qmjhw7qc500000gn/T/ipykernel_52453/2342787335.py:87: DeprecationWarning: DataFrameGroupBy.apply operated on the grouping columns. This behavior is deprecated, and in a future version of pandas the grouping columns will be excluded from the operation. Either pass `include_groups=False` to exclude the groupings or explicitly select the grouping columns after groupby to silence this warning.\n",
      "  daily_summary = df.groupby('date', group_keys=False).apply(\n",
      "/var/folders/1w/l9hx8l952r57k_qmjhw7qc500000gn/T/ipykernel_52453/2342787335.py:87: DeprecationWarning: DataFrameGroupBy.apply operated on the grouping columns. This behavior is deprecated, and in a future version of pandas the grouping columns will be excluded from the operation. Either pass `include_groups=False` to exclude the groupings or explicitly select the grouping columns after groupby to silence this warning.\n",
      "  daily_summary = df.groupby('date', group_keys=False).apply(\n"
     ]
    },
    {
     "name": "stdout",
     "output_type": "stream",
     "text": [
      "    study                               subject_id  meta_entropy\n",
      "0  EXTEND  sub-2450_ses-accel1_accel.csv.RData.csv      2.797357\n",
      "1  EXTEND  sub-2557_ses-accel1_accel.csv.RData.csv      2.967972\n",
      "2  EXTEND  sub-2167_ses-accel1_accel.csv.RData.csv      2.905760\n",
      "3  EXTEND  sub-2219_ses-accel1_accel.csv.RData.csv      2.939361\n",
      "4  EXTEND  sub-2314_ses-accel1_accel.csv.RData.csv      2.921021\n",
      "Saved summary to meta_entropy_summary.csv\n"
     ]
    },
    {
     "name": "stderr",
     "output_type": "stream",
     "text": [
      "/var/folders/1w/l9hx8l952r57k_qmjhw7qc500000gn/T/ipykernel_52453/2342787335.py:87: DeprecationWarning: DataFrameGroupBy.apply operated on the grouping columns. This behavior is deprecated, and in a future version of pandas the grouping columns will be excluded from the operation. Either pass `include_groups=False` to exclude the groupings or explicitly select the grouping columns after groupby to silence this warning.\n",
      "  daily_summary = df.groupby('date', group_keys=False).apply(\n"
     ]
    }
   ],
   "source": [
    "import os\n",
    "\n",
    "# List to collect summary info for each subject\n",
    "subject_summary = []\n",
    "\n",
    "# Create a helper function to extract a subject identifier from the file path\n",
    "def get_subject_id(file_path):\n",
    "    # As an example, take the base name (which contains the subject id info)\n",
    "    return os.path.basename(file_path)\n",
    "\n",
    "# Process subjects from each study and store results in subject_summary\n",
    "for study, file_list in [(\"EXTEND\", extend_files)]:\n",
    "    for file in file_list:\n",
    "        daily_summary, meta_ent = process_subject(file)\n",
    "        if meta_ent is not None:\n",
    "            subject_id = get_subject_id(file)\n",
    "            subject_summary.append({\n",
    "                \"study\": study,\n",
    "                \"subject_id\": subject_id,\n",
    "                \"meta_entropy\": meta_ent\n",
    "            })\n",
    "\n",
    "# Convert the list to a DataFrame\n",
    "summary_df = pd.DataFrame(subject_summary)\n",
    "\n",
    "# Inspect the summary DataFrame\n",
    "print(summary_df.head())\n",
    "\n",
    "# Save the summary DataFrame to a CSV file\n",
    "summary_df.to_csv(\"meta_entropy_summary.csv\", index=False)\n",
    "print(\"Saved summary to meta_entropy_summary.csv\")\n"
   ]
  },
  {
   "cell_type": "code",
   "execution_count": 29,
   "metadata": {},
   "outputs": [
    {
     "ename": "NameError",
     "evalue": "name 'df' is not defined",
     "output_type": "error",
     "traceback": [
      "\u001b[0;31m---------------------------------------------------------------------------\u001b[0m",
      "\u001b[0;31mNameError\u001b[0m                                 Traceback (most recent call last)",
      "Cell \u001b[0;32mIn[29], line 1\u001b[0m\n\u001b[0;32m----> 1\u001b[0m \u001b[38;5;28mprint\u001b[39m(\u001b[43mdf\u001b[49m[\u001b[38;5;124m'\u001b[39m\u001b[38;5;124mtimestamp\u001b[39m\u001b[38;5;124m'\u001b[39m]\u001b[38;5;241m.\u001b[39mhead())\n\u001b[1;32m      2\u001b[0m \u001b[38;5;28mprint\u001b[39m(df[\u001b[38;5;124m'\u001b[39m\u001b[38;5;124mtimestamp\u001b[39m\u001b[38;5;124m'\u001b[39m]\u001b[38;5;241m.\u001b[39mdtype)\n\u001b[1;32m      3\u001b[0m df[\u001b[38;5;124m'\u001b[39m\u001b[38;5;124mdate\u001b[39m\u001b[38;5;124m'\u001b[39m] \u001b[38;5;241m=\u001b[39m df[\u001b[38;5;124m'\u001b[39m\u001b[38;5;124mtimestamp\u001b[39m\u001b[38;5;124m'\u001b[39m]\u001b[38;5;241m.\u001b[39mdt\u001b[38;5;241m.\u001b[39mfloor(\u001b[38;5;124m'\u001b[39m\u001b[38;5;124mD\u001b[39m\u001b[38;5;124m'\u001b[39m)\n",
      "\u001b[0;31mNameError\u001b[0m: name 'df' is not defined"
     ]
    }
   ],
   "source": [
    "print(df['timestamp'].head())\n",
    "print(df['timestamp'].dtype)\n",
    "df['date'] = df['timestamp'].dt.floor('D')\n",
    "\n"
   ]
  },
  {
   "cell_type": "code",
   "execution_count": null,
   "metadata": {},
   "outputs": [
    {
     "name": "stdout",
     "output_type": "stream",
     "text": [
      "Processing file: \\\\itf-rs-store24.hpc.uiowa.edu\\vosslabhpc\\Projects\\BETTER\\3-Experiment\\2-data\\bids\\derivatives\\GGIR\\sub-GE120001\\ses-pre\\beh\\output_beh\\meta\\csv\\sub-GE120001_ses-pre_accel.csv.RData.csv\n",
      "Rows with unparseable timestamps: 0 out of 120780\n",
      "timestamp dtype: datetime64[ns, UTC]\n",
      "Processing file: \\\\itf-rs-store24.hpc.uiowa.edu\\vosslabhpc\\Projects\\BETTER\\3-Experiment\\2-data\\bids\\derivatives\\GGIR\\sub-GE120002\\ses-pre\\beh\\output_beh\\meta\\csv\\sub-GE120002_ses-pre_accel.csv.RData.csv\n",
      "Rows with unparseable timestamps: 0 out of 120780\n",
      "timestamp dtype: datetime64[ns, UTC]\n",
      "Processing file: \\\\itf-rs-store24.hpc.uiowa.edu\\vosslabhpc\\Projects\\BETTER\\3-Experiment\\2-data\\bids\\derivatives\\GGIR\\sub-GE120003\\ses-pre\\beh\\output_beh\\meta\\csv\\sub-GE120003_ses-pre_accel.csv.RData.csv\n",
      "Rows with unparseable timestamps: 0 out of 120780\n",
      "timestamp dtype: datetime64[ns, UTC]\n",
      "Processing file: \\\\itf-rs-store24.hpc.uiowa.edu\\vosslabhpc\\Projects\\BETTER\\3-Experiment\\2-data\\bids\\derivatives\\GGIR\\sub-GE120004\\ses-pre\\beh\\output_beh\\meta\\csv\\sub-GE120004_ses-pre_accel.csv.RData.csv\n",
      "Rows with unparseable timestamps: 0 out of 120780\n",
      "timestamp dtype: datetime64[ns, UTC]\n",
      "Processing file: \\\\itf-rs-store24.hpc.uiowa.edu\\vosslabhpc\\Projects\\BETTER\\3-Experiment\\2-data\\bids\\derivatives\\GGIR\\sub-GE120005\\ses-pre\\beh\\output_beh\\meta\\csv\\sub-GE120005_ses-pre_accel.csv.RData.csv\n",
      "Rows with unparseable timestamps: 0 out of 120780\n",
      "timestamp dtype: datetime64[ns, UTC]\n",
      "Processing file: \\\\itf-rs-store24.hpc.uiowa.edu\\vosslabhpc\\Projects\\BETTER\\3-Experiment\\2-data\\bids\\derivatives\\GGIR\\sub-GE120006\\ses-pre\\beh\\output_beh\\meta\\csv\\sub-GE120006_ses-pre_accel.csv.RData.csv\n",
      "Rows with unparseable timestamps: 0 out of 120780\n",
      "timestamp dtype: datetime64[ns, UTC]\n",
      "Processing file: \\\\itf-rs-store24.hpc.uiowa.edu\\vosslabhpc\\Projects\\BETTER\\3-Experiment\\2-data\\bids\\derivatives\\GGIR\\sub-GE120008\\ses-pre\\beh\\output_beh\\meta\\csv\\sub-GE120008_ses-pre_accel.csv.RData.csv\n",
      "Rows with unparseable timestamps: 0 out of 120780\n",
      "timestamp dtype: datetime64[ns, UTC]\n",
      "Processing file: \\\\itf-rs-store24.hpc.uiowa.edu\\vosslabhpc\\Projects\\BETTER\\3-Experiment\\2-data\\bids\\derivatives\\GGIR\\sub-GE120010\\ses-pre\\beh\\output_beh\\meta\\csv\\sub-GE120010_ses-pre_accel.csv.RData.csv\n",
      "Rows with unparseable timestamps: 0 out of 120780\n",
      "timestamp dtype: datetime64[ns, UTC]\n",
      "Processing file: \\\\itf-rs-store24.hpc.uiowa.edu\\vosslabhpc\\Projects\\BETTER\\3-Experiment\\2-data\\bids\\derivatives\\GGIR\\sub-GE120011\\ses-pre\\beh\\output_beh\\meta\\csv\\sub-GE120011_ses-pre_accel.csv.RData.csv\n",
      "Rows with unparseable timestamps: 0 out of 120780\n",
      "timestamp dtype: datetime64[ns, UTC]\n",
      "Processing file: \\\\itf-rs-store24.hpc.uiowa.edu\\vosslabhpc\\Projects\\BETTER\\3-Experiment\\2-data\\bids\\derivatives\\GGIR\\sub-GE120012\\ses-pre\\beh\\output_beh\\meta\\csv\\sub-GE120012_ses-pre_accel.csv.RData.csv\n",
      "Rows with unparseable timestamps: 0 out of 120780\n",
      "timestamp dtype: datetime64[ns, UTC]\n",
      "Processing file: \\\\itf-rs-store24.hpc.uiowa.edu\\vosslabhpc\\Projects\\BETTER\\3-Experiment\\2-data\\bids\\derivatives\\GGIR\\sub-GE120013\\ses-pre\\beh\\output_beh\\meta\\csv\\sub-GE120013_ses-pre_accel.csv.RData.csv\n",
      "Rows with unparseable timestamps: 0 out of 120780\n",
      "timestamp dtype: datetime64[ns, UTC]\n",
      "Processing file: \\\\itf-rs-store24.hpc.uiowa.edu\\vosslabhpc\\Projects\\BETTER\\3-Experiment\\2-data\\bids\\derivatives\\GGIR\\sub-GE120014\\ses-pre\\beh\\output_beh\\meta\\csv\\sub-GE120014_ses-pre_accel.csv.RData.csv\n",
      "Rows with unparseable timestamps: 0 out of 120780\n",
      "timestamp dtype: datetime64[ns, UTC]\n",
      "Processing file: \\\\itf-rs-store24.hpc.uiowa.edu\\vosslabhpc\\Projects\\BETTER\\3-Experiment\\2-data\\bids\\derivatives\\GGIR\\sub-GE120015\\ses-pre\\beh\\output_beh\\meta\\csv\\sub-GE120015_ses-pre_accel.csv.RData.csv\n",
      "Rows with unparseable timestamps: 0 out of 120780\n",
      "timestamp dtype: datetime64[ns, UTC]\n",
      "Processing file: \\\\itf-rs-store24.hpc.uiowa.edu\\vosslabhpc\\Projects\\BETTER\\3-Experiment\\2-data\\bids\\derivatives\\GGIR\\sub-GE120017\\ses-pre\\beh\\output_beh\\meta\\csv\\sub-GE120017_ses-pre_accel.csv.RData.csv\n",
      "Rows with unparseable timestamps: 0 out of 120780\n",
      "timestamp dtype: datetime64[ns, UTC]\n",
      "Processing file: \\\\itf-rs-store24.hpc.uiowa.edu\\vosslabhpc\\Projects\\BETTER\\3-Experiment\\2-data\\bids\\derivatives\\GGIR\\sub-GE120018\\ses-pre\\beh\\output_beh\\meta\\csv\\sub-GE120018_ses-pre_accel.csv.RData.csv\n",
      "Error reading \\\\itf-rs-store24.hpc.uiowa.edu\\vosslabhpc\\Projects\\BETTER\\3-Experiment\\2-data\\bids\\derivatives\\GGIR\\sub-GE120018\\ses-pre\\beh\\output_beh\\meta\\csv\\sub-GE120018_ses-pre_accel.csv.RData.csv: Error tokenizing data. C error: Calling read(nbytes) on source failed. Try engine='python'.\n",
      "Processing file: \\\\itf-rs-store24.hpc.uiowa.edu\\vosslabhpc\\Projects\\BETTER\\3-Experiment\\2-data\\bids\\derivatives\\GGIR\\sub-GE120019\\ses-pre\\beh\\output_beh\\meta\\csv\\sub-GE120019_ses-pre_accel.csv.RData.csv\n",
      "Rows with unparseable timestamps: 0 out of 120780\n",
      "timestamp dtype: datetime64[ns, UTC]\n",
      "Processing file: \\\\itf-rs-store24.hpc.uiowa.edu\\vosslabhpc\\Projects\\BETTER\\3-Experiment\\2-data\\bids\\derivatives\\GGIR\\sub-GE120020\\ses-pre\\beh\\output_beh\\meta\\csv\\sub-GE120020_ses-pre_accel.csv.RData.csv\n",
      "Rows with unparseable timestamps: 0 out of 120780\n",
      "timestamp dtype: datetime64[ns, UTC]\n",
      "Processing file: \\\\itf-rs-store24.hpc.uiowa.edu\\vosslabhpc\\Projects\\BETTER\\3-Experiment\\2-data\\bids\\derivatives\\GGIR\\sub-GE120021\\ses-pre\\beh\\output_beh\\meta\\csv\\sub-GE120021_ses-pre_accel.csv.RData.csv\n",
      "Rows with unparseable timestamps: 0 out of 120780\n",
      "timestamp dtype: datetime64[ns, UTC]\n",
      "Processing file: \\\\itf-rs-store24.hpc.uiowa.edu\\vosslabhpc\\Projects\\BETTER\\3-Experiment\\2-data\\bids\\derivatives\\GGIR\\sub-GE120023\\ses-pre\\beh\\output_beh\\meta\\csv\\sub-GE120023_ses-pre_accel.csv.RData.csv\n"
     ]
    }
   ],
   "source": [
    "\n"
   ]
  },
  {
   "cell_type": "code",
   "execution_count": null,
   "metadata": {},
   "outputs": [],
   "source": []
  }
 ],
 "metadata": {
  "kernelspec": {
   "display_name": "cpsy",
   "language": "python",
   "name": "python3"
  },
  "language_info": {
   "codemirror_mode": {
    "name": "ipython",
    "version": 3
   },
   "file_extension": ".py",
   "mimetype": "text/x-python",
   "name": "python",
   "nbconvert_exporter": "python",
   "pygments_lexer": "ipython3",
   "version": "3.9.7"
  }
 },
 "nbformat": 4,
 "nbformat_minor": 2
}
