{
 "cells": [
  {
   "cell_type": "code",
   "execution_count": 1,
   "metadata": {},
   "outputs": [],
   "source": [
    "import os\n",
    "import pandas as pd\n",
    "import matplotlib.pyplot as plt\n",
    "import seaborn as sns"
   ]
  },
  {
   "cell_type": "code",
   "execution_count": 2,
   "metadata": {},
   "outputs": [],
   "source": [
    "# for file in directory, load as pandas df\n",
    "directory = '/Volumes/vosslabhpc/symposia/cpsy-25/data/beh'\n",
    "files = [f for f in os.listdir(directory) if f.endswith('.csv')]\n",
    "better = pd.read_csv(os.path.join(directory, 'better_dsst.csv'))\n",
    "\n",
    "extend = pd.read_csv(os.path.join(directory, 'extend_dsst.csv'))\n",
    "\n",
    "pacr = pd.read_csv(os.path.join(directory, 'pacr_dsst.csv'))"
   ]
  },
  {
   "cell_type": "code",
   "execution_count": 3,
   "metadata": {},
   "outputs": [
    {
     "data": {
      "application/vnd.microsoft.datawrangler.viewer.v0+json": {
       "columns": [
        {
         "name": "index",
         "rawType": "int64",
         "type": "integer"
        },
        {
         "name": "participant_id",
         "rawType": "int64",
         "type": "integer"
        },
        {
         "name": "digit_symbol_total",
         "rawType": "float64",
         "type": "float"
        }
       ],
       "conversionMethod": "pd.DataFrame",
       "ref": "a8c17603-7bc5-497b-9960-f5c67db65258",
       "rows": [
        [
         "0",
         "120001",
         "75.0"
        ],
        [
         "1",
         "120002",
         "76.0"
        ],
        [
         "2",
         "120003",
         "104.0"
        ],
        [
         "3",
         "120004",
         "76.0"
        ],
        [
         "4",
         "120005",
         "75.0"
        ],
        [
         "5",
         "120006",
         "45.0"
        ],
        [
         "6",
         "120008",
         "45.0"
        ],
        [
         "7",
         "120010",
         "97.0"
        ],
        [
         "8",
         "120011",
         "70.0"
        ],
        [
         "9",
         "120012",
         "78.0"
        ],
        [
         "10",
         "120013",
         "82.0"
        ],
        [
         "11",
         "120014",
         "88.0"
        ],
        [
         "12",
         "120015",
         "63.0"
        ],
        [
         "13",
         "120017",
         "70.0"
        ],
        [
         "14",
         "120018",
         "90.0"
        ],
        [
         "15",
         "120019",
         "82.0"
        ],
        [
         "16",
         "120020",
         "57.0"
        ],
        [
         "17",
         "120021",
         "86.0"
        ],
        [
         "18",
         "120023",
         "65.0"
        ],
        [
         "19",
         "120024",
         "64.0"
        ],
        [
         "20",
         "120025",
         "84.0"
        ],
        [
         "21",
         "120026",
         "69.0"
        ],
        [
         "22",
         "120027",
         "77.0"
        ],
        [
         "23",
         "120028",
         "49.0"
        ],
        [
         "24",
         "120029",
         "54.0"
        ],
        [
         "25",
         "120030",
         "57.0"
        ],
        [
         "26",
         "120031",
         "75.0"
        ],
        [
         "27",
         "120032",
         "86.0"
        ],
        [
         "28",
         "120033",
         "78.0"
        ],
        [
         "29",
         "120034",
         "69.0"
        ],
        [
         "30",
         "120035",
         "83.0"
        ],
        [
         "31",
         "120036",
         "63.0"
        ],
        [
         "32",
         "120037",
         "55.0"
        ],
        [
         "33",
         "120038",
         "71.0"
        ],
        [
         "34",
         "120039",
         "63.0"
        ],
        [
         "35",
         "120040",
         "63.0"
        ],
        [
         "36",
         "120041",
         "86.0"
        ],
        [
         "37",
         "120042",
         "59.0"
        ],
        [
         "38",
         "120043",
         "56.0"
        ],
        [
         "39",
         "120045",
         "65.0"
        ],
        [
         "40",
         "120047",
         "77.0"
        ],
        [
         "41",
         "121001",
         "52.0"
        ],
        [
         "42",
         "121002",
         "74.0"
        ],
        [
         "43",
         "121003",
         "72.0"
        ],
        [
         "44",
         "121005",
         "87.0"
        ],
        [
         "45",
         "121007",
         null
        ],
        [
         "46",
         "121008",
         "57.0"
        ],
        [
         "47",
         "121009",
         "55.0"
        ],
        [
         "48",
         "121010",
         "55.0"
        ],
        [
         "49",
         "121011",
         "77.0"
        ]
       ],
       "shape": {
        "columns": 2,
        "rows": 155
       }
      },
      "text/html": [
       "<div>\n",
       "<style scoped>\n",
       "    .dataframe tbody tr th:only-of-type {\n",
       "        vertical-align: middle;\n",
       "    }\n",
       "\n",
       "    .dataframe tbody tr th {\n",
       "        vertical-align: top;\n",
       "    }\n",
       "\n",
       "    .dataframe thead th {\n",
       "        text-align: right;\n",
       "    }\n",
       "</style>\n",
       "<table border=\"1\" class=\"dataframe\">\n",
       "  <thead>\n",
       "    <tr style=\"text-align: right;\">\n",
       "      <th></th>\n",
       "      <th>participant_id</th>\n",
       "      <th>digit_symbol_total</th>\n",
       "    </tr>\n",
       "  </thead>\n",
       "  <tbody>\n",
       "    <tr>\n",
       "      <th>0</th>\n",
       "      <td>120001</td>\n",
       "      <td>75.0</td>\n",
       "    </tr>\n",
       "    <tr>\n",
       "      <th>1</th>\n",
       "      <td>120002</td>\n",
       "      <td>76.0</td>\n",
       "    </tr>\n",
       "    <tr>\n",
       "      <th>2</th>\n",
       "      <td>120003</td>\n",
       "      <td>104.0</td>\n",
       "    </tr>\n",
       "    <tr>\n",
       "      <th>3</th>\n",
       "      <td>120004</td>\n",
       "      <td>76.0</td>\n",
       "    </tr>\n",
       "    <tr>\n",
       "      <th>4</th>\n",
       "      <td>120005</td>\n",
       "      <td>75.0</td>\n",
       "    </tr>\n",
       "    <tr>\n",
       "      <th>...</th>\n",
       "      <td>...</td>\n",
       "      <td>...</td>\n",
       "    </tr>\n",
       "    <tr>\n",
       "      <th>150</th>\n",
       "      <td>121028</td>\n",
       "      <td>NaN</td>\n",
       "    </tr>\n",
       "    <tr>\n",
       "      <th>151</th>\n",
       "      <td>121029</td>\n",
       "      <td>NaN</td>\n",
       "    </tr>\n",
       "    <tr>\n",
       "      <th>152</th>\n",
       "      <td>121030</td>\n",
       "      <td>NaN</td>\n",
       "    </tr>\n",
       "    <tr>\n",
       "      <th>153</th>\n",
       "      <td>121031</td>\n",
       "      <td>NaN</td>\n",
       "    </tr>\n",
       "    <tr>\n",
       "      <th>154</th>\n",
       "      <td>121032</td>\n",
       "      <td>NaN</td>\n",
       "    </tr>\n",
       "  </tbody>\n",
       "</table>\n",
       "<p>155 rows × 2 columns</p>\n",
       "</div>"
      ],
      "text/plain": [
       "     participant_id  digit_symbol_total\n",
       "0            120001                75.0\n",
       "1            120002                76.0\n",
       "2            120003               104.0\n",
       "3            120004                76.0\n",
       "4            120005                75.0\n",
       "..              ...                 ...\n",
       "150          121028                 NaN\n",
       "151          121029                 NaN\n",
       "152          121030                 NaN\n",
       "153          121031                 NaN\n",
       "154          121032                 NaN\n",
       "\n",
       "[155 rows x 2 columns]"
      ]
     },
     "execution_count": 3,
     "metadata": {},
     "output_type": "execute_result"
    }
   ],
   "source": [
    "better"
   ]
  },
  {
   "cell_type": "code",
   "execution_count": 4,
   "metadata": {},
   "outputs": [
    {
     "data": {
      "application/vnd.microsoft.datawrangler.viewer.v0+json": {
       "columns": [
        {
         "name": "index",
         "rawType": "int64",
         "type": "integer"
        },
        {
         "name": "id",
         "rawType": "object",
         "type": "string"
        },
        {
         "name": "score",
         "rawType": "float64",
         "type": "float"
        }
       ],
       "conversionMethod": "pd.DataFrame",
       "ref": "4207be48-0f5a-4d53-a4b5-6e93f3629544",
       "rows": [
        [
         "0",
         "b-120001",
         "75.0"
        ],
        [
         "1",
         "b-120002",
         "76.0"
        ],
        [
         "2",
         "b-120003",
         "104.0"
        ],
        [
         "3",
         "b-120004",
         "76.0"
        ],
        [
         "4",
         "b-120005",
         "75.0"
        ],
        [
         "5",
         "b-120006",
         "45.0"
        ],
        [
         "6",
         "b-120008",
         "45.0"
        ],
        [
         "7",
         "b-120010",
         "97.0"
        ],
        [
         "8",
         "b-120011",
         "70.0"
        ],
        [
         "9",
         "b-120012",
         "78.0"
        ],
        [
         "10",
         "b-120013",
         "82.0"
        ],
        [
         "11",
         "b-120014",
         "88.0"
        ],
        [
         "12",
         "b-120015",
         "63.0"
        ],
        [
         "13",
         "b-120017",
         "70.0"
        ],
        [
         "14",
         "b-120018",
         "90.0"
        ],
        [
         "15",
         "b-120019",
         "82.0"
        ],
        [
         "16",
         "b-120020",
         "57.0"
        ],
        [
         "17",
         "b-120021",
         "86.0"
        ],
        [
         "18",
         "b-120023",
         "65.0"
        ],
        [
         "19",
         "b-120024",
         "64.0"
        ],
        [
         "20",
         "b-120025",
         "84.0"
        ],
        [
         "21",
         "b-120026",
         "69.0"
        ],
        [
         "22",
         "b-120027",
         "77.0"
        ],
        [
         "23",
         "b-120028",
         "49.0"
        ],
        [
         "24",
         "b-120029",
         "54.0"
        ],
        [
         "25",
         "b-120030",
         "57.0"
        ],
        [
         "26",
         "b-120031",
         "75.0"
        ],
        [
         "27",
         "b-120032",
         "86.0"
        ],
        [
         "28",
         "b-120033",
         "78.0"
        ],
        [
         "29",
         "b-120034",
         "69.0"
        ],
        [
         "30",
         "b-120035",
         "83.0"
        ],
        [
         "31",
         "b-120036",
         "63.0"
        ],
        [
         "32",
         "b-120037",
         "55.0"
        ],
        [
         "33",
         "b-120038",
         "71.0"
        ],
        [
         "34",
         "b-120039",
         "63.0"
        ],
        [
         "35",
         "b-120040",
         "63.0"
        ],
        [
         "36",
         "b-120041",
         "86.0"
        ],
        [
         "37",
         "b-120042",
         "59.0"
        ],
        [
         "38",
         "b-120043",
         "56.0"
        ],
        [
         "39",
         "b-120045",
         "65.0"
        ],
        [
         "40",
         "b-120047",
         "77.0"
        ],
        [
         "41",
         "b-121001",
         "52.0"
        ],
        [
         "42",
         "b-121002",
         "74.0"
        ],
        [
         "43",
         "b-121003",
         "72.0"
        ],
        [
         "44",
         "b-121005",
         "87.0"
        ],
        [
         "45",
         "b-121007",
         null
        ],
        [
         "46",
         "b-121008",
         "57.0"
        ],
        [
         "47",
         "b-121009",
         "55.0"
        ],
        [
         "48",
         "b-121010",
         "55.0"
        ],
        [
         "49",
         "b-121011",
         "77.0"
        ]
       ],
       "shape": {
        "columns": 2,
        "rows": 155
       }
      },
      "text/html": [
       "<div>\n",
       "<style scoped>\n",
       "    .dataframe tbody tr th:only-of-type {\n",
       "        vertical-align: middle;\n",
       "    }\n",
       "\n",
       "    .dataframe tbody tr th {\n",
       "        vertical-align: top;\n",
       "    }\n",
       "\n",
       "    .dataframe thead th {\n",
       "        text-align: right;\n",
       "    }\n",
       "</style>\n",
       "<table border=\"1\" class=\"dataframe\">\n",
       "  <thead>\n",
       "    <tr style=\"text-align: right;\">\n",
       "      <th></th>\n",
       "      <th>id</th>\n",
       "      <th>score</th>\n",
       "    </tr>\n",
       "  </thead>\n",
       "  <tbody>\n",
       "    <tr>\n",
       "      <th>0</th>\n",
       "      <td>b-120001</td>\n",
       "      <td>75.0</td>\n",
       "    </tr>\n",
       "    <tr>\n",
       "      <th>1</th>\n",
       "      <td>b-120002</td>\n",
       "      <td>76.0</td>\n",
       "    </tr>\n",
       "    <tr>\n",
       "      <th>2</th>\n",
       "      <td>b-120003</td>\n",
       "      <td>104.0</td>\n",
       "    </tr>\n",
       "    <tr>\n",
       "      <th>3</th>\n",
       "      <td>b-120004</td>\n",
       "      <td>76.0</td>\n",
       "    </tr>\n",
       "    <tr>\n",
       "      <th>4</th>\n",
       "      <td>b-120005</td>\n",
       "      <td>75.0</td>\n",
       "    </tr>\n",
       "    <tr>\n",
       "      <th>...</th>\n",
       "      <td>...</td>\n",
       "      <td>...</td>\n",
       "    </tr>\n",
       "    <tr>\n",
       "      <th>150</th>\n",
       "      <td>b-121028</td>\n",
       "      <td>NaN</td>\n",
       "    </tr>\n",
       "    <tr>\n",
       "      <th>151</th>\n",
       "      <td>b-121029</td>\n",
       "      <td>NaN</td>\n",
       "    </tr>\n",
       "    <tr>\n",
       "      <th>152</th>\n",
       "      <td>b-121030</td>\n",
       "      <td>NaN</td>\n",
       "    </tr>\n",
       "    <tr>\n",
       "      <th>153</th>\n",
       "      <td>b-121031</td>\n",
       "      <td>NaN</td>\n",
       "    </tr>\n",
       "    <tr>\n",
       "      <th>154</th>\n",
       "      <td>b-121032</td>\n",
       "      <td>NaN</td>\n",
       "    </tr>\n",
       "  </tbody>\n",
       "</table>\n",
       "<p>155 rows × 2 columns</p>\n",
       "</div>"
      ],
      "text/plain": [
       "           id  score\n",
       "0    b-120001   75.0\n",
       "1    b-120002   76.0\n",
       "2    b-120003  104.0\n",
       "3    b-120004   76.0\n",
       "4    b-120005   75.0\n",
       "..        ...    ...\n",
       "150  b-121028    NaN\n",
       "151  b-121029    NaN\n",
       "152  b-121030    NaN\n",
       "153  b-121031    NaN\n",
       "154  b-121032    NaN\n",
       "\n",
       "[155 rows x 2 columns]"
      ]
     },
     "execution_count": 4,
     "metadata": {},
     "output_type": "execute_result"
    }
   ],
   "source": [
    "# for better dataframe add b- to the beginning of each row in 'participant_id' column\n",
    "better['participant_id'] = 'b-' + better['participant_id'].astype(str)\n",
    "better['score'] = better['digit_symbol_total']\n",
    "better['id'] = better['participant_id']\n",
    "better = better[['id', 'score']]\n",
    "better"
   ]
  },
  {
   "cell_type": "code",
   "execution_count": 5,
   "metadata": {},
   "outputs": [
    {
     "data": {
      "application/vnd.microsoft.datawrangler.viewer.v0+json": {
       "columns": [
        {
         "name": "index",
         "rawType": "int64",
         "type": "integer"
        },
        {
         "name": "id",
         "rawType": "object",
         "type": "string"
        },
        {
         "name": "score",
         "rawType": "float64",
         "type": "float"
        }
       ],
       "conversionMethod": "pd.DataFrame",
       "ref": "b1e129a9-995f-45a6-8d3b-ca4ed87a12ae",
       "rows": [
        [
         "0",
         "e-2001",
         null
        ],
        [
         "1",
         "e-2002",
         "79.0"
        ],
        [
         "2",
         "e-2003",
         null
        ],
        [
         "3",
         "e-2004",
         null
        ],
        [
         "4",
         "e-nan",
         null
        ],
        [
         "5",
         "e-2006",
         null
        ],
        [
         "6",
         "e-nan",
         null
        ],
        [
         "7",
         "e-2008",
         null
        ],
        [
         "8",
         "e-2009",
         "87.0"
        ],
        [
         "9",
         "e-2010",
         null
        ],
        [
         "10",
         "e-nan",
         null
        ],
        [
         "11",
         "e-2012",
         null
        ],
        [
         "12",
         "e-nan",
         null
        ],
        [
         "13",
         "e-nan",
         null
        ],
        [
         "14",
         "e-nan",
         null
        ],
        [
         "15",
         "e-nan",
         null
        ],
        [
         "16",
         "e-nan",
         null
        ],
        [
         "17",
         "e-nan",
         null
        ],
        [
         "18",
         "e-nan",
         null
        ],
        [
         "19",
         "e-2020",
         "53.0"
        ],
        [
         "20",
         "e-2021",
         null
        ],
        [
         "21",
         "e-nan",
         null
        ],
        [
         "22",
         "e-nan",
         null
        ],
        [
         "23",
         "e-nan",
         null
        ],
        [
         "24",
         "e-nan",
         null
        ],
        [
         "25",
         "e-2026",
         null
        ],
        [
         "26",
         "e-nan",
         null
        ],
        [
         "27",
         "e-nan",
         null
        ],
        [
         "28",
         "e-nan",
         null
        ],
        [
         "29",
         "e-nan",
         null
        ],
        [
         "30",
         "e-nan",
         null
        ],
        [
         "31",
         "e-nan",
         null
        ],
        [
         "32",
         "e-2033",
         null
        ],
        [
         "33",
         "e-nan",
         null
        ],
        [
         "34",
         "e-nan",
         null
        ],
        [
         "35",
         "e-nan",
         null
        ],
        [
         "36",
         "e-nan",
         null
        ],
        [
         "37",
         "e-nan",
         null
        ],
        [
         "38",
         "e-nan",
         null
        ],
        [
         "39",
         "e-nan",
         null
        ],
        [
         "40",
         "e-2041",
         "68.0"
        ],
        [
         "41",
         "e-2042",
         "71.0"
        ],
        [
         "42",
         "e-2043",
         null
        ],
        [
         "43",
         "e-2044",
         null
        ],
        [
         "44",
         "e-2045",
         null
        ],
        [
         "45",
         "e-2046",
         null
        ],
        [
         "46",
         "e-2047",
         null
        ],
        [
         "47",
         "e-2048",
         null
        ],
        [
         "48",
         "e-2049",
         null
        ],
        [
         "49",
         "e-2050",
         null
        ]
       ],
       "shape": {
        "columns": 2,
        "rows": 878
       }
      },
      "text/html": [
       "<div>\n",
       "<style scoped>\n",
       "    .dataframe tbody tr th:only-of-type {\n",
       "        vertical-align: middle;\n",
       "    }\n",
       "\n",
       "    .dataframe tbody tr th {\n",
       "        vertical-align: top;\n",
       "    }\n",
       "\n",
       "    .dataframe thead th {\n",
       "        text-align: right;\n",
       "    }\n",
       "</style>\n",
       "<table border=\"1\" class=\"dataframe\">\n",
       "  <thead>\n",
       "    <tr style=\"text-align: right;\">\n",
       "      <th></th>\n",
       "      <th>id</th>\n",
       "      <th>score</th>\n",
       "    </tr>\n",
       "  </thead>\n",
       "  <tbody>\n",
       "    <tr>\n",
       "      <th>0</th>\n",
       "      <td>e-2001</td>\n",
       "      <td>NaN</td>\n",
       "    </tr>\n",
       "    <tr>\n",
       "      <th>1</th>\n",
       "      <td>e-2002</td>\n",
       "      <td>79.0</td>\n",
       "    </tr>\n",
       "    <tr>\n",
       "      <th>2</th>\n",
       "      <td>e-2003</td>\n",
       "      <td>NaN</td>\n",
       "    </tr>\n",
       "    <tr>\n",
       "      <th>3</th>\n",
       "      <td>e-2004</td>\n",
       "      <td>NaN</td>\n",
       "    </tr>\n",
       "    <tr>\n",
       "      <th>4</th>\n",
       "      <td>e-nan</td>\n",
       "      <td>NaN</td>\n",
       "    </tr>\n",
       "    <tr>\n",
       "      <th>...</th>\n",
       "      <td>...</td>\n",
       "      <td>...</td>\n",
       "    </tr>\n",
       "    <tr>\n",
       "      <th>873</th>\n",
       "      <td>e-2874</td>\n",
       "      <td>83.0</td>\n",
       "    </tr>\n",
       "    <tr>\n",
       "      <th>874</th>\n",
       "      <td>e-2875</td>\n",
       "      <td>NaN</td>\n",
       "    </tr>\n",
       "    <tr>\n",
       "      <th>875</th>\n",
       "      <td>e-2876</td>\n",
       "      <td>NaN</td>\n",
       "    </tr>\n",
       "    <tr>\n",
       "      <th>876</th>\n",
       "      <td>e-2877</td>\n",
       "      <td>NaN</td>\n",
       "    </tr>\n",
       "    <tr>\n",
       "      <th>877</th>\n",
       "      <td>e-2878</td>\n",
       "      <td>NaN</td>\n",
       "    </tr>\n",
       "  </tbody>\n",
       "</table>\n",
       "<p>878 rows × 2 columns</p>\n",
       "</div>"
      ],
      "text/plain": [
       "         id  score\n",
       "0    e-2001    NaN\n",
       "1    e-2002   79.0\n",
       "2    e-2003    NaN\n",
       "3    e-2004    NaN\n",
       "4     e-nan    NaN\n",
       "..      ...    ...\n",
       "873  e-2874   83.0\n",
       "874  e-2875    NaN\n",
       "875  e-2876    NaN\n",
       "876  e-2877    NaN\n",
       "877  e-2878    NaN\n",
       "\n",
       "[878 rows x 2 columns]"
      ]
     },
     "execution_count": 5,
     "metadata": {},
     "output_type": "execute_result"
    }
   ],
   "source": [
    "# for extend dataframe add e- to the beginning of each row in 'EXTEND Study ID' column and rename the column to ID\n",
    "extend['id'] = 'e-' + extend['EXTEND Study ID'].astype(str)\n",
    "# remove the .0 from the end of each row in 'ID' column\n",
    "extend['id'] = extend['id'].str.replace('.0', '', regex=False)\n",
    "extend = extend.drop(columns=['EXTEND Study ID'])\n",
    "extend_second_column = extend.columns[1]\n",
    "# rename the second column to 'score'\n",
    "extend = extend.rename(columns={extend_second_column: 'score'})\n",
    "extend = extend[['id', 'score']]\n",
    "extend"
   ]
  },
  {
   "cell_type": "code",
   "execution_count": 6,
   "metadata": {},
   "outputs": [
    {
     "data": {
      "application/vnd.microsoft.datawrangler.viewer.v0+json": {
       "columns": [
        {
         "name": "index",
         "rawType": "int64",
         "type": "integer"
        },
        {
         "name": "id",
         "rawType": "object",
         "type": "string"
        },
        {
         "name": "score",
         "rawType": "object",
         "type": "string"
        }
       ],
       "conversionMethod": "pd.DataFrame",
       "ref": "af3339e8-c92e-4e67-997f-c51c9eceaf88",
       "rows": [
        [
         "0",
         "p-15",
         "nan"
        ],
        [
         "1",
         "p-8",
         "77.0"
        ],
        [
         "2",
         "p-41",
         "81.0"
        ],
        [
         "3",
         "p-25",
         "76.0"
        ],
        [
         "4",
         "p-12",
         "70.0"
        ],
        [
         "5",
         "p-7",
         "71.0"
        ],
        [
         "6",
         "p-9",
         "77.0"
        ],
        [
         "7",
         "p-51",
         "73.0"
        ],
        [
         "8",
         "p-31",
         "66.0"
        ],
        [
         "9",
         "p-13",
         "65.0"
        ],
        [
         "10",
         "p-6",
         "74.0"
        ],
        [
         "11",
         "p-11",
         "61.0"
        ],
        [
         "12",
         "p-52",
         "46.0"
        ],
        [
         "13",
         "p-55",
         "52.0"
        ],
        [
         "14",
         "p-10",
         "66.0"
        ],
        [
         "15",
         "p-4",
         "92.0"
        ],
        [
         "16",
         "p-3",
         "57.0"
        ],
        [
         "17",
         "p-32",
         "nan"
        ],
        [
         "18",
         "p-26",
         "nan"
        ],
        [
         "19",
         "p-102",
         "72.0"
        ],
        [
         "20",
         "p-34",
         "64.0"
        ],
        [
         "21",
         "p-24",
         "61.0"
        ],
        [
         "22",
         "p-38",
         "nan"
        ],
        [
         "23",
         "p-39",
         "73.0"
        ],
        [
         "24",
         "p-43",
         "66.0"
        ],
        [
         "25",
         "p-42",
         "nan"
        ],
        [
         "26",
         "p-46",
         "85.0"
        ],
        [
         "27",
         "p-44",
         "71.0"
        ],
        [
         "28",
         "p-56",
         "72.0"
        ],
        [
         "29",
         "p-45",
         "88.0"
        ],
        [
         "30",
         "p-63",
         "83.0"
        ],
        [
         "31",
         "p-64",
         "57.0"
        ],
        [
         "32",
         "p-65",
         "73.0"
        ],
        [
         "33",
         "p-66",
         "58.0"
        ],
        [
         "34",
         "p-68",
         "68.0"
        ],
        [
         "35",
         "p-69",
         "39.0"
        ],
        [
         "36",
         "p-73",
         "68.0"
        ],
        [
         "37",
         "p-78",
         "55.0"
        ],
        [
         "38",
         "p-77",
         "82.0"
        ],
        [
         "39",
         "p-74",
         "68.0"
        ],
        [
         "40",
         "p-80",
         "95.0"
        ],
        [
         "41",
         "p-83",
         "56.0"
        ],
        [
         "42",
         "p-89",
         "86.0"
        ],
        [
         "43",
         "p-87",
         "63.0"
        ],
        [
         "44",
         "p-90",
         "78.0"
        ],
        [
         "45",
         "p-88",
         "nan"
        ],
        [
         "46",
         "p-84",
         "87.0"
        ],
        [
         "47",
         "p-92",
         "57.0"
        ],
        [
         "48",
         "p-91",
         "63.0"
        ],
        [
         "49",
         "p-86",
         "69.0"
        ]
       ],
       "shape": {
        "columns": 2,
        "rows": 107
       }
      },
      "text/html": [
       "<div>\n",
       "<style scoped>\n",
       "    .dataframe tbody tr th:only-of-type {\n",
       "        vertical-align: middle;\n",
       "    }\n",
       "\n",
       "    .dataframe tbody tr th {\n",
       "        vertical-align: top;\n",
       "    }\n",
       "\n",
       "    .dataframe thead th {\n",
       "        text-align: right;\n",
       "    }\n",
       "</style>\n",
       "<table border=\"1\" class=\"dataframe\">\n",
       "  <thead>\n",
       "    <tr style=\"text-align: right;\">\n",
       "      <th></th>\n",
       "      <th>id</th>\n",
       "      <th>score</th>\n",
       "    </tr>\n",
       "  </thead>\n",
       "  <tbody>\n",
       "    <tr>\n",
       "      <th>0</th>\n",
       "      <td>p-15</td>\n",
       "      <td>nan</td>\n",
       "    </tr>\n",
       "    <tr>\n",
       "      <th>1</th>\n",
       "      <td>p-8</td>\n",
       "      <td>77.0</td>\n",
       "    </tr>\n",
       "    <tr>\n",
       "      <th>2</th>\n",
       "      <td>p-41</td>\n",
       "      <td>81.0</td>\n",
       "    </tr>\n",
       "    <tr>\n",
       "      <th>3</th>\n",
       "      <td>p-25</td>\n",
       "      <td>76.0</td>\n",
       "    </tr>\n",
       "    <tr>\n",
       "      <th>4</th>\n",
       "      <td>p-12</td>\n",
       "      <td>70.0</td>\n",
       "    </tr>\n",
       "    <tr>\n",
       "      <th>...</th>\n",
       "      <td>...</td>\n",
       "      <td>...</td>\n",
       "    </tr>\n",
       "    <tr>\n",
       "      <th>102</th>\n",
       "      <td>p-203</td>\n",
       "      <td>51.0</td>\n",
       "    </tr>\n",
       "    <tr>\n",
       "      <th>103</th>\n",
       "      <td>p-204</td>\n",
       "      <td>83.0</td>\n",
       "    </tr>\n",
       "    <tr>\n",
       "      <th>104</th>\n",
       "      <td>p-206</td>\n",
       "      <td>63.0</td>\n",
       "    </tr>\n",
       "    <tr>\n",
       "      <th>105</th>\n",
       "      <td>p-208</td>\n",
       "      <td>64.0</td>\n",
       "    </tr>\n",
       "    <tr>\n",
       "      <th>106</th>\n",
       "      <td>p-209</td>\n",
       "      <td>64.0</td>\n",
       "    </tr>\n",
       "  </tbody>\n",
       "</table>\n",
       "<p>107 rows × 2 columns</p>\n",
       "</div>"
      ],
      "text/plain": [
       "        id score\n",
       "0     p-15   nan\n",
       "1      p-8  77.0\n",
       "2     p-41  81.0\n",
       "3     p-25  76.0\n",
       "4     p-12  70.0\n",
       "..     ...   ...\n",
       "102  p-203  51.0\n",
       "103  p-204  83.0\n",
       "104  p-206  63.0\n",
       "105  p-208  64.0\n",
       "106  p-209  64.0\n",
       "\n",
       "[107 rows x 2 columns]"
      ]
     },
     "execution_count": 6,
     "metadata": {},
     "output_type": "execute_result"
    }
   ],
   "source": [
    "# Create a new ID column by adding 'p-' to the 'PACR Study ID#:' column\n",
    "pacr['id'] = 'p-' + pacr['PACR Study ID#:'].astype(str)\n",
    "\n",
    "# Remove the .0 from the end of each row in 'ID' column\n",
    "pacr['id'] = pacr['id'].str.replace('.0', '', regex=False)\n",
    "\n",
    "# Drop the original 'PACR Study ID#:' column\n",
    "pacr = pacr.drop(columns=['PACR Study ID#:'])\n",
    "\n",
    "# Ensure the second column exists before proceeding\n",
    "if pacr.shape[1] > 1:\n",
    "    # Get the second column name dynamically\n",
    "    second_col_name = pacr.columns[1]\n",
    "\n",
    "    # Convert it to string and store it in 'score' column\n",
    "    pacr['score'] = pacr[second_col_name].astype(str)\n",
    "\n",
    "    # Drop the second column\n",
    "    pacr = pacr.drop(columns=[second_col_name])\n",
    "\n",
    "pacr = pacr[['id', 'score']]\n",
    "pacr"
   ]
  },
  {
   "cell_type": "code",
   "execution_count": 7,
   "metadata": {},
   "outputs": [
    {
     "name": "stdout",
     "output_type": "stream",
     "text": [
      "Better: 65\n",
      "Extend: 123\n",
      "PACR: 107\n"
     ]
    }
   ],
   "source": [
    "# print len of non nan for each study\n",
    "print('Better:', len(better[better['score'].notna()]))\n",
    "print('Extend:', len(extend[extend['score'].notna()]))\n",
    "print('PACR:', len(pacr[pacr['score'].notna()]))"
   ]
  },
  {
   "cell_type": "code",
   "execution_count": 11,
   "metadata": {},
   "outputs": [
    {
     "data": {
      "application/vnd.microsoft.datawrangler.viewer.v0+json": {
       "columns": [
        {
         "name": "index",
         "rawType": "int64",
         "type": "integer"
        },
        {
         "name": "id",
         "rawType": "object",
         "type": "string"
        },
        {
         "name": "score",
         "rawType": "float64",
         "type": "float"
        }
       ],
       "conversionMethod": "pd.DataFrame",
       "ref": "c63bd151-8866-4af6-84bf-2e9fb44e69c8",
       "rows": [
        [
         "0",
         "b-120001",
         "75.0"
        ],
        [
         "1",
         "b-120002",
         "76.0"
        ],
        [
         "2",
         "b-120003",
         "104.0"
        ],
        [
         "3",
         "b-120004",
         "76.0"
        ],
        [
         "4",
         "b-120005",
         "75.0"
        ],
        [
         "5",
         "b-120006",
         "45.0"
        ],
        [
         "6",
         "b-120008",
         "45.0"
        ],
        [
         "7",
         "b-120010",
         "97.0"
        ],
        [
         "8",
         "b-120011",
         "70.0"
        ],
        [
         "9",
         "b-120012",
         "78.0"
        ],
        [
         "10",
         "b-120013",
         "82.0"
        ],
        [
         "11",
         "b-120014",
         "88.0"
        ],
        [
         "12",
         "b-120015",
         "63.0"
        ],
        [
         "13",
         "b-120017",
         "70.0"
        ],
        [
         "14",
         "b-120018",
         "90.0"
        ],
        [
         "15",
         "b-120019",
         "82.0"
        ],
        [
         "16",
         "b-120020",
         "57.0"
        ],
        [
         "17",
         "b-120021",
         "86.0"
        ],
        [
         "18",
         "b-120023",
         "65.0"
        ],
        [
         "19",
         "b-120024",
         "64.0"
        ],
        [
         "20",
         "b-120025",
         "84.0"
        ],
        [
         "21",
         "b-120026",
         "69.0"
        ],
        [
         "22",
         "b-120027",
         "77.0"
        ],
        [
         "23",
         "b-120028",
         "49.0"
        ],
        [
         "24",
         "b-120029",
         "54.0"
        ],
        [
         "25",
         "b-120030",
         "57.0"
        ],
        [
         "26",
         "b-120031",
         "75.0"
        ],
        [
         "27",
         "b-120032",
         "86.0"
        ],
        [
         "28",
         "b-120033",
         "78.0"
        ],
        [
         "29",
         "b-120034",
         "69.0"
        ],
        [
         "30",
         "b-120035",
         "83.0"
        ],
        [
         "31",
         "b-120036",
         "63.0"
        ],
        [
         "32",
         "b-120037",
         "55.0"
        ],
        [
         "33",
         "b-120038",
         "71.0"
        ],
        [
         "34",
         "b-120039",
         "63.0"
        ],
        [
         "35",
         "b-120040",
         "63.0"
        ],
        [
         "36",
         "b-120041",
         "86.0"
        ],
        [
         "37",
         "b-120042",
         "59.0"
        ],
        [
         "38",
         "b-120043",
         "56.0"
        ],
        [
         "39",
         "b-120045",
         "65.0"
        ],
        [
         "40",
         "b-120047",
         "77.0"
        ],
        [
         "41",
         "b-121001",
         "52.0"
        ],
        [
         "42",
         "b-121002",
         "74.0"
        ],
        [
         "43",
         "b-121003",
         "72.0"
        ],
        [
         "44",
         "b-121005",
         "87.0"
        ],
        [
         "46",
         "b-121008",
         "57.0"
        ],
        [
         "47",
         "b-121009",
         "55.0"
        ],
        [
         "48",
         "b-121010",
         "55.0"
        ],
        [
         "49",
         "b-121011",
         "77.0"
        ],
        [
         "50",
         "b-121012",
         "88.0"
        ]
       ],
       "shape": {
        "columns": 2,
        "rows": 279
       }
      },
      "text/html": [
       "<div>\n",
       "<style scoped>\n",
       "    .dataframe tbody tr th:only-of-type {\n",
       "        vertical-align: middle;\n",
       "    }\n",
       "\n",
       "    .dataframe tbody tr th {\n",
       "        vertical-align: top;\n",
       "    }\n",
       "\n",
       "    .dataframe thead th {\n",
       "        text-align: right;\n",
       "    }\n",
       "</style>\n",
       "<table border=\"1\" class=\"dataframe\">\n",
       "  <thead>\n",
       "    <tr style=\"text-align: right;\">\n",
       "      <th></th>\n",
       "      <th>id</th>\n",
       "      <th>score</th>\n",
       "    </tr>\n",
       "  </thead>\n",
       "  <tbody>\n",
       "    <tr>\n",
       "      <th>0</th>\n",
       "      <td>b-120001</td>\n",
       "      <td>75.0</td>\n",
       "    </tr>\n",
       "    <tr>\n",
       "      <th>1</th>\n",
       "      <td>b-120002</td>\n",
       "      <td>76.0</td>\n",
       "    </tr>\n",
       "    <tr>\n",
       "      <th>2</th>\n",
       "      <td>b-120003</td>\n",
       "      <td>104.0</td>\n",
       "    </tr>\n",
       "    <tr>\n",
       "      <th>3</th>\n",
       "      <td>b-120004</td>\n",
       "      <td>76.0</td>\n",
       "    </tr>\n",
       "    <tr>\n",
       "      <th>4</th>\n",
       "      <td>b-120005</td>\n",
       "      <td>75.0</td>\n",
       "    </tr>\n",
       "    <tr>\n",
       "      <th>...</th>\n",
       "      <td>...</td>\n",
       "      <td>...</td>\n",
       "    </tr>\n",
       "    <tr>\n",
       "      <th>1135</th>\n",
       "      <td>p-203</td>\n",
       "      <td>51.0</td>\n",
       "    </tr>\n",
       "    <tr>\n",
       "      <th>1136</th>\n",
       "      <td>p-204</td>\n",
       "      <td>83.0</td>\n",
       "    </tr>\n",
       "    <tr>\n",
       "      <th>1137</th>\n",
       "      <td>p-206</td>\n",
       "      <td>63.0</td>\n",
       "    </tr>\n",
       "    <tr>\n",
       "      <th>1138</th>\n",
       "      <td>p-208</td>\n",
       "      <td>64.0</td>\n",
       "    </tr>\n",
       "    <tr>\n",
       "      <th>1139</th>\n",
       "      <td>p-209</td>\n",
       "      <td>64.0</td>\n",
       "    </tr>\n",
       "  </tbody>\n",
       "</table>\n",
       "<p>279 rows × 2 columns</p>\n",
       "</div>"
      ],
      "text/plain": [
       "            id  score\n",
       "0     b-120001   75.0\n",
       "1     b-120002   76.0\n",
       "2     b-120003  104.0\n",
       "3     b-120004   76.0\n",
       "4     b-120005   75.0\n",
       "...        ...    ...\n",
       "1135     p-203   51.0\n",
       "1136     p-204   83.0\n",
       "1137     p-206   63.0\n",
       "1138     p-208   64.0\n",
       "1139     p-209   64.0\n",
       "\n",
       "[279 rows x 2 columns]"
      ]
     },
     "execution_count": 11,
     "metadata": {},
     "output_type": "execute_result"
    }
   ],
   "source": [
    "# append all three dataframes together\n",
    "df = pd.concat([better, extend, pacr], ignore_index=True)\n",
    "#drop na\n",
    "df = df.dropna(subset=['score'])\n",
    "# drop if score value is 'nan'\n",
    "df = df[df['score'] != 'nan']\n",
    "# convert score to numeric\n",
    "df = df.astype({'score': 'float'})\n",
    "# convert id to string\n",
    "df['id'] = df['id'].astype(str)\n",
    "df"
   ]
  },
  {
   "cell_type": "code",
   "execution_count": 13,
   "metadata": {},
   "outputs": [],
   "source": [
    "df.to_csv('../../../../data/struc/dsst.csv', index=False)"
   ]
  },
  {
   "cell_type": "code",
   "execution_count": null,
   "metadata": {},
   "outputs": [],
   "source": []
  }
 ],
 "metadata": {
  "kernelspec": {
   "display_name": "Python 3",
   "language": "python",
   "name": "python3"
  },
  "language_info": {
   "codemirror_mode": {
    "name": "ipython",
    "version": 3
   },
   "file_extension": ".py",
   "mimetype": "text/x-python",
   "name": "python",
   "nbconvert_exporter": "python",
   "pygments_lexer": "ipython3",
   "version": "3.8.13"
  }
 },
 "nbformat": 4,
 "nbformat_minor": 2
}
