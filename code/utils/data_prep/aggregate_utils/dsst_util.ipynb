{
 "cells": [
  {
   "cell_type": "code",
   "execution_count": 17,
   "metadata": {},
   "outputs": [],
   "source": [
    "import os\n",
    "import pandas as pd\n",
    "import matplotlib.pyplot as plt\n",
    "import seaborn as sns"
   ]
  },
  {
   "cell_type": "code",
   "execution_count": 18,
   "metadata": {},
   "outputs": [],
   "source": [
    "# for file in directory, load as pandas df\n",
    "directory = '/Volumes/vosslabhpc/symposia/cpsy-25/data/beh'\n",
    "files = [f for f in os.listdir(directory) if f.endswith('.csv')]\n",
    "better = pd.read_csv(os.path.join(directory, 'better_dsst.csv'))\n",
    "\n",
    "extend = pd.read_csv(os.path.join(directory, 'extend_dsst.csv'))\n",
    "\n",
    "pacr = pd.read_csv(os.path.join(directory, 'pacr_dsst.csv'))"
   ]
  },
  {
   "cell_type": "code",
   "execution_count": 19,
   "metadata": {},
   "outputs": [
    {
     "data": {
      "application/vnd.microsoft.datawrangler.viewer.v0+json": {
       "columns": [
        {
         "name": "index",
         "rawType": "int64",
         "type": "integer"
        },
        {
         "name": "participant_id",
         "rawType": "int64",
         "type": "integer"
        },
        {
         "name": "digit_symbol_total",
         "rawType": "float64",
         "type": "float"
        }
       ],
       "conversionMethod": "pd.DataFrame",
       "ref": "cc752935-ad9a-4260-b573-c05399f9e3ed",
       "rows": [
        [
         "0",
         "120001",
         "75.0"
        ],
        [
         "1",
         "120002",
         "76.0"
        ],
        [
         "2",
         "120003",
         "104.0"
        ],
        [
         "3",
         "120004",
         "76.0"
        ],
        [
         "4",
         "120005",
         "75.0"
        ],
        [
         "5",
         "120006",
         "45.0"
        ],
        [
         "6",
         "120008",
         "45.0"
        ],
        [
         "7",
         "120010",
         "97.0"
        ],
        [
         "8",
         "120011",
         "70.0"
        ],
        [
         "9",
         "120012",
         "78.0"
        ],
        [
         "10",
         "120013",
         "82.0"
        ],
        [
         "11",
         "120014",
         "88.0"
        ],
        [
         "12",
         "120015",
         "63.0"
        ],
        [
         "13",
         "120017",
         "70.0"
        ],
        [
         "14",
         "120018",
         "90.0"
        ],
        [
         "15",
         "120019",
         "82.0"
        ],
        [
         "16",
         "120020",
         "57.0"
        ],
        [
         "17",
         "120021",
         "86.0"
        ],
        [
         "18",
         "120023",
         "65.0"
        ],
        [
         "19",
         "120024",
         "64.0"
        ],
        [
         "20",
         "120025",
         "84.0"
        ],
        [
         "21",
         "120026",
         "69.0"
        ],
        [
         "22",
         "120027",
         "77.0"
        ],
        [
         "23",
         "120028",
         "49.0"
        ],
        [
         "24",
         "120029",
         "54.0"
        ],
        [
         "25",
         "120030",
         "57.0"
        ],
        [
         "26",
         "120031",
         "75.0"
        ],
        [
         "27",
         "120032",
         "86.0"
        ],
        [
         "28",
         "120033",
         "78.0"
        ],
        [
         "29",
         "120034",
         "69.0"
        ],
        [
         "30",
         "120035",
         "83.0"
        ],
        [
         "31",
         "120036",
         "63.0"
        ],
        [
         "32",
         "120037",
         "55.0"
        ],
        [
         "33",
         "120038",
         "71.0"
        ],
        [
         "34",
         "120039",
         "63.0"
        ],
        [
         "35",
         "120040",
         "63.0"
        ],
        [
         "36",
         "120041",
         "86.0"
        ],
        [
         "37",
         "120042",
         "59.0"
        ],
        [
         "38",
         "120043",
         "56.0"
        ],
        [
         "39",
         "120045",
         "65.0"
        ],
        [
         "40",
         "120047",
         "77.0"
        ],
        [
         "41",
         "121001",
         "52.0"
        ],
        [
         "42",
         "121002",
         "74.0"
        ],
        [
         "43",
         "121003",
         "72.0"
        ],
        [
         "44",
         "121005",
         "87.0"
        ],
        [
         "45",
         "121007",
         null
        ],
        [
         "46",
         "121008",
         "57.0"
        ],
        [
         "47",
         "121009",
         "55.0"
        ],
        [
         "48",
         "121010",
         "55.0"
        ],
        [
         "49",
         "121011",
         "77.0"
        ]
       ],
       "shape": {
        "columns": 2,
        "rows": 155
       }
      },
      "text/html": [
       "<div>\n",
       "<style scoped>\n",
       "    .dataframe tbody tr th:only-of-type {\n",
       "        vertical-align: middle;\n",
       "    }\n",
       "\n",
       "    .dataframe tbody tr th {\n",
       "        vertical-align: top;\n",
       "    }\n",
       "\n",
       "    .dataframe thead th {\n",
       "        text-align: right;\n",
       "    }\n",
       "</style>\n",
       "<table border=\"1\" class=\"dataframe\">\n",
       "  <thead>\n",
       "    <tr style=\"text-align: right;\">\n",
       "      <th></th>\n",
       "      <th>participant_id</th>\n",
       "      <th>digit_symbol_total</th>\n",
       "    </tr>\n",
       "  </thead>\n",
       "  <tbody>\n",
       "    <tr>\n",
       "      <th>0</th>\n",
       "      <td>120001</td>\n",
       "      <td>75.0</td>\n",
       "    </tr>\n",
       "    <tr>\n",
       "      <th>1</th>\n",
       "      <td>120002</td>\n",
       "      <td>76.0</td>\n",
       "    </tr>\n",
       "    <tr>\n",
       "      <th>2</th>\n",
       "      <td>120003</td>\n",
       "      <td>104.0</td>\n",
       "    </tr>\n",
       "    <tr>\n",
       "      <th>3</th>\n",
       "      <td>120004</td>\n",
       "      <td>76.0</td>\n",
       "    </tr>\n",
       "    <tr>\n",
       "      <th>4</th>\n",
       "      <td>120005</td>\n",
       "      <td>75.0</td>\n",
       "    </tr>\n",
       "    <tr>\n",
       "      <th>...</th>\n",
       "      <td>...</td>\n",
       "      <td>...</td>\n",
       "    </tr>\n",
       "    <tr>\n",
       "      <th>150</th>\n",
       "      <td>121028</td>\n",
       "      <td>NaN</td>\n",
       "    </tr>\n",
       "    <tr>\n",
       "      <th>151</th>\n",
       "      <td>121029</td>\n",
       "      <td>NaN</td>\n",
       "    </tr>\n",
       "    <tr>\n",
       "      <th>152</th>\n",
       "      <td>121030</td>\n",
       "      <td>NaN</td>\n",
       "    </tr>\n",
       "    <tr>\n",
       "      <th>153</th>\n",
       "      <td>121031</td>\n",
       "      <td>NaN</td>\n",
       "    </tr>\n",
       "    <tr>\n",
       "      <th>154</th>\n",
       "      <td>121032</td>\n",
       "      <td>NaN</td>\n",
       "    </tr>\n",
       "  </tbody>\n",
       "</table>\n",
       "<p>155 rows × 2 columns</p>\n",
       "</div>"
      ],
      "text/plain": [
       "     participant_id  digit_symbol_total\n",
       "0            120001                75.0\n",
       "1            120002                76.0\n",
       "2            120003               104.0\n",
       "3            120004                76.0\n",
       "4            120005                75.0\n",
       "..              ...                 ...\n",
       "150          121028                 NaN\n",
       "151          121029                 NaN\n",
       "152          121030                 NaN\n",
       "153          121031                 NaN\n",
       "154          121032                 NaN\n",
       "\n",
       "[155 rows x 2 columns]"
      ]
     },
     "execution_count": 19,
     "metadata": {},
     "output_type": "execute_result"
    }
   ],
   "source": [
    "better"
   ]
  },
  {
   "cell_type": "code",
   "execution_count": 20,
   "metadata": {},
   "outputs": [
    {
     "data": {
      "application/vnd.microsoft.datawrangler.viewer.v0+json": {
       "columns": [
        {
         "name": "index",
         "rawType": "int64",
         "type": "integer"
        },
        {
         "name": "id",
         "rawType": "object",
         "type": "string"
        },
        {
         "name": "score",
         "rawType": "float64",
         "type": "float"
        }
       ],
       "conversionMethod": "pd.DataFrame",
       "ref": "fca517af-9383-4104-acc3-3fc767fc2e8c",
       "rows": [
        [
         "0",
         "b-120001",
         "75.0"
        ],
        [
         "1",
         "b-120002",
         "76.0"
        ],
        [
         "2",
         "b-120003",
         "104.0"
        ],
        [
         "3",
         "b-120004",
         "76.0"
        ],
        [
         "4",
         "b-120005",
         "75.0"
        ],
        [
         "5",
         "b-120006",
         "45.0"
        ],
        [
         "6",
         "b-120008",
         "45.0"
        ],
        [
         "7",
         "b-120010",
         "97.0"
        ],
        [
         "8",
         "b-120011",
         "70.0"
        ],
        [
         "9",
         "b-120012",
         "78.0"
        ],
        [
         "10",
         "b-120013",
         "82.0"
        ],
        [
         "11",
         "b-120014",
         "88.0"
        ],
        [
         "12",
         "b-120015",
         "63.0"
        ],
        [
         "13",
         "b-120017",
         "70.0"
        ],
        [
         "14",
         "b-120018",
         "90.0"
        ],
        [
         "15",
         "b-120019",
         "82.0"
        ],
        [
         "16",
         "b-120020",
         "57.0"
        ],
        [
         "17",
         "b-120021",
         "86.0"
        ],
        [
         "18",
         "b-120023",
         "65.0"
        ],
        [
         "19",
         "b-120024",
         "64.0"
        ],
        [
         "20",
         "b-120025",
         "84.0"
        ],
        [
         "21",
         "b-120026",
         "69.0"
        ],
        [
         "22",
         "b-120027",
         "77.0"
        ],
        [
         "23",
         "b-120028",
         "49.0"
        ],
        [
         "24",
         "b-120029",
         "54.0"
        ],
        [
         "25",
         "b-120030",
         "57.0"
        ],
        [
         "26",
         "b-120031",
         "75.0"
        ],
        [
         "27",
         "b-120032",
         "86.0"
        ],
        [
         "28",
         "b-120033",
         "78.0"
        ],
        [
         "29",
         "b-120034",
         "69.0"
        ],
        [
         "30",
         "b-120035",
         "83.0"
        ],
        [
         "31",
         "b-120036",
         "63.0"
        ],
        [
         "32",
         "b-120037",
         "55.0"
        ],
        [
         "33",
         "b-120038",
         "71.0"
        ],
        [
         "34",
         "b-120039",
         "63.0"
        ],
        [
         "35",
         "b-120040",
         "63.0"
        ],
        [
         "36",
         "b-120041",
         "86.0"
        ],
        [
         "37",
         "b-120042",
         "59.0"
        ],
        [
         "38",
         "b-120043",
         "56.0"
        ],
        [
         "39",
         "b-120045",
         "65.0"
        ],
        [
         "40",
         "b-120047",
         "77.0"
        ],
        [
         "41",
         "b-121001",
         "52.0"
        ],
        [
         "42",
         "b-121002",
         "74.0"
        ],
        [
         "43",
         "b-121003",
         "72.0"
        ],
        [
         "44",
         "b-121005",
         "87.0"
        ],
        [
         "45",
         "b-121007",
         null
        ],
        [
         "46",
         "b-121008",
         "57.0"
        ],
        [
         "47",
         "b-121009",
         "55.0"
        ],
        [
         "48",
         "b-121010",
         "55.0"
        ],
        [
         "49",
         "b-121011",
         "77.0"
        ]
       ],
       "shape": {
        "columns": 2,
        "rows": 155
       }
      },
      "text/html": [
       "<div>\n",
       "<style scoped>\n",
       "    .dataframe tbody tr th:only-of-type {\n",
       "        vertical-align: middle;\n",
       "    }\n",
       "\n",
       "    .dataframe tbody tr th {\n",
       "        vertical-align: top;\n",
       "    }\n",
       "\n",
       "    .dataframe thead th {\n",
       "        text-align: right;\n",
       "    }\n",
       "</style>\n",
       "<table border=\"1\" class=\"dataframe\">\n",
       "  <thead>\n",
       "    <tr style=\"text-align: right;\">\n",
       "      <th></th>\n",
       "      <th>id</th>\n",
       "      <th>score</th>\n",
       "    </tr>\n",
       "  </thead>\n",
       "  <tbody>\n",
       "    <tr>\n",
       "      <th>0</th>\n",
       "      <td>b-120001</td>\n",
       "      <td>75.0</td>\n",
       "    </tr>\n",
       "    <tr>\n",
       "      <th>1</th>\n",
       "      <td>b-120002</td>\n",
       "      <td>76.0</td>\n",
       "    </tr>\n",
       "    <tr>\n",
       "      <th>2</th>\n",
       "      <td>b-120003</td>\n",
       "      <td>104.0</td>\n",
       "    </tr>\n",
       "    <tr>\n",
       "      <th>3</th>\n",
       "      <td>b-120004</td>\n",
       "      <td>76.0</td>\n",
       "    </tr>\n",
       "    <tr>\n",
       "      <th>4</th>\n",
       "      <td>b-120005</td>\n",
       "      <td>75.0</td>\n",
       "    </tr>\n",
       "    <tr>\n",
       "      <th>...</th>\n",
       "      <td>...</td>\n",
       "      <td>...</td>\n",
       "    </tr>\n",
       "    <tr>\n",
       "      <th>150</th>\n",
       "      <td>b-121028</td>\n",
       "      <td>NaN</td>\n",
       "    </tr>\n",
       "    <tr>\n",
       "      <th>151</th>\n",
       "      <td>b-121029</td>\n",
       "      <td>NaN</td>\n",
       "    </tr>\n",
       "    <tr>\n",
       "      <th>152</th>\n",
       "      <td>b-121030</td>\n",
       "      <td>NaN</td>\n",
       "    </tr>\n",
       "    <tr>\n",
       "      <th>153</th>\n",
       "      <td>b-121031</td>\n",
       "      <td>NaN</td>\n",
       "    </tr>\n",
       "    <tr>\n",
       "      <th>154</th>\n",
       "      <td>b-121032</td>\n",
       "      <td>NaN</td>\n",
       "    </tr>\n",
       "  </tbody>\n",
       "</table>\n",
       "<p>155 rows × 2 columns</p>\n",
       "</div>"
      ],
      "text/plain": [
       "           id  score\n",
       "0    b-120001   75.0\n",
       "1    b-120002   76.0\n",
       "2    b-120003  104.0\n",
       "3    b-120004   76.0\n",
       "4    b-120005   75.0\n",
       "..        ...    ...\n",
       "150  b-121028    NaN\n",
       "151  b-121029    NaN\n",
       "152  b-121030    NaN\n",
       "153  b-121031    NaN\n",
       "154  b-121032    NaN\n",
       "\n",
       "[155 rows x 2 columns]"
      ]
     },
     "execution_count": 20,
     "metadata": {},
     "output_type": "execute_result"
    }
   ],
   "source": [
    "# for better dataframe add b- to the beginning of each row in 'participant_id' column\n",
    "better['participant_id'] = 'b-' + better['participant_id'].astype(str)\n",
    "better['score'] = better['digit_symbol_total']\n",
    "better['id'] = better['participant_id']\n",
    "better = better[['id', 'score']]\n",
    "better"
   ]
  },
  {
   "cell_type": "code",
   "execution_count": 21,
   "metadata": {},
   "outputs": [
    {
     "data": {
      "application/vnd.microsoft.datawrangler.viewer.v0+json": {
       "columns": [
        {
         "name": "index",
         "rawType": "int64",
         "type": "integer"
        },
        {
         "name": "id",
         "rawType": "object",
         "type": "string"
        },
        {
         "name": "score",
         "rawType": "float64",
         "type": "float"
        }
       ],
       "conversionMethod": "pd.DataFrame",
       "ref": "b6d3905b-4b05-48c4-8f02-dc62a448df1b",
       "rows": [
        [
         "0",
         "e-2001",
         null
        ],
        [
         "1",
         "e-2002",
         "79.0"
        ],
        [
         "2",
         "e-2003",
         null
        ],
        [
         "3",
         "e-2004",
         null
        ],
        [
         "4",
         "e-nan",
         null
        ],
        [
         "5",
         "e-2006",
         null
        ],
        [
         "6",
         "e-nan",
         null
        ],
        [
         "7",
         "e-2008",
         null
        ],
        [
         "8",
         "e-2009",
         "87.0"
        ],
        [
         "9",
         "e-2010",
         null
        ],
        [
         "10",
         "e-nan",
         null
        ],
        [
         "11",
         "e-2012",
         null
        ],
        [
         "12",
         "e-nan",
         null
        ],
        [
         "13",
         "e-nan",
         null
        ],
        [
         "14",
         "e-nan",
         null
        ],
        [
         "15",
         "e-nan",
         null
        ],
        [
         "16",
         "e-nan",
         null
        ],
        [
         "17",
         "e-nan",
         null
        ],
        [
         "18",
         "e-nan",
         null
        ],
        [
         "19",
         "e-2020",
         "53.0"
        ],
        [
         "20",
         "e-2021",
         null
        ],
        [
         "21",
         "e-nan",
         null
        ],
        [
         "22",
         "e-nan",
         null
        ],
        [
         "23",
         "e-nan",
         null
        ],
        [
         "24",
         "e-nan",
         null
        ],
        [
         "25",
         "e-2026",
         null
        ],
        [
         "26",
         "e-nan",
         null
        ],
        [
         "27",
         "e-nan",
         null
        ],
        [
         "28",
         "e-nan",
         null
        ],
        [
         "29",
         "e-nan",
         null
        ],
        [
         "30",
         "e-nan",
         null
        ],
        [
         "31",
         "e-nan",
         null
        ],
        [
         "32",
         "e-2033",
         null
        ],
        [
         "33",
         "e-nan",
         null
        ],
        [
         "34",
         "e-nan",
         null
        ],
        [
         "35",
         "e-nan",
         null
        ],
        [
         "36",
         "e-nan",
         null
        ],
        [
         "37",
         "e-nan",
         null
        ],
        [
         "38",
         "e-nan",
         null
        ],
        [
         "39",
         "e-nan",
         null
        ],
        [
         "40",
         "e-2041",
         "68.0"
        ],
        [
         "41",
         "e-2042",
         "71.0"
        ],
        [
         "42",
         "e-2043",
         null
        ],
        [
         "43",
         "e-2044",
         null
        ],
        [
         "44",
         "e-2045",
         null
        ],
        [
         "45",
         "e-2046",
         null
        ],
        [
         "46",
         "e-2047",
         null
        ],
        [
         "47",
         "e-2048",
         null
        ],
        [
         "48",
         "e-2049",
         null
        ],
        [
         "49",
         "e-2050",
         null
        ]
       ],
       "shape": {
        "columns": 2,
        "rows": 878
       }
      },
      "text/html": [
       "<div>\n",
       "<style scoped>\n",
       "    .dataframe tbody tr th:only-of-type {\n",
       "        vertical-align: middle;\n",
       "    }\n",
       "\n",
       "    .dataframe tbody tr th {\n",
       "        vertical-align: top;\n",
       "    }\n",
       "\n",
       "    .dataframe thead th {\n",
       "        text-align: right;\n",
       "    }\n",
       "</style>\n",
       "<table border=\"1\" class=\"dataframe\">\n",
       "  <thead>\n",
       "    <tr style=\"text-align: right;\">\n",
       "      <th></th>\n",
       "      <th>id</th>\n",
       "      <th>score</th>\n",
       "    </tr>\n",
       "  </thead>\n",
       "  <tbody>\n",
       "    <tr>\n",
       "      <th>0</th>\n",
       "      <td>e-2001</td>\n",
       "      <td>NaN</td>\n",
       "    </tr>\n",
       "    <tr>\n",
       "      <th>1</th>\n",
       "      <td>e-2002</td>\n",
       "      <td>79.0</td>\n",
       "    </tr>\n",
       "    <tr>\n",
       "      <th>2</th>\n",
       "      <td>e-2003</td>\n",
       "      <td>NaN</td>\n",
       "    </tr>\n",
       "    <tr>\n",
       "      <th>3</th>\n",
       "      <td>e-2004</td>\n",
       "      <td>NaN</td>\n",
       "    </tr>\n",
       "    <tr>\n",
       "      <th>4</th>\n",
       "      <td>e-nan</td>\n",
       "      <td>NaN</td>\n",
       "    </tr>\n",
       "    <tr>\n",
       "      <th>...</th>\n",
       "      <td>...</td>\n",
       "      <td>...</td>\n",
       "    </tr>\n",
       "    <tr>\n",
       "      <th>873</th>\n",
       "      <td>e-2874</td>\n",
       "      <td>83.0</td>\n",
       "    </tr>\n",
       "    <tr>\n",
       "      <th>874</th>\n",
       "      <td>e-2875</td>\n",
       "      <td>NaN</td>\n",
       "    </tr>\n",
       "    <tr>\n",
       "      <th>875</th>\n",
       "      <td>e-2876</td>\n",
       "      <td>NaN</td>\n",
       "    </tr>\n",
       "    <tr>\n",
       "      <th>876</th>\n",
       "      <td>e-2877</td>\n",
       "      <td>NaN</td>\n",
       "    </tr>\n",
       "    <tr>\n",
       "      <th>877</th>\n",
       "      <td>e-2878</td>\n",
       "      <td>NaN</td>\n",
       "    </tr>\n",
       "  </tbody>\n",
       "</table>\n",
       "<p>878 rows × 2 columns</p>\n",
       "</div>"
      ],
      "text/plain": [
       "         id  score\n",
       "0    e-2001    NaN\n",
       "1    e-2002   79.0\n",
       "2    e-2003    NaN\n",
       "3    e-2004    NaN\n",
       "4     e-nan    NaN\n",
       "..      ...    ...\n",
       "873  e-2874   83.0\n",
       "874  e-2875    NaN\n",
       "875  e-2876    NaN\n",
       "876  e-2877    NaN\n",
       "877  e-2878    NaN\n",
       "\n",
       "[878 rows x 2 columns]"
      ]
     },
     "execution_count": 21,
     "metadata": {},
     "output_type": "execute_result"
    }
   ],
   "source": [
    "# for extend dataframe add e- to the beginning of each row in 'EXTEND Study ID' column and rename the column to ID\n",
    "extend['id'] = 'e-' + extend['EXTEND Study ID'].astype(str)\n",
    "# remove the .0 from the end of each row in 'ID' column\n",
    "extend['id'] = extend['id'].str.replace('.0', '', regex=False)\n",
    "extend = extend.drop(columns=['EXTEND Study ID'])\n",
    "extend_second_column = extend.columns[1]\n",
    "# rename the second column to 'score'\n",
    "extend = extend.rename(columns={extend_second_column: 'score'})\n",
    "extend = extend[['id', 'score']]\n",
    "extend"
   ]
  },
  {
   "cell_type": "code",
   "execution_count": 22,
   "metadata": {},
   "outputs": [
    {
     "data": {
      "application/vnd.microsoft.datawrangler.viewer.v0+json": {
       "columns": [
        {
         "name": "index",
         "rawType": "int64",
         "type": "integer"
        },
        {
         "name": "id",
         "rawType": "object",
         "type": "string"
        },
        {
         "name": "score",
         "rawType": "object",
         "type": "string"
        }
       ],
       "conversionMethod": "pd.DataFrame",
       "ref": "d32fc4a1-1131-49a4-b9bc-97e8535a891f",
       "rows": [
        [
         "0",
         "p-15",
         "nan"
        ],
        [
         "1",
         "p-8",
         "77.0"
        ],
        [
         "2",
         "p-41",
         "81.0"
        ],
        [
         "3",
         "p-25",
         "76.0"
        ],
        [
         "4",
         "p-12",
         "70.0"
        ],
        [
         "5",
         "p-7",
         "71.0"
        ],
        [
         "6",
         "p-9",
         "77.0"
        ],
        [
         "7",
         "p-51",
         "73.0"
        ],
        [
         "8",
         "p-31",
         "66.0"
        ],
        [
         "9",
         "p-13",
         "65.0"
        ],
        [
         "10",
         "p-6",
         "74.0"
        ],
        [
         "11",
         "p-11",
         "61.0"
        ],
        [
         "12",
         "p-52",
         "46.0"
        ],
        [
         "13",
         "p-55",
         "52.0"
        ],
        [
         "14",
         "p-10",
         "66.0"
        ],
        [
         "15",
         "p-4",
         "92.0"
        ],
        [
         "16",
         "p-3",
         "57.0"
        ],
        [
         "17",
         "p-32",
         "nan"
        ],
        [
         "18",
         "p-26",
         "nan"
        ],
        [
         "19",
         "p-102",
         "72.0"
        ],
        [
         "20",
         "p-34",
         "64.0"
        ],
        [
         "21",
         "p-24",
         "61.0"
        ],
        [
         "22",
         "p-38",
         "nan"
        ],
        [
         "23",
         "p-39",
         "73.0"
        ],
        [
         "24",
         "p-43",
         "66.0"
        ],
        [
         "25",
         "p-42",
         "nan"
        ],
        [
         "26",
         "p-46",
         "85.0"
        ],
        [
         "27",
         "p-44",
         "71.0"
        ],
        [
         "28",
         "p-56",
         "72.0"
        ],
        [
         "29",
         "p-45",
         "88.0"
        ],
        [
         "30",
         "p-63",
         "83.0"
        ],
        [
         "31",
         "p-64",
         "57.0"
        ],
        [
         "32",
         "p-65",
         "73.0"
        ],
        [
         "33",
         "p-66",
         "58.0"
        ],
        [
         "34",
         "p-68",
         "68.0"
        ],
        [
         "35",
         "p-69",
         "39.0"
        ],
        [
         "36",
         "p-73",
         "68.0"
        ],
        [
         "37",
         "p-78",
         "55.0"
        ],
        [
         "38",
         "p-77",
         "82.0"
        ],
        [
         "39",
         "p-74",
         "68.0"
        ],
        [
         "40",
         "p-80",
         "95.0"
        ],
        [
         "41",
         "p-83",
         "56.0"
        ],
        [
         "42",
         "p-89",
         "86.0"
        ],
        [
         "43",
         "p-87",
         "63.0"
        ],
        [
         "44",
         "p-90",
         "78.0"
        ],
        [
         "45",
         "p-88",
         "nan"
        ],
        [
         "46",
         "p-84",
         "87.0"
        ],
        [
         "47",
         "p-92",
         "57.0"
        ],
        [
         "48",
         "p-91",
         "63.0"
        ],
        [
         "49",
         "p-86",
         "69.0"
        ]
       ],
       "shape": {
        "columns": 2,
        "rows": 107
       }
      },
      "text/html": [
       "<div>\n",
       "<style scoped>\n",
       "    .dataframe tbody tr th:only-of-type {\n",
       "        vertical-align: middle;\n",
       "    }\n",
       "\n",
       "    .dataframe tbody tr th {\n",
       "        vertical-align: top;\n",
       "    }\n",
       "\n",
       "    .dataframe thead th {\n",
       "        text-align: right;\n",
       "    }\n",
       "</style>\n",
       "<table border=\"1\" class=\"dataframe\">\n",
       "  <thead>\n",
       "    <tr style=\"text-align: right;\">\n",
       "      <th></th>\n",
       "      <th>id</th>\n",
       "      <th>score</th>\n",
       "    </tr>\n",
       "  </thead>\n",
       "  <tbody>\n",
       "    <tr>\n",
       "      <th>0</th>\n",
       "      <td>p-15</td>\n",
       "      <td>nan</td>\n",
       "    </tr>\n",
       "    <tr>\n",
       "      <th>1</th>\n",
       "      <td>p-8</td>\n",
       "      <td>77.0</td>\n",
       "    </tr>\n",
       "    <tr>\n",
       "      <th>2</th>\n",
       "      <td>p-41</td>\n",
       "      <td>81.0</td>\n",
       "    </tr>\n",
       "    <tr>\n",
       "      <th>3</th>\n",
       "      <td>p-25</td>\n",
       "      <td>76.0</td>\n",
       "    </tr>\n",
       "    <tr>\n",
       "      <th>4</th>\n",
       "      <td>p-12</td>\n",
       "      <td>70.0</td>\n",
       "    </tr>\n",
       "    <tr>\n",
       "      <th>...</th>\n",
       "      <td>...</td>\n",
       "      <td>...</td>\n",
       "    </tr>\n",
       "    <tr>\n",
       "      <th>102</th>\n",
       "      <td>p-203</td>\n",
       "      <td>51.0</td>\n",
       "    </tr>\n",
       "    <tr>\n",
       "      <th>103</th>\n",
       "      <td>p-204</td>\n",
       "      <td>83.0</td>\n",
       "    </tr>\n",
       "    <tr>\n",
       "      <th>104</th>\n",
       "      <td>p-206</td>\n",
       "      <td>63.0</td>\n",
       "    </tr>\n",
       "    <tr>\n",
       "      <th>105</th>\n",
       "      <td>p-208</td>\n",
       "      <td>64.0</td>\n",
       "    </tr>\n",
       "    <tr>\n",
       "      <th>106</th>\n",
       "      <td>p-209</td>\n",
       "      <td>64.0</td>\n",
       "    </tr>\n",
       "  </tbody>\n",
       "</table>\n",
       "<p>107 rows × 2 columns</p>\n",
       "</div>"
      ],
      "text/plain": [
       "        id score\n",
       "0     p-15   nan\n",
       "1      p-8  77.0\n",
       "2     p-41  81.0\n",
       "3     p-25  76.0\n",
       "4     p-12  70.0\n",
       "..     ...   ...\n",
       "102  p-203  51.0\n",
       "103  p-204  83.0\n",
       "104  p-206  63.0\n",
       "105  p-208  64.0\n",
       "106  p-209  64.0\n",
       "\n",
       "[107 rows x 2 columns]"
      ]
     },
     "execution_count": 22,
     "metadata": {},
     "output_type": "execute_result"
    }
   ],
   "source": [
    "# Create a new ID column by adding 'p-' to the 'PACR Study ID#:' column\n",
    "pacr['id'] = 'p-' + pacr['PACR Study ID#:'].astype(str)\n",
    "\n",
    "# Remove the .0 from the end of each row in 'ID' column\n",
    "pacr['id'] = pacr['id'].str.replace('.0', '', regex=False)\n",
    "\n",
    "# Drop the original 'PACR Study ID#:' column\n",
    "pacr = pacr.drop(columns=['PACR Study ID#:'])\n",
    "\n",
    "# Ensure the second column exists before proceeding\n",
    "if pacr.shape[1] > 1:\n",
    "    # Get the second column name dynamically\n",
    "    second_col_name = pacr.columns[1]\n",
    "\n",
    "    # Convert it to string and store it in 'score' column\n",
    "    pacr['score'] = pacr[second_col_name].astype(str)\n",
    "\n",
    "    # Drop the second column\n",
    "    pacr = pacr.drop(columns=[second_col_name])\n",
    "\n",
    "pacr = pacr[['id', 'score']]\n",
    "pacr"
   ]
  },
  {
   "cell_type": "code",
   "execution_count": 23,
   "metadata": {},
   "outputs": [
    {
     "name": "stdout",
     "output_type": "stream",
     "text": [
      "Better: 65\n",
      "Extend: 123\n",
      "PACR: 107\n"
     ]
    }
   ],
   "source": [
    "# print len of non nan for each study\n",
    "print('Better:', len(better[better['score'].notna()]))\n",
    "print('Extend:', len(extend[extend['score'].notna()]))\n",
    "print('PACR:', len(pacr[pacr['score'].notna()]))"
   ]
  },
  {
   "cell_type": "code",
   "execution_count": 24,
   "metadata": {},
   "outputs": [
    {
     "data": {
      "application/vnd.microsoft.datawrangler.viewer.v0+json": {
       "columns": [
        {
         "name": "index",
         "rawType": "int64",
         "type": "integer"
        },
        {
         "name": "id",
         "rawType": "object",
         "type": "string"
        },
        {
         "name": "score",
         "rawType": "float64",
         "type": "float"
        }
       ],
       "conversionMethod": "pd.DataFrame",
       "ref": "529699db-f924-4b48-af8b-e926066cc732",
       "rows": [
        [
         "0",
         "b-120001",
         "75.0"
        ],
        [
         "1",
         "b-120002",
         "76.0"
        ],
        [
         "2",
         "b-120003",
         "104.0"
        ],
        [
         "3",
         "b-120004",
         "76.0"
        ],
        [
         "4",
         "b-120005",
         "75.0"
        ],
        [
         "5",
         "b-120006",
         "45.0"
        ],
        [
         "6",
         "b-120008",
         "45.0"
        ],
        [
         "7",
         "b-120010",
         "97.0"
        ],
        [
         "8",
         "b-120011",
         "70.0"
        ],
        [
         "9",
         "b-120012",
         "78.0"
        ],
        [
         "10",
         "b-120013",
         "82.0"
        ],
        [
         "11",
         "b-120014",
         "88.0"
        ],
        [
         "12",
         "b-120015",
         "63.0"
        ],
        [
         "13",
         "b-120017",
         "70.0"
        ],
        [
         "14",
         "b-120018",
         "90.0"
        ],
        [
         "15",
         "b-120019",
         "82.0"
        ],
        [
         "16",
         "b-120020",
         "57.0"
        ],
        [
         "17",
         "b-120021",
         "86.0"
        ],
        [
         "18",
         "b-120023",
         "65.0"
        ],
        [
         "19",
         "b-120024",
         "64.0"
        ],
        [
         "20",
         "b-120025",
         "84.0"
        ],
        [
         "21",
         "b-120026",
         "69.0"
        ],
        [
         "22",
         "b-120027",
         "77.0"
        ],
        [
         "23",
         "b-120028",
         "49.0"
        ],
        [
         "24",
         "b-120029",
         "54.0"
        ],
        [
         "25",
         "b-120030",
         "57.0"
        ],
        [
         "26",
         "b-120031",
         "75.0"
        ],
        [
         "27",
         "b-120032",
         "86.0"
        ],
        [
         "28",
         "b-120033",
         "78.0"
        ],
        [
         "29",
         "b-120034",
         "69.0"
        ],
        [
         "30",
         "b-120035",
         "83.0"
        ],
        [
         "31",
         "b-120036",
         "63.0"
        ],
        [
         "32",
         "b-120037",
         "55.0"
        ],
        [
         "33",
         "b-120038",
         "71.0"
        ],
        [
         "34",
         "b-120039",
         "63.0"
        ],
        [
         "35",
         "b-120040",
         "63.0"
        ],
        [
         "36",
         "b-120041",
         "86.0"
        ],
        [
         "37",
         "b-120042",
         "59.0"
        ],
        [
         "38",
         "b-120043",
         "56.0"
        ],
        [
         "39",
         "b-120045",
         "65.0"
        ],
        [
         "40",
         "b-120047",
         "77.0"
        ],
        [
         "41",
         "b-121001",
         "52.0"
        ],
        [
         "42",
         "b-121002",
         "74.0"
        ],
        [
         "43",
         "b-121003",
         "72.0"
        ],
        [
         "44",
         "b-121005",
         "87.0"
        ],
        [
         "46",
         "b-121008",
         "57.0"
        ],
        [
         "47",
         "b-121009",
         "55.0"
        ],
        [
         "48",
         "b-121010",
         "55.0"
        ],
        [
         "49",
         "b-121011",
         "77.0"
        ],
        [
         "50",
         "b-121012",
         "88.0"
        ]
       ],
       "shape": {
        "columns": 2,
        "rows": 279
       }
      },
      "text/html": [
       "<div>\n",
       "<style scoped>\n",
       "    .dataframe tbody tr th:only-of-type {\n",
       "        vertical-align: middle;\n",
       "    }\n",
       "\n",
       "    .dataframe tbody tr th {\n",
       "        vertical-align: top;\n",
       "    }\n",
       "\n",
       "    .dataframe thead th {\n",
       "        text-align: right;\n",
       "    }\n",
       "</style>\n",
       "<table border=\"1\" class=\"dataframe\">\n",
       "  <thead>\n",
       "    <tr style=\"text-align: right;\">\n",
       "      <th></th>\n",
       "      <th>id</th>\n",
       "      <th>score</th>\n",
       "    </tr>\n",
       "  </thead>\n",
       "  <tbody>\n",
       "    <tr>\n",
       "      <th>0</th>\n",
       "      <td>b-120001</td>\n",
       "      <td>75.0</td>\n",
       "    </tr>\n",
       "    <tr>\n",
       "      <th>1</th>\n",
       "      <td>b-120002</td>\n",
       "      <td>76.0</td>\n",
       "    </tr>\n",
       "    <tr>\n",
       "      <th>2</th>\n",
       "      <td>b-120003</td>\n",
       "      <td>104.0</td>\n",
       "    </tr>\n",
       "    <tr>\n",
       "      <th>3</th>\n",
       "      <td>b-120004</td>\n",
       "      <td>76.0</td>\n",
       "    </tr>\n",
       "    <tr>\n",
       "      <th>4</th>\n",
       "      <td>b-120005</td>\n",
       "      <td>75.0</td>\n",
       "    </tr>\n",
       "    <tr>\n",
       "      <th>...</th>\n",
       "      <td>...</td>\n",
       "      <td>...</td>\n",
       "    </tr>\n",
       "    <tr>\n",
       "      <th>1135</th>\n",
       "      <td>p-203</td>\n",
       "      <td>51.0</td>\n",
       "    </tr>\n",
       "    <tr>\n",
       "      <th>1136</th>\n",
       "      <td>p-204</td>\n",
       "      <td>83.0</td>\n",
       "    </tr>\n",
       "    <tr>\n",
       "      <th>1137</th>\n",
       "      <td>p-206</td>\n",
       "      <td>63.0</td>\n",
       "    </tr>\n",
       "    <tr>\n",
       "      <th>1138</th>\n",
       "      <td>p-208</td>\n",
       "      <td>64.0</td>\n",
       "    </tr>\n",
       "    <tr>\n",
       "      <th>1139</th>\n",
       "      <td>p-209</td>\n",
       "      <td>64.0</td>\n",
       "    </tr>\n",
       "  </tbody>\n",
       "</table>\n",
       "<p>279 rows × 2 columns</p>\n",
       "</div>"
      ],
      "text/plain": [
       "            id  score\n",
       "0     b-120001   75.0\n",
       "1     b-120002   76.0\n",
       "2     b-120003  104.0\n",
       "3     b-120004   76.0\n",
       "4     b-120005   75.0\n",
       "...        ...    ...\n",
       "1135     p-203   51.0\n",
       "1136     p-204   83.0\n",
       "1137     p-206   63.0\n",
       "1138     p-208   64.0\n",
       "1139     p-209   64.0\n",
       "\n",
       "[279 rows x 2 columns]"
      ]
     },
     "execution_count": 24,
     "metadata": {},
     "output_type": "execute_result"
    }
   ],
   "source": [
    "# append all three dataframes together\n",
    "df = pd.concat([better, extend, pacr], ignore_index=True)\n",
    "#drop na\n",
    "df = df.dropna(subset=['score'])\n",
    "# drop if score value is 'nan'\n",
    "df = df[df['score'] != 'nan']\n",
    "# convert score to numeric\n",
    "df = df.astype({'score': 'float'})\n",
    "# convert id to string\n",
    "df['id'] = df['id'].astype(str)\n",
    "df"
   ]
  },
  {
   "cell_type": "code",
   "execution_count": 25,
   "metadata": {},
   "outputs": [],
   "source": [
    "df.to_csv('../../../../data/struc/dsst.csv', index=False)"
   ]
  },
  {
   "cell_type": "code",
   "execution_count": 26,
   "metadata": {},
   "outputs": [
    {
     "data": {
      "image/png": "[encoded data removed]",
      "text/plain": [
       "<Figure size 864x432 with 2 Axes>"
      ]
     },
     "metadata": {
      "needs_background": "light"
     },
     "output_type": "display_data"
    }
   ],
   "source": [
    "''' plot distribution and boxplot of dsst scores '''\n",
    "import seaborn as sns\n",
    "import matplotlib.pyplot as plt\n",
    "\n",
    "fig, ax = plt.subplots(1, 2, figsize=(12, 6))\n",
    "sns.histplot(df, x='score', kde=True, ax=ax[0])\n",
    "sns.boxplot(data=df, x='score', ax=ax[1])\n",
    "plt.show()"
   ]
  },
  {
   "cell_type": "code",
   "execution_count": 27,
   "metadata": {},
   "outputs": [
    {
     "data": {
      "application/vnd.microsoft.datawrangler.viewer.v0+json": {
       "columns": [
        {
         "name": "index",
         "rawType": "int64",
         "type": "integer"
        },
        {
         "name": "Study Subject ID",
         "rawType": "int64",
         "type": "integer"
        },
        {
         "name": "Subject Status",
         "rawType": "object",
         "type": "string"
        },
        {
         "name": "Subject Screening Number",
         "rawType": "int64",
         "type": "integer"
        },
        {
         "name": "Site Name",
         "rawType": "object",
         "type": "string"
        },
        {
         "name": "Event Name(Occurrence)",
         "rawType": "object",
         "type": "string"
        },
        {
         "name": "Event Status",
         "rawType": "object",
         "type": "string"
        },
        {
         "name": "Date of Assessment Visit:",
         "rawType": "object",
         "type": "string"
        },
        {
         "name": "Digit Symbol Coding PDF:",
         "rawType": "object",
         "type": "string"
        },
        {
         "name": "Form Version:",
         "rawType": "object",
         "type": "string"
        },
        {
         "name": "Total Correct:",
         "rawType": "int64",
         "type": "integer"
        },
        {
         "name": "Digit Symbol Coding_complete",
         "rawType": "object",
         "type": "string"
        }
       ],
       "conversionMethod": "pd.DataFrame",
       "ref": "6970cf52-775c-48d3-a0e7-f73064dd4b05",
       "rows": [
        [
         "0",
         "120001",
         "Enrolled",
         "120001",
         "University of Iowa",
         "Baseline Visit (V1)",
         "Monitoring Completed",
         "2018-06-28",
         "DIgit_Symbol_120001.pdf",
         "Form A",
         "75",
         "Monitoring Completed"
        ],
        [
         "1",
         "120002",
         "Enrolled",
         "120002",
         "University of Iowa",
         "Baseline Visit (V1)",
         "Monitoring Completed",
         "2018-07-06",
         "Digit_Symbol_120002.pdf",
         "Form A",
         "76",
         "Monitoring Completed"
        ],
        [
         "2",
         "120003",
         "Enrolled",
         "120003",
         "University of Iowa",
         "Baseline Visit (V1)",
         "Monitoring Completed",
         "2018-07-05",
         "DigitSymbol_correction_120003.pdf",
         "Form A",
         "104",
         "Monitoring Completed"
        ],
        [
         "3",
         "120004",
         "Enrolled",
         "120004",
         "University of Iowa",
         "Baseline Visit (V1)",
         "Monitoring Completed",
         "2018-07-09",
         "DigitSymbol_120004.pdf",
         "Form A",
         "76",
         "Monitoring Completed"
        ],
        [
         "4",
         "120005",
         "Enrolled",
         "120005",
         "University of Iowa",
         "Baseline Visit (V1)",
         "Monitoring Completed",
         "2018-07-25",
         "DigitSymbol_120005.pdf",
         "Form A",
         "75",
         "Monitoring Completed"
        ],
        [
         "5",
         "120006",
         "Enrolled",
         "120006",
         "University of Iowa",
         "Baseline Visit (V1)",
         "Monitoring Completed",
         "2018-07-16",
         "Digit_Symbol_120006.pdf",
         "Form A",
         "45",
         "Monitoring Completed"
        ],
        [
         "6",
         "120008",
         "Enrolled",
         "120008",
         "University of Iowa",
         "Baseline Visit (V1)",
         "Monitoring Completed",
         "2018-07-13",
         "Digit_Symbol_120008.pdf",
         "Form A",
         "45",
         "Monitoring Completed"
        ],
        [
         "7",
         "120010",
         "Enrolled",
         "120010",
         "University of Iowa",
         "Baseline Visit (V1)",
         "Monitoring Completed",
         "2018-08-14",
         "DigitSymbol_120010.pdf",
         "Form A",
         "97",
         "Monitoring Completed"
        ],
        [
         "8",
         "120011",
         "Enrolled",
         "120011",
         "University of Iowa",
         "Baseline Visit (V1)",
         "Monitoring Completed",
         "2018-07-19",
         "Digit_Symbol_120011.pdf",
         "Form A",
         "70",
         "Monitoring Completed"
        ],
        [
         "9",
         "120012",
         "Enrolled",
         "120012",
         "University of Iowa",
         "Baseline Visit (V1)",
         "Monitoring Completed",
         "2018-09-05",
         "DigitSymbol_120012.pdf",
         "Form A",
         "78",
         "Monitoring Completed"
        ],
        [
         "10",
         "120013",
         "Enrolled",
         "120013",
         "University of Iowa",
         "Baseline Visit (V1)",
         "Monitoring Completed",
         "2018-08-07",
         "DigitSymbol_120013.pdf",
         "Form A",
         "82",
         "Monitoring Completed"
        ],
        [
         "11",
         "120014",
         "Enrolled",
         "120014",
         "University of Iowa",
         "Baseline Visit (V1)",
         "Monitoring Completed",
         "2018-07-30",
         "DigitSymbol_120014.pdf",
         "Form A",
         "88",
         "Monitoring Completed"
        ],
        [
         "12",
         "120015",
         "Enrolled",
         "120015",
         "University of Iowa",
         "Baseline Visit (V1)",
         "Monitoring Completed",
         "2018-08-24",
         "DigitSymbol_120015.pdf",
         "Form A",
         "63",
         "Monitoring Completed"
        ],
        [
         "13",
         "120017",
         "Enrolled",
         "120017",
         "University of Iowa",
         "Baseline Visit (V1)",
         "Monitoring Completed",
         "2018-09-04",
         "DigitSymbol_120017.pdf",
         "Form A",
         "70",
         "Monitoring Completed"
        ],
        [
         "14",
         "120018",
         "Enrolled",
         "120018",
         "University of Iowa",
         "Baseline Visit (V1)",
         "Monitoring Completed",
         "2018-08-08",
         "DigitSymbol_corrected_120018.pdf",
         "Form A",
         "90",
         "Monitoring Completed"
        ],
        [
         "15",
         "120019",
         "Enrolled",
         "120019",
         "University of Iowa",
         "Baseline Visit (V1)",
         "Monitoring Completed",
         "2018-09-18",
         "DigitSymbol_120019.pdf",
         "Form A",
         "82",
         "Monitoring Completed"
        ],
        [
         "16",
         "120020",
         "Enrolled",
         "120020",
         "University of Iowa",
         "Baseline Visit (V1)",
         "Monitoring Completed",
         "2018-09-06",
         "DigitSymbol_120020.pdf",
         "Form A",
         "57",
         "Monitoring Completed"
        ],
        [
         "17",
         "120021",
         "Enrolled",
         "120021",
         "University of Iowa",
         "Baseline Visit (V1)",
         "Monitoring Completed",
         "2018-09-06",
         "DigitSymbol_120021.pdf",
         "Form A",
         "86",
         "Monitoring Completed"
        ],
        [
         "18",
         "120023",
         "Enrolled",
         "120023",
         "University of Iowa",
         "Baseline Visit (V1)",
         "Monitoring Completed",
         "2018-10-29",
         "DigitSymbol_V1_120023.pdf",
         "Form A",
         "65",
         "Monitoring Completed"
        ],
        [
         "19",
         "120024",
         "Enrolled",
         "120024",
         "University of Iowa",
         "Baseline Visit (V1)",
         "Monitoring Completed",
         "2018-12-17",
         "Digit_Symbol_120024.pdf",
         "Form A",
         "64",
         "Monitoring Completed"
        ],
        [
         "20",
         "120025",
         "Enrolled",
         "120025",
         "University of Iowa",
         "Baseline Visit (V1)",
         "Monitoring Completed",
         "2018-11-02",
         "DigitSymbolCoding_V1_120025.pdf",
         "Form A",
         "84",
         "Monitoring Completed"
        ],
        [
         "21",
         "120026",
         "Enrolled",
         "120026",
         "University of Iowa",
         "Baseline Visit (V1)",
         "Monitoring Completed",
         "2018-11-14",
         "DigitSymbol_V1_120026.pdf",
         "Form A",
         "69",
         "Monitoring Completed"
        ],
        [
         "22",
         "120027",
         "Enrolled",
         "120027",
         "University of Iowa",
         "Baseline Visit (V1)",
         "Monitoring Completed",
         "2018-11-19",
         "DigitSymbol_V1_120027.pdf",
         "Form A",
         "77",
         "Monitoring Completed"
        ],
        [
         "23",
         "120028",
         "Enrolled",
         "120028",
         "University of Iowa",
         "Baseline Visit (V1)",
         "Monitoring Completed",
         "2019-02-13",
         "DigitSymbol_120028.pdf",
         "Form A",
         "49",
         "Monitoring Completed"
        ],
        [
         "24",
         "120029",
         "Enrolled",
         "120029",
         "University of Iowa",
         "Baseline Visit (V1)",
         "Monitoring Completed",
         "2019-01-16",
         "DigitSymbol_120029.pdf",
         "Form A",
         "54",
         "Monitoring Completed"
        ],
        [
         "25",
         "120030",
         "Enrolled",
         "120030",
         "University of Iowa",
         "Baseline Visit (V1)",
         "Monitoring Completed",
         "2019-01-18",
         "DigitSymbol_120030.pdf",
         "Form A",
         "57",
         "Monitoring Completed"
        ],
        [
         "26",
         "120031",
         "Enrolled",
         "120031",
         "University of Iowa",
         "Baseline Visit (V1)",
         "Monitoring Completed",
         "2019-02-06",
         "DigitSymbol_120031.pdf",
         "Form A",
         "75",
         "Monitoring Completed"
        ],
        [
         "27",
         "120032",
         "Enrolled",
         "120032",
         "University of Iowa",
         "Baseline Visit (V1)",
         "Monitoring Completed",
         "2019-02-14",
         "DigitSymbol_V1_120032.pdf",
         "Form A",
         "86",
         "Monitoring Completed"
        ],
        [
         "28",
         "120033",
         "Enrolled",
         "120033",
         "University of Iowa",
         "Baseline Visit (V1)",
         "Monitoring Completed",
         "2019-02-18",
         "DigitSymbol_V1_120033.pdf",
         "Form A",
         "78",
         "Monitoring Completed"
        ],
        [
         "29",
         "120034",
         "Enrolled",
         "120034",
         "University of Iowa",
         "Baseline Visit (V1)",
         "Monitoring Completed",
         "2019-02-19",
         "DigitSymbol_120034.pdf",
         "Form A",
         "69",
         "Monitoring Completed"
        ],
        [
         "30",
         "120035",
         "Enrolled",
         "120035",
         "University of Iowa",
         "Baseline Visit (V1)",
         "Monitoring Completed",
         "2019-01-25",
         "DigitSymbol_120039.pdf",
         "Form A",
         "83",
         "Monitoring Completed"
        ],
        [
         "31",
         "120036",
         "Enrolled",
         "120036",
         "University of Iowa",
         "Baseline Visit (V1)",
         "Monitoring Completed",
         "2019-02-11",
         "DigitSymbolupdated_120036.pdf",
         "Form A",
         "63",
         "Monitoring Completed"
        ],
        [
         "32",
         "120037",
         "Enrolled",
         "120037",
         "University of Iowa",
         "Baseline Visit (V1)",
         "Monitoring Completed",
         "2019-02-21",
         "DigitSymbol_120037.pdf",
         "Form A",
         "55",
         "Monitoring Completed"
        ],
        [
         "33",
         "120038",
         "Enrolled",
         "120038",
         "University of Iowa",
         "Baseline Visit (V1)",
         "Monitoring Completed",
         "2019-02-22",
         "DigitSymbol_120038.pdf",
         "Form A",
         "71",
         "Monitoring Completed"
        ],
        [
         "34",
         "120039",
         "Enrolled",
         "120039",
         "University of Iowa",
         "Baseline Visit (V1)",
         "Monitoring Completed",
         "2019-04-23",
         "DigitSymbol_V1_120039.pdf",
         "Form A",
         "63",
         "Monitoring Completed"
        ],
        [
         "35",
         "120040",
         "Enrolled",
         "120040",
         "University of Iowa",
         "Baseline Visit (V1)",
         "Monitoring Completed",
         "2019-03-12",
         "DigitSymbol_120040.pdf",
         "Form A",
         "63",
         "Monitoring Completed"
        ],
        [
         "36",
         "120041",
         "Enrolled",
         "120041",
         "University of Iowa",
         "Baseline Visit (V1)",
         "Monitoring Completed",
         "2019-02-26",
         "DigitSymbol_120041.pdf",
         "Form A",
         "86",
         "Monitoring Completed"
        ],
        [
         "37",
         "120042",
         "Enrolled",
         "120042",
         "University of Iowa",
         "Baseline Visit (V1)",
         "Monitoring Completed",
         "2019-04-04",
         "DigitSymbol_120042.pdf",
         "Form A",
         "59",
         "Monitoring Completed"
        ],
        [
         "38",
         "120043",
         "Enrolled",
         "120043",
         "University of Iowa",
         "Baseline Visit (V1)",
         "Monitoring Completed",
         "2019-04-02",
         "DigitSymbol_V1_120043.pdf",
         "Form A",
         "56",
         "Monitoring Completed"
        ],
        [
         "39",
         "120044",
         "Enrolled",
         "120044",
         "University of Iowa",
         "Baseline Visit (V1)",
         "Monitoring Completed",
         "2019-05-08",
         "DigitSymbol_V1_120044.pdf",
         "Form A",
         "72",
         "Monitoring Completed"
        ],
        [
         "40",
         "120045",
         "Enrolled",
         "120045",
         "University of Iowa",
         "Baseline Visit (V1)",
         "Monitoring Completed",
         "2019-04-24",
         "DigitSymbol_120045.pdf",
         "Form A",
         "65",
         "Monitoring Completed"
        ],
        [
         "41",
         "120047",
         "Enrolled",
         "120047",
         "University of Iowa",
         "Baseline Visit (V1)",
         "Monitoring Completed",
         "2019-04-22",
         "DigitSymbol_120047.pdf",
         "Form A",
         "77",
         "Monitoring Completed"
        ],
        [
         "42",
         "120049",
         "Enrolled",
         "120049",
         "University of Iowa",
         "Baseline Visit (V1)",
         "Monitoring Completed",
         "2019-04-29",
         "updatedDigitSymbol_V1_120049.pdf",
         "Form A",
         "72",
         "Monitoring Completed"
        ],
        [
         "43",
         "120050",
         "Enrolled",
         "120050",
         "University of Iowa",
         "Baseline Visit (V1)",
         "Monitoring Completed",
         "2019-05-03",
         "DigitSymbol_120050.pdf",
         "Form A",
         "55",
         "Monitoring Completed"
        ],
        [
         "44",
         "120052",
         "Enrolled",
         "120052",
         "University of Iowa",
         "Baseline Visit (V1)",
         "Monitoring Completed",
         "2019-05-09",
         "DigitSymbol_120052.pdf",
         "Form A",
         "77",
         "Monitoring Completed"
        ],
        [
         "45",
         "120053",
         "Enrolled",
         "120053",
         "University of Iowa",
         "Baseline Visit (V1)",
         "Monitoring Completed",
         "2019-05-07",
         "DigitSymbol_V1_120053.pdf",
         "Form A",
         "59",
         "Monitoring Completed"
        ],
        [
         "46",
         "120054",
         "Enrolled",
         "120054",
         "University of Iowa",
         "Baseline Visit (V1)",
         "Monitoring Completed",
         "2019-05-20",
         "DigitSymbol_V1_120054.pdf",
         "Form A",
         "93",
         "Monitoring Completed"
        ],
        [
         "47",
         "120055",
         "Enrolled",
         "120055",
         "University of Iowa",
         "Baseline Visit (V1)",
         "Monitoring Completed",
         "2019-05-28",
         "DigitSymbol_V1_120055.pdf",
         "Form A",
         "66",
         "Monitoring Completed"
        ],
        [
         "48",
         "120056",
         "Enrolled",
         "120056",
         "University of Iowa",
         "Baseline Visit (V1)",
         "Monitoring Completed",
         "2019-07-19",
         "DigitSymbol_V1_120056.pdf",
         "Form A",
         "74",
         "Monitoring Completed"
        ],
        [
         "49",
         "120057",
         "Enrolled",
         "120057",
         "University of Iowa",
         "Baseline Visit (V1)",
         "Monitoring Completed",
         "2019-07-15",
         "DigitSymbol_V1_120057.pdf",
         "Form A",
         "80",
         "Monitoring Completed"
        ]
       ],
       "shape": {
        "columns": 11,
        "rows": 129
       }
      },
      "text/html": [
       "<div>\n",
       "<style scoped>\n",
       "    .dataframe tbody tr th:only-of-type {\n",
       "        vertical-align: middle;\n",
       "    }\n",
       "\n",
       "    .dataframe tbody tr th {\n",
       "        vertical-align: top;\n",
       "    }\n",
       "\n",
       "    .dataframe thead th {\n",
       "        text-align: right;\n",
       "    }\n",
       "</style>\n",
       "<table border=\"1\" class=\"dataframe\">\n",
       "  <thead>\n",
       "    <tr style=\"text-align: right;\">\n",
       "      <th></th>\n",
       "      <th>Study Subject ID</th>\n",
       "      <th>Subject Status</th>\n",
       "      <th>Subject Screening Number</th>\n",
       "      <th>Site Name</th>\n",
       "      <th>Event Name(Occurrence)</th>\n",
       "      <th>Event Status</th>\n",
       "      <th>Date of Assessment Visit:</th>\n",
       "      <th>Digit Symbol Coding PDF:</th>\n",
       "      <th>Form Version:</th>\n",
       "      <th>Total Correct:</th>\n",
       "      <th>Digit Symbol Coding_complete</th>\n",
       "    </tr>\n",
       "  </thead>\n",
       "  <tbody>\n",
       "    <tr>\n",
       "      <th>0</th>\n",
       "      <td>120001</td>\n",
       "      <td>Enrolled</td>\n",
       "      <td>120001</td>\n",
       "      <td>University of Iowa</td>\n",
       "      <td>Baseline Visit (V1)</td>\n",
       "      <td>Monitoring Completed</td>\n",
       "      <td>2018-06-28</td>\n",
       "      <td>DIgit_Symbol_120001.pdf</td>\n",
       "      <td>Form A</td>\n",
       "      <td>75</td>\n",
       "      <td>Monitoring Completed</td>\n",
       "    </tr>\n",
       "    <tr>\n",
       "      <th>1</th>\n",
       "      <td>120002</td>\n",
       "      <td>Enrolled</td>\n",
       "      <td>120002</td>\n",
       "      <td>University of Iowa</td>\n",
       "      <td>Baseline Visit (V1)</td>\n",
       "      <td>Monitoring Completed</td>\n",
       "      <td>2018-07-06</td>\n",
       "      <td>Digit_Symbol_120002.pdf</td>\n",
       "      <td>Form A</td>\n",
       "      <td>76</td>\n",
       "      <td>Monitoring Completed</td>\n",
       "    </tr>\n",
       "    <tr>\n",
       "      <th>2</th>\n",
       "      <td>120003</td>\n",
       "      <td>Enrolled</td>\n",
       "      <td>120003</td>\n",
       "      <td>University of Iowa</td>\n",
       "      <td>Baseline Visit (V1)</td>\n",
       "      <td>Monitoring Completed</td>\n",
       "      <td>2018-07-05</td>\n",
       "      <td>DigitSymbol_correction_120003.pdf</td>\n",
       "      <td>Form A</td>\n",
       "      <td>104</td>\n",
       "      <td>Monitoring Completed</td>\n",
       "    </tr>\n",
       "    <tr>\n",
       "      <th>3</th>\n",
       "      <td>120004</td>\n",
       "      <td>Enrolled</td>\n",
       "      <td>120004</td>\n",
       "      <td>University of Iowa</td>\n",
       "      <td>Baseline Visit (V1)</td>\n",
       "      <td>Monitoring Completed</td>\n",
       "      <td>2018-07-09</td>\n",
       "      <td>DigitSymbol_120004.pdf</td>\n",
       "      <td>Form A</td>\n",
       "      <td>76</td>\n",
       "      <td>Monitoring Completed</td>\n",
       "    </tr>\n",
       "    <tr>\n",
       "      <th>4</th>\n",
       "      <td>120005</td>\n",
       "      <td>Enrolled</td>\n",
       "      <td>120005</td>\n",
       "      <td>University of Iowa</td>\n",
       "      <td>Baseline Visit (V1)</td>\n",
       "      <td>Monitoring Completed</td>\n",
       "      <td>2018-07-25</td>\n",
       "      <td>DigitSymbol_120005.pdf</td>\n",
       "      <td>Form A</td>\n",
       "      <td>75</td>\n",
       "      <td>Monitoring Completed</td>\n",
       "    </tr>\n",
       "    <tr>\n",
       "      <th>...</th>\n",
       "      <td>...</td>\n",
       "      <td>...</td>\n",
       "      <td>...</td>\n",
       "      <td>...</td>\n",
       "      <td>...</td>\n",
       "      <td>...</td>\n",
       "      <td>...</td>\n",
       "      <td>...</td>\n",
       "      <td>...</td>\n",
       "      <td>...</td>\n",
       "      <td>...</td>\n",
       "    </tr>\n",
       "    <tr>\n",
       "      <th>124</th>\n",
       "      <td>121070</td>\n",
       "      <td>Enrolled</td>\n",
       "      <td>121070</td>\n",
       "      <td>University of Texas at Dallas</td>\n",
       "      <td>Baseline Visit (V1)</td>\n",
       "      <td>Monitoring Completed</td>\n",
       "      <td>2019-12-06</td>\n",
       "      <td>121070_V1_DigitSymbolCodingFormA.pdf</td>\n",
       "      <td>Form A</td>\n",
       "      <td>87</td>\n",
       "      <td>Monitoring Completed</td>\n",
       "    </tr>\n",
       "    <tr>\n",
       "      <th>125</th>\n",
       "      <td>121071</td>\n",
       "      <td>Enrolled</td>\n",
       "      <td>121071</td>\n",
       "      <td>University of Texas at Dallas</td>\n",
       "      <td>Baseline Visit (V1)</td>\n",
       "      <td>Monitoring Completed</td>\n",
       "      <td>2020-01-29</td>\n",
       "      <td>121071_V1_DigitSymbolCodingA.pdf</td>\n",
       "      <td>Form A</td>\n",
       "      <td>78</td>\n",
       "      <td>Monitoring Completed</td>\n",
       "    </tr>\n",
       "    <tr>\n",
       "      <th>126</th>\n",
       "      <td>121072</td>\n",
       "      <td>Enrolled</td>\n",
       "      <td>121072</td>\n",
       "      <td>University of Texas at Dallas</td>\n",
       "      <td>Baseline Visit (V1)</td>\n",
       "      <td>Monitoring Completed</td>\n",
       "      <td>2020-01-24</td>\n",
       "      <td>121072_V1_DigitSymbolCodingA.pdf</td>\n",
       "      <td>Form A</td>\n",
       "      <td>59</td>\n",
       "      <td>Monitoring Completed</td>\n",
       "    </tr>\n",
       "    <tr>\n",
       "      <th>127</th>\n",
       "      <td>121073</td>\n",
       "      <td>Enrolled</td>\n",
       "      <td>121073</td>\n",
       "      <td>University of Texas at Dallas</td>\n",
       "      <td>Baseline Visit (V1)</td>\n",
       "      <td>Monitoring Completed</td>\n",
       "      <td>2020-01-27</td>\n",
       "      <td>121073_V1_DigitSymbolCodingA.pdf</td>\n",
       "      <td>Form A</td>\n",
       "      <td>50</td>\n",
       "      <td>Monitoring Completed</td>\n",
       "    </tr>\n",
       "    <tr>\n",
       "      <th>128</th>\n",
       "      <td>121074</td>\n",
       "      <td>Enrolled</td>\n",
       "      <td>121074</td>\n",
       "      <td>University of Texas at Dallas</td>\n",
       "      <td>Baseline Visit (V1)</td>\n",
       "      <td>Monitoring Completed</td>\n",
       "      <td>2020-01-30</td>\n",
       "      <td>121074_V1_DigitSymbolCodingA.pdf</td>\n",
       "      <td>Form A</td>\n",
       "      <td>84</td>\n",
       "      <td>Monitoring Completed</td>\n",
       "    </tr>\n",
       "  </tbody>\n",
       "</table>\n",
       "<p>129 rows × 11 columns</p>\n",
       "</div>"
      ],
      "text/plain": [
       "     Study Subject ID Subject Status  Subject Screening Number  \\\n",
       "0              120001       Enrolled                    120001   \n",
       "1              120002       Enrolled                    120002   \n",
       "2              120003       Enrolled                    120003   \n",
       "3              120004       Enrolled                    120004   \n",
       "4              120005       Enrolled                    120005   \n",
       "..                ...            ...                       ...   \n",
       "124            121070       Enrolled                    121070   \n",
       "125            121071       Enrolled                    121071   \n",
       "126            121072       Enrolled                    121072   \n",
       "127            121073       Enrolled                    121073   \n",
       "128            121074       Enrolled                    121074   \n",
       "\n",
       "                         Site Name Event Name(Occurrence)  \\\n",
       "0               University of Iowa    Baseline Visit (V1)   \n",
       "1               University of Iowa    Baseline Visit (V1)   \n",
       "2               University of Iowa    Baseline Visit (V1)   \n",
       "3               University of Iowa    Baseline Visit (V1)   \n",
       "4               University of Iowa    Baseline Visit (V1)   \n",
       "..                             ...                    ...   \n",
       "124  University of Texas at Dallas    Baseline Visit (V1)   \n",
       "125  University of Texas at Dallas    Baseline Visit (V1)   \n",
       "126  University of Texas at Dallas    Baseline Visit (V1)   \n",
       "127  University of Texas at Dallas    Baseline Visit (V1)   \n",
       "128  University of Texas at Dallas    Baseline Visit (V1)   \n",
       "\n",
       "             Event Status Date of Assessment Visit:  \\\n",
       "0    Monitoring Completed                2018-06-28   \n",
       "1    Monitoring Completed                2018-07-06   \n",
       "2    Monitoring Completed                2018-07-05   \n",
       "3    Monitoring Completed                2018-07-09   \n",
       "4    Monitoring Completed                2018-07-25   \n",
       "..                    ...                       ...   \n",
       "124  Monitoring Completed                2019-12-06   \n",
       "125  Monitoring Completed                2020-01-29   \n",
       "126  Monitoring Completed                2020-01-24   \n",
       "127  Monitoring Completed                2020-01-27   \n",
       "128  Monitoring Completed                2020-01-30   \n",
       "\n",
       "                 Digit Symbol Coding PDF: Form Version:  Total Correct:  \\\n",
       "0                 DIgit_Symbol_120001.pdf        Form A              75   \n",
       "1                 Digit_Symbol_120002.pdf        Form A              76   \n",
       "2       DigitSymbol_correction_120003.pdf        Form A             104   \n",
       "3                  DigitSymbol_120004.pdf        Form A              76   \n",
       "4                  DigitSymbol_120005.pdf        Form A              75   \n",
       "..                                    ...           ...             ...   \n",
       "124  121070_V1_DigitSymbolCodingFormA.pdf        Form A              87   \n",
       "125      121071_V1_DigitSymbolCodingA.pdf        Form A              78   \n",
       "126      121072_V1_DigitSymbolCodingA.pdf        Form A              59   \n",
       "127      121073_V1_DigitSymbolCodingA.pdf        Form A              50   \n",
       "128      121074_V1_DigitSymbolCodingA.pdf        Form A              84   \n",
       "\n",
       "    Digit Symbol Coding_complete  \n",
       "0           Monitoring Completed  \n",
       "1           Monitoring Completed  \n",
       "2           Monitoring Completed  \n",
       "3           Monitoring Completed  \n",
       "4           Monitoring Completed  \n",
       "..                           ...  \n",
       "124         Monitoring Completed  \n",
       "125         Monitoring Completed  \n",
       "126         Monitoring Completed  \n",
       "127         Monitoring Completed  \n",
       "128         Monitoring Completed  \n",
       "\n",
       "[129 rows x 11 columns]"
      ]
     },
     "execution_count": 27,
     "metadata": {},
     "output_type": "execute_result"
    }
   ],
   "source": [
    "b_df = pd.read_csv('~/Downloads/better_dsst.csv')\n",
    "b_df"
   ]
  },
  {
   "cell_type": "code",
   "execution_count": 28,
   "metadata": {},
   "outputs": [
    {
     "data": {
      "application/vnd.microsoft.datawrangler.viewer.v0+json": {
       "columns": [
        {
         "name": "index",
         "rawType": "int64",
         "type": "integer"
        },
        {
         "name": "Study Subject ID",
         "rawType": "int64",
         "type": "integer"
        },
        {
         "name": "Subject Status",
         "rawType": "object",
         "type": "string"
        },
        {
         "name": "Subject Screening Number",
         "rawType": "int64",
         "type": "integer"
        },
        {
         "name": "Site Name",
         "rawType": "object",
         "type": "string"
        },
        {
         "name": "Event Name(Occurrence)",
         "rawType": "object",
         "type": "string"
        },
        {
         "name": "Event Status",
         "rawType": "object",
         "type": "string"
        },
        {
         "name": "Date of Assessment Visit:",
         "rawType": "object",
         "type": "string"
        },
        {
         "name": "Digit Symbol Coding PDF:",
         "rawType": "object",
         "type": "string"
        },
        {
         "name": "Form Version:",
         "rawType": "object",
         "type": "string"
        },
        {
         "name": "Total Correct:",
         "rawType": "int64",
         "type": "integer"
        },
        {
         "name": "Digit Symbol Coding_complete",
         "rawType": "object",
         "type": "string"
        }
       ],
       "conversionMethod": "pd.DataFrame",
       "ref": "1c2d77c2-2480-4de6-a915-a58e78e419f5",
       "rows": [
        [
         "0",
         "120001",
         "Enrolled",
         "120001",
         "University of Iowa",
         "Baseline Visit (V1)",
         "Monitoring Completed",
         "2018-06-28",
         "DIgit_Symbol_120001.pdf",
         "Form A",
         "75",
         "Monitoring Completed"
        ],
        [
         "1",
         "120002",
         "Enrolled",
         "120002",
         "University of Iowa",
         "Baseline Visit (V1)",
         "Monitoring Completed",
         "2018-07-06",
         "Digit_Symbol_120002.pdf",
         "Form A",
         "76",
         "Monitoring Completed"
        ],
        [
         "2",
         "120003",
         "Enrolled",
         "120003",
         "University of Iowa",
         "Baseline Visit (V1)",
         "Monitoring Completed",
         "2018-07-05",
         "DigitSymbol_correction_120003.pdf",
         "Form A",
         "104",
         "Monitoring Completed"
        ],
        [
         "3",
         "120004",
         "Enrolled",
         "120004",
         "University of Iowa",
         "Baseline Visit (V1)",
         "Monitoring Completed",
         "2018-07-09",
         "DigitSymbol_120004.pdf",
         "Form A",
         "76",
         "Monitoring Completed"
        ],
        [
         "4",
         "120005",
         "Enrolled",
         "120005",
         "University of Iowa",
         "Baseline Visit (V1)",
         "Monitoring Completed",
         "2018-07-25",
         "DigitSymbol_120005.pdf",
         "Form A",
         "75",
         "Monitoring Completed"
        ],
        [
         "5",
         "120006",
         "Enrolled",
         "120006",
         "University of Iowa",
         "Baseline Visit (V1)",
         "Monitoring Completed",
         "2018-07-16",
         "Digit_Symbol_120006.pdf",
         "Form A",
         "45",
         "Monitoring Completed"
        ],
        [
         "6",
         "120008",
         "Enrolled",
         "120008",
         "University of Iowa",
         "Baseline Visit (V1)",
         "Monitoring Completed",
         "2018-07-13",
         "Digit_Symbol_120008.pdf",
         "Form A",
         "45",
         "Monitoring Completed"
        ],
        [
         "7",
         "120010",
         "Enrolled",
         "120010",
         "University of Iowa",
         "Baseline Visit (V1)",
         "Monitoring Completed",
         "2018-08-14",
         "DigitSymbol_120010.pdf",
         "Form A",
         "97",
         "Monitoring Completed"
        ],
        [
         "8",
         "120011",
         "Enrolled",
         "120011",
         "University of Iowa",
         "Baseline Visit (V1)",
         "Monitoring Completed",
         "2018-07-19",
         "Digit_Symbol_120011.pdf",
         "Form A",
         "70",
         "Monitoring Completed"
        ],
        [
         "9",
         "120012",
         "Enrolled",
         "120012",
         "University of Iowa",
         "Baseline Visit (V1)",
         "Monitoring Completed",
         "2018-09-05",
         "DigitSymbol_120012.pdf",
         "Form A",
         "78",
         "Monitoring Completed"
        ],
        [
         "10",
         "120013",
         "Enrolled",
         "120013",
         "University of Iowa",
         "Baseline Visit (V1)",
         "Monitoring Completed",
         "2018-08-07",
         "DigitSymbol_120013.pdf",
         "Form A",
         "82",
         "Monitoring Completed"
        ],
        [
         "11",
         "120014",
         "Enrolled",
         "120014",
         "University of Iowa",
         "Baseline Visit (V1)",
         "Monitoring Completed",
         "2018-07-30",
         "DigitSymbol_120014.pdf",
         "Form A",
         "88",
         "Monitoring Completed"
        ],
        [
         "12",
         "120015",
         "Enrolled",
         "120015",
         "University of Iowa",
         "Baseline Visit (V1)",
         "Monitoring Completed",
         "2018-08-24",
         "DigitSymbol_120015.pdf",
         "Form A",
         "63",
         "Monitoring Completed"
        ],
        [
         "13",
         "120017",
         "Enrolled",
         "120017",
         "University of Iowa",
         "Baseline Visit (V1)",
         "Monitoring Completed",
         "2018-09-04",
         "DigitSymbol_120017.pdf",
         "Form A",
         "70",
         "Monitoring Completed"
        ],
        [
         "14",
         "120018",
         "Enrolled",
         "120018",
         "University of Iowa",
         "Baseline Visit (V1)",
         "Monitoring Completed",
         "2018-08-08",
         "DigitSymbol_corrected_120018.pdf",
         "Form A",
         "90",
         "Monitoring Completed"
        ],
        [
         "15",
         "120019",
         "Enrolled",
         "120019",
         "University of Iowa",
         "Baseline Visit (V1)",
         "Monitoring Completed",
         "2018-09-18",
         "DigitSymbol_120019.pdf",
         "Form A",
         "82",
         "Monitoring Completed"
        ],
        [
         "16",
         "120020",
         "Enrolled",
         "120020",
         "University of Iowa",
         "Baseline Visit (V1)",
         "Monitoring Completed",
         "2018-09-06",
         "DigitSymbol_120020.pdf",
         "Form A",
         "57",
         "Monitoring Completed"
        ],
        [
         "17",
         "120021",
         "Enrolled",
         "120021",
         "University of Iowa",
         "Baseline Visit (V1)",
         "Monitoring Completed",
         "2018-09-06",
         "DigitSymbol_120021.pdf",
         "Form A",
         "86",
         "Monitoring Completed"
        ],
        [
         "18",
         "120023",
         "Enrolled",
         "120023",
         "University of Iowa",
         "Baseline Visit (V1)",
         "Monitoring Completed",
         "2018-10-29",
         "DigitSymbol_V1_120023.pdf",
         "Form A",
         "65",
         "Monitoring Completed"
        ],
        [
         "19",
         "120024",
         "Enrolled",
         "120024",
         "University of Iowa",
         "Baseline Visit (V1)",
         "Monitoring Completed",
         "2018-12-17",
         "Digit_Symbol_120024.pdf",
         "Form A",
         "64",
         "Monitoring Completed"
        ],
        [
         "20",
         "120025",
         "Enrolled",
         "120025",
         "University of Iowa",
         "Baseline Visit (V1)",
         "Monitoring Completed",
         "2018-11-02",
         "DigitSymbolCoding_V1_120025.pdf",
         "Form A",
         "84",
         "Monitoring Completed"
        ],
        [
         "21",
         "120026",
         "Enrolled",
         "120026",
         "University of Iowa",
         "Baseline Visit (V1)",
         "Monitoring Completed",
         "2018-11-14",
         "DigitSymbol_V1_120026.pdf",
         "Form A",
         "69",
         "Monitoring Completed"
        ],
        [
         "22",
         "120027",
         "Enrolled",
         "120027",
         "University of Iowa",
         "Baseline Visit (V1)",
         "Monitoring Completed",
         "2018-11-19",
         "DigitSymbol_V1_120027.pdf",
         "Form A",
         "77",
         "Monitoring Completed"
        ],
        [
         "23",
         "120028",
         "Enrolled",
         "120028",
         "University of Iowa",
         "Baseline Visit (V1)",
         "Monitoring Completed",
         "2019-02-13",
         "DigitSymbol_120028.pdf",
         "Form A",
         "49",
         "Monitoring Completed"
        ],
        [
         "24",
         "120029",
         "Enrolled",
         "120029",
         "University of Iowa",
         "Baseline Visit (V1)",
         "Monitoring Completed",
         "2019-01-16",
         "DigitSymbol_120029.pdf",
         "Form A",
         "54",
         "Monitoring Completed"
        ],
        [
         "25",
         "120030",
         "Enrolled",
         "120030",
         "University of Iowa",
         "Baseline Visit (V1)",
         "Monitoring Completed",
         "2019-01-18",
         "DigitSymbol_120030.pdf",
         "Form A",
         "57",
         "Monitoring Completed"
        ],
        [
         "26",
         "120031",
         "Enrolled",
         "120031",
         "University of Iowa",
         "Baseline Visit (V1)",
         "Monitoring Completed",
         "2019-02-06",
         "DigitSymbol_120031.pdf",
         "Form A",
         "75",
         "Monitoring Completed"
        ],
        [
         "27",
         "120032",
         "Enrolled",
         "120032",
         "University of Iowa",
         "Baseline Visit (V1)",
         "Monitoring Completed",
         "2019-02-14",
         "DigitSymbol_V1_120032.pdf",
         "Form A",
         "86",
         "Monitoring Completed"
        ],
        [
         "28",
         "120033",
         "Enrolled",
         "120033",
         "University of Iowa",
         "Baseline Visit (V1)",
         "Monitoring Completed",
         "2019-02-18",
         "DigitSymbol_V1_120033.pdf",
         "Form A",
         "78",
         "Monitoring Completed"
        ],
        [
         "29",
         "120034",
         "Enrolled",
         "120034",
         "University of Iowa",
         "Baseline Visit (V1)",
         "Monitoring Completed",
         "2019-02-19",
         "DigitSymbol_120034.pdf",
         "Form A",
         "69",
         "Monitoring Completed"
        ],
        [
         "30",
         "120035",
         "Enrolled",
         "120035",
         "University of Iowa",
         "Baseline Visit (V1)",
         "Monitoring Completed",
         "2019-01-25",
         "DigitSymbol_120039.pdf",
         "Form A",
         "83",
         "Monitoring Completed"
        ],
        [
         "31",
         "120036",
         "Enrolled",
         "120036",
         "University of Iowa",
         "Baseline Visit (V1)",
         "Monitoring Completed",
         "2019-02-11",
         "DigitSymbolupdated_120036.pdf",
         "Form A",
         "63",
         "Monitoring Completed"
        ],
        [
         "32",
         "120037",
         "Enrolled",
         "120037",
         "University of Iowa",
         "Baseline Visit (V1)",
         "Monitoring Completed",
         "2019-02-21",
         "DigitSymbol_120037.pdf",
         "Form A",
         "55",
         "Monitoring Completed"
        ],
        [
         "33",
         "120038",
         "Enrolled",
         "120038",
         "University of Iowa",
         "Baseline Visit (V1)",
         "Monitoring Completed",
         "2019-02-22",
         "DigitSymbol_120038.pdf",
         "Form A",
         "71",
         "Monitoring Completed"
        ],
        [
         "34",
         "120039",
         "Enrolled",
         "120039",
         "University of Iowa",
         "Baseline Visit (V1)",
         "Monitoring Completed",
         "2019-04-23",
         "DigitSymbol_V1_120039.pdf",
         "Form A",
         "63",
         "Monitoring Completed"
        ],
        [
         "35",
         "120040",
         "Enrolled",
         "120040",
         "University of Iowa",
         "Baseline Visit (V1)",
         "Monitoring Completed",
         "2019-03-12",
         "DigitSymbol_120040.pdf",
         "Form A",
         "63",
         "Monitoring Completed"
        ],
        [
         "36",
         "120041",
         "Enrolled",
         "120041",
         "University of Iowa",
         "Baseline Visit (V1)",
         "Monitoring Completed",
         "2019-02-26",
         "DigitSymbol_120041.pdf",
         "Form A",
         "86",
         "Monitoring Completed"
        ],
        [
         "37",
         "120042",
         "Enrolled",
         "120042",
         "University of Iowa",
         "Baseline Visit (V1)",
         "Monitoring Completed",
         "2019-04-04",
         "DigitSymbol_120042.pdf",
         "Form A",
         "59",
         "Monitoring Completed"
        ],
        [
         "38",
         "120043",
         "Enrolled",
         "120043",
         "University of Iowa",
         "Baseline Visit (V1)",
         "Monitoring Completed",
         "2019-04-02",
         "DigitSymbol_V1_120043.pdf",
         "Form A",
         "56",
         "Monitoring Completed"
        ],
        [
         "39",
         "120044",
         "Enrolled",
         "120044",
         "University of Iowa",
         "Baseline Visit (V1)",
         "Monitoring Completed",
         "2019-05-08",
         "DigitSymbol_V1_120044.pdf",
         "Form A",
         "72",
         "Monitoring Completed"
        ],
        [
         "40",
         "120045",
         "Enrolled",
         "120045",
         "University of Iowa",
         "Baseline Visit (V1)",
         "Monitoring Completed",
         "2019-04-24",
         "DigitSymbol_120045.pdf",
         "Form A",
         "65",
         "Monitoring Completed"
        ],
        [
         "41",
         "120047",
         "Enrolled",
         "120047",
         "University of Iowa",
         "Baseline Visit (V1)",
         "Monitoring Completed",
         "2019-04-22",
         "DigitSymbol_120047.pdf",
         "Form A",
         "77",
         "Monitoring Completed"
        ],
        [
         "42",
         "120049",
         "Enrolled",
         "120049",
         "University of Iowa",
         "Baseline Visit (V1)",
         "Monitoring Completed",
         "2019-04-29",
         "updatedDigitSymbol_V1_120049.pdf",
         "Form A",
         "72",
         "Monitoring Completed"
        ],
        [
         "43",
         "120050",
         "Enrolled",
         "120050",
         "University of Iowa",
         "Baseline Visit (V1)",
         "Monitoring Completed",
         "2019-05-03",
         "DigitSymbol_120050.pdf",
         "Form A",
         "55",
         "Monitoring Completed"
        ],
        [
         "44",
         "120052",
         "Enrolled",
         "120052",
         "University of Iowa",
         "Baseline Visit (V1)",
         "Monitoring Completed",
         "2019-05-09",
         "DigitSymbol_120052.pdf",
         "Form A",
         "77",
         "Monitoring Completed"
        ],
        [
         "45",
         "120053",
         "Enrolled",
         "120053",
         "University of Iowa",
         "Baseline Visit (V1)",
         "Monitoring Completed",
         "2019-05-07",
         "DigitSymbol_V1_120053.pdf",
         "Form A",
         "59",
         "Monitoring Completed"
        ],
        [
         "46",
         "120054",
         "Enrolled",
         "120054",
         "University of Iowa",
         "Baseline Visit (V1)",
         "Monitoring Completed",
         "2019-05-20",
         "DigitSymbol_V1_120054.pdf",
         "Form A",
         "93",
         "Monitoring Completed"
        ],
        [
         "47",
         "120055",
         "Enrolled",
         "120055",
         "University of Iowa",
         "Baseline Visit (V1)",
         "Monitoring Completed",
         "2019-05-28",
         "DigitSymbol_V1_120055.pdf",
         "Form A",
         "66",
         "Monitoring Completed"
        ],
        [
         "48",
         "120056",
         "Enrolled",
         "120056",
         "University of Iowa",
         "Baseline Visit (V1)",
         "Monitoring Completed",
         "2019-07-19",
         "DigitSymbol_V1_120056.pdf",
         "Form A",
         "74",
         "Monitoring Completed"
        ],
        [
         "49",
         "120057",
         "Enrolled",
         "120057",
         "University of Iowa",
         "Baseline Visit (V1)",
         "Monitoring Completed",
         "2019-07-15",
         "DigitSymbol_V1_120057.pdf",
         "Form A",
         "80",
         "Monitoring Completed"
        ]
       ],
       "shape": {
        "columns": 11,
        "rows": 61
       }
      },
      "text/html": [
       "<div>\n",
       "<style scoped>\n",
       "    .dataframe tbody tr th:only-of-type {\n",
       "        vertical-align: middle;\n",
       "    }\n",
       "\n",
       "    .dataframe tbody tr th {\n",
       "        vertical-align: top;\n",
       "    }\n",
       "\n",
       "    .dataframe thead th {\n",
       "        text-align: right;\n",
       "    }\n",
       "</style>\n",
       "<table border=\"1\" class=\"dataframe\">\n",
       "  <thead>\n",
       "    <tr style=\"text-align: right;\">\n",
       "      <th></th>\n",
       "      <th>Study Subject ID</th>\n",
       "      <th>Subject Status</th>\n",
       "      <th>Subject Screening Number</th>\n",
       "      <th>Site Name</th>\n",
       "      <th>Event Name(Occurrence)</th>\n",
       "      <th>Event Status</th>\n",
       "      <th>Date of Assessment Visit:</th>\n",
       "      <th>Digit Symbol Coding PDF:</th>\n",
       "      <th>Form Version:</th>\n",
       "      <th>Total Correct:</th>\n",
       "      <th>Digit Symbol Coding_complete</th>\n",
       "    </tr>\n",
       "  </thead>\n",
       "  <tbody>\n",
       "    <tr>\n",
       "      <th>0</th>\n",
       "      <td>120001</td>\n",
       "      <td>Enrolled</td>\n",
       "      <td>120001</td>\n",
       "      <td>University of Iowa</td>\n",
       "      <td>Baseline Visit (V1)</td>\n",
       "      <td>Monitoring Completed</td>\n",
       "      <td>2018-06-28</td>\n",
       "      <td>DIgit_Symbol_120001.pdf</td>\n",
       "      <td>Form A</td>\n",
       "      <td>75</td>\n",
       "      <td>Monitoring Completed</td>\n",
       "    </tr>\n",
       "    <tr>\n",
       "      <th>1</th>\n",
       "      <td>120002</td>\n",
       "      <td>Enrolled</td>\n",
       "      <td>120002</td>\n",
       "      <td>University of Iowa</td>\n",
       "      <td>Baseline Visit (V1)</td>\n",
       "      <td>Monitoring Completed</td>\n",
       "      <td>2018-07-06</td>\n",
       "      <td>Digit_Symbol_120002.pdf</td>\n",
       "      <td>Form A</td>\n",
       "      <td>76</td>\n",
       "      <td>Monitoring Completed</td>\n",
       "    </tr>\n",
       "    <tr>\n",
       "      <th>2</th>\n",
       "      <td>120003</td>\n",
       "      <td>Enrolled</td>\n",
       "      <td>120003</td>\n",
       "      <td>University of Iowa</td>\n",
       "      <td>Baseline Visit (V1)</td>\n",
       "      <td>Monitoring Completed</td>\n",
       "      <td>2018-07-05</td>\n",
       "      <td>DigitSymbol_correction_120003.pdf</td>\n",
       "      <td>Form A</td>\n",
       "      <td>104</td>\n",
       "      <td>Monitoring Completed</td>\n",
       "    </tr>\n",
       "    <tr>\n",
       "      <th>3</th>\n",
       "      <td>120004</td>\n",
       "      <td>Enrolled</td>\n",
       "      <td>120004</td>\n",
       "      <td>University of Iowa</td>\n",
       "      <td>Baseline Visit (V1)</td>\n",
       "      <td>Monitoring Completed</td>\n",
       "      <td>2018-07-09</td>\n",
       "      <td>DigitSymbol_120004.pdf</td>\n",
       "      <td>Form A</td>\n",
       "      <td>76</td>\n",
       "      <td>Monitoring Completed</td>\n",
       "    </tr>\n",
       "    <tr>\n",
       "      <th>4</th>\n",
       "      <td>120005</td>\n",
       "      <td>Enrolled</td>\n",
       "      <td>120005</td>\n",
       "      <td>University of Iowa</td>\n",
       "      <td>Baseline Visit (V1)</td>\n",
       "      <td>Monitoring Completed</td>\n",
       "      <td>2018-07-25</td>\n",
       "      <td>DigitSymbol_120005.pdf</td>\n",
       "      <td>Form A</td>\n",
       "      <td>75</td>\n",
       "      <td>Monitoring Completed</td>\n",
       "    </tr>\n",
       "    <tr>\n",
       "      <th>...</th>\n",
       "      <td>...</td>\n",
       "      <td>...</td>\n",
       "      <td>...</td>\n",
       "      <td>...</td>\n",
       "      <td>...</td>\n",
       "      <td>...</td>\n",
       "      <td>...</td>\n",
       "      <td>...</td>\n",
       "      <td>...</td>\n",
       "      <td>...</td>\n",
       "      <td>...</td>\n",
       "    </tr>\n",
       "    <tr>\n",
       "      <th>56</th>\n",
       "      <td>120065</td>\n",
       "      <td>Enrolled</td>\n",
       "      <td>120065</td>\n",
       "      <td>University of Iowa</td>\n",
       "      <td>Baseline Visit (V1)</td>\n",
       "      <td>Monitoring Completed</td>\n",
       "      <td>2019-08-28</td>\n",
       "      <td>120065_DSC_Corrected.pdf</td>\n",
       "      <td>Form A</td>\n",
       "      <td>92</td>\n",
       "      <td>Monitoring Completed</td>\n",
       "    </tr>\n",
       "    <tr>\n",
       "      <th>57</th>\n",
       "      <td>120068</td>\n",
       "      <td>Enrolled</td>\n",
       "      <td>120068</td>\n",
       "      <td>University of Iowa</td>\n",
       "      <td>Baseline Visit (V1)</td>\n",
       "      <td>Monitoring Completed</td>\n",
       "      <td>2019-09-03</td>\n",
       "      <td>DigitSymbol_V1_120068.pdf</td>\n",
       "      <td>Form A</td>\n",
       "      <td>71</td>\n",
       "      <td>Monitoring Completed</td>\n",
       "    </tr>\n",
       "    <tr>\n",
       "      <th>58</th>\n",
       "      <td>120069</td>\n",
       "      <td>Enrolled</td>\n",
       "      <td>120069</td>\n",
       "      <td>University of Iowa</td>\n",
       "      <td>Baseline Visit (V1)</td>\n",
       "      <td>Monitoring Completed</td>\n",
       "      <td>2019-09-04</td>\n",
       "      <td>DigitSymbol_V1_160069.pdf</td>\n",
       "      <td>Form A</td>\n",
       "      <td>57</td>\n",
       "      <td>Monitoring Completed</td>\n",
       "    </tr>\n",
       "    <tr>\n",
       "      <th>59</th>\n",
       "      <td>120073</td>\n",
       "      <td>Enrolled</td>\n",
       "      <td>120073</td>\n",
       "      <td>University of Iowa</td>\n",
       "      <td>Baseline Visit (V1)</td>\n",
       "      <td>Monitoring Completed</td>\n",
       "      <td>2019-12-09</td>\n",
       "      <td>DigitSymbol_V1_120073.pdf</td>\n",
       "      <td>Form A</td>\n",
       "      <td>98</td>\n",
       "      <td>Monitoring Completed</td>\n",
       "    </tr>\n",
       "    <tr>\n",
       "      <th>60</th>\n",
       "      <td>120075</td>\n",
       "      <td>Enrolled</td>\n",
       "      <td>120075</td>\n",
       "      <td>University of Iowa</td>\n",
       "      <td>Baseline Visit (V1)</td>\n",
       "      <td>Monitoring Completed</td>\n",
       "      <td>2019-11-15</td>\n",
       "      <td>DigitSymbol_V1_120075.pdf</td>\n",
       "      <td>Form A</td>\n",
       "      <td>86</td>\n",
       "      <td>Monitoring Completed</td>\n",
       "    </tr>\n",
       "  </tbody>\n",
       "</table>\n",
       "<p>61 rows × 11 columns</p>\n",
       "</div>"
      ],
      "text/plain": [
       "    Study Subject ID Subject Status  Subject Screening Number  \\\n",
       "0             120001       Enrolled                    120001   \n",
       "1             120002       Enrolled                    120002   \n",
       "2             120003       Enrolled                    120003   \n",
       "3             120004       Enrolled                    120004   \n",
       "4             120005       Enrolled                    120005   \n",
       "..               ...            ...                       ...   \n",
       "56            120065       Enrolled                    120065   \n",
       "57            120068       Enrolled                    120068   \n",
       "58            120069       Enrolled                    120069   \n",
       "59            120073       Enrolled                    120073   \n",
       "60            120075       Enrolled                    120075   \n",
       "\n",
       "             Site Name Event Name(Occurrence)          Event Status  \\\n",
       "0   University of Iowa    Baseline Visit (V1)  Monitoring Completed   \n",
       "1   University of Iowa    Baseline Visit (V1)  Monitoring Completed   \n",
       "2   University of Iowa    Baseline Visit (V1)  Monitoring Completed   \n",
       "3   University of Iowa    Baseline Visit (V1)  Monitoring Completed   \n",
       "4   University of Iowa    Baseline Visit (V1)  Monitoring Completed   \n",
       "..                 ...                    ...                   ...   \n",
       "56  University of Iowa    Baseline Visit (V1)  Monitoring Completed   \n",
       "57  University of Iowa    Baseline Visit (V1)  Monitoring Completed   \n",
       "58  University of Iowa    Baseline Visit (V1)  Monitoring Completed   \n",
       "59  University of Iowa    Baseline Visit (V1)  Monitoring Completed   \n",
       "60  University of Iowa    Baseline Visit (V1)  Monitoring Completed   \n",
       "\n",
       "   Date of Assessment Visit:           Digit Symbol Coding PDF: Form Version:  \\\n",
       "0                 2018-06-28            DIgit_Symbol_120001.pdf        Form A   \n",
       "1                 2018-07-06            Digit_Symbol_120002.pdf        Form A   \n",
       "2                 2018-07-05  DigitSymbol_correction_120003.pdf        Form A   \n",
       "3                 2018-07-09             DigitSymbol_120004.pdf        Form A   \n",
       "4                 2018-07-25             DigitSymbol_120005.pdf        Form A   \n",
       "..                       ...                                ...           ...   \n",
       "56                2019-08-28           120065_DSC_Corrected.pdf        Form A   \n",
       "57                2019-09-03          DigitSymbol_V1_120068.pdf        Form A   \n",
       "58                2019-09-04          DigitSymbol_V1_160069.pdf        Form A   \n",
       "59                2019-12-09          DigitSymbol_V1_120073.pdf        Form A   \n",
       "60                2019-11-15          DigitSymbol_V1_120075.pdf        Form A   \n",
       "\n",
       "    Total Correct: Digit Symbol Coding_complete  \n",
       "0               75         Monitoring Completed  \n",
       "1               76         Monitoring Completed  \n",
       "2              104         Monitoring Completed  \n",
       "3               76         Monitoring Completed  \n",
       "4               75         Monitoring Completed  \n",
       "..             ...                          ...  \n",
       "56              92         Monitoring Completed  \n",
       "57              71         Monitoring Completed  \n",
       "58              57         Monitoring Completed  \n",
       "59              98         Monitoring Completed  \n",
       "60              86         Monitoring Completed  \n",
       "\n",
       "[61 rows x 11 columns]"
      ]
     },
     "execution_count": 28,
     "metadata": {},
     "output_type": "execute_result"
    }
   ],
   "source": [
    "b_df = b_df[b_df['Study Subject ID']<120076]\n",
    "b_df"
   ]
  },
  {
   "cell_type": "code",
   "execution_count": 29,
   "metadata": {},
   "outputs": [
    {
     "name": "stderr",
     "output_type": "stream",
     "text": [
      "/var/folders/1w/l9hx8l952r57k_qmjhw7qc500000gn/T/ipykernel_97996/3389962763.py:1: SettingWithCopyWarning: \n",
      "A value is trying to be set on a copy of a slice from a DataFrame.\n",
      "Try using .loc[row_indexer,col_indexer] = value instead\n",
      "\n",
      "See the caveats in the documentation: https://pandas.pydata.org/pandas-docs/stable/user_guide/indexing.html#returning-a-view-versus-a-copy\n",
      "  b_df['Study Subject ID'] = 'b-' + b_df['Study Subject ID'].astype(str)\n"
     ]
    },
    {
     "data": {
      "application/vnd.microsoft.datawrangler.viewer.v0+json": {
       "columns": [
        {
         "name": "index",
         "rawType": "int64",
         "type": "integer"
        },
        {
         "name": "Study Subject ID",
         "rawType": "object",
         "type": "string"
        },
        {
         "name": "Total Correct:",
         "rawType": "int64",
         "type": "integer"
        }
       ],
       "conversionMethod": "pd.DataFrame",
       "ref": "45c41c9c-5f70-4ae7-b459-3dbcbf4026d7",
       "rows": [
        [
         "0",
         "b-120001",
         "75"
        ],
        [
         "1",
         "b-120002",
         "76"
        ],
        [
         "2",
         "b-120003",
         "104"
        ],
        [
         "3",
         "b-120004",
         "76"
        ],
        [
         "4",
         "b-120005",
         "75"
        ],
        [
         "5",
         "b-120006",
         "45"
        ],
        [
         "6",
         "b-120008",
         "45"
        ],
        [
         "7",
         "b-120010",
         "97"
        ],
        [
         "8",
         "b-120011",
         "70"
        ],
        [
         "9",
         "b-120012",
         "78"
        ],
        [
         "10",
         "b-120013",
         "82"
        ],
        [
         "11",
         "b-120014",
         "88"
        ],
        [
         "12",
         "b-120015",
         "63"
        ],
        [
         "13",
         "b-120017",
         "70"
        ],
        [
         "14",
         "b-120018",
         "90"
        ],
        [
         "15",
         "b-120019",
         "82"
        ],
        [
         "16",
         "b-120020",
         "57"
        ],
        [
         "17",
         "b-120021",
         "86"
        ],
        [
         "18",
         "b-120023",
         "65"
        ],
        [
         "19",
         "b-120024",
         "64"
        ],
        [
         "20",
         "b-120025",
         "84"
        ],
        [
         "21",
         "b-120026",
         "69"
        ],
        [
         "22",
         "b-120027",
         "77"
        ],
        [
         "23",
         "b-120028",
         "49"
        ],
        [
         "24",
         "b-120029",
         "54"
        ],
        [
         "25",
         "b-120030",
         "57"
        ],
        [
         "26",
         "b-120031",
         "75"
        ],
        [
         "27",
         "b-120032",
         "86"
        ],
        [
         "28",
         "b-120033",
         "78"
        ],
        [
         "29",
         "b-120034",
         "69"
        ],
        [
         "30",
         "b-120035",
         "83"
        ],
        [
         "31",
         "b-120036",
         "63"
        ],
        [
         "32",
         "b-120037",
         "55"
        ],
        [
         "33",
         "b-120038",
         "71"
        ],
        [
         "34",
         "b-120039",
         "63"
        ],
        [
         "35",
         "b-120040",
         "63"
        ],
        [
         "36",
         "b-120041",
         "86"
        ],
        [
         "37",
         "b-120042",
         "59"
        ],
        [
         "38",
         "b-120043",
         "56"
        ],
        [
         "39",
         "b-120044",
         "72"
        ],
        [
         "40",
         "b-120045",
         "65"
        ],
        [
         "41",
         "b-120047",
         "77"
        ],
        [
         "42",
         "b-120049",
         "72"
        ],
        [
         "43",
         "b-120050",
         "55"
        ],
        [
         "44",
         "b-120052",
         "77"
        ],
        [
         "45",
         "b-120053",
         "59"
        ],
        [
         "46",
         "b-120054",
         "93"
        ],
        [
         "47",
         "b-120055",
         "66"
        ],
        [
         "48",
         "b-120056",
         "74"
        ],
        [
         "49",
         "b-120057",
         "80"
        ]
       ],
       "shape": {
        "columns": 2,
        "rows": 61
       }
      },
      "text/html": [
       "<div>\n",
       "<style scoped>\n",
       "    .dataframe tbody tr th:only-of-type {\n",
       "        vertical-align: middle;\n",
       "    }\n",
       "\n",
       "    .dataframe tbody tr th {\n",
       "        vertical-align: top;\n",
       "    }\n",
       "\n",
       "    .dataframe thead th {\n",
       "        text-align: right;\n",
       "    }\n",
       "</style>\n",
       "<table border=\"1\" class=\"dataframe\">\n",
       "  <thead>\n",
       "    <tr style=\"text-align: right;\">\n",
       "      <th></th>\n",
       "      <th>Study Subject ID</th>\n",
       "      <th>Total Correct:</th>\n",
       "    </tr>\n",
       "  </thead>\n",
       "  <tbody>\n",
       "    <tr>\n",
       "      <th>0</th>\n",
       "      <td>b-120001</td>\n",
       "      <td>75</td>\n",
       "    </tr>\n",
       "    <tr>\n",
       "      <th>1</th>\n",
       "      <td>b-120002</td>\n",
       "      <td>76</td>\n",
       "    </tr>\n",
       "    <tr>\n",
       "      <th>2</th>\n",
       "      <td>b-120003</td>\n",
       "      <td>104</td>\n",
       "    </tr>\n",
       "    <tr>\n",
       "      <th>3</th>\n",
       "      <td>b-120004</td>\n",
       "      <td>76</td>\n",
       "    </tr>\n",
       "    <tr>\n",
       "      <th>4</th>\n",
       "      <td>b-120005</td>\n",
       "      <td>75</td>\n",
       "    </tr>\n",
       "    <tr>\n",
       "      <th>...</th>\n",
       "      <td>...</td>\n",
       "      <td>...</td>\n",
       "    </tr>\n",
       "    <tr>\n",
       "      <th>56</th>\n",
       "      <td>b-120065</td>\n",
       "      <td>92</td>\n",
       "    </tr>\n",
       "    <tr>\n",
       "      <th>57</th>\n",
       "      <td>b-120068</td>\n",
       "      <td>71</td>\n",
       "    </tr>\n",
       "    <tr>\n",
       "      <th>58</th>\n",
       "      <td>b-120069</td>\n",
       "      <td>57</td>\n",
       "    </tr>\n",
       "    <tr>\n",
       "      <th>59</th>\n",
       "      <td>b-120073</td>\n",
       "      <td>98</td>\n",
       "    </tr>\n",
       "    <tr>\n",
       "      <th>60</th>\n",
       "      <td>b-120075</td>\n",
       "      <td>86</td>\n",
       "    </tr>\n",
       "  </tbody>\n",
       "</table>\n",
       "<p>61 rows × 2 columns</p>\n",
       "</div>"
      ],
      "text/plain": [
       "   Study Subject ID  Total Correct:\n",
       "0          b-120001              75\n",
       "1          b-120002              76\n",
       "2          b-120003             104\n",
       "3          b-120004              76\n",
       "4          b-120005              75\n",
       "..              ...             ...\n",
       "56         b-120065              92\n",
       "57         b-120068              71\n",
       "58         b-120069              57\n",
       "59         b-120073              98\n",
       "60         b-120075              86\n",
       "\n",
       "[61 rows x 2 columns]"
      ]
     },
     "execution_count": 29,
     "metadata": {},
     "output_type": "execute_result"
    }
   ],
   "source": [
    "b_df['Study Subject ID'] = 'b-' + b_df['Study Subject ID'].astype(str)\n",
    "b_df = b_df[['Study Subject ID', 'Total Correct:']]\n",
    "b_df"
   ]
  },
  {
   "cell_type": "code",
   "execution_count": 31,
   "metadata": {},
   "outputs": [
    {
     "name": "stderr",
     "output_type": "stream",
     "text": [
      "/var/folders/1w/l9hx8l952r57k_qmjhw7qc500000gn/T/ipykernel_97996/776463728.py:1: SettingWithCopyWarning: \n",
      "A value is trying to be set on a copy of a slice from a DataFrame\n",
      "\n",
      "See the caveats in the documentation: https://pandas.pydata.org/pandas-docs/stable/user_guide/indexing.html#returning-a-view-versus-a-copy\n",
      "  b_df.rename(columns={'Study Subject ID': 'id', 'Total Correct:': 'score'}, inplace=True)\n"
     ]
    },
    {
     "data": {
      "application/vnd.microsoft.datawrangler.viewer.v0+json": {
       "columns": [
        {
         "name": "index",
         "rawType": "int64",
         "type": "integer"
        },
        {
         "name": "id",
         "rawType": "object",
         "type": "string"
        },
        {
         "name": "score",
         "rawType": "int64",
         "type": "integer"
        }
       ],
       "conversionMethod": "pd.DataFrame",
       "ref": "84c00374-e2a4-476d-b56c-b2a788836750",
       "rows": [
        [
         "0",
         "b-120001",
         "75"
        ],
        [
         "1",
         "b-120002",
         "76"
        ],
        [
         "2",
         "b-120003",
         "104"
        ],
        [
         "3",
         "b-120004",
         "76"
        ],
        [
         "4",
         "b-120005",
         "75"
        ],
        [
         "5",
         "b-120006",
         "45"
        ],
        [
         "6",
         "b-120008",
         "45"
        ],
        [
         "7",
         "b-120010",
         "97"
        ],
        [
         "8",
         "b-120011",
         "70"
        ],
        [
         "9",
         "b-120012",
         "78"
        ],
        [
         "10",
         "b-120013",
         "82"
        ],
        [
         "11",
         "b-120014",
         "88"
        ],
        [
         "12",
         "b-120015",
         "63"
        ],
        [
         "13",
         "b-120017",
         "70"
        ],
        [
         "14",
         "b-120018",
         "90"
        ],
        [
         "15",
         "b-120019",
         "82"
        ],
        [
         "16",
         "b-120020",
         "57"
        ],
        [
         "17",
         "b-120021",
         "86"
        ],
        [
         "18",
         "b-120023",
         "65"
        ],
        [
         "19",
         "b-120024",
         "64"
        ],
        [
         "20",
         "b-120025",
         "84"
        ],
        [
         "21",
         "b-120026",
         "69"
        ],
        [
         "22",
         "b-120027",
         "77"
        ],
        [
         "23",
         "b-120028",
         "49"
        ],
        [
         "24",
         "b-120029",
         "54"
        ],
        [
         "25",
         "b-120030",
         "57"
        ],
        [
         "26",
         "b-120031",
         "75"
        ],
        [
         "27",
         "b-120032",
         "86"
        ],
        [
         "28",
         "b-120033",
         "78"
        ],
        [
         "29",
         "b-120034",
         "69"
        ],
        [
         "30",
         "b-120035",
         "83"
        ],
        [
         "31",
         "b-120036",
         "63"
        ],
        [
         "32",
         "b-120037",
         "55"
        ],
        [
         "33",
         "b-120038",
         "71"
        ],
        [
         "34",
         "b-120039",
         "63"
        ],
        [
         "35",
         "b-120040",
         "63"
        ],
        [
         "36",
         "b-120041",
         "86"
        ],
        [
         "37",
         "b-120042",
         "59"
        ],
        [
         "38",
         "b-120043",
         "56"
        ],
        [
         "39",
         "b-120044",
         "72"
        ],
        [
         "40",
         "b-120045",
         "65"
        ],
        [
         "41",
         "b-120047",
         "77"
        ],
        [
         "42",
         "b-120049",
         "72"
        ],
        [
         "43",
         "b-120050",
         "55"
        ],
        [
         "44",
         "b-120052",
         "77"
        ],
        [
         "45",
         "b-120053",
         "59"
        ],
        [
         "46",
         "b-120054",
         "93"
        ],
        [
         "47",
         "b-120055",
         "66"
        ],
        [
         "48",
         "b-120056",
         "74"
        ],
        [
         "49",
         "b-120057",
         "80"
        ]
       ],
       "shape": {
        "columns": 2,
        "rows": 61
       }
      },
      "text/html": [
       "<div>\n",
       "<style scoped>\n",
       "    .dataframe tbody tr th:only-of-type {\n",
       "        vertical-align: middle;\n",
       "    }\n",
       "\n",
       "    .dataframe tbody tr th {\n",
       "        vertical-align: top;\n",
       "    }\n",
       "\n",
       "    .dataframe thead th {\n",
       "        text-align: right;\n",
       "    }\n",
       "</style>\n",
       "<table border=\"1\" class=\"dataframe\">\n",
       "  <thead>\n",
       "    <tr style=\"text-align: right;\">\n",
       "      <th></th>\n",
       "      <th>id</th>\n",
       "      <th>score</th>\n",
       "    </tr>\n",
       "  </thead>\n",
       "  <tbody>\n",
       "    <tr>\n",
       "      <th>0</th>\n",
       "      <td>b-120001</td>\n",
       "      <td>75</td>\n",
       "    </tr>\n",
       "    <tr>\n",
       "      <th>1</th>\n",
       "      <td>b-120002</td>\n",
       "      <td>76</td>\n",
       "    </tr>\n",
       "    <tr>\n",
       "      <th>2</th>\n",
       "      <td>b-120003</td>\n",
       "      <td>104</td>\n",
       "    </tr>\n",
       "    <tr>\n",
       "      <th>3</th>\n",
       "      <td>b-120004</td>\n",
       "      <td>76</td>\n",
       "    </tr>\n",
       "    <tr>\n",
       "      <th>4</th>\n",
       "      <td>b-120005</td>\n",
       "      <td>75</td>\n",
       "    </tr>\n",
       "    <tr>\n",
       "      <th>...</th>\n",
       "      <td>...</td>\n",
       "      <td>...</td>\n",
       "    </tr>\n",
       "    <tr>\n",
       "      <th>56</th>\n",
       "      <td>b-120065</td>\n",
       "      <td>92</td>\n",
       "    </tr>\n",
       "    <tr>\n",
       "      <th>57</th>\n",
       "      <td>b-120068</td>\n",
       "      <td>71</td>\n",
       "    </tr>\n",
       "    <tr>\n",
       "      <th>58</th>\n",
       "      <td>b-120069</td>\n",
       "      <td>57</td>\n",
       "    </tr>\n",
       "    <tr>\n",
       "      <th>59</th>\n",
       "      <td>b-120073</td>\n",
       "      <td>98</td>\n",
       "    </tr>\n",
       "    <tr>\n",
       "      <th>60</th>\n",
       "      <td>b-120075</td>\n",
       "      <td>86</td>\n",
       "    </tr>\n",
       "  </tbody>\n",
       "</table>\n",
       "<p>61 rows × 2 columns</p>\n",
       "</div>"
      ],
      "text/plain": [
       "          id  score\n",
       "0   b-120001     75\n",
       "1   b-120002     76\n",
       "2   b-120003    104\n",
       "3   b-120004     76\n",
       "4   b-120005     75\n",
       "..       ...    ...\n",
       "56  b-120065     92\n",
       "57  b-120068     71\n",
       "58  b-120069     57\n",
       "59  b-120073     98\n",
       "60  b-120075     86\n",
       "\n",
       "[61 rows x 2 columns]"
      ]
     },
     "execution_count": 31,
     "metadata": {},
     "output_type": "execute_result"
    }
   ],
   "source": [
    "b_df.rename(columns={'Study Subject ID': 'id', 'Total Correct:': 'score'}, inplace=True)\n",
    "b_df"
   ]
  },
  {
   "cell_type": "code",
   "execution_count": 32,
   "metadata": {},
   "outputs": [
    {
     "data": {
      "application/vnd.microsoft.datawrangler.viewer.v0+json": {
       "columns": [
        {
         "name": "index",
         "rawType": "int64",
         "type": "integer"
        },
        {
         "name": "id",
         "rawType": "object",
         "type": "string"
        },
        {
         "name": "score",
         "rawType": "float64",
         "type": "float"
        }
       ],
       "conversionMethod": "pd.DataFrame",
       "ref": "d9368bd4-af3d-4622-9c49-0ebea7661e21",
       "rows": [
        [
         "156",
         "e-2002",
         "79.0"
        ],
        [
         "163",
         "e-2009",
         "87.0"
        ],
        [
         "174",
         "e-2020",
         "53.0"
        ],
        [
         "195",
         "e-2041",
         "68.0"
        ],
        [
         "196",
         "e-2042",
         "71.0"
        ],
        [
         "207",
         "e-2053",
         "63.0"
        ],
        [
         "210",
         "e-2056",
         "53.0"
        ],
        [
         "211",
         "e-2057",
         "78.0"
        ],
        [
         "218",
         "e-2064",
         "65.0"
        ],
        [
         "219",
         "e-2065",
         "84.0"
        ],
        [
         "239",
         "e-2085",
         "66.0"
        ],
        [
         "254",
         "e-2100",
         "55.0"
        ],
        [
         "257",
         "e-2103",
         "49.0"
        ],
        [
         "259",
         "e-2105",
         "85.0"
        ],
        [
         "260",
         "e-2106",
         "79.0"
        ],
        [
         "266",
         "e-2112",
         "69.0"
        ],
        [
         "272",
         "e-2118",
         "39.0"
        ],
        [
         "274",
         "e-2120",
         "69.0"
        ],
        [
         "275",
         "e-2121",
         "64.0"
        ],
        [
         "276",
         "e-2122",
         "67.0"
        ],
        [
         "279",
         "e-2125",
         "83.0"
        ],
        [
         "281",
         "e-2127",
         "87.0"
        ],
        [
         "283",
         "e-2129",
         "87.0"
        ],
        [
         "285",
         "e-2131",
         "72.0"
        ],
        [
         "291",
         "e-2137",
         "69.0"
        ],
        [
         "299",
         "e-2145",
         "77.0"
        ],
        [
         "302",
         "e-2148",
         "62.0"
        ],
        [
         "303",
         "e-2149",
         "68.0"
        ],
        [
         "310",
         "e-2156",
         "70.0"
        ],
        [
         "321",
         "e-2167",
         "77.0"
        ],
        [
         "329",
         "e-2175",
         "56.0"
        ],
        [
         "339",
         "e-2185",
         "69.0"
        ],
        [
         "340",
         "e-2186",
         "75.0"
        ],
        [
         "351",
         "e-2197",
         "41.0"
        ],
        [
         "353",
         "e-2199",
         "59.0"
        ],
        [
         "355",
         "e-2201",
         "73.0"
        ],
        [
         "360",
         "e-2206",
         "80.0"
        ],
        [
         "365",
         "e-2211",
         "79.0"
        ],
        [
         "372",
         "e-2218",
         "64.0"
        ],
        [
         "373",
         "e-2219",
         "94.0"
        ],
        [
         "375",
         "e-2221",
         "61.0"
        ],
        [
         "378",
         "e-2224",
         "53.0"
        ],
        [
         "382",
         "e-2228",
         "75.0"
        ],
        [
         "395",
         "e-2241",
         "69.0"
        ],
        [
         "396",
         "e-2242",
         "73.0"
        ],
        [
         "413",
         "e-2259",
         "65.0"
        ],
        [
         "427",
         "e-2273",
         "57.0"
        ],
        [
         "431",
         "e-2277",
         "80.0"
        ],
        [
         "441",
         "e-2287",
         "73.0"
        ],
        [
         "449",
         "e-2295",
         "73.0"
        ]
       ],
       "shape": {
        "columns": 2,
        "rows": 214
       }
      },
      "text/html": [
       "<div>\n",
       "<style scoped>\n",
       "    .dataframe tbody tr th:only-of-type {\n",
       "        vertical-align: middle;\n",
       "    }\n",
       "\n",
       "    .dataframe tbody tr th {\n",
       "        vertical-align: top;\n",
       "    }\n",
       "\n",
       "    .dataframe thead th {\n",
       "        text-align: right;\n",
       "    }\n",
       "</style>\n",
       "<table border=\"1\" class=\"dataframe\">\n",
       "  <thead>\n",
       "    <tr style=\"text-align: right;\">\n",
       "      <th></th>\n",
       "      <th>id</th>\n",
       "      <th>score</th>\n",
       "    </tr>\n",
       "  </thead>\n",
       "  <tbody>\n",
       "    <tr>\n",
       "      <th>156</th>\n",
       "      <td>e-2002</td>\n",
       "      <td>79.0</td>\n",
       "    </tr>\n",
       "    <tr>\n",
       "      <th>163</th>\n",
       "      <td>e-2009</td>\n",
       "      <td>87.0</td>\n",
       "    </tr>\n",
       "    <tr>\n",
       "      <th>174</th>\n",
       "      <td>e-2020</td>\n",
       "      <td>53.0</td>\n",
       "    </tr>\n",
       "    <tr>\n",
       "      <th>195</th>\n",
       "      <td>e-2041</td>\n",
       "      <td>68.0</td>\n",
       "    </tr>\n",
       "    <tr>\n",
       "      <th>196</th>\n",
       "      <td>e-2042</td>\n",
       "      <td>71.0</td>\n",
       "    </tr>\n",
       "    <tr>\n",
       "      <th>...</th>\n",
       "      <td>...</td>\n",
       "      <td>...</td>\n",
       "    </tr>\n",
       "    <tr>\n",
       "      <th>1135</th>\n",
       "      <td>p-203</td>\n",
       "      <td>51.0</td>\n",
       "    </tr>\n",
       "    <tr>\n",
       "      <th>1136</th>\n",
       "      <td>p-204</td>\n",
       "      <td>83.0</td>\n",
       "    </tr>\n",
       "    <tr>\n",
       "      <th>1137</th>\n",
       "      <td>p-206</td>\n",
       "      <td>63.0</td>\n",
       "    </tr>\n",
       "    <tr>\n",
       "      <th>1138</th>\n",
       "      <td>p-208</td>\n",
       "      <td>64.0</td>\n",
       "    </tr>\n",
       "    <tr>\n",
       "      <th>1139</th>\n",
       "      <td>p-209</td>\n",
       "      <td>64.0</td>\n",
       "    </tr>\n",
       "  </tbody>\n",
       "</table>\n",
       "<p>214 rows × 2 columns</p>\n",
       "</div>"
      ],
      "text/plain": [
       "          id  score\n",
       "156   e-2002   79.0\n",
       "163   e-2009   87.0\n",
       "174   e-2020   53.0\n",
       "195   e-2041   68.0\n",
       "196   e-2042   71.0\n",
       "...      ...    ...\n",
       "1135   p-203   51.0\n",
       "1136   p-204   83.0\n",
       "1137   p-206   63.0\n",
       "1138   p-208   64.0\n",
       "1139   p-209   64.0\n",
       "\n",
       "[214 rows x 2 columns]"
      ]
     },
     "execution_count": 32,
     "metadata": {},
     "output_type": "execute_result"
    }
   ],
   "source": [
    "# drop rows from df if b- exists in id\n",
    "df = df[~df['id'].str.contains('b-')]\n",
    "df"
   ]
  },
  {
   "cell_type": "code",
   "execution_count": 33,
   "metadata": {},
   "outputs": [
    {
     "data": {
      "application/vnd.microsoft.datawrangler.viewer.v0+json": {
       "columns": [
        {
         "name": "index",
         "rawType": "int64",
         "type": "integer"
        },
        {
         "name": "id",
         "rawType": "object",
         "type": "string"
        },
        {
         "name": "score",
         "rawType": "float64",
         "type": "float"
        }
       ],
       "conversionMethod": "pd.DataFrame",
       "ref": "fdd7a93e-adb6-41dd-84bd-f4ad84faa848",
       "rows": [
        [
         "0",
         "e-2002",
         "79.0"
        ],
        [
         "1",
         "e-2009",
         "87.0"
        ],
        [
         "2",
         "e-2020",
         "53.0"
        ],
        [
         "3",
         "e-2041",
         "68.0"
        ],
        [
         "4",
         "e-2042",
         "71.0"
        ],
        [
         "5",
         "e-2053",
         "63.0"
        ],
        [
         "6",
         "e-2056",
         "53.0"
        ],
        [
         "7",
         "e-2057",
         "78.0"
        ],
        [
         "8",
         "e-2064",
         "65.0"
        ],
        [
         "9",
         "e-2065",
         "84.0"
        ],
        [
         "10",
         "e-2085",
         "66.0"
        ],
        [
         "11",
         "e-2100",
         "55.0"
        ],
        [
         "12",
         "e-2103",
         "49.0"
        ],
        [
         "13",
         "e-2105",
         "85.0"
        ],
        [
         "14",
         "e-2106",
         "79.0"
        ],
        [
         "15",
         "e-2112",
         "69.0"
        ],
        [
         "16",
         "e-2118",
         "39.0"
        ],
        [
         "17",
         "e-2120",
         "69.0"
        ],
        [
         "18",
         "e-2121",
         "64.0"
        ],
        [
         "19",
         "e-2122",
         "67.0"
        ],
        [
         "20",
         "e-2125",
         "83.0"
        ],
        [
         "21",
         "e-2127",
         "87.0"
        ],
        [
         "22",
         "e-2129",
         "87.0"
        ],
        [
         "23",
         "e-2131",
         "72.0"
        ],
        [
         "24",
         "e-2137",
         "69.0"
        ],
        [
         "25",
         "e-2145",
         "77.0"
        ],
        [
         "26",
         "e-2148",
         "62.0"
        ],
        [
         "27",
         "e-2149",
         "68.0"
        ],
        [
         "28",
         "e-2156",
         "70.0"
        ],
        [
         "29",
         "e-2167",
         "77.0"
        ],
        [
         "30",
         "e-2175",
         "56.0"
        ],
        [
         "31",
         "e-2185",
         "69.0"
        ],
        [
         "32",
         "e-2186",
         "75.0"
        ],
        [
         "33",
         "e-2197",
         "41.0"
        ],
        [
         "34",
         "e-2199",
         "59.0"
        ],
        [
         "35",
         "e-2201",
         "73.0"
        ],
        [
         "36",
         "e-2206",
         "80.0"
        ],
        [
         "37",
         "e-2211",
         "79.0"
        ],
        [
         "38",
         "e-2218",
         "64.0"
        ],
        [
         "39",
         "e-2219",
         "94.0"
        ],
        [
         "40",
         "e-2221",
         "61.0"
        ],
        [
         "41",
         "e-2224",
         "53.0"
        ],
        [
         "42",
         "e-2228",
         "75.0"
        ],
        [
         "43",
         "e-2241",
         "69.0"
        ],
        [
         "44",
         "e-2242",
         "73.0"
        ],
        [
         "45",
         "e-2259",
         "65.0"
        ],
        [
         "46",
         "e-2273",
         "57.0"
        ],
        [
         "47",
         "e-2277",
         "80.0"
        ],
        [
         "48",
         "e-2287",
         "73.0"
        ],
        [
         "49",
         "e-2295",
         "73.0"
        ]
       ],
       "shape": {
        "columns": 2,
        "rows": 275
       }
      },
      "text/html": [
       "<div>\n",
       "<style scoped>\n",
       "    .dataframe tbody tr th:only-of-type {\n",
       "        vertical-align: middle;\n",
       "    }\n",
       "\n",
       "    .dataframe tbody tr th {\n",
       "        vertical-align: top;\n",
       "    }\n",
       "\n",
       "    .dataframe thead th {\n",
       "        text-align: right;\n",
       "    }\n",
       "</style>\n",
       "<table border=\"1\" class=\"dataframe\">\n",
       "  <thead>\n",
       "    <tr style=\"text-align: right;\">\n",
       "      <th></th>\n",
       "      <th>id</th>\n",
       "      <th>score</th>\n",
       "    </tr>\n",
       "  </thead>\n",
       "  <tbody>\n",
       "    <tr>\n",
       "      <th>0</th>\n",
       "      <td>e-2002</td>\n",
       "      <td>79.0</td>\n",
       "    </tr>\n",
       "    <tr>\n",
       "      <th>1</th>\n",
       "      <td>e-2009</td>\n",
       "      <td>87.0</td>\n",
       "    </tr>\n",
       "    <tr>\n",
       "      <th>2</th>\n",
       "      <td>e-2020</td>\n",
       "      <td>53.0</td>\n",
       "    </tr>\n",
       "    <tr>\n",
       "      <th>3</th>\n",
       "      <td>e-2041</td>\n",
       "      <td>68.0</td>\n",
       "    </tr>\n",
       "    <tr>\n",
       "      <th>4</th>\n",
       "      <td>e-2042</td>\n",
       "      <td>71.0</td>\n",
       "    </tr>\n",
       "    <tr>\n",
       "      <th>...</th>\n",
       "      <td>...</td>\n",
       "      <td>...</td>\n",
       "    </tr>\n",
       "    <tr>\n",
       "      <th>270</th>\n",
       "      <td>b-120065</td>\n",
       "      <td>92.0</td>\n",
       "    </tr>\n",
       "    <tr>\n",
       "      <th>271</th>\n",
       "      <td>b-120068</td>\n",
       "      <td>71.0</td>\n",
       "    </tr>\n",
       "    <tr>\n",
       "      <th>272</th>\n",
       "      <td>b-120069</td>\n",
       "      <td>57.0</td>\n",
       "    </tr>\n",
       "    <tr>\n",
       "      <th>273</th>\n",
       "      <td>b-120073</td>\n",
       "      <td>98.0</td>\n",
       "    </tr>\n",
       "    <tr>\n",
       "      <th>274</th>\n",
       "      <td>b-120075</td>\n",
       "      <td>86.0</td>\n",
       "    </tr>\n",
       "  </tbody>\n",
       "</table>\n",
       "<p>275 rows × 2 columns</p>\n",
       "</div>"
      ],
      "text/plain": [
       "           id  score\n",
       "0      e-2002   79.0\n",
       "1      e-2009   87.0\n",
       "2      e-2020   53.0\n",
       "3      e-2041   68.0\n",
       "4      e-2042   71.0\n",
       "..        ...    ...\n",
       "270  b-120065   92.0\n",
       "271  b-120068   71.0\n",
       "272  b-120069   57.0\n",
       "273  b-120073   98.0\n",
       "274  b-120075   86.0\n",
       "\n",
       "[275 rows x 2 columns]"
      ]
     },
     "execution_count": 33,
     "metadata": {},
     "output_type": "execute_result"
    }
   ],
   "source": [
    "# concat b_df and df together remove index\n",
    "df = pd.concat([df, b_df], ignore_index=True)\n",
    "df"
   ]
  },
  {
   "cell_type": "code",
   "execution_count": 35,
   "metadata": {},
   "outputs": [],
   "source": [
    "df.to_csv('../../../../data/struc/dsst.csv', index=False)"
   ]
  },
  {
   "cell_type": "code",
   "execution_count": null,
   "metadata": {},
   "outputs": [],
   "source": []
  }
 ],
 "metadata": {
  "kernelspec": {
   "display_name": "Python 3",
   "language": "python",
   "name": "python3"
  },
  "language_info": {
   "codemirror_mode": {
    "name": "ipython",
    "version": 3
   },
   "file_extension": ".py",
   "mimetype": "text/x-python",
   "name": "python",
   "nbconvert_exporter": "python",
   "pygments_lexer": "ipython3",
   "version": "3.8.13"
  }
 },
 "nbformat": 4,
 "nbformat_minor": 2
}
