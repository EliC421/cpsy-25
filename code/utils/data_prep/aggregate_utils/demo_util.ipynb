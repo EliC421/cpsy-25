{
 "cells": [
  {
   "cell_type": "code",
   "execution_count": 3,
   "metadata": {},
   "outputs": [],
   "source": [
    "import os\n",
    "import pandas as pd"
   ]
  },
  {
   "cell_type": "code",
   "execution_count": 4,
   "metadata": {},
   "outputs": [
    {
     "data": {
      "application/vnd.microsoft.datawrangler.viewer.v0+json": {
       "columns": [
        {
         "name": "index",
         "rawType": "int64",
         "type": "integer"
        },
        {
         "name": "id",
         "rawType": "object",
         "type": "string"
        },
        {
         "name": "age",
         "rawType": "int64",
         "type": "integer"
        },
        {
         "name": "edu",
         "rawType": "int64",
         "type": "integer"
        },
        {
         "name": "sex",
         "rawType": "object",
         "type": "string"
        }
       ],
       "conversionMethod": "pd.DataFrame",
       "ref": "6021bf10-a431-4aa3-aa24-52929f408824",
       "rows": [
        [
         "0",
         "b-120001",
         "73",
         "22",
         "Male"
        ],
        [
         "1",
         "b-120002",
         "69",
         "16",
         "Female"
        ],
        [
         "2",
         "b-120003",
         "69",
         "16",
         "Female"
        ],
        [
         "3",
         "b-120004",
         "69",
         "17",
         "Male"
        ],
        [
         "4",
         "b-120005",
         "66",
         "14",
         "Male"
        ],
        [
         "5",
         "b-120006",
         "74",
         "18",
         "Male"
        ],
        [
         "6",
         "b-120008",
         "81",
         "12",
         "Female"
        ],
        [
         "7",
         "b-120010",
         "68",
         "17",
         "Female"
        ],
        [
         "8",
         "b-120011",
         "68",
         "16",
         "Male"
        ],
        [
         "9",
         "b-120012",
         "66",
         "16",
         "Female"
        ],
        [
         "10",
         "b-120013",
         "70",
         "17",
         "Female"
        ],
        [
         "11",
         "b-120014",
         "72",
         "18",
         "Female"
        ],
        [
         "12",
         "b-120015",
         "81",
         "22",
         "Male"
        ],
        [
         "13",
         "b-120017",
         "69",
         "14",
         "Female"
        ],
        [
         "14",
         "b-120018",
         "71",
         "16",
         "Male"
        ],
        [
         "15",
         "b-120019",
         "66",
         "14",
         "Female"
        ],
        [
         "16",
         "b-120020",
         "71",
         "17",
         "Male"
        ],
        [
         "17",
         "b-120021",
         "70",
         "17",
         "Female"
        ],
        [
         "18",
         "b-120023",
         "80",
         "16",
         "Female"
        ],
        [
         "19",
         "b-120024",
         "72",
         "14",
         "Male"
        ],
        [
         "20",
         "b-120025",
         "71",
         "13",
         "Male"
        ],
        [
         "21",
         "b-120026",
         "77",
         "15",
         "Female"
        ],
        [
         "22",
         "b-120027",
         "69",
         "23",
         "Female"
        ],
        [
         "23",
         "b-120028",
         "82",
         "22",
         "Female"
        ],
        [
         "24",
         "b-120029",
         "70",
         "19",
         "Male"
        ],
        [
         "25",
         "b-120030",
         "83",
         "12",
         "Male"
        ],
        [
         "26",
         "b-120031",
         "70",
         "17",
         "Female"
        ],
        [
         "27",
         "b-120032",
         "73",
         "17",
         "Male"
        ],
        [
         "28",
         "b-120033",
         "72",
         "16",
         "Female"
        ],
        [
         "29",
         "b-120034",
         "67",
         "17",
         "Male"
        ],
        [
         "30",
         "b-120035",
         "67",
         "13",
         "Female"
        ],
        [
         "31",
         "b-120036",
         "66",
         "19",
         "Male"
        ],
        [
         "32",
         "b-120037",
         "82",
         "14",
         "Female"
        ],
        [
         "33",
         "b-120038",
         "67",
         "20",
         "Female"
        ],
        [
         "34",
         "b-120039",
         "68",
         "16",
         "Male"
        ],
        [
         "35",
         "b-120040",
         "68",
         "16",
         "Male"
        ],
        [
         "36",
         "b-120041",
         "79",
         "18",
         "Female"
        ],
        [
         "37",
         "b-120042",
         "72",
         "23",
         "Male"
        ],
        [
         "38",
         "b-120043",
         "75",
         "21",
         "Female"
        ],
        [
         "39",
         "b-120044",
         "73",
         "15",
         "Female"
        ],
        [
         "40",
         "b-120045",
         "76",
         "18",
         "Male"
        ],
        [
         "41",
         "b-120047",
         "72",
         "16",
         "Male"
        ],
        [
         "42",
         "b-120049",
         "67",
         "16",
         "Male"
        ],
        [
         "43",
         "b-120050",
         "75",
         "14",
         "Female"
        ],
        [
         "44",
         "b-120052",
         "71",
         "16",
         "Female"
        ],
        [
         "45",
         "b-120053",
         "69",
         "16",
         "Male"
        ],
        [
         "46",
         "b-120054",
         "71",
         "19",
         "Female"
        ],
        [
         "47",
         "b-120055",
         "73",
         "16",
         "Male"
        ],
        [
         "48",
         "b-120056",
         "69",
         "18",
         "Female"
        ],
        [
         "49",
         "b-120057",
         "69",
         "18",
         "Female"
        ]
       ],
       "shape": {
        "columns": 4,
        "rows": 138
       }
      },
      "text/html": [
       "<div>\n",
       "<style scoped>\n",
       "    .dataframe tbody tr th:only-of-type {\n",
       "        vertical-align: middle;\n",
       "    }\n",
       "\n",
       "    .dataframe tbody tr th {\n",
       "        vertical-align: top;\n",
       "    }\n",
       "\n",
       "    .dataframe thead th {\n",
       "        text-align: right;\n",
       "    }\n",
       "</style>\n",
       "<table border=\"1\" class=\"dataframe\">\n",
       "  <thead>\n",
       "    <tr style=\"text-align: right;\">\n",
       "      <th></th>\n",
       "      <th>id</th>\n",
       "      <th>age</th>\n",
       "      <th>edu</th>\n",
       "      <th>sex</th>\n",
       "    </tr>\n",
       "  </thead>\n",
       "  <tbody>\n",
       "    <tr>\n",
       "      <th>0</th>\n",
       "      <td>b-120001</td>\n",
       "      <td>73</td>\n",
       "      <td>22</td>\n",
       "      <td>Male</td>\n",
       "    </tr>\n",
       "    <tr>\n",
       "      <th>1</th>\n",
       "      <td>b-120002</td>\n",
       "      <td>69</td>\n",
       "      <td>16</td>\n",
       "      <td>Female</td>\n",
       "    </tr>\n",
       "    <tr>\n",
       "      <th>2</th>\n",
       "      <td>b-120003</td>\n",
       "      <td>69</td>\n",
       "      <td>16</td>\n",
       "      <td>Female</td>\n",
       "    </tr>\n",
       "    <tr>\n",
       "      <th>3</th>\n",
       "      <td>b-120004</td>\n",
       "      <td>69</td>\n",
       "      <td>17</td>\n",
       "      <td>Male</td>\n",
       "    </tr>\n",
       "    <tr>\n",
       "      <th>4</th>\n",
       "      <td>b-120005</td>\n",
       "      <td>66</td>\n",
       "      <td>14</td>\n",
       "      <td>Male</td>\n",
       "    </tr>\n",
       "    <tr>\n",
       "      <th>...</th>\n",
       "      <td>...</td>\n",
       "      <td>...</td>\n",
       "      <td>...</td>\n",
       "      <td>...</td>\n",
       "    </tr>\n",
       "    <tr>\n",
       "      <th>133</th>\n",
       "      <td>b-120083</td>\n",
       "      <td>66</td>\n",
       "      <td>11</td>\n",
       "      <td>Female</td>\n",
       "    </tr>\n",
       "    <tr>\n",
       "      <th>134</th>\n",
       "      <td>b-121006</td>\n",
       "      <td>73</td>\n",
       "      <td>16</td>\n",
       "      <td>Female</td>\n",
       "    </tr>\n",
       "    <tr>\n",
       "      <th>135</th>\n",
       "      <td>b-121040</td>\n",
       "      <td>75</td>\n",
       "      <td>18</td>\n",
       "      <td>Male</td>\n",
       "    </tr>\n",
       "    <tr>\n",
       "      <th>136</th>\n",
       "      <td>b-121059</td>\n",
       "      <td>68</td>\n",
       "      <td>14</td>\n",
       "      <td>Female</td>\n",
       "    </tr>\n",
       "    <tr>\n",
       "      <th>137</th>\n",
       "      <td>b-121065</td>\n",
       "      <td>70</td>\n",
       "      <td>17</td>\n",
       "      <td>Female</td>\n",
       "    </tr>\n",
       "  </tbody>\n",
       "</table>\n",
       "<p>138 rows × 4 columns</p>\n",
       "</div>"
      ],
      "text/plain": [
       "           id  age  edu     sex\n",
       "0    b-120001   73   22    Male\n",
       "1    b-120002   69   16  Female\n",
       "2    b-120003   69   16  Female\n",
       "3    b-120004   69   17    Male\n",
       "4    b-120005   66   14    Male\n",
       "..        ...  ...  ...     ...\n",
       "133  b-120083   66   11  Female\n",
       "134  b-121006   73   16  Female\n",
       "135  b-121040   75   18    Male\n",
       "136  b-121059   68   14  Female\n",
       "137  b-121065   70   17  Female\n",
       "\n",
       "[138 rows x 4 columns]"
      ]
     },
     "execution_count": 4,
     "metadata": {},
     "output_type": "execute_result"
    }
   ],
   "source": [
    "better = pd.read_csv('/Volumes/vosslabhpc/symposia/cpsy-25/data/demos/better_demos.csv')\n",
    "better = better[['id', 'age', 'sex assigned at birth', 'edu']]\n",
    "better['sex'] = better['sex assigned at birth']\n",
    "better = better.drop(columns=['sex assigned at birth'])\n",
    "#add b- to every id row\n",
    "better['id'] = 'b-' + better['id'].astype(str)\n",
    "better"
   ]
  },
  {
   "cell_type": "code",
   "execution_count": 5,
   "metadata": {},
   "outputs": [
    {
     "data": {
      "application/vnd.microsoft.datawrangler.viewer.v0+json": {
       "columns": [
        {
         "name": "index",
         "rawType": "int64",
         "type": "integer"
        },
        {
         "name": "id",
         "rawType": "object",
         "type": "string"
        },
        {
         "name": "age",
         "rawType": "int64",
         "type": "integer"
        },
        {
         "name": "edu",
         "rawType": "int64",
         "type": "integer"
        },
        {
         "name": "sex",
         "rawType": "object",
         "type": "string"
        }
       ],
       "conversionMethod": "pd.DataFrame",
       "ref": "032caeb1-47e0-42d4-8a1f-1920d3066ac8",
       "rows": [
        [
         "1",
         "e-2002",
         "73",
         "14",
         "Female"
        ],
        [
         "3",
         "e-2004",
         "61",
         "13",
         "Female"
        ],
        [
         "5",
         "e-2006",
         "65",
         "14",
         "Female"
        ],
        [
         "8",
         "e-2009",
         "56",
         "17",
         "Female"
        ],
        [
         "11",
         "e-2012",
         "59",
         "12",
         "Female"
        ],
        [
         "19",
         "e-2020",
         "71",
         "13",
         "Female"
        ],
        [
         "25",
         "e-2026",
         "58",
         "14",
         "Female"
        ],
        [
         "32",
         "e-2033",
         "70",
         "12",
         "Female"
        ],
        [
         "40",
         "e-2041",
         "71",
         "17",
         "Female"
        ],
        [
         "41",
         "e-2042",
         "56",
         "15",
         "Female"
        ],
        [
         "43",
         "e-2044",
         "75",
         "20",
         "Male"
        ],
        [
         "47",
         "e-2048",
         "71",
         "17",
         "Male"
        ],
        [
         "50",
         "e-2051",
         "63",
         "16",
         "Female"
        ],
        [
         "52",
         "e-2053",
         "59",
         "16",
         "Male"
        ],
        [
         "53",
         "e-2054",
         "79",
         "18",
         "Female"
        ],
        [
         "55",
         "e-2056",
         "55",
         "17",
         "Female"
        ],
        [
         "56",
         "e-2057",
         "74",
         "24",
         "Female"
        ],
        [
         "57",
         "e-2058",
         "76",
         "15",
         "Male"
        ],
        [
         "58",
         "e-2059",
         "67",
         "16",
         "Female"
        ],
        [
         "63",
         "e-2064",
         "69",
         "18",
         "Male"
        ],
        [
         "64",
         "e-2065",
         "66",
         "16",
         "Male"
        ],
        [
         "65",
         "e-2066",
         "67",
         "20",
         "Female"
        ],
        [
         "84",
         "e-2085",
         "62",
         "17",
         "Female"
        ],
        [
         "90",
         "e-2091",
         "55",
         "16",
         "Male"
        ],
        [
         "91",
         "e-2092",
         "55",
         "13",
         "Female"
        ],
        [
         "94",
         "e-2095",
         "68",
         "18",
         "Female"
        ],
        [
         "99",
         "e-2100",
         "80",
         "18",
         "Male"
        ],
        [
         "101",
         "e-2102",
         "56",
         "16",
         "Male"
        ],
        [
         "102",
         "e-2103",
         "65",
         "16",
         "Male"
        ],
        [
         "104",
         "e-2105",
         "57",
         "16",
         "Female"
        ],
        [
         "105",
         "e-2106",
         "59",
         "16",
         "Female"
        ],
        [
         "107",
         "e-2108",
         "56",
         "16",
         "Female"
        ],
        [
         "111",
         "e-2112",
         "59",
         "15",
         "Female"
        ],
        [
         "113",
         "e-2114",
         "57",
         "22",
         "Female"
        ],
        [
         "116",
         "e-2117",
         "57",
         "20",
         "Female"
        ],
        [
         "117",
         "e-2118",
         "80",
         "15",
         "Female"
        ],
        [
         "119",
         "e-2120",
         "58",
         "16",
         "Female"
        ],
        [
         "120",
         "e-2121",
         "60",
         "14",
         "Male"
        ],
        [
         "121",
         "e-2122",
         "65",
         "16",
         "Female"
        ],
        [
         "124",
         "e-2125",
         "58",
         "18",
         "Male"
        ],
        [
         "126",
         "e-2127",
         "64",
         "18",
         "Male"
        ],
        [
         "128",
         "e-2129",
         "63",
         "20",
         "Female"
        ],
        [
         "130",
         "e-2131",
         "64",
         "19",
         "Female"
        ],
        [
         "136",
         "e-2137",
         "56",
         "20",
         "Male"
        ],
        [
         "142",
         "e-2143",
         "63",
         "14",
         "Female"
        ],
        [
         "144",
         "e-2145",
         "56",
         "16",
         "Female"
        ],
        [
         "146",
         "e-2147",
         "63",
         "16",
         "Female"
        ],
        [
         "147",
         "e-2148",
         "57",
         "14",
         "Male"
        ],
        [
         "148",
         "e-2149",
         "57",
         "14",
         "Female"
        ],
        [
         "155",
         "e-2156",
         "67",
         "17",
         "Male"
        ]
       ],
       "shape": {
        "columns": 4,
        "rows": 217
       }
      },
      "text/html": [
       "<div>\n",
       "<style scoped>\n",
       "    .dataframe tbody tr th:only-of-type {\n",
       "        vertical-align: middle;\n",
       "    }\n",
       "\n",
       "    .dataframe tbody tr th {\n",
       "        vertical-align: top;\n",
       "    }\n",
       "\n",
       "    .dataframe thead th {\n",
       "        text-align: right;\n",
       "    }\n",
       "</style>\n",
       "<table border=\"1\" class=\"dataframe\">\n",
       "  <thead>\n",
       "    <tr style=\"text-align: right;\">\n",
       "      <th></th>\n",
       "      <th>id</th>\n",
       "      <th>age</th>\n",
       "      <th>edu</th>\n",
       "      <th>sex</th>\n",
       "    </tr>\n",
       "  </thead>\n",
       "  <tbody>\n",
       "    <tr>\n",
       "      <th>1</th>\n",
       "      <td>e-2002</td>\n",
       "      <td>73</td>\n",
       "      <td>14</td>\n",
       "      <td>Female</td>\n",
       "    </tr>\n",
       "    <tr>\n",
       "      <th>3</th>\n",
       "      <td>e-2004</td>\n",
       "      <td>61</td>\n",
       "      <td>13</td>\n",
       "      <td>Female</td>\n",
       "    </tr>\n",
       "    <tr>\n",
       "      <th>5</th>\n",
       "      <td>e-2006</td>\n",
       "      <td>65</td>\n",
       "      <td>14</td>\n",
       "      <td>Female</td>\n",
       "    </tr>\n",
       "    <tr>\n",
       "      <th>8</th>\n",
       "      <td>e-2009</td>\n",
       "      <td>56</td>\n",
       "      <td>17</td>\n",
       "      <td>Female</td>\n",
       "    </tr>\n",
       "    <tr>\n",
       "      <th>11</th>\n",
       "      <td>e-2012</td>\n",
       "      <td>59</td>\n",
       "      <td>12</td>\n",
       "      <td>Female</td>\n",
       "    </tr>\n",
       "    <tr>\n",
       "      <th>...</th>\n",
       "      <td>...</td>\n",
       "      <td>...</td>\n",
       "      <td>...</td>\n",
       "      <td>...</td>\n",
       "    </tr>\n",
       "    <tr>\n",
       "      <th>858</th>\n",
       "      <td>e-2859</td>\n",
       "      <td>74</td>\n",
       "      <td>21</td>\n",
       "      <td>Female</td>\n",
       "    </tr>\n",
       "    <tr>\n",
       "      <th>860</th>\n",
       "      <td>e-2861</td>\n",
       "      <td>58</td>\n",
       "      <td>18</td>\n",
       "      <td>Male</td>\n",
       "    </tr>\n",
       "    <tr>\n",
       "      <th>870</th>\n",
       "      <td>e-2871</td>\n",
       "      <td>66</td>\n",
       "      <td>14</td>\n",
       "      <td>Female</td>\n",
       "    </tr>\n",
       "    <tr>\n",
       "      <th>873</th>\n",
       "      <td>e-2874</td>\n",
       "      <td>69</td>\n",
       "      <td>16</td>\n",
       "      <td>Female</td>\n",
       "    </tr>\n",
       "    <tr>\n",
       "      <th>877</th>\n",
       "      <td>e-2878</td>\n",
       "      <td>59</td>\n",
       "      <td>16</td>\n",
       "      <td>Female</td>\n",
       "    </tr>\n",
       "  </tbody>\n",
       "</table>\n",
       "<p>217 rows × 4 columns</p>\n",
       "</div>"
      ],
      "text/plain": [
       "         id  age  edu     sex\n",
       "1    e-2002   73   14  Female\n",
       "3    e-2004   61   13  Female\n",
       "5    e-2006   65   14  Female\n",
       "8    e-2009   56   17  Female\n",
       "11   e-2012   59   12  Female\n",
       "..      ...  ...  ...     ...\n",
       "858  e-2859   74   21  Female\n",
       "860  e-2861   58   18    Male\n",
       "870  e-2871   66   14  Female\n",
       "873  e-2874   69   16  Female\n",
       "877  e-2878   59   16  Female\n",
       "\n",
       "[217 rows x 4 columns]"
      ]
     },
     "execution_count": 5,
     "metadata": {},
     "output_type": "execute_result"
    }
   ],
   "source": [
    "extend = pd.read_csv('/Volumes/vosslabhpc/symposia/cpsy-25/data/demos/extend_demos.csv')\n",
    "extend = extend[['EXTEND Study ID', 'Age at time of Screening', 'Years of Education', 'Sex assigned at birth']]\n",
    "columns = {\n",
    "    'EXTEND Study ID': 'id',\n",
    "    'Age at time of Screening': 'age',\n",
    "    'Years of Education': 'edu',\n",
    "    'Sex assigned at birth': 'sex'\n",
    "}\n",
    "\n",
    "extend = extend.rename(columns=columns)\n",
    "# remove if age is missing or NaN\n",
    "extend = extend[extend.age.notna()]\n",
    "extend = extend[extend.age != 0]\n",
    "extend['age'] = extend['age'].astype(int)\n",
    "extend['id'] = extend['id'].astype(int)\n",
    "\n",
    "extend['id'] = extend['id'].astype(str)\n",
    "#add e- to every id row\n",
    "extend['id'] = 'e-' + extend['id']\n",
    "\n",
    "#change edu to int and if edu is missing, set to mean\n",
    "mean_edu = extend['edu'].mean()\n",
    "extend['edu'] = extend['edu'].fillna(mean_edu)\n",
    "extend['edu'] = extend['edu'].astype(int)\n",
    "\n",
    "extend"
   ]
  },
  {
   "cell_type": "code",
   "execution_count": 6,
   "metadata": {},
   "outputs": [
    {
     "data": {
      "application/vnd.microsoft.datawrangler.viewer.v0+json": {
       "columns": [
        {
         "name": "index",
         "rawType": "int64",
         "type": "integer"
        },
        {
         "name": "id",
         "rawType": "object",
         "type": "string"
        },
        {
         "name": "age",
         "rawType": "int64",
         "type": "integer"
        },
        {
         "name": "sex",
         "rawType": "object",
         "type": "string"
        },
        {
         "name": "edu",
         "rawType": "int64",
         "type": "integer"
        }
       ],
       "conversionMethod": "pd.DataFrame",
       "ref": "1f99d666-8cea-45ef-8174-41d0ec1c9cdd",
       "rows": [
        [
         "1",
         "p-8",
         "71",
         "Female",
         "14"
        ],
        [
         "2",
         "p-41",
         "65",
         "Female",
         "16"
        ],
        [
         "3",
         "p-25",
         "73",
         "Male",
         "25"
        ],
        [
         "4",
         "p-12",
         "67",
         "Female",
         "16"
        ],
        [
         "5",
         "p-7",
         "72",
         "Female",
         "13"
        ],
        [
         "6",
         "p-9",
         "70",
         "Male",
         "20"
        ],
        [
         "7",
         "p-51",
         "65",
         "Female",
         "16"
        ],
        [
         "8",
         "p-31",
         "69",
         "Male",
         "16"
        ],
        [
         "9",
         "p-13",
         "68",
         "Female",
         "17"
        ],
        [
         "10",
         "p-6",
         "68",
         "Male",
         "18"
        ],
        [
         "11",
         "p-11",
         "67",
         "Female",
         "19"
        ],
        [
         "12",
         "p-52",
         "72",
         "Female",
         "20"
        ],
        [
         "13",
         "p-55",
         "65",
         "Male",
         "18"
        ],
        [
         "14",
         "p-10",
         "72",
         "Male",
         "18"
        ],
        [
         "15",
         "p-4",
         "72",
         "Female",
         "17"
        ],
        [
         "19",
         "p-102",
         "65",
         "Female",
         "12"
        ],
        [
         "20",
         "p-34",
         "71",
         "Female",
         "17"
        ],
        [
         "21",
         "p-24",
         "74",
         "Male",
         "23"
        ],
        [
         "23",
         "p-39",
         "66",
         "Female",
         "15"
        ],
        [
         "24",
         "p-43",
         "73",
         "Male",
         "24"
        ],
        [
         "27",
         "p-44",
         "68",
         "Female",
         "19"
        ],
        [
         "28",
         "p-56",
         "67",
         "Female",
         "14"
        ],
        [
         "29",
         "p-45",
         "67",
         "Female",
         "17"
        ],
        [
         "32",
         "p-65",
         "66",
         "Male",
         "16"
        ],
        [
         "33",
         "p-66",
         "78",
         "Female",
         "16"
        ],
        [
         "37",
         "p-78",
         "69",
         "Male",
         "16"
        ],
        [
         "38",
         "p-77",
         "65",
         "Female",
         "18"
        ],
        [
         "39",
         "p-74",
         "70",
         "Female",
         "13"
        ],
        [
         "41",
         "p-83",
         "68",
         "Male",
         "19"
        ],
        [
         "42",
         "p-89",
         "68",
         "Female",
         "18"
        ],
        [
         "43",
         "p-87",
         "66",
         "Male",
         "18"
        ],
        [
         "47",
         "p-92",
         "73",
         "Male",
         "15"
        ],
        [
         "49",
         "p-86",
         "74",
         "Female",
         "18"
        ],
        [
         "51",
         "p-98",
         "73",
         "Female",
         "18"
        ],
        [
         "52",
         "p-76",
         "71",
         "Female",
         "18"
        ],
        [
         "53",
         "p-110",
         "72",
         "Male",
         "17"
        ],
        [
         "55",
         "p-113",
         "66",
         "Female",
         "18"
        ],
        [
         "56",
         "p-104",
         "66",
         "Female",
         "16"
        ],
        [
         "59",
         "p-133",
         "77",
         "Female",
         "20"
        ],
        [
         "60",
         "p-132",
         "69",
         "Male",
         "16"
        ],
        [
         "62",
         "p-136",
         "72",
         "Female",
         "17"
        ],
        [
         "63",
         "p-140",
         "71",
         "Female",
         "14"
        ],
        [
         "71",
         "p-154",
         "66",
         "Male",
         "22"
        ],
        [
         "72",
         "p-146",
         "74",
         "Male",
         "19"
        ],
        [
         "73",
         "p-158",
         "67",
         "Female",
         "14"
        ],
        [
         "74",
         "p-159",
         "73",
         "Female",
         "29"
        ],
        [
         "77",
         "p-161",
         "68",
         "Female",
         "17"
        ],
        [
         "79",
         "p-5",
         "65",
         "Female",
         "20"
        ],
        [
         "80",
         "p-166",
         "70",
         "Male",
         "16"
        ],
        [
         "82",
         "p-173",
         "74",
         "Male",
         "12"
        ]
       ],
       "shape": {
        "columns": 4,
        "rows": 68
       }
      },
      "text/html": [
       "<div>\n",
       "<style scoped>\n",
       "    .dataframe tbody tr th:only-of-type {\n",
       "        vertical-align: middle;\n",
       "    }\n",
       "\n",
       "    .dataframe tbody tr th {\n",
       "        vertical-align: top;\n",
       "    }\n",
       "\n",
       "    .dataframe thead th {\n",
       "        text-align: right;\n",
       "    }\n",
       "</style>\n",
       "<table border=\"1\" class=\"dataframe\">\n",
       "  <thead>\n",
       "    <tr style=\"text-align: right;\">\n",
       "      <th></th>\n",
       "      <th>id</th>\n",
       "      <th>age</th>\n",
       "      <th>sex</th>\n",
       "      <th>edu</th>\n",
       "    </tr>\n",
       "  </thead>\n",
       "  <tbody>\n",
       "    <tr>\n",
       "      <th>1</th>\n",
       "      <td>p-8</td>\n",
       "      <td>71</td>\n",
       "      <td>Female</td>\n",
       "      <td>14</td>\n",
       "    </tr>\n",
       "    <tr>\n",
       "      <th>2</th>\n",
       "      <td>p-41</td>\n",
       "      <td>65</td>\n",
       "      <td>Female</td>\n",
       "      <td>16</td>\n",
       "    </tr>\n",
       "    <tr>\n",
       "      <th>3</th>\n",
       "      <td>p-25</td>\n",
       "      <td>73</td>\n",
       "      <td>Male</td>\n",
       "      <td>25</td>\n",
       "    </tr>\n",
       "    <tr>\n",
       "      <th>4</th>\n",
       "      <td>p-12</td>\n",
       "      <td>67</td>\n",
       "      <td>Female</td>\n",
       "      <td>16</td>\n",
       "    </tr>\n",
       "    <tr>\n",
       "      <th>5</th>\n",
       "      <td>p-7</td>\n",
       "      <td>72</td>\n",
       "      <td>Female</td>\n",
       "      <td>13</td>\n",
       "    </tr>\n",
       "    <tr>\n",
       "      <th>...</th>\n",
       "      <td>...</td>\n",
       "      <td>...</td>\n",
       "      <td>...</td>\n",
       "      <td>...</td>\n",
       "    </tr>\n",
       "    <tr>\n",
       "      <th>101</th>\n",
       "      <td>p-202</td>\n",
       "      <td>76</td>\n",
       "      <td>Male</td>\n",
       "      <td>12</td>\n",
       "    </tr>\n",
       "    <tr>\n",
       "      <th>103</th>\n",
       "      <td>p-204</td>\n",
       "      <td>66</td>\n",
       "      <td>Female</td>\n",
       "      <td>18</td>\n",
       "    </tr>\n",
       "    <tr>\n",
       "      <th>104</th>\n",
       "      <td>p-206</td>\n",
       "      <td>65</td>\n",
       "      <td>Female</td>\n",
       "      <td>18</td>\n",
       "    </tr>\n",
       "    <tr>\n",
       "      <th>105</th>\n",
       "      <td>p-208</td>\n",
       "      <td>74</td>\n",
       "      <td>Male</td>\n",
       "      <td>16</td>\n",
       "    </tr>\n",
       "    <tr>\n",
       "      <th>106</th>\n",
       "      <td>p-209</td>\n",
       "      <td>68</td>\n",
       "      <td>Male</td>\n",
       "      <td>16</td>\n",
       "    </tr>\n",
       "  </tbody>\n",
       "</table>\n",
       "<p>68 rows × 4 columns</p>\n",
       "</div>"
      ],
      "text/plain": [
       "        id  age     sex  edu\n",
       "1      p-8   71  Female   14\n",
       "2     p-41   65  Female   16\n",
       "3     p-25   73    Male   25\n",
       "4     p-12   67  Female   16\n",
       "5      p-7   72  Female   13\n",
       "..     ...  ...     ...  ...\n",
       "101  p-202   76    Male   12\n",
       "103  p-204   66  Female   18\n",
       "104  p-206   65  Female   18\n",
       "105  p-208   74    Male   16\n",
       "106  p-209   68    Male   16\n",
       "\n",
       "[68 rows x 4 columns]"
      ]
     },
     "execution_count": 6,
     "metadata": {},
     "output_type": "execute_result"
    }
   ],
   "source": [
    "pacr = pd.read_csv('/Volumes/vosslabhpc/symposia/cpsy-25/data/demos/pacr_demos.csv')\n",
    "pacr = pacr[['PACR Study ID#:', 'Age at time of screening', 'Sex', 'Years of education']]\n",
    "pacr = pacr.rename(columns={\n",
    "    'PACR Study ID#:': 'id',\n",
    "    'Age at time of screening': 'age',\n",
    "    'Years of education': 'edu',\n",
    "    'Sex': 'sex'\n",
    "})\n",
    "# remove if age is missing or NaN\n",
    "pacr = pacr[pacr.age.notna()]\n",
    "pacr = pacr[pacr.age != 0]\n",
    "pacr['age'] = pacr['age'].astype(int)\n",
    "pacr['id'] = pacr['id'].astype(int)\n",
    "pacr['id'] = pacr['id'].astype(str)\n",
    "#add p- to every id row\n",
    "pacr['id'] = 'p-' + pacr['id']\n",
    "#change edu to int and if edu is missing, set to mean\n",
    "mean_edu = pacr['edu'].mean()\n",
    "pacr['edu'] = pacr['edu'].fillna(mean_edu)\n",
    "pacr['edu'] = pacr['edu'].astype(int)\n",
    "pacr"
   ]
  },
  {
   "cell_type": "code",
   "execution_count": 7,
   "metadata": {},
   "outputs": [],
   "source": [
    "# append all three dataframes\n",
    "df = pd.concat([better, extend, pacr])\n",
    "df = df.reset_index(drop=True)\n",
    "\n",
    "df.to_csv('../../../../data/struc/demo.csv', index=False)"
   ]
  },
  {
   "cell_type": "code",
   "execution_count": null,
   "metadata": {},
   "outputs": [],
   "source": []
  }
 ],
 "metadata": {
  "kernelspec": {
   "display_name": "Python 3",
   "language": "python",
   "name": "python3"
  },
  "language_info": {
   "codemirror_mode": {
    "name": "ipython",
    "version": 3
   },
   "file_extension": ".py",
   "mimetype": "text/x-python",
   "name": "python",
   "nbconvert_exporter": "python",
   "pygments_lexer": "ipython3",
   "version": "3.8.13"
  }
 },
 "nbformat": 4,
 "nbformat_minor": 2
}
