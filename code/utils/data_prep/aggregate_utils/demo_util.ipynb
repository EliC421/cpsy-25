{
 "cells": [
  {
   "cell_type": "code",
   "execution_count": 1,
   "metadata": {},
   "outputs": [],
   "source": [
    "import os\n",
    "import pandas as pd"
   ]
  },
  {
   "cell_type": "code",
   "execution_count": 2,
   "metadata": {},
   "outputs": [
    {
     "ename": "TimeoutError",
     "evalue": "[Errno 60] Operation timed out: '/Volumes/vosslabhpc/symposia/cpsy-25/data/demos/better_demos.csv'",
     "output_type": "error",
     "traceback": [
      "\u001b[0;31m---------------------------------------------------------------------------\u001b[0m",
      "\u001b[0;31mTimeoutError\u001b[0m                              Traceback (most recent call last)",
      "Input \u001b[0;32mIn [2]\u001b[0m, in \u001b[0;36m<cell line: 1>\u001b[0;34m()\u001b[0m\n\u001b[0;32m----> 1\u001b[0m better \u001b[38;5;241m=\u001b[39m \u001b[43mpd\u001b[49m\u001b[38;5;241;43m.\u001b[39;49m\u001b[43mread_csv\u001b[49m\u001b[43m(\u001b[49m\u001b[38;5;124;43m'\u001b[39;49m\u001b[38;5;124;43m/Volumes/vosslabhpc/symposia/cpsy-25/data/demos/better_demos.csv\u001b[39;49m\u001b[38;5;124;43m'\u001b[39;49m\u001b[43m)\u001b[49m\n\u001b[1;32m      2\u001b[0m better \u001b[38;5;241m=\u001b[39m better[[\u001b[38;5;124m'\u001b[39m\u001b[38;5;124mid\u001b[39m\u001b[38;5;124m'\u001b[39m, \u001b[38;5;124m'\u001b[39m\u001b[38;5;124mage\u001b[39m\u001b[38;5;124m'\u001b[39m, \u001b[38;5;124m'\u001b[39m\u001b[38;5;124msex assigned at birth\u001b[39m\u001b[38;5;124m'\u001b[39m, \u001b[38;5;124m'\u001b[39m\u001b[38;5;124medu\u001b[39m\u001b[38;5;124m'\u001b[39m]]\n\u001b[1;32m      3\u001b[0m better[\u001b[38;5;124m'\u001b[39m\u001b[38;5;124msex\u001b[39m\u001b[38;5;124m'\u001b[39m] \u001b[38;5;241m=\u001b[39m better[\u001b[38;5;124m'\u001b[39m\u001b[38;5;124msex assigned at birth\u001b[39m\u001b[38;5;124m'\u001b[39m]\n",
      "File \u001b[0;32m~/miniforge3/envs/tensorflow/lib/python3.8/site-packages/pandas/util/_decorators.py:311\u001b[0m, in \u001b[0;36mdeprecate_nonkeyword_arguments.<locals>.decorate.<locals>.wrapper\u001b[0;34m(*args, **kwargs)\u001b[0m\n\u001b[1;32m    305\u001b[0m \u001b[38;5;28;01mif\u001b[39;00m \u001b[38;5;28mlen\u001b[39m(args) \u001b[38;5;241m>\u001b[39m num_allow_args:\n\u001b[1;32m    306\u001b[0m     warnings\u001b[38;5;241m.\u001b[39mwarn(\n\u001b[1;32m    307\u001b[0m         msg\u001b[38;5;241m.\u001b[39mformat(arguments\u001b[38;5;241m=\u001b[39marguments),\n\u001b[1;32m    308\u001b[0m         \u001b[38;5;167;01mFutureWarning\u001b[39;00m,\n\u001b[1;32m    309\u001b[0m         stacklevel\u001b[38;5;241m=\u001b[39mstacklevel,\n\u001b[1;32m    310\u001b[0m     )\n\u001b[0;32m--> 311\u001b[0m \u001b[38;5;28;01mreturn\u001b[39;00m \u001b[43mfunc\u001b[49m\u001b[43m(\u001b[49m\u001b[38;5;241;43m*\u001b[39;49m\u001b[43margs\u001b[49m\u001b[43m,\u001b[49m\u001b[43m \u001b[49m\u001b[38;5;241;43m*\u001b[39;49m\u001b[38;5;241;43m*\u001b[39;49m\u001b[43mkwargs\u001b[49m\u001b[43m)\u001b[49m\n",
      "File \u001b[0;32m~/miniforge3/envs/tensorflow/lib/python3.8/site-packages/pandas/io/parsers/readers.py:680\u001b[0m, in \u001b[0;36mread_csv\u001b[0;34m(filepath_or_buffer, sep, delimiter, header, names, index_col, usecols, squeeze, prefix, mangle_dupe_cols, dtype, engine, converters, true_values, false_values, skipinitialspace, skiprows, skipfooter, nrows, na_values, keep_default_na, na_filter, verbose, skip_blank_lines, parse_dates, infer_datetime_format, keep_date_col, date_parser, dayfirst, cache_dates, iterator, chunksize, compression, thousands, decimal, lineterminator, quotechar, quoting, doublequote, escapechar, comment, encoding, encoding_errors, dialect, error_bad_lines, warn_bad_lines, on_bad_lines, delim_whitespace, low_memory, memory_map, float_precision, storage_options)\u001b[0m\n\u001b[1;32m    665\u001b[0m kwds_defaults \u001b[38;5;241m=\u001b[39m _refine_defaults_read(\n\u001b[1;32m    666\u001b[0m     dialect,\n\u001b[1;32m    667\u001b[0m     delimiter,\n\u001b[0;32m   (...)\u001b[0m\n\u001b[1;32m    676\u001b[0m     defaults\u001b[38;5;241m=\u001b[39m{\u001b[38;5;124m\"\u001b[39m\u001b[38;5;124mdelimiter\u001b[39m\u001b[38;5;124m\"\u001b[39m: \u001b[38;5;124m\"\u001b[39m\u001b[38;5;124m,\u001b[39m\u001b[38;5;124m\"\u001b[39m},\n\u001b[1;32m    677\u001b[0m )\n\u001b[1;32m    678\u001b[0m kwds\u001b[38;5;241m.\u001b[39mupdate(kwds_defaults)\n\u001b[0;32m--> 680\u001b[0m \u001b[38;5;28;01mreturn\u001b[39;00m \u001b[43m_read\u001b[49m\u001b[43m(\u001b[49m\u001b[43mfilepath_or_buffer\u001b[49m\u001b[43m,\u001b[49m\u001b[43m \u001b[49m\u001b[43mkwds\u001b[49m\u001b[43m)\u001b[49m\n",
      "File \u001b[0;32m~/miniforge3/envs/tensorflow/lib/python3.8/site-packages/pandas/io/parsers/readers.py:575\u001b[0m, in \u001b[0;36m_read\u001b[0;34m(filepath_or_buffer, kwds)\u001b[0m\n\u001b[1;32m    572\u001b[0m _validate_names(kwds\u001b[38;5;241m.\u001b[39mget(\u001b[38;5;124m\"\u001b[39m\u001b[38;5;124mnames\u001b[39m\u001b[38;5;124m\"\u001b[39m, \u001b[38;5;28;01mNone\u001b[39;00m))\n\u001b[1;32m    574\u001b[0m \u001b[38;5;66;03m# Create the parser.\u001b[39;00m\n\u001b[0;32m--> 575\u001b[0m parser \u001b[38;5;241m=\u001b[39m \u001b[43mTextFileReader\u001b[49m\u001b[43m(\u001b[49m\u001b[43mfilepath_or_buffer\u001b[49m\u001b[43m,\u001b[49m\u001b[43m \u001b[49m\u001b[38;5;241;43m*\u001b[39;49m\u001b[38;5;241;43m*\u001b[39;49m\u001b[43mkwds\u001b[49m\u001b[43m)\u001b[49m\n\u001b[1;32m    577\u001b[0m \u001b[38;5;28;01mif\u001b[39;00m chunksize \u001b[38;5;129;01mor\u001b[39;00m iterator:\n\u001b[1;32m    578\u001b[0m     \u001b[38;5;28;01mreturn\u001b[39;00m parser\n",
      "File \u001b[0;32m~/miniforge3/envs/tensorflow/lib/python3.8/site-packages/pandas/io/parsers/readers.py:933\u001b[0m, in \u001b[0;36mTextFileReader.__init__\u001b[0;34m(self, f, engine, **kwds)\u001b[0m\n\u001b[1;32m    930\u001b[0m     \u001b[38;5;28mself\u001b[39m\u001b[38;5;241m.\u001b[39moptions[\u001b[38;5;124m\"\u001b[39m\u001b[38;5;124mhas_index_names\u001b[39m\u001b[38;5;124m\"\u001b[39m] \u001b[38;5;241m=\u001b[39m kwds[\u001b[38;5;124m\"\u001b[39m\u001b[38;5;124mhas_index_names\u001b[39m\u001b[38;5;124m\"\u001b[39m]\n\u001b[1;32m    932\u001b[0m \u001b[38;5;28mself\u001b[39m\u001b[38;5;241m.\u001b[39mhandles: IOHandles \u001b[38;5;241m|\u001b[39m \u001b[38;5;28;01mNone\u001b[39;00m \u001b[38;5;241m=\u001b[39m \u001b[38;5;28;01mNone\u001b[39;00m\n\u001b[0;32m--> 933\u001b[0m \u001b[38;5;28mself\u001b[39m\u001b[38;5;241m.\u001b[39m_engine \u001b[38;5;241m=\u001b[39m \u001b[38;5;28;43mself\u001b[39;49m\u001b[38;5;241;43m.\u001b[39;49m\u001b[43m_make_engine\u001b[49m\u001b[43m(\u001b[49m\u001b[43mf\u001b[49m\u001b[43m,\u001b[49m\u001b[43m \u001b[49m\u001b[38;5;28;43mself\u001b[39;49m\u001b[38;5;241;43m.\u001b[39;49m\u001b[43mengine\u001b[49m\u001b[43m)\u001b[49m\n",
      "File \u001b[0;32m~/miniforge3/envs/tensorflow/lib/python3.8/site-packages/pandas/io/parsers/readers.py:1217\u001b[0m, in \u001b[0;36mTextFileReader._make_engine\u001b[0;34m(self, f, engine)\u001b[0m\n\u001b[1;32m   1213\u001b[0m     mode \u001b[38;5;241m=\u001b[39m \u001b[38;5;124m\"\u001b[39m\u001b[38;5;124mrb\u001b[39m\u001b[38;5;124m\"\u001b[39m\n\u001b[1;32m   1214\u001b[0m \u001b[38;5;66;03m# error: No overload variant of \"get_handle\" matches argument types\u001b[39;00m\n\u001b[1;32m   1215\u001b[0m \u001b[38;5;66;03m# \"Union[str, PathLike[str], ReadCsvBuffer[bytes], ReadCsvBuffer[str]]\"\u001b[39;00m\n\u001b[1;32m   1216\u001b[0m \u001b[38;5;66;03m# , \"str\", \"bool\", \"Any\", \"Any\", \"Any\", \"Any\", \"Any\"\u001b[39;00m\n\u001b[0;32m-> 1217\u001b[0m \u001b[38;5;28mself\u001b[39m\u001b[38;5;241m.\u001b[39mhandles \u001b[38;5;241m=\u001b[39m \u001b[43mget_handle\u001b[49m\u001b[43m(\u001b[49m\u001b[43m  \u001b[49m\u001b[38;5;66;43;03m# type: ignore[call-overload]\u001b[39;49;00m\n\u001b[1;32m   1218\u001b[0m \u001b[43m    \u001b[49m\u001b[43mf\u001b[49m\u001b[43m,\u001b[49m\n\u001b[1;32m   1219\u001b[0m \u001b[43m    \u001b[49m\u001b[43mmode\u001b[49m\u001b[43m,\u001b[49m\n\u001b[1;32m   1220\u001b[0m \u001b[43m    \u001b[49m\u001b[43mencoding\u001b[49m\u001b[38;5;241;43m=\u001b[39;49m\u001b[38;5;28;43mself\u001b[39;49m\u001b[38;5;241;43m.\u001b[39;49m\u001b[43moptions\u001b[49m\u001b[38;5;241;43m.\u001b[39;49m\u001b[43mget\u001b[49m\u001b[43m(\u001b[49m\u001b[38;5;124;43m\"\u001b[39;49m\u001b[38;5;124;43mencoding\u001b[39;49m\u001b[38;5;124;43m\"\u001b[39;49m\u001b[43m,\u001b[49m\u001b[43m \u001b[49m\u001b[38;5;28;43;01mNone\u001b[39;49;00m\u001b[43m)\u001b[49m\u001b[43m,\u001b[49m\n\u001b[1;32m   1221\u001b[0m \u001b[43m    \u001b[49m\u001b[43mcompression\u001b[49m\u001b[38;5;241;43m=\u001b[39;49m\u001b[38;5;28;43mself\u001b[39;49m\u001b[38;5;241;43m.\u001b[39;49m\u001b[43moptions\u001b[49m\u001b[38;5;241;43m.\u001b[39;49m\u001b[43mget\u001b[49m\u001b[43m(\u001b[49m\u001b[38;5;124;43m\"\u001b[39;49m\u001b[38;5;124;43mcompression\u001b[39;49m\u001b[38;5;124;43m\"\u001b[39;49m\u001b[43m,\u001b[49m\u001b[43m \u001b[49m\u001b[38;5;28;43;01mNone\u001b[39;49;00m\u001b[43m)\u001b[49m\u001b[43m,\u001b[49m\n\u001b[1;32m   1222\u001b[0m \u001b[43m    \u001b[49m\u001b[43mmemory_map\u001b[49m\u001b[38;5;241;43m=\u001b[39;49m\u001b[38;5;28;43mself\u001b[39;49m\u001b[38;5;241;43m.\u001b[39;49m\u001b[43moptions\u001b[49m\u001b[38;5;241;43m.\u001b[39;49m\u001b[43mget\u001b[49m\u001b[43m(\u001b[49m\u001b[38;5;124;43m\"\u001b[39;49m\u001b[38;5;124;43mmemory_map\u001b[39;49m\u001b[38;5;124;43m\"\u001b[39;49m\u001b[43m,\u001b[49m\u001b[43m \u001b[49m\u001b[38;5;28;43;01mFalse\u001b[39;49;00m\u001b[43m)\u001b[49m\u001b[43m,\u001b[49m\n\u001b[1;32m   1223\u001b[0m \u001b[43m    \u001b[49m\u001b[43mis_text\u001b[49m\u001b[38;5;241;43m=\u001b[39;49m\u001b[43mis_text\u001b[49m\u001b[43m,\u001b[49m\n\u001b[1;32m   1224\u001b[0m \u001b[43m    \u001b[49m\u001b[43merrors\u001b[49m\u001b[38;5;241;43m=\u001b[39;49m\u001b[38;5;28;43mself\u001b[39;49m\u001b[38;5;241;43m.\u001b[39;49m\u001b[43moptions\u001b[49m\u001b[38;5;241;43m.\u001b[39;49m\u001b[43mget\u001b[49m\u001b[43m(\u001b[49m\u001b[38;5;124;43m\"\u001b[39;49m\u001b[38;5;124;43mencoding_errors\u001b[39;49m\u001b[38;5;124;43m\"\u001b[39;49m\u001b[43m,\u001b[49m\u001b[43m \u001b[49m\u001b[38;5;124;43m\"\u001b[39;49m\u001b[38;5;124;43mstrict\u001b[39;49m\u001b[38;5;124;43m\"\u001b[39;49m\u001b[43m)\u001b[49m\u001b[43m,\u001b[49m\n\u001b[1;32m   1225\u001b[0m \u001b[43m    \u001b[49m\u001b[43mstorage_options\u001b[49m\u001b[38;5;241;43m=\u001b[39;49m\u001b[38;5;28;43mself\u001b[39;49m\u001b[38;5;241;43m.\u001b[39;49m\u001b[43moptions\u001b[49m\u001b[38;5;241;43m.\u001b[39;49m\u001b[43mget\u001b[49m\u001b[43m(\u001b[49m\u001b[38;5;124;43m\"\u001b[39;49m\u001b[38;5;124;43mstorage_options\u001b[39;49m\u001b[38;5;124;43m\"\u001b[39;49m\u001b[43m,\u001b[49m\u001b[43m \u001b[49m\u001b[38;5;28;43;01mNone\u001b[39;49;00m\u001b[43m)\u001b[49m\u001b[43m,\u001b[49m\n\u001b[1;32m   1226\u001b[0m \u001b[43m\u001b[49m\u001b[43m)\u001b[49m\n\u001b[1;32m   1227\u001b[0m \u001b[38;5;28;01massert\u001b[39;00m \u001b[38;5;28mself\u001b[39m\u001b[38;5;241m.\u001b[39mhandles \u001b[38;5;129;01mis\u001b[39;00m \u001b[38;5;129;01mnot\u001b[39;00m \u001b[38;5;28;01mNone\u001b[39;00m\n\u001b[1;32m   1228\u001b[0m f \u001b[38;5;241m=\u001b[39m \u001b[38;5;28mself\u001b[39m\u001b[38;5;241m.\u001b[39mhandles\u001b[38;5;241m.\u001b[39mhandle\n",
      "File \u001b[0;32m~/miniforge3/envs/tensorflow/lib/python3.8/site-packages/pandas/io/common.py:789\u001b[0m, in \u001b[0;36mget_handle\u001b[0;34m(path_or_buf, mode, encoding, compression, memory_map, is_text, errors, storage_options)\u001b[0m\n\u001b[1;32m    784\u001b[0m \u001b[38;5;28;01melif\u001b[39;00m \u001b[38;5;28misinstance\u001b[39m(handle, \u001b[38;5;28mstr\u001b[39m):\n\u001b[1;32m    785\u001b[0m     \u001b[38;5;66;03m# Check whether the filename is to be opened in binary mode.\u001b[39;00m\n\u001b[1;32m    786\u001b[0m     \u001b[38;5;66;03m# Binary mode does not support 'encoding' and 'newline'.\u001b[39;00m\n\u001b[1;32m    787\u001b[0m     \u001b[38;5;28;01mif\u001b[39;00m ioargs\u001b[38;5;241m.\u001b[39mencoding \u001b[38;5;129;01mand\u001b[39;00m \u001b[38;5;124m\"\u001b[39m\u001b[38;5;124mb\u001b[39m\u001b[38;5;124m\"\u001b[39m \u001b[38;5;129;01mnot\u001b[39;00m \u001b[38;5;129;01min\u001b[39;00m ioargs\u001b[38;5;241m.\u001b[39mmode:\n\u001b[1;32m    788\u001b[0m         \u001b[38;5;66;03m# Encoding\u001b[39;00m\n\u001b[0;32m--> 789\u001b[0m         handle \u001b[38;5;241m=\u001b[39m \u001b[38;5;28;43mopen\u001b[39;49m\u001b[43m(\u001b[49m\n\u001b[1;32m    790\u001b[0m \u001b[43m            \u001b[49m\u001b[43mhandle\u001b[49m\u001b[43m,\u001b[49m\n\u001b[1;32m    791\u001b[0m \u001b[43m            \u001b[49m\u001b[43mioargs\u001b[49m\u001b[38;5;241;43m.\u001b[39;49m\u001b[43mmode\u001b[49m\u001b[43m,\u001b[49m\n\u001b[1;32m    792\u001b[0m \u001b[43m            \u001b[49m\u001b[43mencoding\u001b[49m\u001b[38;5;241;43m=\u001b[39;49m\u001b[43mioargs\u001b[49m\u001b[38;5;241;43m.\u001b[39;49m\u001b[43mencoding\u001b[49m\u001b[43m,\u001b[49m\n\u001b[1;32m    793\u001b[0m \u001b[43m            \u001b[49m\u001b[43merrors\u001b[49m\u001b[38;5;241;43m=\u001b[39;49m\u001b[43merrors\u001b[49m\u001b[43m,\u001b[49m\n\u001b[1;32m    794\u001b[0m \u001b[43m            \u001b[49m\u001b[43mnewline\u001b[49m\u001b[38;5;241;43m=\u001b[39;49m\u001b[38;5;124;43m\"\u001b[39;49m\u001b[38;5;124;43m\"\u001b[39;49m\u001b[43m,\u001b[49m\n\u001b[1;32m    795\u001b[0m \u001b[43m        \u001b[49m\u001b[43m)\u001b[49m\n\u001b[1;32m    796\u001b[0m     \u001b[38;5;28;01melse\u001b[39;00m:\n\u001b[1;32m    797\u001b[0m         \u001b[38;5;66;03m# Binary mode\u001b[39;00m\n\u001b[1;32m    798\u001b[0m         handle \u001b[38;5;241m=\u001b[39m \u001b[38;5;28mopen\u001b[39m(handle, ioargs\u001b[38;5;241m.\u001b[39mmode)\n",
      "\u001b[0;31mTimeoutError\u001b[0m: [Errno 60] Operation timed out: '/Volumes/vosslabhpc/symposia/cpsy-25/data/demos/better_demos.csv'"
     ]
    }
   ],
   "source": [
    "better = pd.read_csv('/Volumes/vosslabhpc/symposia/cpsy-25/data/demos/better_demos.csv')\n",
    "better = better[['id', 'age', 'sex assigned at birth', 'edu']]\n",
    "better['sex'] = better['sex assigned at birth']\n",
    "better = better.drop(columns=['sex assigned at birth'])\n",
    "#add b- to every id row\n",
    "better['id'] = 'b-' + better['id'].astype(str)\n",
    "better"
   ]
  },
  {
   "cell_type": "code",
   "execution_count": null,
   "metadata": {},
   "outputs": [
    {
     "data": {
      "application/vnd.microsoft.datawrangler.viewer.v0+json": {
       "columns": [
        {
         "name": "index",
         "rawType": "int64",
         "type": "integer"
        },
        {
         "name": "id",
         "rawType": "object",
         "type": "string"
        },
        {
         "name": "age",
         "rawType": "int64",
         "type": "integer"
        },
        {
         "name": "edu",
         "rawType": "int64",
         "type": "integer"
        },
        {
         "name": "sex",
         "rawType": "object",
         "type": "string"
        }
       ],
       "conversionMethod": "pd.DataFrame",
       "ref": "683e9274-2ab3-4f3c-b929-d3086d154c19",
       "rows": [
        [
         "1",
         "e-2002",
         "73",
         "14",
         "Female"
        ],
        [
         "3",
         "e-2004",
         "61",
         "13",
         "Female"
        ],
        [
         "5",
         "e-2006",
         "65",
         "14",
         "Female"
        ],
        [
         "8",
         "e-2009",
         "56",
         "17",
         "Female"
        ],
        [
         "11",
         "e-2012",
         "59",
         "12",
         "Female"
        ],
        [
         "19",
         "e-2020",
         "71",
         "13",
         "Female"
        ],
        [
         "25",
         "e-2026",
         "58",
         "14",
         "Female"
        ],
        [
         "32",
         "e-2033",
         "70",
         "12",
         "Female"
        ],
        [
         "40",
         "e-2041",
         "71",
         "17",
         "Female"
        ],
        [
         "41",
         "e-2042",
         "56",
         "15",
         "Female"
        ],
        [
         "43",
         "e-2044",
         "75",
         "20",
         "Male"
        ],
        [
         "47",
         "e-2048",
         "71",
         "17",
         "Male"
        ],
        [
         "50",
         "e-2051",
         "63",
         "16",
         "Female"
        ],
        [
         "52",
         "e-2053",
         "59",
         "16",
         "Male"
        ],
        [
         "53",
         "e-2054",
         "79",
         "18",
         "Female"
        ],
        [
         "55",
         "e-2056",
         "55",
         "17",
         "Female"
        ],
        [
         "56",
         "e-2057",
         "74",
         "24",
         "Female"
        ],
        [
         "57",
         "e-2058",
         "76",
         "15",
         "Male"
        ],
        [
         "58",
         "e-2059",
         "67",
         "16",
         "Female"
        ],
        [
         "63",
         "e-2064",
         "69",
         "18",
         "Male"
        ],
        [
         "64",
         "e-2065",
         "66",
         "16",
         "Male"
        ],
        [
         "65",
         "e-2066",
         "67",
         "20",
         "Female"
        ],
        [
         "84",
         "e-2085",
         "62",
         "17",
         "Female"
        ],
        [
         "90",
         "e-2091",
         "55",
         "16",
         "Male"
        ],
        [
         "91",
         "e-2092",
         "55",
         "13",
         "Female"
        ],
        [
         "94",
         "e-2095",
         "68",
         "18",
         "Female"
        ],
        [
         "99",
         "e-2100",
         "80",
         "18",
         "Male"
        ],
        [
         "101",
         "e-2102",
         "56",
         "16",
         "Male"
        ],
        [
         "102",
         "e-2103",
         "65",
         "16",
         "Male"
        ],
        [
         "104",
         "e-2105",
         "57",
         "16",
         "Female"
        ],
        [
         "105",
         "e-2106",
         "59",
         "16",
         "Female"
        ],
        [
         "107",
         "e-2108",
         "56",
         "16",
         "Female"
        ],
        [
         "111",
         "e-2112",
         "59",
         "15",
         "Female"
        ],
        [
         "113",
         "e-2114",
         "57",
         "22",
         "Female"
        ],
        [
         "116",
         "e-2117",
         "57",
         "20",
         "Female"
        ],
        [
         "117",
         "e-2118",
         "80",
         "15",
         "Female"
        ],
        [
         "119",
         "e-2120",
         "58",
         "16",
         "Female"
        ],
        [
         "120",
         "e-2121",
         "60",
         "14",
         "Male"
        ],
        [
         "121",
         "e-2122",
         "65",
         "16",
         "Female"
        ],
        [
         "124",
         "e-2125",
         "58",
         "18",
         "Male"
        ],
        [
         "126",
         "e-2127",
         "64",
         "18",
         "Male"
        ],
        [
         "128",
         "e-2129",
         "63",
         "20",
         "Female"
        ],
        [
         "130",
         "e-2131",
         "64",
         "19",
         "Female"
        ],
        [
         "136",
         "e-2137",
         "56",
         "20",
         "Male"
        ],
        [
         "142",
         "e-2143",
         "63",
         "14",
         "Female"
        ],
        [
         "144",
         "e-2145",
         "56",
         "16",
         "Female"
        ],
        [
         "146",
         "e-2147",
         "63",
         "16",
         "Female"
        ],
        [
         "147",
         "e-2148",
         "57",
         "14",
         "Male"
        ],
        [
         "148",
         "e-2149",
         "57",
         "14",
         "Female"
        ],
        [
         "155",
         "e-2156",
         "67",
         "17",
         "Male"
        ]
       ],
       "shape": {
        "columns": 4,
        "rows": 217
       }
      },
      "text/html": [
       "<div>\n",
       "<style scoped>\n",
       "    .dataframe tbody tr th:only-of-type {\n",
       "        vertical-align: middle;\n",
       "    }\n",
       "\n",
       "    .dataframe tbody tr th {\n",
       "        vertical-align: top;\n",
       "    }\n",
       "\n",
       "    .dataframe thead th {\n",
       "        text-align: right;\n",
       "    }\n",
       "</style>\n",
       "<table border=\"1\" class=\"dataframe\">\n",
       "  <thead>\n",
       "    <tr style=\"text-align: right;\">\n",
       "      <th></th>\n",
       "      <th>id</th>\n",
       "      <th>age</th>\n",
       "      <th>edu</th>\n",
       "      <th>sex</th>\n",
       "    </tr>\n",
       "  </thead>\n",
       "  <tbody>\n",
       "    <tr>\n",
       "      <th>1</th>\n",
       "      <td>e-2002</td>\n",
       "      <td>73</td>\n",
       "      <td>14</td>\n",
       "      <td>Female</td>\n",
       "    </tr>\n",
       "    <tr>\n",
       "      <th>3</th>\n",
       "      <td>e-2004</td>\n",
       "      <td>61</td>\n",
       "      <td>13</td>\n",
       "      <td>Female</td>\n",
       "    </tr>\n",
       "    <tr>\n",
       "      <th>5</th>\n",
       "      <td>e-2006</td>\n",
       "      <td>65</td>\n",
       "      <td>14</td>\n",
       "      <td>Female</td>\n",
       "    </tr>\n",
       "    <tr>\n",
       "      <th>8</th>\n",
       "      <td>e-2009</td>\n",
       "      <td>56</td>\n",
       "      <td>17</td>\n",
       "      <td>Female</td>\n",
       "    </tr>\n",
       "    <tr>\n",
       "      <th>11</th>\n",
       "      <td>e-2012</td>\n",
       "      <td>59</td>\n",
       "      <td>12</td>\n",
       "      <td>Female</td>\n",
       "    </tr>\n",
       "    <tr>\n",
       "      <th>...</th>\n",
       "      <td>...</td>\n",
       "      <td>...</td>\n",
       "      <td>...</td>\n",
       "      <td>...</td>\n",
       "    </tr>\n",
       "    <tr>\n",
       "      <th>858</th>\n",
       "      <td>e-2859</td>\n",
       "      <td>74</td>\n",
       "      <td>21</td>\n",
       "      <td>Female</td>\n",
       "    </tr>\n",
       "    <tr>\n",
       "      <th>860</th>\n",
       "      <td>e-2861</td>\n",
       "      <td>58</td>\n",
       "      <td>18</td>\n",
       "      <td>Male</td>\n",
       "    </tr>\n",
       "    <tr>\n",
       "      <th>870</th>\n",
       "      <td>e-2871</td>\n",
       "      <td>66</td>\n",
       "      <td>14</td>\n",
       "      <td>Female</td>\n",
       "    </tr>\n",
       "    <tr>\n",
       "      <th>873</th>\n",
       "      <td>e-2874</td>\n",
       "      <td>69</td>\n",
       "      <td>16</td>\n",
       "      <td>Female</td>\n",
       "    </tr>\n",
       "    <tr>\n",
       "      <th>877</th>\n",
       "      <td>e-2878</td>\n",
       "      <td>59</td>\n",
       "      <td>16</td>\n",
       "      <td>Female</td>\n",
       "    </tr>\n",
       "  </tbody>\n",
       "</table>\n",
       "<p>217 rows × 4 columns</p>\n",
       "</div>"
      ],
      "text/plain": [
       "         id  age  edu     sex\n",
       "1    e-2002   73   14  Female\n",
       "3    e-2004   61   13  Female\n",
       "5    e-2006   65   14  Female\n",
       "8    e-2009   56   17  Female\n",
       "11   e-2012   59   12  Female\n",
       "..      ...  ...  ...     ...\n",
       "858  e-2859   74   21  Female\n",
       "860  e-2861   58   18    Male\n",
       "870  e-2871   66   14  Female\n",
       "873  e-2874   69   16  Female\n",
       "877  e-2878   59   16  Female\n",
       "\n",
       "[217 rows x 4 columns]"
      ]
     },
     "execution_count": 3,
     "metadata": {},
     "output_type": "execute_result"
    }
   ],
   "source": [
    "extend = pd.read_csv('/Volumes/vosslabhpc/symposia/cpsy-25/data/demos/extend_demos.csv')\n",
    "extend = extend[['EXTEND Study ID', 'Age at time of Screening', 'Years of Education', 'Sex assigned at birth']]\n",
    "columns = {\n",
    "    'EXTEND Study ID': 'id',\n",
    "    'Age at time of Screening': 'age',\n",
    "    'Years of Education': 'edu',\n",
    "    'Sex assigned at birth': 'sex'\n",
    "}\n",
    "\n",
    "extend = extend.rename(columns=columns)\n",
    "# remove if age is missing or NaN\n",
    "extend = extend[extend.age.notna()]\n",
    "extend = extend[extend.age != 0]\n",
    "extend['age'] = extend['age'].astype(int)\n",
    "extend['id'] = extend['id'].astype(int)\n",
    "\n",
    "extend['id'] = extend['id'].astype(str)\n",
    "#add e- to every id row\n",
    "extend['id'] = 'e-' + extend['id']\n",
    "\n",
    "#change edu to int and if edu is missing, set to mean\n",
    "mean_edu = extend['edu'].mean()\n",
    "extend['edu'] = extend['edu'].fillna(mean_edu)\n",
    "extend['edu'] = extend['edu'].astype(int)\n",
    "\n",
    "extend"
   ]
  },
  {
   "cell_type": "code",
   "execution_count": null,
   "metadata": {},
   "outputs": [
    {
     "data": {
      "application/vnd.microsoft.datawrangler.viewer.v0+json": {
       "columns": [
        {
         "name": "index",
         "rawType": "int64",
         "type": "integer"
        },
        {
         "name": "id",
         "rawType": "object",
         "type": "string"
        },
        {
         "name": "age",
         "rawType": "int64",
         "type": "integer"
        },
        {
         "name": "sex",
         "rawType": "object",
         "type": "string"
        },
        {
         "name": "edu",
         "rawType": "int64",
         "type": "integer"
        }
       ],
       "conversionMethod": "pd.DataFrame",
       "ref": "ec791a7c-68e5-4ada-b6f1-6b3c4dfa2631",
       "rows": [
        [
         "1",
         "p-8",
         "71",
         "Female",
         "14"
        ],
        [
         "2",
         "p-41",
         "65",
         "Female",
         "16"
        ],
        [
         "3",
         "p-25",
         "73",
         "Male",
         "25"
        ],
        [
         "4",
         "p-12",
         "67",
         "Female",
         "16"
        ],
        [
         "5",
         "p-7",
         "72",
         "Female",
         "13"
        ],
        [
         "6",
         "p-9",
         "70",
         "Male",
         "20"
        ],
        [
         "7",
         "p-51",
         "65",
         "Female",
         "16"
        ],
        [
         "8",
         "p-31",
         "69",
         "Male",
         "16"
        ],
        [
         "9",
         "p-13",
         "68",
         "Female",
         "17"
        ],
        [
         "10",
         "p-6",
         "68",
         "Male",
         "18"
        ],
        [
         "11",
         "p-11",
         "67",
         "Female",
         "19"
        ],
        [
         "12",
         "p-52",
         "72",
         "Female",
         "20"
        ],
        [
         "13",
         "p-55",
         "65",
         "Male",
         "18"
        ],
        [
         "14",
         "p-10",
         "72",
         "Male",
         "18"
        ],
        [
         "15",
         "p-4",
         "72",
         "Female",
         "17"
        ],
        [
         "19",
         "p-102",
         "65",
         "Female",
         "12"
        ],
        [
         "20",
         "p-34",
         "71",
         "Female",
         "17"
        ],
        [
         "21",
         "p-24",
         "74",
         "Male",
         "23"
        ],
        [
         "23",
         "p-39",
         "66",
         "Female",
         "15"
        ],
        [
         "24",
         "p-43",
         "73",
         "Male",
         "24"
        ],
        [
         "27",
         "p-44",
         "68",
         "Female",
         "19"
        ],
        [
         "28",
         "p-56",
         "67",
         "Female",
         "14"
        ],
        [
         "29",
         "p-45",
         "67",
         "Female",
         "17"
        ],
        [
         "32",
         "p-65",
         "66",
         "Male",
         "16"
        ],
        [
         "33",
         "p-66",
         "78",
         "Female",
         "16"
        ],
        [
         "37",
         "p-78",
         "69",
         "Male",
         "16"
        ],
        [
         "38",
         "p-77",
         "65",
         "Female",
         "18"
        ],
        [
         "39",
         "p-74",
         "70",
         "Female",
         "13"
        ],
        [
         "41",
         "p-83",
         "68",
         "Male",
         "19"
        ],
        [
         "42",
         "p-89",
         "68",
         "Female",
         "18"
        ],
        [
         "43",
         "p-87",
         "66",
         "Male",
         "18"
        ],
        [
         "47",
         "p-92",
         "73",
         "Male",
         "15"
        ],
        [
         "49",
         "p-86",
         "74",
         "Female",
         "18"
        ],
        [
         "51",
         "p-98",
         "73",
         "Female",
         "18"
        ],
        [
         "52",
         "p-76",
         "71",
         "Female",
         "18"
        ],
        [
         "53",
         "p-110",
         "72",
         "Male",
         "17"
        ],
        [
         "55",
         "p-113",
         "66",
         "Female",
         "18"
        ],
        [
         "56",
         "p-104",
         "66",
         "Female",
         "16"
        ],
        [
         "59",
         "p-133",
         "77",
         "Female",
         "20"
        ],
        [
         "60",
         "p-132",
         "69",
         "Male",
         "16"
        ],
        [
         "62",
         "p-136",
         "72",
         "Female",
         "17"
        ],
        [
         "63",
         "p-140",
         "71",
         "Female",
         "14"
        ],
        [
         "71",
         "p-154",
         "66",
         "Male",
         "22"
        ],
        [
         "72",
         "p-146",
         "74",
         "Male",
         "19"
        ],
        [
         "73",
         "p-158",
         "67",
         "Female",
         "14"
        ],
        [
         "74",
         "p-159",
         "73",
         "Female",
         "29"
        ],
        [
         "77",
         "p-161",
         "68",
         "Female",
         "17"
        ],
        [
         "79",
         "p-5",
         "65",
         "Female",
         "20"
        ],
        [
         "80",
         "p-166",
         "70",
         "Male",
         "16"
        ],
        [
         "82",
         "p-173",
         "74",
         "Male",
         "12"
        ]
       ],
       "shape": {
        "columns": 4,
        "rows": 68
       }
      },
      "text/html": [
       "<div>\n",
       "<style scoped>\n",
       "    .dataframe tbody tr th:only-of-type {\n",
       "        vertical-align: middle;\n",
       "    }\n",
       "\n",
       "    .dataframe tbody tr th {\n",
       "        vertical-align: top;\n",
       "    }\n",
       "\n",
       "    .dataframe thead th {\n",
       "        text-align: right;\n",
       "    }\n",
       "</style>\n",
       "<table border=\"1\" class=\"dataframe\">\n",
       "  <thead>\n",
       "    <tr style=\"text-align: right;\">\n",
       "      <th></th>\n",
       "      <th>id</th>\n",
       "      <th>age</th>\n",
       "      <th>sex</th>\n",
       "      <th>edu</th>\n",
       "    </tr>\n",
       "  </thead>\n",
       "  <tbody>\n",
       "    <tr>\n",
       "      <th>1</th>\n",
       "      <td>p-8</td>\n",
       "      <td>71</td>\n",
       "      <td>Female</td>\n",
       "      <td>14</td>\n",
       "    </tr>\n",
       "    <tr>\n",
       "      <th>2</th>\n",
       "      <td>p-41</td>\n",
       "      <td>65</td>\n",
       "      <td>Female</td>\n",
       "      <td>16</td>\n",
       "    </tr>\n",
       "    <tr>\n",
       "      <th>3</th>\n",
       "      <td>p-25</td>\n",
       "      <td>73</td>\n",
       "      <td>Male</td>\n",
       "      <td>25</td>\n",
       "    </tr>\n",
       "    <tr>\n",
       "      <th>4</th>\n",
       "      <td>p-12</td>\n",
       "      <td>67</td>\n",
       "      <td>Female</td>\n",
       "      <td>16</td>\n",
       "    </tr>\n",
       "    <tr>\n",
       "      <th>5</th>\n",
       "      <td>p-7</td>\n",
       "      <td>72</td>\n",
       "      <td>Female</td>\n",
       "      <td>13</td>\n",
       "    </tr>\n",
       "    <tr>\n",
       "      <th>...</th>\n",
       "      <td>...</td>\n",
       "      <td>...</td>\n",
       "      <td>...</td>\n",
       "      <td>...</td>\n",
       "    </tr>\n",
       "    <tr>\n",
       "      <th>101</th>\n",
       "      <td>p-202</td>\n",
       "      <td>76</td>\n",
       "      <td>Male</td>\n",
       "      <td>12</td>\n",
       "    </tr>\n",
       "    <tr>\n",
       "      <th>103</th>\n",
       "      <td>p-204</td>\n",
       "      <td>66</td>\n",
       "      <td>Female</td>\n",
       "      <td>18</td>\n",
       "    </tr>\n",
       "    <tr>\n",
       "      <th>104</th>\n",
       "      <td>p-206</td>\n",
       "      <td>65</td>\n",
       "      <td>Female</td>\n",
       "      <td>18</td>\n",
       "    </tr>\n",
       "    <tr>\n",
       "      <th>105</th>\n",
       "      <td>p-208</td>\n",
       "      <td>74</td>\n",
       "      <td>Male</td>\n",
       "      <td>16</td>\n",
       "    </tr>\n",
       "    <tr>\n",
       "      <th>106</th>\n",
       "      <td>p-209</td>\n",
       "      <td>68</td>\n",
       "      <td>Male</td>\n",
       "      <td>16</td>\n",
       "    </tr>\n",
       "  </tbody>\n",
       "</table>\n",
       "<p>68 rows × 4 columns</p>\n",
       "</div>"
      ],
      "text/plain": [
       "        id  age     sex  edu\n",
       "1      p-8   71  Female   14\n",
       "2     p-41   65  Female   16\n",
       "3     p-25   73    Male   25\n",
       "4     p-12   67  Female   16\n",
       "5      p-7   72  Female   13\n",
       "..     ...  ...     ...  ...\n",
       "101  p-202   76    Male   12\n",
       "103  p-204   66  Female   18\n",
       "104  p-206   65  Female   18\n",
       "105  p-208   74    Male   16\n",
       "106  p-209   68    Male   16\n",
       "\n",
       "[68 rows x 4 columns]"
      ]
     },
     "execution_count": 4,
     "metadata": {},
     "output_type": "execute_result"
    }
   ],
   "source": [
    "pacr = pd.read_csv('/Volumes/vosslabhpc/symposia/cpsy-25/data/demos/pacr_demos.csv')\n",
    "pacr = pacr[['PACR Study ID#:', 'Age at time of screening', 'Sex', 'Years of education']]\n",
    "pacr = pacr.rename(columns={\n",
    "    'PACR Study ID#:': 'id',\n",
    "    'Age at time of screening': 'age',\n",
    "    'Years of education': 'edu',\n",
    "    'Sex': 'sex'\n",
    "})\n",
    "# remove if age is missing or NaN\n",
    "pacr = pacr[pacr.age.notna()]\n",
    "pacr = pacr[pacr.age != 0]\n",
    "pacr['age'] = pacr['age'].astype(int)\n",
    "pacr['id'] = pacr['id'].astype(int)\n",
    "pacr['id'] = pacr['id'].astype(str)\n",
    "#add p- to every id row\n",
    "pacr['id'] = 'p-' + pacr['id']\n",
    "#change edu to int and if edu is missing, set to mean\n",
    "mean_edu = pacr['edu'].mean()\n",
    "pacr['edu'] = pacr['edu'].fillna(mean_edu)\n",
    "pacr['edu'] = pacr['edu'].astype(int)\n",
    "pacr"
   ]
  },
  {
   "cell_type": "code",
   "execution_count": null,
   "metadata": {},
   "outputs": [],
   "source": [
    "# append all three dataframes\n",
    "df = pd.concat([better, extend, pacr])\n",
    "df = df.reset_index(drop=True)\n",
    "\n",
    "df.to_csv('../../../../data/struc/demo.csv', index=False)"
   ]
  },
  {
   "cell_type": "code",
   "execution_count": null,
   "metadata": {},
   "outputs": [],
   "source": []
  }
 ],
 "metadata": {
  "kernelspec": {
   "display_name": "Python 3",
   "language": "python",
   "name": "python3"
  },
  "language_info": {
   "codemirror_mode": {
    "name": "ipython",
    "version": 3
   },
   "file_extension": ".py",
   "mimetype": "text/x-python",
   "name": "python",
   "nbconvert_exporter": "python",
   "pygments_lexer": "ipython3",
   "version": "3.8.13"
  }
 },
 "nbformat": 4,
 "nbformat_minor": 2
}
